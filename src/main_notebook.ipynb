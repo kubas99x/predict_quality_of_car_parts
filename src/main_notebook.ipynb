{
 "cells": [
  {
   "cell_type": "code",
   "execution_count": null,
   "metadata": {},
   "outputs": [],
   "source": [
    "import pandas as pd\n",
    "import sqlalchemy\n",
    "import numpy as np\n",
    "import seaborn as sns\n",
    "import os\n",
    "import matplotlib.pyplot as plt\n",
    "from sqlalchemy.exc import SQLAlchemyError\n",
    "from sklearn.preprocessing import StandardScaler\n",
    "\n",
    "from db_queries import username, password, dsn, dbhostname, service_name, dbtables, querys\n",
    "from table_functions import *\n",
    "from analyze_visualisation import *"
   ]
  },
  {
   "cell_type": "code",
   "execution_count": null,
   "metadata": {},
   "outputs": [],
   "source": [
    "data = {}\n",
    "\n",
    "try:\n",
    "    sqlalchemy_engine=\"oracle+cx_oracle://\"+username+\":\"+password+\"@\"+dbhostname+\"/?service_name=\"+service_name\n",
    "    engine = sqlalchemy.create_engine(sqlalchemy_engine, arraysize=1000)\n",
    "    for table, query in zip(dbtables, querys):\n",
    "        data.update({table: pd.read_sql(query, engine)})\n",
    "except SQLAlchemyError as e:\n",
    "    print(e)\n",
    "\n",
    "data = drop_unused_columns(data)"
   ]
  },
  {
   "cell_type": "code",
   "execution_count": null,
   "metadata": {},
   "outputs": [],
   "source": [
    "final_table = combine_final_table(data)\n",
    "final_table = create_final_status(final_table)\n",
    "#final_table = normalize_data(final_table)"
   ]
  },
  {
   "cell_type": "code",
   "execution_count": null,
   "metadata": {},
   "outputs": [],
   "source": [
    "pd.set_option('display.max_columns', None)\n",
    "final_table.head(3)"
   ]
  },
  {
   "cell_type": "code",
   "execution_count": null,
   "metadata": {},
   "outputs": [],
   "source": [
    "#data anal\n",
    "status_1_data = final_table[final_table['our_final_status'] == 1].sample(n=200, random_state= 69)\n",
    "status_2_data = final_table[final_table['our_final_status'] == 2].sample(n=200, random_state= 69)\n",
    "random_to_analyze = pd.concat([status_1_data, status_2_data], ignore_index=True)"
   ]
  },
  {
   "cell_type": "code",
   "execution_count": null,
   "metadata": {},
   "outputs": [],
   "source": [
    "print(list(random_to_analyze.keys()))"
   ]
  },
  {
   "cell_type": "code",
   "execution_count": null,
   "metadata": {},
   "outputs": [],
   "source": [
    "col_dgm = ['czas_fazy_1', 'czas_fazy_2', 'czas_fazy_3', 'max_predkosc', 'cisnienie_tloka', 'cisnienie_koncowe','nachdruck_hub', \n",
    "                  'anguss', 'temp_pieca', 'oni_temp_curr_f1', 'oni_temp_curr_f2', 'oni_temp_fore_f1', 'oni_temp_fore_f2', 'vds_air_pressure',\n",
    "                    'vds_vac_hose1', 'vds_vac_hose2', 'vds_vac_tank', 'vds_vac_valve1', 'vds_vac_valve2', 'czas_taktu']\n",
    "col_flow = [f'flow_{n}' for n in range(1,29)]\n",
    "col_delay = [f'start_delay_{n}' for n in range(1,29)]\n",
    "col_temp = [f'temp_{n}' for n in range(1,29)]\n",
    "\n",
    "make_and_save_pariplot(random_to_analyze, col_dgm, 'normalized_dirst_20.png')\n",
    "make_and_save_pariplot(random_to_analyze, col_flow, 'normalized_flow.png')\n",
    "make_and_save_pariplot(random_to_analyze, col_delay, 'normalize_delay_pairplot.png')\n",
    "make_and_save_pariplot(random_to_analyze, col_temp, 'normalize_temp_pairplot.png')"
   ]
  },
  {
   "cell_type": "code",
   "execution_count": null,
   "metadata": {},
   "outputs": [],
   "source": [
    "make_and_save_heatmap(final_table, col_dgm, 'cor1_hm.png')\n",
    "make_and_save_heatmap(final_table, col_flow, 'flow_heatmap.png')\n",
    "make_and_save_heatmap(final_table, col_delay, 'delay_heatmap.png')\n",
    "make_and_save_heatmap(final_table, col_temp, 'temp_heatmap.png')"
   ]
  },
  {
   "cell_type": "code",
   "execution_count": null,
   "metadata": {},
   "outputs": [],
   "source": [
    "final_table['oni_temp_fore_f2'].value_counts()"
   ]
  },
  {
   "cell_type": "code",
   "execution_count": null,
   "metadata": {},
   "outputs": [],
   "source": [
    "col_dgm_bar = ['czas_fazy_2', 'czas_fazy_3', 'max_predkosc', 'cisnienie_tloka', 'cisnienie_koncowe','nachdruck_hub', \n",
    "                  'anguss', 'temp_pieca', 'oni_temp_curr_f1', 'oni_temp_curr_f2', 'oni_temp_fore_f1', 'oni_temp_fore_f2',\n",
    "                    'vds_vac_hose1', 'vds_vac_hose2', 'vds_vac_tank', 'vds_vac_valve1', 'vds_vac_valve2', 'czas_taktu']\n",
    "mean_values_grouped = final_table.groupby('nr_dgm')[col_dgm_bar].mean()\n",
    "\n",
    "# Plot mean values with grouped bars for each parameter\n",
    "x = np.arange(len(col_dgm_bar)) \n",
    "width = 0.35 \n",
    "\n",
    "fig, ax = plt.subplots(figsize=(12, 6))\n",
    "bar1 = ax.bar(x - width/2, mean_values_grouped.iloc[0], width, label='nr_dgm = 1')\n",
    "bar2 = ax.bar(x + width/2, mean_values_grouped.iloc[1], width, label='nr_dgm = 2')\n",
    "\n",
    "ax.set_xlabel('Columns')\n",
    "ax.set_ylabel('Mean Value')\n",
    "ax.set_title('Mean Values of Specified Columns for nr_dgm=1 and nr_dgm=2')\n",
    "ax.set_xticks(x)\n",
    "ax.set_xticklabels(col_dgm_bar, rotation=45)\n",
    "ax.legend()\n",
    "\n",
    "plt.tight_layout()\n",
    "plt.show()"
   ]
  },
  {
   "cell_type": "code",
   "execution_count": null,
   "metadata": {},
   "outputs": [],
   "source": [
    "mean_values_grouped = final_table.groupby('nr_dgm')[col_dgm].mean()\n",
    "percentage_difference = ((mean_values_grouped.iloc[1] - mean_values_grouped.iloc[0]) / mean_values_grouped.iloc[0]) * 100\n",
    "\n",
    "print(\"Percentage Difference in Mean Values (nr_dgm=2 - nr_dgm=1):\")\n",
    "print(percentage_difference)"
   ]
  },
  {
   "cell_type": "code",
   "execution_count": null,
   "metadata": {},
   "outputs": [],
   "source": [
    "print(mean_values_grouped)"
   ]
  },
  {
   "cell_type": "code",
   "execution_count": null,
   "metadata": {},
   "outputs": [],
   "source": []
  }
 ],
 "metadata": {
  "kernelspec": {
   "display_name": "Python 3",
   "language": "python",
   "name": "python3"
  },
  "language_info": {
   "codemirror_mode": {
    "name": "ipython",
    "version": 3
   },
   "file_extension": ".py",
   "mimetype": "text/x-python",
   "name": "python",
   "nbconvert_exporter": "python",
   "pygments_lexer": "ipython3",
   "version": "3.10.10"
  },
  "orig_nbformat": 4
 },
 "nbformat": 4,
 "nbformat_minor": 2
}
