{
 "cells": [
  {
   "cell_type": "code",
   "execution_count": null,
   "metadata": {},
   "outputs": [],
   "source": [
    "import mlflow.keras\n",
    "import mlflow\n",
    "import mlflow.tensorflow\n",
    "\n",
    "from table_functions import *\n",
    "from analyze_visualisation import *\n",
    "from ml_models.neural_network_train import *"
   ]
  },
  {
   "cell_type": "code",
   "execution_count": null,
   "metadata": {},
   "outputs": [],
   "source": [
    "#table_before_standarize = read_csv('final_table_before_standarization.csv')\n",
    "#table_before_normalize = read_csv('final_table_before_normalization.csv')\n",
    "final_table = read_csv('final_table.csv')"
   ]
  },
  {
   "cell_type": "code",
   "execution_count": null,
   "metadata": {},
   "outputs": [],
   "source": [
    "#data_plain = split_data(table_before_standarize)\n",
    "#data_standarized = split_data(table_before_normalize)\n",
    "data_all = split_data(final_table)"
   ]
  },
  {
   "cell_type": "code",
   "execution_count": null,
   "metadata": {},
   "outputs": [],
   "source": [
    "# TO MUSI BYC USTAWIONE ZAWSZE TAK SAMO, a potem jak sie chce umieszczac dane modele w innym folderze to zmienia sie nazwe  artifact_directory = \"other_classification\"\n",
    "ml_runs_directory = r\"C:\\Users\\dlxpmx8\\Desktop\\Projekt_AI\\meb_process_data_analysis\\src\\mlruns\"\n",
    "mlflow.set_tracking_uri(f\"file://{ml_runs_directory}\")"
   ]
  },
  {
   "cell_type": "code",
   "execution_count": null,
   "metadata": {},
   "outputs": [],
   "source": [
    "compile_fit_evaluate_model(*data_all.values(), epochs_=1, batch_size_=64, comment=\"standarized data\", run_name_=\"third_run\")"
   ]
  },
  {
   "cell_type": "code",
   "execution_count": null,
   "metadata": {},
   "outputs": [],
   "source": [
    "loaded_model = mlflow.keras.load_model(r'C:\\Users\\dlxpmx8\\Desktop\\Projekt_AI\\meb_process_data_analysis\\src\\mlruns\\0\\154bff10d1fa4be2929e1b8cacec6434\\artifacts\\model_test')\n",
    "loss, accuracy = loaded_model.evaluate(data_all['x_test'], data_all['y_test'])"
   ]
  },
  {
   "cell_type": "code",
   "execution_count": null,
   "metadata": {},
   "outputs": [],
   "source": []
  }
 ],
 "metadata": {
  "kernelspec": {
   "display_name": "Python 3",
   "language": "python",
   "name": "python3"
  },
  "language_info": {
   "codemirror_mode": {
    "name": "ipython",
    "version": 3
   },
   "file_extension": ".py",
   "mimetype": "text/x-python",
   "name": "python",
   "nbconvert_exporter": "python",
   "pygments_lexer": "ipython3",
   "version": "3.10.10"
  },
  "orig_nbformat": 4
 },
 "nbformat": 4,
 "nbformat_minor": 2
}
