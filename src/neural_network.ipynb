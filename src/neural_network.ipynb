{
 "cells": [
  {
   "cell_type": "code",
   "execution_count": null,
   "metadata": {},
   "outputs": [],
   "source": [
    "import numpy as np\n",
    "import tensorflow as tf\n",
    "from tensorflow.keras.models import Sequential\n",
    "from tensorflow.keras.layers import Dense\n",
    "from tensorflow.keras import layers\n",
    "from tensorflow.keras.optimizers import Adam\n",
    "from sacred import Experiment\n",
    "from sacred.observers import FileStorageObserver\n",
    "\n",
    "from table_functions import *\n",
    "from analyze_visualisation import *\n",
    "from ml_models.neural_network_train import *"
   ]
  },
  {
   "cell_type": "code",
   "execution_count": null,
   "metadata": {},
   "outputs": [],
   "source": [
    "table_before_standarize = read_csv('final_table_before_standarization.csv')\n",
    "#table_before_normalize = read_csv('final_table_before_normalization.csv')\n",
    "#final_table = read_csv('final_table.csv')"
   ]
  },
  {
   "cell_type": "code",
   "execution_count": null,
   "metadata": {},
   "outputs": [],
   "source": [
    "data_plain = split_data(table_before_standarize)\n",
    "#data_standarized = split_data(table_before_normalize)\n",
    "#data_all = split_data(final_table)"
   ]
  },
  {
   "cell_type": "code",
   "execution_count": null,
   "metadata": {},
   "outputs": [],
   "source": [
    "compile_fit_evaluate_model(*data_plain.values(), epochs_=1, batch_size_=64)"
   ]
  },
  {
   "cell_type": "code",
   "execution_count": null,
   "metadata": {},
   "outputs": [],
   "source": [
    "model = Sequential([\n",
    "    layers.Dense(64, activation='relu', input_shape=(data_plain['x_train'].shape[1],)),\n",
    "    layers.Dense(64, activation='relu'),\n",
    "    layers.Dense(1, activation='sigmoid')   # Probability score between 0 and 1\n",
    "])"
   ]
  },
  {
   "cell_type": "code",
   "execution_count": null,
   "metadata": {},
   "outputs": [],
   "source": [
    "model_plain, loss_plain, accuracy_plain = compile_fit_evaluate_model(model, *data_plain.values())"
   ]
  },
  {
   "cell_type": "code",
   "execution_count": null,
   "metadata": {},
   "outputs": [],
   "source": [
    "model_st, loss_st, accuracy_st = compile_fit_evaluate_model(model, *data_standarized.values())"
   ]
  },
  {
   "cell_type": "code",
   "execution_count": null,
   "metadata": {},
   "outputs": [],
   "source": [
    "model_full, loss_full, accuracy_full  = compile_fit_evaluate_model(model, *data_all.values())"
   ]
  },
  {
   "cell_type": "code",
   "execution_count": null,
   "metadata": {},
   "outputs": [],
   "source": [
    "x_test_nok_plain, y_test_nok_plain = return_x_y_with_specific_status(data_plain['x_test'], data_plain['y_test'], status = 1)\n",
    "x_test_nok_st, y_test_nok_st = return_x_y_with_specific_status(data_standarized['x_test'], data_standarized['y_test'], status = 1)\n",
    "x_test_nok_all, y_test_nok_all = return_x_y_with_specific_status(data_all['x_test'], data_all['y_test'], status = 1)"
   ]
  },
  {
   "cell_type": "code",
   "execution_count": null,
   "metadata": {},
   "outputs": [],
   "source": [
    "loss_plain_nok, accuracy_plain_nok = model.evaluate(x_test_nok_plain, y_test_nok_plain)\n",
    "loss_st_nok, accuracy_st_nok = model.evaluate(x_test_nok_st, y_test_nok_st)\n",
    "loss_nok_all, accuracy_nok_all = model.evaluate(x_test_nok_all, y_test_nok_all)"
   ]
  },
  {
   "cell_type": "code",
   "execution_count": null,
   "metadata": {},
   "outputs": [],
   "source": [
    "x_test_ok_plain, y_test_ok_plain = return_x_y_with_specific_status(data_plain['x_test'], data_plain['y_test'], status = 0)\n",
    "x_test_ok_st, y_test_ok_st = return_x_y_with_specific_status(data_standarized['x_test'], data_standarized['y_test'], status = 0)\n",
    "x_test_ok_all, y_test_ok_all = return_x_y_with_specific_status(data_all['x_test'], data_all['y_test'], status = 0)\n",
    "\n",
    "loss_plain_ok, accuracy_plain_ok = model.evaluate(x_test_ok_plain, y_test_ok_plain)\n",
    "loss_st_ok, accuracy_st_ok = model.evaluate(x_test_ok_st, y_test_ok_st)\n",
    "loss_all_ok, accuracy_all_ok = model.evaluate(x_test_ok_all, y_test_ok_all)"
   ]
  },
  {
   "cell_type": "code",
   "execution_count": null,
   "metadata": {},
   "outputs": [],
   "source": [
    "pd.set_option('display.max_columns', None)\n",
    "x_test_ok_plain.head(5)\n",
    "y_test_nok_plain.head(5)"
   ]
  },
  {
   "cell_type": "code",
   "execution_count": null,
   "metadata": {},
   "outputs": [],
   "source": [
    "pd.set_option('display.max_columns', None)\n",
    "#x_test_p.head(5)\n",
    "#y_test.head(5)"
   ]
  },
  {
   "cell_type": "code",
   "execution_count": null,
   "metadata": {},
   "outputs": [],
   "source": []
  }
 ],
 "metadata": {
  "kernelspec": {
   "display_name": "Python 3",
   "language": "python",
   "name": "python3"
  },
  "language_info": {
   "codemirror_mode": {
    "name": "ipython",
    "version": 3
   },
   "file_extension": ".py",
   "mimetype": "text/x-python",
   "name": "python",
   "nbconvert_exporter": "python",
   "pygments_lexer": "ipython3",
   "version": "3.10.10"
  },
  "orig_nbformat": 4
 },
 "nbformat": 4,
 "nbformat_minor": 2
}
