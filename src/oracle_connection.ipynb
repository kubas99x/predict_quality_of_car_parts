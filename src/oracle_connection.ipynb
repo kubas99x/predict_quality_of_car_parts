{
 "cells": [
  {
   "cell_type": "code",
   "execution_count": 94,
   "metadata": {},
   "outputs": [],
   "source": [
    "import cx_Oracle\n",
    "import pandas as pd\n",
    "import sqlalchemy\n",
    "from sqlalchemy.exc import SQLAlchemyError"
   ]
  },
  {
   "cell_type": "markdown",
   "metadata": {},
   "source": [
    "<h1>Pobieranie danych z bazy</h1>"
   ]
  },
  {
   "cell_type": "code",
   "execution_count": 95,
   "metadata": {},
   "outputs": [],
   "source": [
    "data = {}\n",
    "\n",
    "dbtables = ['MEB_DGM', 'MEB_DMC', 'MEB_GROB', 'MEB_KO', 'MEB_KO_DGM', 'MEB_KO_RODZAJ', 'MEB_KO_STREFA', 'MEB_KS', 'ONI_CIRCUITS']\n",
    "querys = [\n",
    "#Tutaj występują duplikaty, ale jeszcze nie zdecydowaliśmy co z nimi zrobić\n",
    "\"\"\"\n",
    "SELECT * \n",
    "FROM Z3DMC.MEB_DGM\n",
    "\"\"\",\n",
    "#Tutaj występują duplikaty, ale jeszcze nie zdecydowaliśmy co z nimi zrobić, usunąłem tylko nulle i anomalię\n",
    "#Po wykonaniu LEFT JOIN liczba rekordów się zwiększyła, trzeba usunąć duplikaty z DMC_CASTING ~ LO\n",
    "\"\"\"\n",
    "SELECT *\n",
    "FROM Z3DMC.MEB_DMC\n",
    "WHERE (DMC <> 'null') AND (DMC <> 'NIECZYTELNY')\n",
    "\"\"\",\n",
    "\"\"\"\n",
    "SELECT *\n",
    "FROM (\n",
    "  SELECT\n",
    "    t.*,\n",
    "    ROW_NUMBER() OVER (PARTITION BY ID_DMC ORDER BY ID_MEB_GROB DESC) AS rn\n",
    "  FROM\n",
    "    Z3DMC.MEB_GROB t\n",
    ") subquery\n",
    "WHERE rn = 1\n",
    "\"\"\",\n",
    "\"\"\"\n",
    "SELECT *\n",
    "FROM (\n",
    "  SELECT\n",
    "    t.*,\n",
    "    ROW_NUMBER() OVER (PARTITION BY ID_DMC ORDER BY ID_KO DESC) AS rn\n",
    "  FROM\n",
    "    Z3DMC.MEB_KO t\n",
    ") subquery\n",
    "WHERE rn = 1\n",
    "\"\"\",\n",
    "\"\"\"\n",
    "SELECT *\n",
    "FROM (\n",
    "  SELECT\n",
    "    t.*,\n",
    "    ROW_NUMBER() OVER (PARTITION BY ID_DMC ORDER BY ID_KO DESC) AS rn\n",
    "  FROM\n",
    "    Z3DMC.MEB_KO_DGM t\n",
    "  WHERE ID_DMC <> 0\n",
    ") subquery\n",
    "WHERE rn = 1\n",
    "\"\"\",\n",
    "#Tabela słownik, niczego nie usuwamy, wczytuję całą tabelę\n",
    "\"\"\"\n",
    "SELECT *\n",
    "FROM Z3DMC.MEB_KO_RODZAJ\n",
    "\"\"\",\n",
    "#Tabela słownik, niczego nie usuwamy, wczytuję całą tabelę\n",
    "\"\"\"\n",
    "SELECT *\n",
    "FROM Z3DMC.MEB_KO_STREFA\n",
    "\"\"\",\n",
    "\"\"\"\n",
    "SELECT *\n",
    "FROM (\n",
    "  SELECT\n",
    "    t.*,\n",
    "    ROW_NUMBER() OVER (PARTITION BY ID_DMC ORDER BY ID_KS DESC) AS rn\n",
    "  FROM\n",
    "    Z3DMC.MEB_KS t\n",
    ") subquery\n",
    "WHERE rn = 1\n",
    "\"\"\",\n",
    "#Tabela ONI_CIRCUITS posiada wiele duplikatów, a powinno być ich do 28 per jeden ID_DMC, dlatego wrzucam całą tabelę i przegadamy co z tym zrobić.\n",
    "#Poniżej zakomentowany kod usuwający wszystkie duplikaty.\n",
    "\"\"\"\n",
    "select id_dmc, circuit_nr, \n",
    "max(assigment) as assigment, \n",
    "max(flow) as flow, \n",
    "max(ref_time) as ref_time,\n",
    "max(set_point) as set_point,\n",
    "max(start_delay) as start_delay,\n",
    "max(temp) as temp,\n",
    "max(working_mode) as working_mode,\n",
    "max(timestamp) as timestamp\n",
    "from z3dmc.oni_circuits\n",
    "group by id_dmc, circuit_nr\n",
    "order by id_dmc\n",
    "\"\"\"\n",
    "#SELECT *\n",
    "#FROM (\n",
    "#  SELECT\n",
    "#    t.*,\n",
    "#    ROW_NUMBER() OVER (PARTITION BY ID_DMC ORDER BY ID_CIRCUIT DESC) AS rn\n",
    "#  FROM\n",
    "#    Z3DMC.ONI_CIRCUITS t\n",
    "#) subquery\n",
    "#WHERE rn = 1\n",
    "]\n",
    "username = 'dmcro'\n",
    "password = 'ouZ9Rys7astDp4byjUvO'\n",
    "dsn = 'vwpnwrud0000rac:1521/dmc.vwg'\n",
    "dbhostname='vwpnwrud0000rac'\n",
    "service_name='dmc.vwg'"
   ]
  },
  {
   "cell_type": "code",
   "execution_count": 96,
   "metadata": {},
   "outputs": [
    {
     "ename": "MemoryError",
     "evalue": "Unable to allocate 599. MiB for an array with shape (4, 19613468) and data type int64",
     "output_type": "error",
     "traceback": [
      "\u001b[1;31m---------------------------------------------------------------------------\u001b[0m",
      "\u001b[1;31mMemoryError\u001b[0m                               Traceback (most recent call last)",
      "Cell \u001b[1;32mIn[96], line 5\u001b[0m\n\u001b[0;32m      3\u001b[0m     engine \u001b[38;5;241m=\u001b[39m sqlalchemy\u001b[38;5;241m.\u001b[39mcreate_engine(sqlalchemy_engine, arraysize\u001b[38;5;241m=\u001b[39m\u001b[38;5;241m1000\u001b[39m)\n\u001b[0;32m      4\u001b[0m     \u001b[38;5;28;01mfor\u001b[39;00m table, query \u001b[38;5;129;01min\u001b[39;00m \u001b[38;5;28mzip\u001b[39m(dbtables, querys):\n\u001b[1;32m----> 5\u001b[0m         data\u001b[38;5;241m.\u001b[39mupdate({table: \u001b[43mpd\u001b[49m\u001b[38;5;241;43m.\u001b[39;49m\u001b[43mread_sql\u001b[49m\u001b[43m(\u001b[49m\u001b[43mquery\u001b[49m\u001b[43m,\u001b[49m\u001b[43m \u001b[49m\u001b[43mengine\u001b[49m\u001b[43m)\u001b[49m})\n\u001b[0;32m      6\u001b[0m \u001b[38;5;28;01mexcept\u001b[39;00m SQLAlchemyError \u001b[38;5;28;01mas\u001b[39;00m e:\n\u001b[0;32m      7\u001b[0m     \u001b[38;5;28mprint\u001b[39m(e)\n",
      "File \u001b[1;32m~\\AppData\\Roaming\\Python\\Python310\\site-packages\\pandas\\io\\sql.py:663\u001b[0m, in \u001b[0;36mread_sql\u001b[1;34m(sql, con, index_col, coerce_float, params, parse_dates, columns, chunksize, dtype_backend, dtype)\u001b[0m\n\u001b[0;32m    <a href='file:///~/AppData/Roaming/Python/Python310/site-packages/pandas/io/sql.py?line=652'>653</a>\u001b[0m     \u001b[39mreturn\u001b[39;00m pandas_sql\u001b[39m.\u001b[39mread_table(\n\u001b[0;32m    <a href='file:///~/AppData/Roaming/Python/Python310/site-packages/pandas/io/sql.py?line=653'>654</a>\u001b[0m         sql,\n\u001b[0;32m    <a href='file:///~/AppData/Roaming/Python/Python310/site-packages/pandas/io/sql.py?line=654'>655</a>\u001b[0m         index_col\u001b[39m=\u001b[39mindex_col,\n\u001b[1;32m   (...)\u001b[0m\n\u001b[0;32m    <a href='file:///~/AppData/Roaming/Python/Python310/site-packages/pandas/io/sql.py?line=659'>660</a>\u001b[0m         dtype_backend\u001b[39m=\u001b[39mdtype_backend,\n\u001b[0;32m    <a href='file:///~/AppData/Roaming/Python/Python310/site-packages/pandas/io/sql.py?line=660'>661</a>\u001b[0m     )\n\u001b[0;32m    <a href='file:///~/AppData/Roaming/Python/Python310/site-packages/pandas/io/sql.py?line=661'>662</a>\u001b[0m \u001b[39melse\u001b[39;00m:\n\u001b[1;32m--> <a href='file:///~/AppData/Roaming/Python/Python310/site-packages/pandas/io/sql.py?line=662'>663</a>\u001b[0m     \u001b[39mreturn\u001b[39;00m pandas_sql\u001b[39m.\u001b[39;49mread_query(\n\u001b[0;32m    <a href='file:///~/AppData/Roaming/Python/Python310/site-packages/pandas/io/sql.py?line=663'>664</a>\u001b[0m         sql,\n\u001b[0;32m    <a href='file:///~/AppData/Roaming/Python/Python310/site-packages/pandas/io/sql.py?line=664'>665</a>\u001b[0m         index_col\u001b[39m=\u001b[39;49mindex_col,\n\u001b[0;32m    <a href='file:///~/AppData/Roaming/Python/Python310/site-packages/pandas/io/sql.py?line=665'>666</a>\u001b[0m         params\u001b[39m=\u001b[39;49mparams,\n\u001b[0;32m    <a href='file:///~/AppData/Roaming/Python/Python310/site-packages/pandas/io/sql.py?line=666'>667</a>\u001b[0m         coerce_float\u001b[39m=\u001b[39;49mcoerce_float,\n\u001b[0;32m    <a href='file:///~/AppData/Roaming/Python/Python310/site-packages/pandas/io/sql.py?line=667'>668</a>\u001b[0m         parse_dates\u001b[39m=\u001b[39;49mparse_dates,\n\u001b[0;32m    <a href='file:///~/AppData/Roaming/Python/Python310/site-packages/pandas/io/sql.py?line=668'>669</a>\u001b[0m         chunksize\u001b[39m=\u001b[39;49mchunksize,\n\u001b[0;32m    <a href='file:///~/AppData/Roaming/Python/Python310/site-packages/pandas/io/sql.py?line=669'>670</a>\u001b[0m         dtype_backend\u001b[39m=\u001b[39;49mdtype_backend,\n\u001b[0;32m    <a href='file:///~/AppData/Roaming/Python/Python310/site-packages/pandas/io/sql.py?line=670'>671</a>\u001b[0m         dtype\u001b[39m=\u001b[39;49mdtype,\n\u001b[0;32m    <a href='file:///~/AppData/Roaming/Python/Python310/site-packages/pandas/io/sql.py?line=671'>672</a>\u001b[0m     )\n",
      "File \u001b[1;32m~\\AppData\\Roaming\\Python\\Python310\\site-packages\\pandas\\io\\sql.py:1756\u001b[0m, in \u001b[0;36mSQLDatabase.read_query\u001b[1;34m(self, sql, index_col, coerce_float, parse_dates, params, chunksize, dtype, dtype_backend)\u001b[0m\n\u001b[0;32m   <a href='file:///~/AppData/Roaming/Python/Python310/site-packages/pandas/io/sql.py?line=1753'>1754</a>\u001b[0m \u001b[39melse\u001b[39;00m:\n\u001b[0;32m   <a href='file:///~/AppData/Roaming/Python/Python310/site-packages/pandas/io/sql.py?line=1754'>1755</a>\u001b[0m     data \u001b[39m=\u001b[39m result\u001b[39m.\u001b[39mfetchall()\n\u001b[1;32m-> <a href='file:///~/AppData/Roaming/Python/Python310/site-packages/pandas/io/sql.py?line=1755'>1756</a>\u001b[0m     frame \u001b[39m=\u001b[39m _wrap_result(\n\u001b[0;32m   <a href='file:///~/AppData/Roaming/Python/Python310/site-packages/pandas/io/sql.py?line=1756'>1757</a>\u001b[0m         data,\n\u001b[0;32m   <a href='file:///~/AppData/Roaming/Python/Python310/site-packages/pandas/io/sql.py?line=1757'>1758</a>\u001b[0m         columns,\n\u001b[0;32m   <a href='file:///~/AppData/Roaming/Python/Python310/site-packages/pandas/io/sql.py?line=1758'>1759</a>\u001b[0m         index_col\u001b[39m=\u001b[39;49mindex_col,\n\u001b[0;32m   <a href='file:///~/AppData/Roaming/Python/Python310/site-packages/pandas/io/sql.py?line=1759'>1760</a>\u001b[0m         coerce_float\u001b[39m=\u001b[39;49mcoerce_float,\n\u001b[0;32m   <a href='file:///~/AppData/Roaming/Python/Python310/site-packages/pandas/io/sql.py?line=1760'>1761</a>\u001b[0m         parse_dates\u001b[39m=\u001b[39;49mparse_dates,\n\u001b[0;32m   <a href='file:///~/AppData/Roaming/Python/Python310/site-packages/pandas/io/sql.py?line=1761'>1762</a>\u001b[0m         dtype\u001b[39m=\u001b[39;49mdtype,\n\u001b[0;32m   <a href='file:///~/AppData/Roaming/Python/Python310/site-packages/pandas/io/sql.py?line=1762'>1763</a>\u001b[0m         dtype_backend\u001b[39m=\u001b[39;49mdtype_backend,\n\u001b[0;32m   <a href='file:///~/AppData/Roaming/Python/Python310/site-packages/pandas/io/sql.py?line=1763'>1764</a>\u001b[0m     )\n\u001b[0;32m   <a href='file:///~/AppData/Roaming/Python/Python310/site-packages/pandas/io/sql.py?line=1764'>1765</a>\u001b[0m     \u001b[39mreturn\u001b[39;00m frame\n",
      "File \u001b[1;32m~\\AppData\\Roaming\\Python\\Python310\\site-packages\\pandas\\io\\sql.py:178\u001b[0m, in \u001b[0;36m_wrap_result\u001b[1;34m(data, columns, index_col, coerce_float, parse_dates, dtype, dtype_backend)\u001b[0m\n\u001b[0;32m    <a href='file:///~/AppData/Roaming/Python/Python310/site-packages/pandas/io/sql.py?line=167'>168</a>\u001b[0m \u001b[39mdef\u001b[39;00m \u001b[39m_wrap_result\u001b[39m(\n\u001b[0;32m    <a href='file:///~/AppData/Roaming/Python/Python310/site-packages/pandas/io/sql.py?line=168'>169</a>\u001b[0m     data,\n\u001b[0;32m    <a href='file:///~/AppData/Roaming/Python/Python310/site-packages/pandas/io/sql.py?line=169'>170</a>\u001b[0m     columns,\n\u001b[1;32m   (...)\u001b[0m\n\u001b[0;32m    <a href='file:///~/AppData/Roaming/Python/Python310/site-packages/pandas/io/sql.py?line=174'>175</a>\u001b[0m     dtype_backend: DtypeBackend \u001b[39m|\u001b[39m Literal[\u001b[39m\"\u001b[39m\u001b[39mnumpy\u001b[39m\u001b[39m\"\u001b[39m] \u001b[39m=\u001b[39m \u001b[39m\"\u001b[39m\u001b[39mnumpy\u001b[39m\u001b[39m\"\u001b[39m,\n\u001b[0;32m    <a href='file:///~/AppData/Roaming/Python/Python310/site-packages/pandas/io/sql.py?line=175'>176</a>\u001b[0m ):\n\u001b[0;32m    <a href='file:///~/AppData/Roaming/Python/Python310/site-packages/pandas/io/sql.py?line=176'>177</a>\u001b[0m \u001b[39m    \u001b[39m\u001b[39m\"\"\"Wrap result set of query in a DataFrame.\"\"\"\u001b[39;00m\n\u001b[1;32m--> <a href='file:///~/AppData/Roaming/Python/Python310/site-packages/pandas/io/sql.py?line=177'>178</a>\u001b[0m     frame \u001b[39m=\u001b[39m _convert_arrays_to_dataframe(data, columns, coerce_float, dtype_backend)\n\u001b[0;32m    <a href='file:///~/AppData/Roaming/Python/Python310/site-packages/pandas/io/sql.py?line=179'>180</a>\u001b[0m     \u001b[39mif\u001b[39;00m dtype:\n\u001b[0;32m    <a href='file:///~/AppData/Roaming/Python/Python310/site-packages/pandas/io/sql.py?line=180'>181</a>\u001b[0m         frame \u001b[39m=\u001b[39m frame\u001b[39m.\u001b[39mastype(dtype)\n",
      "File \u001b[1;32m~\\AppData\\Roaming\\Python\\Python310\\site-packages\\pandas\\io\\sql.py:161\u001b[0m, in \u001b[0;36m_convert_arrays_to_dataframe\u001b[1;34m(data, columns, coerce_float, dtype_backend)\u001b[0m\n\u001b[0;32m    <a href='file:///~/AppData/Roaming/Python/Python310/site-packages/pandas/io/sql.py?line=156'>157</a>\u001b[0m     arrays \u001b[39m=\u001b[39m [\n\u001b[0;32m    <a href='file:///~/AppData/Roaming/Python/Python310/site-packages/pandas/io/sql.py?line=157'>158</a>\u001b[0m         ArrowExtensionArray(pa\u001b[39m.\u001b[39marray(arr, from_pandas\u001b[39m=\u001b[39m\u001b[39mTrue\u001b[39;00m)) \u001b[39mfor\u001b[39;00m arr \u001b[39min\u001b[39;00m arrays\n\u001b[0;32m    <a href='file:///~/AppData/Roaming/Python/Python310/site-packages/pandas/io/sql.py?line=158'>159</a>\u001b[0m     ]\n\u001b[0;32m    <a href='file:///~/AppData/Roaming/Python/Python310/site-packages/pandas/io/sql.py?line=159'>160</a>\u001b[0m \u001b[39mif\u001b[39;00m arrays:\n\u001b[1;32m--> <a href='file:///~/AppData/Roaming/Python/Python310/site-packages/pandas/io/sql.py?line=160'>161</a>\u001b[0m     df \u001b[39m=\u001b[39m DataFrame(\u001b[39mdict\u001b[39;49m(\u001b[39mzip\u001b[39;49m(\u001b[39mlist\u001b[39;49m(\u001b[39mrange\u001b[39;49m(\u001b[39mlen\u001b[39;49m(columns))), arrays)))\n\u001b[0;32m    <a href='file:///~/AppData/Roaming/Python/Python310/site-packages/pandas/io/sql.py?line=161'>162</a>\u001b[0m     df\u001b[39m.\u001b[39mcolumns \u001b[39m=\u001b[39m columns\n\u001b[0;32m    <a href='file:///~/AppData/Roaming/Python/Python310/site-packages/pandas/io/sql.py?line=162'>163</a>\u001b[0m     \u001b[39mreturn\u001b[39;00m df\n",
      "File \u001b[1;32m~\\AppData\\Roaming\\Python\\Python310\\site-packages\\pandas\\core\\frame.py:709\u001b[0m, in \u001b[0;36mDataFrame.__init__\u001b[1;34m(self, data, index, columns, dtype, copy)\u001b[0m\n\u001b[0;32m    <a href='file:///~/AppData/Roaming/Python/Python310/site-packages/pandas/core/frame.py?line=702'>703</a>\u001b[0m     mgr \u001b[39m=\u001b[39m \u001b[39mself\u001b[39m\u001b[39m.\u001b[39m_init_mgr(\n\u001b[0;32m    <a href='file:///~/AppData/Roaming/Python/Python310/site-packages/pandas/core/frame.py?line=703'>704</a>\u001b[0m         data, axes\u001b[39m=\u001b[39m{\u001b[39m\"\u001b[39m\u001b[39mindex\u001b[39m\u001b[39m\"\u001b[39m: index, \u001b[39m\"\u001b[39m\u001b[39mcolumns\u001b[39m\u001b[39m\"\u001b[39m: columns}, dtype\u001b[39m=\u001b[39mdtype, copy\u001b[39m=\u001b[39mcopy\n\u001b[0;32m    <a href='file:///~/AppData/Roaming/Python/Python310/site-packages/pandas/core/frame.py?line=704'>705</a>\u001b[0m     )\n\u001b[0;32m    <a href='file:///~/AppData/Roaming/Python/Python310/site-packages/pandas/core/frame.py?line=706'>707</a>\u001b[0m \u001b[39melif\u001b[39;00m \u001b[39misinstance\u001b[39m(data, \u001b[39mdict\u001b[39m):\n\u001b[0;32m    <a href='file:///~/AppData/Roaming/Python/Python310/site-packages/pandas/core/frame.py?line=707'>708</a>\u001b[0m     \u001b[39m# GH#38939 de facto copy defaults to False only in non-dict cases\u001b[39;00m\n\u001b[1;32m--> <a href='file:///~/AppData/Roaming/Python/Python310/site-packages/pandas/core/frame.py?line=708'>709</a>\u001b[0m     mgr \u001b[39m=\u001b[39m dict_to_mgr(data, index, columns, dtype\u001b[39m=\u001b[39;49mdtype, copy\u001b[39m=\u001b[39;49mcopy, typ\u001b[39m=\u001b[39;49mmanager)\n\u001b[0;32m    <a href='file:///~/AppData/Roaming/Python/Python310/site-packages/pandas/core/frame.py?line=709'>710</a>\u001b[0m \u001b[39melif\u001b[39;00m \u001b[39misinstance\u001b[39m(data, ma\u001b[39m.\u001b[39mMaskedArray):\n\u001b[0;32m    <a href='file:///~/AppData/Roaming/Python/Python310/site-packages/pandas/core/frame.py?line=710'>711</a>\u001b[0m     \u001b[39mfrom\u001b[39;00m \u001b[39mnumpy\u001b[39;00m\u001b[39m.\u001b[39;00m\u001b[39mma\u001b[39;00m \u001b[39mimport\u001b[39;00m mrecords\n",
      "File \u001b[1;32m~\\AppData\\Roaming\\Python\\Python310\\site-packages\\pandas\\core\\internals\\construction.py:481\u001b[0m, in \u001b[0;36mdict_to_mgr\u001b[1;34m(data, index, columns, dtype, typ, copy)\u001b[0m\n\u001b[0;32m    <a href='file:///~/AppData/Roaming/Python/Python310/site-packages/pandas/core/internals/construction.py?line=476'>477</a>\u001b[0m     \u001b[39melse\u001b[39;00m:\n\u001b[0;32m    <a href='file:///~/AppData/Roaming/Python/Python310/site-packages/pandas/core/internals/construction.py?line=477'>478</a>\u001b[0m         \u001b[39m# dtype check to exclude e.g. range objects, scalars\u001b[39;00m\n\u001b[0;32m    <a href='file:///~/AppData/Roaming/Python/Python310/site-packages/pandas/core/internals/construction.py?line=478'>479</a>\u001b[0m         arrays \u001b[39m=\u001b[39m [x\u001b[39m.\u001b[39mcopy() \u001b[39mif\u001b[39;00m \u001b[39mhasattr\u001b[39m(x, \u001b[39m\"\u001b[39m\u001b[39mdtype\u001b[39m\u001b[39m\"\u001b[39m) \u001b[39melse\u001b[39;00m x \u001b[39mfor\u001b[39;00m x \u001b[39min\u001b[39;00m arrays]\n\u001b[1;32m--> <a href='file:///~/AppData/Roaming/Python/Python310/site-packages/pandas/core/internals/construction.py?line=480'>481</a>\u001b[0m \u001b[39mreturn\u001b[39;00m arrays_to_mgr(arrays, columns, index, dtype\u001b[39m=\u001b[39;49mdtype, typ\u001b[39m=\u001b[39;49mtyp, consolidate\u001b[39m=\u001b[39;49mcopy)\n",
      "File \u001b[1;32m~\\AppData\\Roaming\\Python\\Python310\\site-packages\\pandas\\core\\internals\\construction.py:153\u001b[0m, in \u001b[0;36marrays_to_mgr\u001b[1;34m(arrays, columns, index, dtype, verify_integrity, typ, consolidate)\u001b[0m\n\u001b[0;32m    <a href='file:///~/AppData/Roaming/Python/Python310/site-packages/pandas/core/internals/construction.py?line=149'>150</a>\u001b[0m axes \u001b[39m=\u001b[39m [columns, index]\n\u001b[0;32m    <a href='file:///~/AppData/Roaming/Python/Python310/site-packages/pandas/core/internals/construction.py?line=151'>152</a>\u001b[0m \u001b[39mif\u001b[39;00m typ \u001b[39m==\u001b[39m \u001b[39m\"\u001b[39m\u001b[39mblock\u001b[39m\u001b[39m\"\u001b[39m:\n\u001b[1;32m--> <a href='file:///~/AppData/Roaming/Python/Python310/site-packages/pandas/core/internals/construction.py?line=152'>153</a>\u001b[0m     \u001b[39mreturn\u001b[39;00m create_block_manager_from_column_arrays(\n\u001b[0;32m    <a href='file:///~/AppData/Roaming/Python/Python310/site-packages/pandas/core/internals/construction.py?line=153'>154</a>\u001b[0m         arrays, axes, consolidate\u001b[39m=\u001b[39;49mconsolidate, refs\u001b[39m=\u001b[39;49mrefs\n\u001b[0;32m    <a href='file:///~/AppData/Roaming/Python/Python310/site-packages/pandas/core/internals/construction.py?line=154'>155</a>\u001b[0m     )\n\u001b[0;32m    <a href='file:///~/AppData/Roaming/Python/Python310/site-packages/pandas/core/internals/construction.py?line=155'>156</a>\u001b[0m \u001b[39melif\u001b[39;00m typ \u001b[39m==\u001b[39m \u001b[39m\"\u001b[39m\u001b[39marray\u001b[39m\u001b[39m\"\u001b[39m:\n\u001b[0;32m    <a href='file:///~/AppData/Roaming/Python/Python310/site-packages/pandas/core/internals/construction.py?line=156'>157</a>\u001b[0m     \u001b[39mreturn\u001b[39;00m ArrayManager(arrays, [index, columns])\n",
      "File \u001b[1;32m~\\AppData\\Roaming\\Python\\Python310\\site-packages\\pandas\\core\\internals\\managers.py:2142\u001b[0m, in \u001b[0;36mcreate_block_manager_from_column_arrays\u001b[1;34m(arrays, axes, consolidate, refs)\u001b[0m\n\u001b[0;32m   <a href='file:///~/AppData/Roaming/Python/Python310/site-packages/pandas/core/internals/managers.py?line=2139'>2140</a>\u001b[0m     raise_construction_error(\u001b[39mlen\u001b[39m(arrays), arrays[\u001b[39m0\u001b[39m]\u001b[39m.\u001b[39mshape, axes, e)\n\u001b[0;32m   <a href='file:///~/AppData/Roaming/Python/Python310/site-packages/pandas/core/internals/managers.py?line=2140'>2141</a>\u001b[0m \u001b[39mif\u001b[39;00m consolidate:\n\u001b[1;32m-> <a href='file:///~/AppData/Roaming/Python/Python310/site-packages/pandas/core/internals/managers.py?line=2141'>2142</a>\u001b[0m     mgr\u001b[39m.\u001b[39;49m_consolidate_inplace()\n\u001b[0;32m   <a href='file:///~/AppData/Roaming/Python/Python310/site-packages/pandas/core/internals/managers.py?line=2142'>2143</a>\u001b[0m \u001b[39mreturn\u001b[39;00m mgr\n",
      "File \u001b[1;32m~\\AppData\\Roaming\\Python\\Python310\\site-packages\\pandas\\core\\internals\\managers.py:1829\u001b[0m, in \u001b[0;36mBlockManager._consolidate_inplace\u001b[1;34m(self)\u001b[0m\n\u001b[0;32m   <a href='file:///~/AppData/Roaming/Python/Python310/site-packages/pandas/core/internals/managers.py?line=1822'>1823</a>\u001b[0m \u001b[39mdef\u001b[39;00m \u001b[39m_consolidate_inplace\u001b[39m(\u001b[39mself\u001b[39m) \u001b[39m-\u001b[39m\u001b[39m>\u001b[39m \u001b[39mNone\u001b[39;00m:\n\u001b[0;32m   <a href='file:///~/AppData/Roaming/Python/Python310/site-packages/pandas/core/internals/managers.py?line=1823'>1824</a>\u001b[0m     \u001b[39m# In general, _consolidate_inplace should only be called via\u001b[39;00m\n\u001b[0;32m   <a href='file:///~/AppData/Roaming/Python/Python310/site-packages/pandas/core/internals/managers.py?line=1824'>1825</a>\u001b[0m     \u001b[39m#  DataFrame._consolidate_inplace, otherwise we will fail to invalidate\u001b[39;00m\n\u001b[0;32m   <a href='file:///~/AppData/Roaming/Python/Python310/site-packages/pandas/core/internals/managers.py?line=1825'>1826</a>\u001b[0m     \u001b[39m#  the DataFrame's _item_cache. The exception is for newly-created\u001b[39;00m\n\u001b[0;32m   <a href='file:///~/AppData/Roaming/Python/Python310/site-packages/pandas/core/internals/managers.py?line=1826'>1827</a>\u001b[0m     \u001b[39m#  BlockManager objects not yet attached to a DataFrame.\u001b[39;00m\n\u001b[0;32m   <a href='file:///~/AppData/Roaming/Python/Python310/site-packages/pandas/core/internals/managers.py?line=1827'>1828</a>\u001b[0m     \u001b[39mif\u001b[39;00m \u001b[39mnot\u001b[39;00m \u001b[39mself\u001b[39m\u001b[39m.\u001b[39mis_consolidated():\n\u001b[1;32m-> <a href='file:///~/AppData/Roaming/Python/Python310/site-packages/pandas/core/internals/managers.py?line=1828'>1829</a>\u001b[0m         \u001b[39mself\u001b[39m\u001b[39m.\u001b[39mblocks \u001b[39m=\u001b[39m _consolidate(\u001b[39mself\u001b[39;49m\u001b[39m.\u001b[39;49mblocks)\n\u001b[0;32m   <a href='file:///~/AppData/Roaming/Python/Python310/site-packages/pandas/core/internals/managers.py?line=1829'>1830</a>\u001b[0m         \u001b[39mself\u001b[39m\u001b[39m.\u001b[39m_is_consolidated \u001b[39m=\u001b[39m \u001b[39mTrue\u001b[39;00m\n\u001b[0;32m   <a href='file:///~/AppData/Roaming/Python/Python310/site-packages/pandas/core/internals/managers.py?line=1830'>1831</a>\u001b[0m         \u001b[39mself\u001b[39m\u001b[39m.\u001b[39m_known_consolidated \u001b[39m=\u001b[39m \u001b[39mTrue\u001b[39;00m\n",
      "File \u001b[1;32m~\\AppData\\Roaming\\Python\\Python310\\site-packages\\pandas\\core\\internals\\managers.py:2272\u001b[0m, in \u001b[0;36m_consolidate\u001b[1;34m(blocks)\u001b[0m\n\u001b[0;32m   <a href='file:///~/AppData/Roaming/Python/Python310/site-packages/pandas/core/internals/managers.py?line=2269'>2270</a>\u001b[0m new_blocks: \u001b[39mlist\u001b[39m[Block] \u001b[39m=\u001b[39m []\n\u001b[0;32m   <a href='file:///~/AppData/Roaming/Python/Python310/site-packages/pandas/core/internals/managers.py?line=2270'>2271</a>\u001b[0m \u001b[39mfor\u001b[39;00m (_can_consolidate, dtype), group_blocks \u001b[39min\u001b[39;00m grouper:\n\u001b[1;32m-> <a href='file:///~/AppData/Roaming/Python/Python310/site-packages/pandas/core/internals/managers.py?line=2271'>2272</a>\u001b[0m     merged_blocks, _ \u001b[39m=\u001b[39m _merge_blocks(\n\u001b[0;32m   <a href='file:///~/AppData/Roaming/Python/Python310/site-packages/pandas/core/internals/managers.py?line=2272'>2273</a>\u001b[0m         \u001b[39mlist\u001b[39;49m(group_blocks), dtype\u001b[39m=\u001b[39;49mdtype, can_consolidate\u001b[39m=\u001b[39;49m_can_consolidate\n\u001b[0;32m   <a href='file:///~/AppData/Roaming/Python/Python310/site-packages/pandas/core/internals/managers.py?line=2273'>2274</a>\u001b[0m     )\n\u001b[0;32m   <a href='file:///~/AppData/Roaming/Python/Python310/site-packages/pandas/core/internals/managers.py?line=2274'>2275</a>\u001b[0m     new_blocks \u001b[39m=\u001b[39m extend_blocks(merged_blocks, new_blocks)\n\u001b[0;32m   <a href='file:///~/AppData/Roaming/Python/Python310/site-packages/pandas/core/internals/managers.py?line=2275'>2276</a>\u001b[0m \u001b[39mreturn\u001b[39;00m \u001b[39mtuple\u001b[39m(new_blocks)\n",
      "File \u001b[1;32m~\\AppData\\Roaming\\Python\\Python310\\site-packages\\pandas\\core\\internals\\managers.py:2297\u001b[0m, in \u001b[0;36m_merge_blocks\u001b[1;34m(blocks, dtype, can_consolidate)\u001b[0m\n\u001b[0;32m   <a href='file:///~/AppData/Roaming/Python/Python310/site-packages/pandas/core/internals/managers.py?line=2289'>2290</a>\u001b[0m new_values: ArrayLike\n\u001b[0;32m   <a href='file:///~/AppData/Roaming/Python/Python310/site-packages/pandas/core/internals/managers.py?line=2291'>2292</a>\u001b[0m \u001b[39mif\u001b[39;00m \u001b[39misinstance\u001b[39m(blocks[\u001b[39m0\u001b[39m]\u001b[39m.\u001b[39mdtype, np\u001b[39m.\u001b[39mdtype):\n\u001b[0;32m   <a href='file:///~/AppData/Roaming/Python/Python310/site-packages/pandas/core/internals/managers.py?line=2292'>2293</a>\u001b[0m     \u001b[39m# error: List comprehension has incompatible type List[Union[ndarray,\u001b[39;00m\n\u001b[0;32m   <a href='file:///~/AppData/Roaming/Python/Python310/site-packages/pandas/core/internals/managers.py?line=2293'>2294</a>\u001b[0m     \u001b[39m# ExtensionArray]]; expected List[Union[complex, generic,\u001b[39;00m\n\u001b[0;32m   <a href='file:///~/AppData/Roaming/Python/Python310/site-packages/pandas/core/internals/managers.py?line=2294'>2295</a>\u001b[0m     \u001b[39m# Sequence[Union[int, float, complex, str, bytes, generic]],\u001b[39;00m\n\u001b[0;32m   <a href='file:///~/AppData/Roaming/Python/Python310/site-packages/pandas/core/internals/managers.py?line=2295'>2296</a>\u001b[0m     \u001b[39m# Sequence[Sequence[Any]], SupportsArray]]\u001b[39;00m\n\u001b[1;32m-> <a href='file:///~/AppData/Roaming/Python/Python310/site-packages/pandas/core/internals/managers.py?line=2296'>2297</a>\u001b[0m     new_values \u001b[39m=\u001b[39m np\u001b[39m.\u001b[39;49mvstack([b\u001b[39m.\u001b[39;49mvalues \u001b[39mfor\u001b[39;49;00m b \u001b[39min\u001b[39;49;00m blocks])  \u001b[39m# type: ignore[misc]\u001b[39;00m\n\u001b[0;32m   <a href='file:///~/AppData/Roaming/Python/Python310/site-packages/pandas/core/internals/managers.py?line=2297'>2298</a>\u001b[0m \u001b[39melse\u001b[39;00m:\n\u001b[0;32m   <a href='file:///~/AppData/Roaming/Python/Python310/site-packages/pandas/core/internals/managers.py?line=2298'>2299</a>\u001b[0m     bvals \u001b[39m=\u001b[39m [blk\u001b[39m.\u001b[39mvalues \u001b[39mfor\u001b[39;00m blk \u001b[39min\u001b[39;00m blocks]\n",
      "File \u001b[1;32m~\\AppData\\Roaming\\Python\\Python310\\site-packages\\numpy\\core\\shape_base.py:289\u001b[0m, in \u001b[0;36mvstack\u001b[1;34m(tup, dtype, casting)\u001b[0m\n\u001b[0;32m    <a href='file:///~/AppData/Roaming/Python/Python310/site-packages/numpy/core/shape_base.py?line=286'>287</a>\u001b[0m \u001b[39mif\u001b[39;00m \u001b[39mnot\u001b[39;00m \u001b[39misinstance\u001b[39m(arrs, \u001b[39mlist\u001b[39m):\n\u001b[0;32m    <a href='file:///~/AppData/Roaming/Python/Python310/site-packages/numpy/core/shape_base.py?line=287'>288</a>\u001b[0m     arrs \u001b[39m=\u001b[39m [arrs]\n\u001b[1;32m--> <a href='file:///~/AppData/Roaming/Python/Python310/site-packages/numpy/core/shape_base.py?line=288'>289</a>\u001b[0m \u001b[39mreturn\u001b[39;00m _nx\u001b[39m.\u001b[39;49mconcatenate(arrs, \u001b[39m0\u001b[39;49m, dtype\u001b[39m=\u001b[39;49mdtype, casting\u001b[39m=\u001b[39;49mcasting)\n",
      "\u001b[1;31mMemoryError\u001b[0m: Unable to allocate 599. MiB for an array with shape (4, 19613468) and data type int64"
     ]
    }
   ],
   "source": [
    "try:\n",
    "    sqlalchemy_engine=\"oracle+cx_oracle://\"+username+\":\"+password+\"@\"+dbhostname+\"/?service_name=\"+service_name\n",
    "    engine = sqlalchemy.create_engine(sqlalchemy_engine, arraysize=1000)\n",
    "    for table, query in zip(dbtables, querys):\n",
    "        data.update({table: pd.read_sql(query, engine)})\n",
    "except SQLAlchemyError as e:\n",
    "    print(e)"
   ]
  },
  {
   "cell_type": "markdown",
   "metadata": {},
   "source": [
    "<h1>Usuwanie zbędnych kolumn z tabel</h1>"
   ]
  },
  {
   "cell_type": "code",
   "execution_count": null,
   "metadata": {},
   "outputs": [
    {
     "name": "stdout",
     "output_type": "stream",
     "text": [
      "['MEB_DGM', 'MEB_DMC', 'MEB_GROB', 'MEB_KO', 'MEB_KO_DGM', 'MEB_KO_RODZAJ', 'MEB_KO_STREFA', 'MEB_KS', 'ONI_CIRCUITS']\n"
     ]
    }
   ],
   "source": [
    "print(list(data.keys()))\n",
    "# Useless tables\n",
    "# MEB_CONTAINERS, MEB_DMC_GRADE, MEB_KS_WZORC"
   ]
  },
  {
   "cell_type": "code",
   "execution_count": null,
   "metadata": {},
   "outputs": [
    {
     "name": "stdout",
     "output_type": "stream",
     "text": [
      "\n",
      " ONI_CIRCUITS after drop of columns: \n",
      "\n",
      "   id_dmc  circuit_nr  assigment  flow  ref_time  set_point  start_delay  \\\n",
      "0  235342           1          0   0.0       0.0        0.0          0.0   \n",
      "1  235342           2          0   0.0       0.0        0.0          0.0   \n",
      "2  235342           3          0   0.0       0.0        0.0          0.0   \n",
      "3  235342           4          0   0.0       0.0        0.0          0.0   \n",
      "4  235342           5          0   0.0       0.0        0.0          0.0   \n",
      "\n",
      "   temp  working_mode  \n",
      "0   0.0             0  \n",
      "1   0.0             0  \n",
      "2   0.0             0  \n",
      "3   0.0             0  \n",
      "4   0.0             0  \n"
     ]
    }
   ],
   "source": [
    "# ONI CIRCUITS\n",
    "# print(data['ONI_CIRCUITS'].head())\n",
    "data['ONI_CIRCUITS'].drop(columns=['timestamp'], inplace=True)\n",
    "print(\"\\n ONI_CIRCUITS after drop of columns: \\n\")\n",
    "print(data['ONI_CIRCUITS'].head())"
   ]
  },
  {
   "cell_type": "code",
   "execution_count": null,
   "metadata": {},
   "outputs": [
    {
     "name": "stdout",
     "output_type": "stream",
     "text": [
      "\n",
      " MEB_DGM after drop of columns: \n",
      "\n",
      "     id                    dmc  nr_dgm status  czas_fazy_1  czas_fazy_2  \\\n",
      "0   220  190627091611011003610    10.0      4       1850.0         88.0   \n",
      "1  3416  190719071611011006077    10.0      1       2197.0         89.0   \n",
      "2  3417  190719071811011006078    10.0      1       2184.0         86.0   \n",
      "3  3418  190719072011011006079    10.0      1       2159.0         89.0   \n",
      "4  3419  190719072111011006080    10.0      1       2175.0         89.0   \n",
      "\n",
      "   czas_fazy_3  max_predkosc  cisnienie_tloka  cisnienie_koncowe  ...  \\\n",
      "0         47.5          6.52              7.0              264.0  ...   \n",
      "1         46.5          6.59             11.0              285.0  ...   \n",
      "2         45.0          6.52              8.0              284.0  ...   \n",
      "3         45.5          6.54              6.0              284.0  ...   \n",
      "4         47.0          6.57              8.0              283.0  ...   \n",
      "\n",
      "   oni_temp_curr_f2  oni_temp_fore_f1  oni_temp_fore_f2  vds_air_pressure  \\\n",
      "0               NaN               NaN               NaN               NaN   \n",
      "1               NaN               NaN               NaN               NaN   \n",
      "2               NaN               NaN               NaN               NaN   \n",
      "3               NaN               NaN               NaN               NaN   \n",
      "4               NaN               NaN               NaN               NaN   \n",
      "\n",
      "   vds_vac_hose1  vds_vac_hose2  vds_vac_tank  vds_vac_valve1  vds_vac_valve2  \\\n",
      "0            NaN            NaN           NaN             NaN             NaN   \n",
      "1            NaN            NaN           NaN             NaN             NaN   \n",
      "2            NaN            NaN           NaN             NaN             NaN   \n",
      "3            NaN            NaN           NaN             NaN             NaN   \n",
      "4            NaN            NaN           NaN             NaN             NaN   \n",
      "\n",
      "   czas_taktu  \n",
      "0         NaN  \n",
      "1         NaN  \n",
      "2         NaN  \n",
      "3         NaN  \n",
      "4         NaN  \n",
      "\n",
      "[5 rows x 25 columns]\n"
     ]
    }
   ],
   "source": [
    "# MEB_DGM\n",
    "# print(data['MEB_DGM'].columns)\n",
    "# print(data['MEB_DGM'].head(5))\n",
    "# ('metal_level', 'metal_pressure') - We do not collect this data yet\n",
    "data['MEB_DGM'].drop(columns=['timestamp', 'data_znakowania', 'data_odlania', 'metal_level', 'metal_pressure'], inplace=True)\n",
    "print(\"\\n MEB_DGM after drop of columns: \\n\")\n",
    "print(data['MEB_DGM'].head(5))"
   ]
  },
  {
   "cell_type": "code",
   "execution_count": null,
   "metadata": {},
   "outputs": [
    {
     "name": "stdout",
     "output_type": "stream",
     "text": [
      "\n",
      " MEB_DMC after drop of columns: \n",
      "\n",
      "   id_dmc                                         dmc  status_koncowy  \\\n",
      "0    2063  0MH301103CVW41910090436321102S111910040455             2.0   \n",
      "1    2064  0MH301103CVW41910090436411102S111910040410             1.0   \n",
      "2    2065  0MH301103CVW41910090436521102S111910040350             2.0   \n",
      "3    2066  0MH301103CVW41910090436611102S111910040356             2.0   \n",
      "4    2067  0MH301103CVW41910090436721102S111910040345             2.0   \n",
      "\n",
      "  dmc_casting  \n",
      "0        None  \n",
      "1        None  \n",
      "2        None  \n",
      "3        None  \n",
      "4        None  \n"
     ]
    }
   ],
   "source": [
    "#MEB_DMC\n",
    "# print(data['MEB_DMC'].columns)\n",
    "# print(data['MEB_DMC'].head(5))\n",
    "data['MEB_DMC'].drop(columns = ['timestamp', 'update_time','id_meb_containers', 'packed_time', 'first_packed_time', 'production_step'], inplace = True)\n",
    "print(\"\\n MEB_DMC after drop of columns: \\n\")\n",
    "print(data['MEB_DMC'].head(5))"
   ]
  },
  {
   "cell_type": "code",
   "execution_count": null,
   "metadata": {},
   "outputs": [
    {
     "name": "stdout",
     "output_type": "stream",
     "text": [
      "\n",
      " MEB_KO after drop of columns: \n",
      "\n",
      "   id_dmc  nok_strefa  nok_rodzaj  status_ko  rn\n",
      "0    2007           0           0          0   1\n",
      "1    2062           0           0          1   1\n",
      "2    2063         511         201          2   1\n",
      "3    2064           0           0          1   1\n",
      "4    2065         505         201          2   1\n"
     ]
    }
   ],
   "source": [
    "#MEB_KO\n",
    "# print(data['MEB_KO'].columns)\n",
    "# print(data['MEB_KO'].head(5))\n",
    "data['MEB_KO'].drop(columns = ['id_ko', 'data', 'timestamp', 'eks'], inplace = True)\n",
    "print(\"\\n MEB_KO after drop of columns: \\n\")\n",
    "print(data['MEB_KO'].head(5))"
   ]
  },
  {
   "cell_type": "code",
   "execution_count": null,
   "metadata": {},
   "outputs": [
    {
     "name": "stdout",
     "output_type": "stream",
     "text": [
      "\n",
      " MEB_KO_DGM after drop of columns: \n",
      "\n",
      "   id_dmc  nok_strefa  nok_rodzaj  status_ko  rodzaj_kontroli product_id  \\\n",
      "0   67460           0           0          1                1       None   \n",
      "1   67475           0           0          1                1       None   \n",
      "2   67521           0           0          1                1       None   \n",
      "3   67522           0           0          1                1       None   \n",
      "4   67523           0           0          1                1       None   \n",
      "\n",
      "  line_id  rn  \n",
      "0    None   1  \n",
      "1    None   1  \n",
      "2    None   1  \n",
      "3    None   1  \n",
      "4    None   1  \n"
     ]
    }
   ],
   "source": [
    "#MEB_KO_DGM\n",
    "# print(data['MEB_KO_DGM'].columns)\n",
    "# print(data['MEB_KO_DGM'].head(5))\n",
    "data['MEB_KO_DGM'].drop(columns = ['id_ko','data_odlania', 'timestamp', 'operator'], inplace = True)\n",
    "print(\"\\n MEB_KO_DGM after drop of columns: \\n\")\n",
    "print(data['MEB_KO_DGM'].head(5))"
   ]
  },
  {
   "cell_type": "code",
   "execution_count": null,
   "metadata": {},
   "outputs": [
    {
     "name": "stdout",
     "output_type": "stream",
     "text": [
      "\n",
      " 'MEB_KS' after drop of columns: \n",
      "\n",
      "   cisnienie  przeciek  nrprogramu  temperaturatestu  statusszczelnosc  \\\n",
      "0      1.051     0.398           1         23.680000                 1   \n",
      "1      1.054     0.393           1         23.719999                 1   \n",
      "2      1.053     0.794           1         22.519999                 1   \n",
      "3      1.055     0.433           1         22.600000                 1   \n",
      "4      0.992    24.202           1         22.840000                 3   \n",
      "\n",
      "   statusdmc  id_dmc  rn  \n",
      "0        1.0    1917   1  \n",
      "1        1.0    1918   1  \n",
      "2        1.0    1919   1  \n",
      "3        1.0    1920   1  \n",
      "4        1.0    1921   1  \n"
     ]
    }
   ],
   "source": [
    "# MEB_KS\n",
    "# print(data['MEB_KS'].columns)\n",
    "# print(data['MEB_KS'].head(5))\n",
    "data['MEB_KS'].drop(columns = ['id_ks', 'nrgniazda', 'liczbawystapien', 'nrformy', 'data', 'timestamp', 'gradedmc_max','gradedmc_aktualny'], inplace = True)\n",
    "print(\"\\n 'MEB_KS' after drop of columns: \\n\")\n",
    "print(data['MEB_KS'].head(5))"
   ]
  },
  {
   "cell_type": "code",
   "execution_count": null,
   "metadata": {},
   "outputs": [
    {
     "name": "stdout",
     "output_type": "stream",
     "text": [
      "\n",
      " 'MEB_GROB' after drop of columns: \n",
      "\n",
      "   id_meb_grob  id_dmc  part_type  part_status  last_machine_number  \\\n",
      "0            5    5746          1            1                    1   \n",
      "1            6    5753          1            1                    1   \n",
      "2            7    5754          1            1                    1   \n",
      "3            8    5756          1            1                    1   \n",
      "4            9    5758          1            1                    1   \n",
      "\n",
      "   last_pcf_number  temp_workpiece  temp_hydraulics  pressure_pcf_1  \\\n",
      "0                2       23.400000        33.400002           100.0   \n",
      "1                1       23.500000        33.400002           100.0   \n",
      "2                2       23.299999        33.400002           100.0   \n",
      "3                1       23.500000        33.400002           100.0   \n",
      "4                2       23.299999        33.400002           100.0   \n",
      "\n",
      "   pressure_pcf_2  pressure_pcf_3  machine_nr  rn  \n",
      "0           100.0            89.0         1.0   1  \n",
      "1           100.0            89.0         1.0   1  \n",
      "2           100.0            89.0         1.0   1  \n",
      "3            99.0            89.0         1.0   1  \n",
      "4            99.0            89.0         1.0   1  \n"
     ]
    }
   ],
   "source": [
    "#MEB_GROB \n",
    "# print(data['MEB_GROB'].columns)\n",
    "# print(data['MEB_GROB'].head(5))\n",
    "data['MEB_GROB'].drop(columns = ['shift_number', 'last_operation', 'timestamp', 'production_date', 'reworkrequested', \n",
    "                                'reworkdone', 'partcleaningisfinished', 'waitfortoolcheck', 'workingstep1', 'workingstep2', 'workingstep3', 'workingstep4', 'mms_ok'], inplace = True)\n",
    "print(\"\\n 'MEB_GROB' after drop of columns: \\n\")\n",
    "print(data['MEB_GROB'].head(5))\n"
   ]
  },
  {
   "cell_type": "markdown",
   "metadata": {},
   "source": [
    "<h1>Łączenie tabel</h1>"
   ]
  },
  {
   "cell_type": "code",
   "execution_count": null,
   "metadata": {},
   "outputs": [],
   "source": [
    "final_table = data['MEB_DMC'].copy()\n",
    "dgm_copy = data['MEB_DGM'].copy()"
   ]
  },
  {
   "cell_type": "code",
   "execution_count": null,
   "metadata": {},
   "outputs": [
    {
     "data": {
      "text/plain": [
       "0                              0\n",
       "1                              0\n",
       "2                              0\n",
       "3                              0\n",
       "4                              0\n",
       "                   ...          \n",
       "1188855    230905150031052165162\n",
       "1188856    230905135911052165121\n",
       "1188857    230905140531052165125\n",
       "1188858    230905143931052165147\n",
       "1188859    230905143431052165144\n",
       "Name: dmc_casting, Length: 1188860, dtype: object"
      ]
     },
     "execution_count": 85,
     "metadata": {},
     "output_type": "execute_result"
    }
   ],
   "source": [
    "data['MEB_DMC'].dmc_casting = data['MEB_DMC'].dmc_casting.apply(lambda x: x.strip() if x != None else None)"
   ]
  },
  {
   "cell_type": "code",
   "execution_count": null,
   "metadata": {},
   "outputs": [
    {
     "data": {
      "text/plain": [
       "0          190627091611011003610\n",
       "1          190719071611011006077\n",
       "2          190719071811011006078\n",
       "3          190719072011011006079\n",
       "4          190719072111011006080\n",
       "                   ...          \n",
       "1359545    230907115511052166527\n",
       "1359546    230907115711052166528\n",
       "1359547    230907115910912009913\n",
       "1359548    230907120011052166530\n",
       "1359549    230907120010912009914\n",
       "Name: dmc, Length: 1359550, dtype: object"
      ]
     },
     "execution_count": 87,
     "metadata": {},
     "output_type": "execute_result"
    }
   ],
   "source": [
    "data['MEB_DGM'].dmc = data['MEB_DGM'].dmc.apply(lambda x: x.strip() if x != None else None)"
   ]
  },
  {
   "cell_type": "code",
   "execution_count": null,
   "metadata": {},
   "outputs": [],
   "source": [
    "# łączę tabele MEB_KO i MEB_KO_DGM z tabelami MEB_KO_STREFA/RODZAJ\n",
    "\n",
    "data['MEB_KO'] = data['MEB_KO'].merge(data['MEB_KO_STREFA'], left_on='nok_strefa', right_on='indeks', how='inner')\n",
    "data['MEB_KO'].drop(columns=['indeks'], inplace=True)\n",
    "\n",
    "data['MEB_KO'] = data['MEB_KO'].merge(data['MEB_KO_RODZAJ'], left_on='nok_rodzaj', right_on='indeks', how='inner')\n",
    "data['MEB_KO'].drop(columns=['indeks'], inplace=True)\n",
    "\n",
    "data['MEB_KO_DGM'] = data['MEB_KO_DGM'].merge(data['MEB_KO_STREFA'], left_on='nok_strefa', right_on='indeks', how='inner')\n",
    "data['MEB_KO_DGM'].drop(columns=['indeks'], inplace=True)\n",
    "\n",
    "data['MEB_KO_DGM'] = data['MEB_KO_DGM'].merge(data['MEB_KO_RODZAJ'], left_on='nok_rodzaj', right_on='indeks', how='inner')\n",
    "data['MEB_KO_DGM'].drop(columns=['indeks'], inplace=True)\n",
    "\n",
    "\n",
    "#data['MEB_KO'].head()\n",
    "#data['MEB_KO_DGM'].head()"
   ]
  },
  {
   "cell_type": "code",
   "execution_count": null,
   "metadata": {},
   "outputs": [
    {
     "name": "stdout",
     "output_type": "stream",
     "text": [
      "(1188860, 4)\n",
      "(1188860, 10)\n"
     ]
    }
   ],
   "source": [
    "# łączę tabelę MEB_DMC z tabelą MEB_KO\n",
    "print(final_table.shape)\n",
    "final_table = final_table.merge(data['MEB_KO'], on='id_dmc', how='left')\n",
    "print(final_table.shape)"
   ]
  },
  {
   "cell_type": "code",
   "execution_count": null,
   "metadata": {},
   "outputs": [],
   "source": [
    "final_table.drop(columns=['rn'], inplace=True)"
   ]
  },
  {
   "cell_type": "code",
   "execution_count": null,
   "metadata": {},
   "outputs": [
    {
     "name": "stdout",
     "output_type": "stream",
     "text": [
      "(1359550, 25)\n",
      "(1359550, 35)\n"
     ]
    }
   ],
   "source": [
    "# łączę tabelę MEB_DGM z tabelą MEB_KO_DGM\n",
    "print(data['MEB_DGM'].shape)\n",
    "data['MEB_DGM'] = data['MEB_DGM'].merge(data['MEB_KO_DGM'], left_on='id', right_on='id_dmc', how='left')\n",
    "print(data['MEB_DGM'].shape)\n"
   ]
  },
  {
   "cell_type": "code",
   "execution_count": null,
   "metadata": {},
   "outputs": [],
   "source": [
    "data['MEB_DGM'].drop(columns=['rn'], inplace=True)"
   ]
  },
  {
   "cell_type": "code",
   "execution_count": null,
   "metadata": {},
   "outputs": [
    {
     "name": "stdout",
     "output_type": "stream",
     "text": [
      "Before meb_dgm to oni circuits700465\n",
      "After meb_dgm to oni circuits700465\n"
     ]
    }
   ],
   "source": [
    "# przygotowywuję tabelę ONI_CIRCUITS do połączenia \n",
    "\n",
    "oni_circuits = data['ONI_CIRCUITS'].pivot(index='id_dmc', columns='circuit_nr', values=['assigment', 'flow', 'ref_time', 'set_point', 'start_delay', 'working_mode', 'temp'])\n",
    "oni_circuits.columns = oni_circuits.columns.map('{0[0]}_{0[1]}'.format) \n",
    "oni_circuits.reset_index(inplace=True)\n",
    "\n",
    "\n",
    "# łączę z tabelą MEB_DGM\n",
    "print(f\"Before meb_dgm to oni circuits{len(oni_circuits)}\")\n",
    "\n",
    "oni_circuits = oni_circuits.merge(data['MEB_DGM'], left_on='id_dmc', right_on='id', how='left')\n",
    "#oni_circuits.head(1)\n",
    "print(f\"After meb_dgm to oni circuits{len(oni_circuits)}\")"
   ]
  },
  {
   "cell_type": "code",
   "execution_count": null,
   "metadata": {},
   "outputs": [
    {
     "name": "stdout",
     "output_type": "stream",
     "text": [
      "Before oni circuits to meb_dmc1188860\n",
      "after oni circuits to meb_dmc1295510\n"
     ]
    }
   ],
   "source": [
    "\n",
    "print(list(oni_circuits.keys()))\n",
    "\n",
    "filtered_values = [value for value in list(oni_circuits.keys()) if value.startswith('id')]\n",
    "\n",
    "print(filtered_values)\n",
    "\n",
    "print(oni_circuits[['id_dmc_x', 'id', 'id_dmc_y']].head(5))\n"
   ]
  },
  {
   "cell_type": "code",
   "execution_count": null,
   "metadata": {},
   "outputs": [],
   "source": [
    "# łączę tabelę MEB_DMC z ONI_CIRCUITS\n",
    "print(f\"Before oni circuits to meb_dmc{len(final_table)}\")\n",
    "final_table = final_table.merge(oni_circuits, left_on='dmc_casting', right_on='dmc', how='left')\n",
    "#data['MEB_DMC'].head(1)\n",
    "print(f\"after oni circuits to meb_dmc{len(final_table)}\")"
   ]
  },
  {
   "cell_type": "code",
   "execution_count": null,
   "metadata": {},
   "outputs": [
    {
     "name": "stdout",
     "output_type": "stream",
     "text": [
      "Duplicate Rows in 'oni_circuits' DataFrame:\n",
      "16\n",
      "Duplicate Rows in 'duplicate_meb_dmc' DtaFrame:\n",
      "7784\n"
     ]
    }
   ],
   "source": [
    "data['MEB_DMC']['dmc_casting'] = data['MEB_DMC']['dmc_casting'].str.strip() \n",
    "oni_circuits['dmc'] = oni_circuits['dmc'].str.strip()  \n",
    "\n",
    "data['MEB_DMC'].drop_duplicates(subset=['dmc_casting'], inplace=True)\n",
    "oni_circuits.drop_duplicates(subset=['dmc'], inplace=True)\n",
    "\n",
    "inner_j = data['MEB_DMC'].merge(oni_circuits, left_on='dmc_casting', right_on='dmc', how='inner')\n",
    "left_j = data['MEB_DMC'].merge(oni_circuits, left_on='dmc_casting', right_on='dmc', how='left')\n",
    "print(f\"MEB_DMC: {data['MEB_DMC'].shape}\")\n",
    "print(f\"oni circuits: {oni_circuits.shape}\")\n",
    "print(f'inner: {inner_j.shape}')\n",
    "print(f\"left: {left_j.shape}\")\n",
    "print(f\"final: {final_table.shape}\")"
   ]
  },
  {
   "cell_type": "code",
   "execution_count": null,
   "metadata": {},
   "outputs": [
    {
     "name": "stdout",
     "output_type": "stream",
     "text": [
      "   id_dmc                                         dmc  status_koncowy  \\\n",
      "0    2063  0MH301103CVW41910090436321102S111910040455             2.0   \n",
      "1    2064  0MH301103CVW41910090436411102S111910040410             1.0   \n",
      "2    2065  0MH301103CVW41910090436521102S111910040350             2.0   \n",
      "3    2066  0MH301103CVW41910090436611102S111910040356             2.0   \n",
      "4    2067  0MH301103CVW41910090436721102S111910040345             2.0   \n",
      "5    2068  0MH301103CVW41910090437011102S111910040351             1.0   \n",
      "6    2069  0MH301103CVW41910090437121102S111910040330           107.0   \n",
      "7    2070  0MH301103CVW41910090437211102S111910040342             2.0   \n",
      "8    2071  0MH301103CVW41910090437321102S111910040418             1.0   \n",
      "9    2072  0MH301103CVW41910090437411102S111910040359             2.0   \n",
      "\n",
      "  dmc_casting  \n",
      "0        None  \n",
      "1        None  \n",
      "2        None  \n",
      "3        None  \n",
      "4        None  \n",
      "5        None  \n",
      "6        None  \n",
      "7        None  \n",
      "8        None  \n",
      "9        None  \n"
     ]
    }
   ],
   "source": [
    "duplicate_count = data['MEB_DMC']['dmc_casting'].duplicated(keep=False).sum()\n",
    "print(f\"Number of rows with the same 'MEB_DMC' value: {duplicate_count}\")"
   ]
  },
  {
   "cell_type": "code",
   "execution_count": null,
   "metadata": {},
   "outputs": [
    {
     "name": "stdout",
     "output_type": "stream",
     "text": [
      "149289\n"
     ]
    }
   ],
   "source": [
    "duplicate_count_oni = oni_circuits['dmc'].duplicated(keep=False).sum()\n",
    "print(f\"Number of rows with the same 'dmc' value: {duplicate_count_oni}\")"
   ]
  },
  {
   "cell_type": "code",
   "execution_count": null,
   "metadata": {},
   "outputs": [
    {
     "name": "stdout",
     "output_type": "stream",
     "text": [
      "(1295510, 240)\n",
      "(1295510, 252)\n"
     ]
    }
   ],
   "source": [
    "# łączę tabelę MEB_DMC z tabelą MEB_GROB\n",
    "print(final_table.shape)\n",
    "final_table = final_table.merge(data['MEB_GROB'], on='id_dmc', how='left')\n",
    "print(final_table.shape)"
   ]
  },
  {
   "cell_type": "code",
   "execution_count": null,
   "metadata": {},
   "outputs": [],
   "source": [
    "final_table.drop(columns=['rn'], inplace=True)"
   ]
  },
  {
   "cell_type": "code",
   "execution_count": null,
   "metadata": {},
   "outputs": [
    {
     "name": "stdout",
     "output_type": "stream",
     "text": [
      "(1295510, 251)\n",
      "(1295510, 258)\n"
     ]
    }
   ],
   "source": [
    "# łączę tabelę MEB_DMC z tabelą MEB_KS\n",
    "print(final_table.shape)\n",
    "final_table = final_table.merge(data['MEB_KS'], on='id_dmc', how='left')\n",
    "print(final_table.shape)\n",
    "#data['MEB_DMC'].head(1)"
   ]
  },
  {
   "cell_type": "code",
   "execution_count": null,
   "metadata": {},
   "outputs": [
    {
     "data": {
      "text/html": [
       "<div>\n",
       "<style scoped>\n",
       "    .dataframe tbody tr th:only-of-type {\n",
       "        vertical-align: middle;\n",
       "    }\n",
       "\n",
       "    .dataframe tbody tr th {\n",
       "        vertical-align: top;\n",
       "    }\n",
       "\n",
       "    .dataframe thead th {\n",
       "        text-align: right;\n",
       "    }\n",
       "</style>\n",
       "<table border=\"1\" class=\"dataframe\">\n",
       "  <thead>\n",
       "    <tr style=\"text-align: right;\">\n",
       "      <th></th>\n",
       "      <th>id_dmc</th>\n",
       "      <th>dmc_x</th>\n",
       "      <th>status_koncowy</th>\n",
       "      <th>dmc_casting</th>\n",
       "      <th>nok_strefa_x</th>\n",
       "      <th>nok_rodzaj_x</th>\n",
       "      <th>status_ko_x</th>\n",
       "      <th>kod_pola_x</th>\n",
       "      <th>rodzaj_uszkodzenia_x</th>\n",
       "      <th>id_dmc_x</th>\n",
       "      <th>...</th>\n",
       "      <th>pressure_pcf_1</th>\n",
       "      <th>pressure_pcf_2</th>\n",
       "      <th>pressure_pcf_3</th>\n",
       "      <th>machine_nr</th>\n",
       "      <th>cisnienie</th>\n",
       "      <th>przeciek</th>\n",
       "      <th>nrprogramu</th>\n",
       "      <th>temperaturatestu</th>\n",
       "      <th>statusszczelnosc</th>\n",
       "      <th>statusdmc</th>\n",
       "    </tr>\n",
       "  </thead>\n",
       "  <tbody>\n",
       "    <tr>\n",
       "      <th>0</th>\n",
       "      <td>2063</td>\n",
       "      <td>0MH301103CVW41910090436321102S111910040455</td>\n",
       "      <td>2.0</td>\n",
       "      <td>None</td>\n",
       "      <td>511.0</td>\n",
       "      <td>201.0</td>\n",
       "      <td>2.0</td>\n",
       "      <td>S11</td>\n",
       "      <td>Mechaniczne - odlewnicze</td>\n",
       "      <td>235342.0</td>\n",
       "      <td>...</td>\n",
       "      <td>NaN</td>\n",
       "      <td>NaN</td>\n",
       "      <td>NaN</td>\n",
       "      <td>NaN</td>\n",
       "      <td>1.052</td>\n",
       "      <td>1.339</td>\n",
       "      <td>1.0</td>\n",
       "      <td>22.519999</td>\n",
       "      <td>1.0</td>\n",
       "      <td>1.0</td>\n",
       "    </tr>\n",
       "    <tr>\n",
       "      <th>1</th>\n",
       "      <td>2063</td>\n",
       "      <td>0MH301103CVW41910090436321102S111910040455</td>\n",
       "      <td>2.0</td>\n",
       "      <td>None</td>\n",
       "      <td>511.0</td>\n",
       "      <td>201.0</td>\n",
       "      <td>2.0</td>\n",
       "      <td>S11</td>\n",
       "      <td>Mechaniczne - odlewnicze</td>\n",
       "      <td>452785.0</td>\n",
       "      <td>...</td>\n",
       "      <td>NaN</td>\n",
       "      <td>NaN</td>\n",
       "      <td>NaN</td>\n",
       "      <td>NaN</td>\n",
       "      <td>1.052</td>\n",
       "      <td>1.339</td>\n",
       "      <td>1.0</td>\n",
       "      <td>22.519999</td>\n",
       "      <td>1.0</td>\n",
       "      <td>1.0</td>\n",
       "    </tr>\n",
       "    <tr>\n",
       "      <th>2</th>\n",
       "      <td>2063</td>\n",
       "      <td>0MH301103CVW41910090436321102S111910040455</td>\n",
       "      <td>2.0</td>\n",
       "      <td>None</td>\n",
       "      <td>511.0</td>\n",
       "      <td>201.0</td>\n",
       "      <td>2.0</td>\n",
       "      <td>S11</td>\n",
       "      <td>Mechaniczne - odlewnicze</td>\n",
       "      <td>452991.0</td>\n",
       "      <td>...</td>\n",
       "      <td>NaN</td>\n",
       "      <td>NaN</td>\n",
       "      <td>NaN</td>\n",
       "      <td>NaN</td>\n",
       "      <td>1.052</td>\n",
       "      <td>1.339</td>\n",
       "      <td>1.0</td>\n",
       "      <td>22.519999</td>\n",
       "      <td>1.0</td>\n",
       "      <td>1.0</td>\n",
       "    </tr>\n",
       "    <tr>\n",
       "      <th>3</th>\n",
       "      <td>2063</td>\n",
       "      <td>0MH301103CVW41910090436321102S111910040455</td>\n",
       "      <td>2.0</td>\n",
       "      <td>None</td>\n",
       "      <td>511.0</td>\n",
       "      <td>201.0</td>\n",
       "      <td>2.0</td>\n",
       "      <td>S11</td>\n",
       "      <td>Mechaniczne - odlewnicze</td>\n",
       "      <td>664668.0</td>\n",
       "      <td>...</td>\n",
       "      <td>NaN</td>\n",
       "      <td>NaN</td>\n",
       "      <td>NaN</td>\n",
       "      <td>NaN</td>\n",
       "      <td>1.052</td>\n",
       "      <td>1.339</td>\n",
       "      <td>1.0</td>\n",
       "      <td>22.519999</td>\n",
       "      <td>1.0</td>\n",
       "      <td>1.0</td>\n",
       "    </tr>\n",
       "    <tr>\n",
       "      <th>4</th>\n",
       "      <td>2063</td>\n",
       "      <td>0MH301103CVW41910090436321102S111910040455</td>\n",
       "      <td>2.0</td>\n",
       "      <td>None</td>\n",
       "      <td>511.0</td>\n",
       "      <td>201.0</td>\n",
       "      <td>2.0</td>\n",
       "      <td>S11</td>\n",
       "      <td>Mechaniczne - odlewnicze</td>\n",
       "      <td>762214.0</td>\n",
       "      <td>...</td>\n",
       "      <td>NaN</td>\n",
       "      <td>NaN</td>\n",
       "      <td>NaN</td>\n",
       "      <td>NaN</td>\n",
       "      <td>1.052</td>\n",
       "      <td>1.339</td>\n",
       "      <td>1.0</td>\n",
       "      <td>22.519999</td>\n",
       "      <td>1.0</td>\n",
       "      <td>1.0</td>\n",
       "    </tr>\n",
       "  </tbody>\n",
       "</table>\n",
       "<p>5 rows × 257 columns</p>\n",
       "</div>"
      ],
      "text/plain": [
       "   id_dmc                                       dmc_x  status_koncowy  \\\n",
       "0    2063  0MH301103CVW41910090436321102S111910040455             2.0   \n",
       "1    2063  0MH301103CVW41910090436321102S111910040455             2.0   \n",
       "2    2063  0MH301103CVW41910090436321102S111910040455             2.0   \n",
       "3    2063  0MH301103CVW41910090436321102S111910040455             2.0   \n",
       "4    2063  0MH301103CVW41910090436321102S111910040455             2.0   \n",
       "\n",
       "  dmc_casting  nok_strefa_x  nok_rodzaj_x  status_ko_x kod_pola_x  \\\n",
       "0        None         511.0         201.0          2.0        S11   \n",
       "1        None         511.0         201.0          2.0        S11   \n",
       "2        None         511.0         201.0          2.0        S11   \n",
       "3        None         511.0         201.0          2.0        S11   \n",
       "4        None         511.0         201.0          2.0        S11   \n",
       "\n",
       "       rodzaj_uszkodzenia_x  id_dmc_x  ...  pressure_pcf_1  pressure_pcf_2  \\\n",
       "0  Mechaniczne - odlewnicze  235342.0  ...             NaN             NaN   \n",
       "1  Mechaniczne - odlewnicze  452785.0  ...             NaN             NaN   \n",
       "2  Mechaniczne - odlewnicze  452991.0  ...             NaN             NaN   \n",
       "3  Mechaniczne - odlewnicze  664668.0  ...             NaN             NaN   \n",
       "4  Mechaniczne - odlewnicze  762214.0  ...             NaN             NaN   \n",
       "\n",
       "   pressure_pcf_3  machine_nr  cisnienie  przeciek  nrprogramu  \\\n",
       "0             NaN         NaN      1.052     1.339         1.0   \n",
       "1             NaN         NaN      1.052     1.339         1.0   \n",
       "2             NaN         NaN      1.052     1.339         1.0   \n",
       "3             NaN         NaN      1.052     1.339         1.0   \n",
       "4             NaN         NaN      1.052     1.339         1.0   \n",
       "\n",
       "   temperaturatestu  statusszczelnosc  statusdmc  \n",
       "0         22.519999               1.0        1.0  \n",
       "1         22.519999               1.0        1.0  \n",
       "2         22.519999               1.0        1.0  \n",
       "3         22.519999               1.0        1.0  \n",
       "4         22.519999               1.0        1.0  \n",
       "\n",
       "[5 rows x 257 columns]"
      ]
     },
     "execution_count": 72,
     "metadata": {},
     "output_type": "execute_result"
    }
   ],
   "source": [
    "final_table.drop(columns=['rn'], inplace=True)\n",
    "final_table.head()"
   ]
  },
  {
   "cell_type": "code",
   "execution_count": null,
   "metadata": {},
   "outputs": [
    {
     "data": {
      "text/plain": [
       "\"connection=cx_Oracle.connect(username,password,dsn,encoding='UTF-8')\\nconnection.version\\nconnection.close()\""
      ]
     },
     "execution_count": 74,
     "metadata": {},
     "output_type": "execute_result"
    }
   ],
   "source": [
    "\"\"\"connection=cx_Oracle.connect(username,password,dsn,encoding='UTF-8')\n",
    "connection.version\n",
    "connection.close()\"\"\""
   ]
  },
  {
   "cell_type": "code",
   "execution_count": null,
   "metadata": {},
   "outputs": [
    {
     "data": {
      "text/plain": [
       "\"try:\\n    with cx_Oracle.connect(username,password,dsn,encoding='UTF-8') as connection:\\n        with connection.cursor() as cursor:\\n            cursor.execute(dmc_sql)\\n            while True:\\n                row = cursor.fetchone()\\n                if row is None:\\n                    break\\n                print(row)\\n                data={'id':row[0],'dmc':row[1]}\\n    cursor.close()\\n    connection.close()\\nexcept cx_Oracle.Error as error:\\n    print(error)\""
      ]
     },
     "execution_count": 75,
     "metadata": {},
     "output_type": "execute_result"
    }
   ],
   "source": [
    "\"\"\"try:\n",
    "    with cx_Oracle.connect(username,password,dsn,encoding='UTF-8') as connection:\n",
    "        with connection.cursor() as cursor:\n",
    "            cursor.execute(dmc_sql)\n",
    "            while True:\n",
    "                row = cursor.fetchone()\n",
    "                if row is None:\n",
    "                    break\n",
    "                print(row)\n",
    "                data={'id':row[0],'dmc':row[1]}\n",
    "    cursor.close()\n",
    "    connection.close()\n",
    "except cx_Oracle.Error as error:\n",
    "    print(error)\"\"\""
   ]
  },
  {
   "cell_type": "markdown",
   "metadata": {},
   "source": [
    "<h1>Usuwanie anomalii</h1>"
   ]
  },
  {
   "cell_type": "code",
   "execution_count": null,
   "metadata": {},
   "outputs": [
    {
     "name": "stdout",
     "output_type": "stream",
     "text": [
      "['MEB_DGM', 'MEB_DMC', 'MEB_GROB', 'MEB_KO', 'MEB_KO_DGM', 'MEB_KO_RODZAJ', 'MEB_KO_STREFA', 'MEB_KS', 'ONI_CIRCUITS']\n"
     ]
    }
   ],
   "source": [
    "print(list(data.keys()))"
   ]
  },
  {
   "cell_type": "code",
   "execution_count": null,
   "metadata": {},
   "outputs": [],
   "source": [
    "meb_dgm_df = data['MEB_DGM']"
   ]
  },
  {
   "cell_type": "code",
   "execution_count": null,
   "metadata": {},
   "outputs": [
    {
     "name": "stdout",
     "output_type": "stream",
     "text": [
      "     id                    dmc  nr_dgm status  czas_fazy_1  czas_fazy_2  \\\n",
      "0   220  190627091611011003610    10.0      4       1850.0         88.0   \n",
      "1  3416  190719071611011006077    10.0      1       2197.0         89.0   \n",
      "2  3417  190719071811011006078    10.0      1       2184.0         86.0   \n",
      "3  3418  190719072011011006079    10.0      1       2159.0         89.0   \n",
      "4  3419  190719072111011006080    10.0      1       2175.0         89.0   \n",
      "\n",
      "   czas_fazy_3  max_predkosc  cisnienie_tloka  cisnienie_koncowe  ...  \\\n",
      "0         47.5          6.52              7.0              264.0  ...   \n",
      "1         46.5          6.59             11.0              285.0  ...   \n",
      "2         45.0          6.52              8.0              284.0  ...   \n",
      "3         45.5          6.54              6.0              284.0  ...   \n",
      "4         47.0          6.57              8.0              283.0  ...   \n",
      "\n",
      "   czas_taktu  id_dmc  nok_strefa  nok_rodzaj  status_ko  rodzaj_kontroli  \\\n",
      "0         NaN     NaN         NaN         NaN        NaN              NaN   \n",
      "1         NaN     NaN         NaN         NaN        NaN              NaN   \n",
      "2         NaN     NaN         NaN         NaN        NaN              NaN   \n",
      "3         NaN     NaN         NaN         NaN        NaN              NaN   \n",
      "4         NaN     NaN         NaN         NaN        NaN              NaN   \n",
      "\n",
      "   product_id  line_id  kod_pola  rodzaj_uszkodzenia  \n",
      "0         NaN      NaN       NaN                 NaN  \n",
      "1         NaN      NaN       NaN                 NaN  \n",
      "2         NaN      NaN       NaN                 NaN  \n",
      "3         NaN      NaN       NaN                 NaN  \n",
      "4         NaN      NaN       NaN                 NaN  \n",
      "\n",
      "[5 rows x 34 columns]\n"
     ]
    }
   ],
   "source": [
    "print(meb_dgm_df.head(5))"
   ]
  },
  {
   "cell_type": "code",
   "execution_count": null,
   "metadata": {},
   "outputs": [
    {
     "name": "stdout",
     "output_type": "stream",
     "text": [
      "['id', 'dmc', 'nr_dgm', 'status', 'czas_fazy_1', 'czas_fazy_2', 'czas_fazy_3', 'max_predkosc', 'cisnienie_tloka', 'cisnienie_koncowe', 'nachdruck_hub', 'anguss', 'max_press_kolbenhub', 'temp_pieca', 'oni_temp_curr_f1', 'oni_temp_curr_f2', 'oni_temp_fore_f1', 'oni_temp_fore_f2', 'vds_air_pressure', 'vds_vac_hose1', 'vds_vac_hose2', 'vds_vac_tank', 'vds_vac_valve1', 'vds_vac_valve2', 'czas_taktu', 'id_dmc', 'nok_strefa', 'nok_rodzaj', 'status_ko', 'rodzaj_kontroli', 'product_id', 'line_id', 'kod_pola', 'rodzaj_uszkodzenia']\n"
     ]
    }
   ],
   "source": [
    "print(list(meb_dgm_df.keys()))"
   ]
  },
  {
   "cell_type": "code",
   "execution_count": null,
   "metadata": {},
   "outputs": [
    {
     "name": "stdout",
     "output_type": "stream",
     "text": [
      "[10.  9.  4. nan  8. 16. 20.]\n",
      "1359550\n",
      "<class 'numpy.float64'>\n",
      "3521\n"
     ]
    }
   ],
   "source": [
    "print(meb_dgm_df['nr_dgm'].unique())\n",
    "print(len(meb_dgm_df))\n",
    "print(type(meb_dgm_df['nr_dgm'][0]))\n",
    "print(len(meb_dgm_df[meb_dgm_df['nr_dgm'] == 20]))\n",
    "\n"
   ]
  },
  {
   "cell_type": "code",
   "execution_count": null,
   "metadata": {},
   "outputs": [
    {
     "name": "stdout",
     "output_type": "stream",
     "text": [
      "   id_dmc                                       dmc_x  status_koncowy  \\\n",
      "0    2063  0MH301103CVW41910090436321102S111910040455             2.0   \n",
      "1    2063  0MH301103CVW41910090436321102S111910040455             2.0   \n",
      "2    2063  0MH301103CVW41910090436321102S111910040455             2.0   \n",
      "3    2063  0MH301103CVW41910090436321102S111910040455             2.0   \n",
      "\n",
      "  dmc_casting  nok_strefa_x  nok_rodzaj_x  status_ko_x kod_pola_x  \\\n",
      "0        None         511.0         201.0          2.0        S11   \n",
      "1        None         511.0         201.0          2.0        S11   \n",
      "2        None         511.0         201.0          2.0        S11   \n",
      "3        None         511.0         201.0          2.0        S11   \n",
      "\n",
      "       rodzaj_uszkodzenia_x  id_dmc_x  ...  pressure_pcf_1  pressure_pcf_2  \\\n",
      "0  Mechaniczne - odlewnicze  235342.0  ...             NaN             NaN   \n",
      "1  Mechaniczne - odlewnicze  452785.0  ...             NaN             NaN   \n",
      "2  Mechaniczne - odlewnicze  452991.0  ...             NaN             NaN   \n",
      "3  Mechaniczne - odlewnicze  664668.0  ...             NaN             NaN   \n",
      "\n",
      "   pressure_pcf_3  machine_nr  cisnienie  przeciek  nrprogramu  \\\n",
      "0             NaN         NaN      1.052     1.339         1.0   \n",
      "1             NaN         NaN      1.052     1.339         1.0   \n",
      "2             NaN         NaN      1.052     1.339         1.0   \n",
      "3             NaN         NaN      1.052     1.339         1.0   \n",
      "\n",
      "   temperaturatestu  statusszczelnosc  statusdmc  \n",
      "0         22.519999               1.0        1.0  \n",
      "1         22.519999               1.0        1.0  \n",
      "2         22.519999               1.0        1.0  \n",
      "3         22.519999               1.0        1.0  \n",
      "\n",
      "[4 rows x 257 columns]\n"
     ]
    }
   ],
   "source": [
    "print(final_table.head(4))\n"
   ]
  },
  {
   "cell_type": "code",
   "execution_count": null,
   "metadata": {},
   "outputs": [
    {
     "name": "stdout",
     "output_type": "stream",
     "text": [
      "id_dmc\n",
      "dmc_x\n",
      "status_koncowy\n",
      "dmc_casting\n",
      "nok_strefa_x\n",
      "nok_rodzaj_x\n",
      "status_ko_x\n",
      "kod_pola_x\n",
      "rodzaj_uszkodzenia_x\n",
      "id_dmc_x\n",
      "assigment_1\n",
      "assigment_2\n",
      "assigment_3\n",
      "assigment_4\n",
      "assigment_5\n",
      "assigment_6\n",
      "assigment_7\n",
      "assigment_8\n",
      "assigment_9\n",
      "assigment_10\n",
      "assigment_11\n",
      "assigment_12\n",
      "assigment_13\n",
      "assigment_14\n",
      "assigment_15\n",
      "assigment_16\n",
      "assigment_17\n",
      "assigment_18\n",
      "assigment_19\n",
      "assigment_20\n",
      "assigment_21\n",
      "assigment_22\n",
      "assigment_23\n",
      "assigment_24\n",
      "assigment_25\n",
      "assigment_26\n",
      "assigment_27\n",
      "assigment_28\n",
      "flow_1\n",
      "flow_2\n",
      "flow_3\n",
      "flow_4\n",
      "flow_5\n",
      "flow_6\n",
      "flow_7\n",
      "flow_8\n",
      "flow_9\n",
      "flow_10\n",
      "flow_11\n",
      "flow_12\n",
      "flow_13\n",
      "flow_14\n",
      "flow_15\n",
      "flow_16\n",
      "flow_17\n",
      "flow_18\n",
      "flow_19\n",
      "flow_20\n",
      "flow_21\n",
      "flow_22\n",
      "flow_23\n",
      "flow_24\n",
      "flow_25\n",
      "flow_26\n",
      "flow_27\n",
      "flow_28\n",
      "ref_time_1\n",
      "ref_time_2\n",
      "ref_time_3\n",
      "ref_time_4\n",
      "ref_time_5\n",
      "ref_time_6\n",
      "ref_time_7\n",
      "ref_time_8\n",
      "ref_time_9\n",
      "ref_time_10\n",
      "ref_time_11\n",
      "ref_time_12\n",
      "ref_time_13\n",
      "ref_time_14\n",
      "ref_time_15\n",
      "ref_time_16\n",
      "ref_time_17\n",
      "ref_time_18\n",
      "ref_time_19\n",
      "ref_time_20\n",
      "ref_time_21\n",
      "ref_time_22\n",
      "ref_time_23\n",
      "ref_time_24\n",
      "ref_time_25\n",
      "ref_time_26\n",
      "ref_time_27\n",
      "ref_time_28\n",
      "set_point_1\n",
      "set_point_2\n",
      "set_point_3\n",
      "set_point_4\n",
      "set_point_5\n",
      "set_point_6\n",
      "set_point_7\n",
      "set_point_8\n",
      "set_point_9\n",
      "set_point_10\n",
      "set_point_11\n",
      "set_point_12\n",
      "set_point_13\n",
      "set_point_14\n",
      "set_point_15\n",
      "set_point_16\n",
      "set_point_17\n",
      "set_point_18\n",
      "set_point_19\n",
      "set_point_20\n",
      "set_point_21\n",
      "set_point_22\n",
      "set_point_23\n",
      "set_point_24\n",
      "set_point_25\n",
      "set_point_26\n",
      "set_point_27\n",
      "set_point_28\n",
      "start_delay_1\n",
      "start_delay_2\n",
      "start_delay_3\n",
      "start_delay_4\n",
      "start_delay_5\n",
      "start_delay_6\n",
      "start_delay_7\n",
      "start_delay_8\n",
      "start_delay_9\n",
      "start_delay_10\n",
      "start_delay_11\n",
      "start_delay_12\n",
      "start_delay_13\n",
      "start_delay_14\n",
      "start_delay_15\n",
      "start_delay_16\n",
      "start_delay_17\n",
      "start_delay_18\n",
      "start_delay_19\n",
      "start_delay_20\n",
      "start_delay_21\n",
      "start_delay_22\n",
      "start_delay_23\n",
      "start_delay_24\n",
      "start_delay_25\n",
      "start_delay_26\n",
      "start_delay_27\n",
      "start_delay_28\n",
      "working_mode_1\n",
      "working_mode_2\n",
      "working_mode_3\n",
      "working_mode_4\n",
      "working_mode_5\n",
      "working_mode_6\n",
      "working_mode_7\n",
      "working_mode_8\n",
      "working_mode_9\n",
      "working_mode_10\n",
      "working_mode_11\n",
      "working_mode_12\n",
      "working_mode_13\n",
      "working_mode_14\n",
      "working_mode_15\n",
      "working_mode_16\n",
      "working_mode_17\n",
      "working_mode_18\n",
      "working_mode_19\n",
      "working_mode_20\n",
      "working_mode_21\n",
      "working_mode_22\n",
      "working_mode_23\n",
      "working_mode_24\n",
      "working_mode_25\n",
      "working_mode_26\n",
      "working_mode_27\n",
      "working_mode_28\n",
      "temp_1\n",
      "temp_2\n",
      "temp_3\n",
      "temp_4\n",
      "temp_5\n",
      "temp_6\n",
      "temp_7\n",
      "temp_8\n",
      "temp_9\n",
      "temp_10\n",
      "temp_11\n",
      "temp_12\n",
      "temp_13\n",
      "temp_14\n",
      "temp_15\n",
      "temp_16\n",
      "temp_17\n",
      "temp_18\n",
      "temp_19\n",
      "temp_20\n",
      "temp_21\n",
      "temp_22\n",
      "temp_23\n",
      "temp_24\n",
      "temp_25\n",
      "temp_26\n",
      "temp_27\n",
      "temp_28\n",
      "id\n",
      "dmc_y\n",
      "nr_dgm\n",
      "status\n",
      "czas_fazy_1\n",
      "czas_fazy_2\n",
      "czas_fazy_3\n",
      "max_predkosc\n",
      "cisnienie_tloka\n",
      "cisnienie_koncowe\n",
      "nachdruck_hub\n",
      "anguss\n",
      "max_press_kolbenhub\n",
      "temp_pieca\n",
      "oni_temp_curr_f1\n",
      "oni_temp_curr_f2\n",
      "oni_temp_fore_f1\n",
      "oni_temp_fore_f2\n",
      "vds_air_pressure\n",
      "vds_vac_hose1\n",
      "vds_vac_hose2\n",
      "vds_vac_tank\n",
      "vds_vac_valve1\n",
      "vds_vac_valve2\n",
      "czas_taktu\n",
      "id_dmc_y\n",
      "nok_strefa_y\n",
      "nok_rodzaj_y\n",
      "status_ko_y\n",
      "rodzaj_kontroli\n",
      "product_id\n",
      "line_id\n",
      "kod_pola_y\n",
      "rodzaj_uszkodzenia_y\n",
      "id_meb_grob\n",
      "part_type\n",
      "part_status\n",
      "last_machine_number\n",
      "last_pcf_number\n",
      "temp_workpiece\n",
      "temp_hydraulics\n",
      "pressure_pcf_1\n",
      "pressure_pcf_2\n",
      "pressure_pcf_3\n",
      "machine_nr\n",
      "cisnienie\n",
      "przeciek\n",
      "nrprogramu\n",
      "temperaturatestu\n",
      "statusszczelnosc\n",
      "statusdmc\n"
     ]
    }
   ],
   "source": [
    "for i in final_table.keys():\n",
    "    print(i)"
   ]
  },
  {
   "cell_type": "code",
   "execution_count": null,
   "metadata": {},
   "outputs": [
    {
     "name": "stdout",
     "output_type": "stream",
     "text": [
      "   unique_starting_letters  count_of_results\n",
      "0                      0MH           1288143\n",
      "1                      201               784\n",
      "2                      202              1712\n",
      "3                      210               473\n",
      "4                      211                 8\n",
      "5                      220               178\n",
      "6                      221                94\n",
      "7                      230               197\n",
      "8                      A0M              3808\n",
      "9                      ASD                16\n",
      "10                     BRA                16\n",
      "11                     H30                16\n",
      "12                     TEM                16\n",
      "13                     TES                16\n",
      "14                     asd                16\n",
      "15                     tes                17\n"
     ]
    }
   ],
   "source": [
    "result = meb_dgm_df.groupby(final_table['dmc_x'].str[:3]).size().reset_index(name='count_of_results')\n",
    "result.columns = ['unique_starting_letters', 'count_of_results']\n",
    "result = result.sort_values(by='unique_starting_letters')\n",
    "\n",
    "print(result)"
   ]
  },
  {
   "cell_type": "code",
   "execution_count": null,
   "metadata": {},
   "outputs": [],
   "source": []
  }
 ],
 "metadata": {
  "kernelspec": {
   "display_name": "base",
   "language": "python",
   "name": "python3"
  },
  "language_info": {
   "codemirror_mode": {
    "name": "ipython",
    "version": 3
   },
   "file_extension": ".py",
   "mimetype": "text/x-python",
   "name": "python",
   "nbconvert_exporter": "python",
   "pygments_lexer": "ipython3",
   "version": "3.10.10"
  },
  "orig_nbformat": 4
 },
 "nbformat": 4,
 "nbformat_minor": 2
}
