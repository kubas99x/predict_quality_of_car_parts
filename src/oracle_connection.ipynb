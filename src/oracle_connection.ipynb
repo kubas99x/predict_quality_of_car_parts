{
 "cells": [
  {
   "cell_type": "code",
   "execution_count": 31,
   "metadata": {},
   "outputs": [],
   "source": [
    "import cx_Oracle\n",
    "import pandas as pd\n",
    "import sqlalchemy\n",
    "from sqlalchemy.exc import SQLAlchemyError"
   ]
  },
  {
   "cell_type": "markdown",
   "metadata": {},
   "source": [
    "<h1>Pobieranie danych z bazy</h1>"
   ]
  },
  {
   "cell_type": "code",
   "execution_count": 32,
   "metadata": {},
   "outputs": [],
   "source": [
    "data = {}\n",
    "\n",
    "dbtables = ['MEB_DGM', 'MEB_DMC', 'MEB_GROB', 'MEB_KO', 'MEB_KO_DGM', 'MEB_KO_RODZAJ', 'MEB_KO_STREFA', 'MEB_KS', 'ONI_CIRCUITS']\n",
    "querys = [\n",
    "#Tutaj występują duplikaty, ale jeszcze nie zdecydowaliśmy co z nimi zrobić\n",
    "\"\"\"\n",
    "SELECT * \n",
    "FROM Z3DMC.MEB_DGM\n",
    "\"\"\",\n",
    "#Tutaj występują duplikaty, ale jeszcze nie zdecydowaliśmy co z nimi zrobić, usunąłem tylko nulle i anomalię\n",
    "\"\"\"\n",
    "SELECT *\n",
    "FROM Z3DMC.MEB_DMC\n",
    "WHERE (DMC <> 'null') AND (DMC <> 'NIECZYTELNY')\n",
    "\"\"\",\n",
    "\"\"\"\n",
    "SELECT *\n",
    "FROM (\n",
    "  SELECT\n",
    "    t.*,\n",
    "    ROW_NUMBER() OVER (PARTITION BY ID_DMC ORDER BY ID_MEB_GROB DESC) AS rn\n",
    "  FROM\n",
    "    Z3DMC.MEB_GROB t\n",
    ") subquery\n",
    "WHERE rn = 1\n",
    "\"\"\",\n",
    "\"\"\"\n",
    "SELECT *\n",
    "FROM (\n",
    "  SELECT\n",
    "    t.*,\n",
    "    ROW_NUMBER() OVER (PARTITION BY ID_DMC ORDER BY ID_KO DESC) AS rn\n",
    "  FROM\n",
    "    Z3DMC.MEB_KO t\n",
    ") subquery\n",
    "WHERE rn = 1\n",
    "\"\"\",\n",
    "\"\"\"\n",
    "SELECT *\n",
    "FROM (\n",
    "  SELECT\n",
    "    t.*,\n",
    "    ROW_NUMBER() OVER (PARTITION BY ID_DMC ORDER BY ID_KO DESC) AS rn\n",
    "  FROM\n",
    "    Z3DMC.MEB_KO_DGM t\n",
    "  WHERE ID_DMC <> 0\n",
    ") subquery\n",
    "WHERE rn = 1\n",
    "\"\"\",\n",
    "#Tabela słownik, niczego nie usuwamy, wczytuję całą tabelę\n",
    "\"\"\"\n",
    "SELECT *\n",
    "FROM Z3DMC.MEB_KO_RODZAJ\n",
    "\"\"\",\n",
    "#Tabela słownik, niczego nie usuwamy, wczytuję całą tabelę\n",
    "\"\"\"\n",
    "SELECT *\n",
    "FROM Z3DMC.MEB_KO_STREFA\n",
    "\"\"\",\n",
    "\"\"\"\n",
    "SELECT *\n",
    "FROM (\n",
    "  SELECT\n",
    "    t.*,\n",
    "    ROW_NUMBER() OVER (PARTITION BY ID_DMC ORDER BY ID_KS DESC) AS rn\n",
    "  FROM\n",
    "    Z3DMC.MEB_KS t\n",
    ") subquery\n",
    "WHERE rn = 1\n",
    "\"\"\",\n",
    "#Tabela ONI_CIRCUITS posiada wiele duplikatów, a powinno być ich do 28 per jeden ID_DMC, dlatego wrzucam całą tabelę i przegadamy co z tym zrobić.\n",
    "#Poniżej zakomentowany kod usuwający wszystkie duplikaty.\n",
    "\"\"\"\n",
    "select id_dmc, circuit_nr, \n",
    "max(assigment) as assigment, \n",
    "max(flow) as flow, \n",
    "max(ref_time) as ref_time,\n",
    "max(set_point) as set_point,\n",
    "max(start_delay) as start_delay,\n",
    "max(temp) as temp,\n",
    "max(working_mode) as working_mode,\n",
    "max(timestamp) as timestamp\n",
    "from z3dmc.oni_circuits\n",
    "group by id_dmc, circuit_nr\n",
    "order by id_dmc\n",
    "\"\"\"\n",
    "#SELECT *\n",
    "#FROM (\n",
    "#  SELECT\n",
    "#    t.*,\n",
    "#    ROW_NUMBER() OVER (PARTITION BY ID_DMC ORDER BY ID_CIRCUIT DESC) AS rn\n",
    "#  FROM\n",
    "#    Z3DMC.ONI_CIRCUITS t\n",
    "#) subquery\n",
    "#WHERE rn = 1\n",
    "]\n",
    "username = 'dmcro'\n",
    "password = 'ouZ9Rys7astDp4byjUvO'\n",
    "dsn = 'vwpnwrud0000rac:1521/dmc.vwg'\n",
    "dbhostname='vwpnwrud0000rac'\n",
    "service_name='dmc.vwg'"
   ]
  },
  {
   "cell_type": "code",
   "execution_count": 34,
   "metadata": {},
   "outputs": [],
   "source": [
    "try:\n",
    "    sqlalchemy_engine=\"oracle+cx_oracle://\"+username+\":\"+password+\"@\"+dbhostname+\"/?service_name=\"+service_name\n",
    "    engine = sqlalchemy.create_engine(sqlalchemy_engine, arraysize=1000)\n",
    "    for table, query in zip(dbtables, querys):\n",
    "        data.update({table: pd.read_sql(query, engine)})\n",
    "except SQLAlchemyError as e:\n",
    "    print(e)"
   ]
  },
  {
   "cell_type": "markdown",
   "metadata": {},
   "source": [
    "<h1>Usuwanie zbędnych kolumn z tabel</h1>"
   ]
  },
  {
   "cell_type": "code",
   "execution_count": 35,
   "metadata": {},
   "outputs": [
    {
     "name": "stdout",
     "output_type": "stream",
     "text": [
      "['MEB_DGM', 'MEB_DMC', 'MEB_GROB', 'MEB_KO', 'MEB_KO_DGM', 'MEB_KO_RODZAJ', 'MEB_KO_STREFA', 'MEB_KS', 'ONI_CIRCUITS']\n"
     ]
    }
   ],
   "source": [
    "print(list(data.keys()))\n",
    "# Useless tables\n",
    "# MEB_CONTAINERS, MEB_DMC_GRADE, MEB_KS_WZORC"
   ]
  },
  {
   "cell_type": "code",
   "execution_count": 36,
   "metadata": {},
   "outputs": [
    {
     "name": "stdout",
     "output_type": "stream",
     "text": [
      "\n",
      " ONI_CIRCUITS after drop of columns: \n",
      "\n",
      "   id_dmc  circuit_nr  assigment  flow  ref_time  set_point  start_delay  \\\n",
      "0  235342           1          0   0.0       0.0        0.0          0.0   \n",
      "1  235342           2          0   0.0       0.0        0.0          0.0   \n",
      "2  235342           3          0   0.0       0.0        0.0          0.0   \n",
      "3  235342           4          0   0.0       0.0        0.0          0.0   \n",
      "4  235342           5          0   0.0       0.0        0.0          0.0   \n",
      "\n",
      "   temp  working_mode  \n",
      "0   0.0             0  \n",
      "1   0.0             0  \n",
      "2   0.0             0  \n",
      "3   0.0             0  \n",
      "4   0.0             0  \n"
     ]
    }
   ],
   "source": [
    "# ONI CIRCUITS\n",
    "# print(data['ONI_CIRCUITS'].head())\n",
    "data['ONI_CIRCUITS'].drop(columns=['timestamp'], inplace=True)\n",
    "print(\"\\n ONI_CIRCUITS after drop of columns: \\n\")\n",
    "print(data['ONI_CIRCUITS'].head())"
   ]
  },
  {
   "cell_type": "code",
   "execution_count": 37,
   "metadata": {},
   "outputs": [
    {
     "name": "stdout",
     "output_type": "stream",
     "text": [
      "\n",
      " MEB_DGM after drop of columns: \n",
      "\n",
      "     id                    dmc  nr_dgm status  czas_fazy_1  czas_fazy_2  \\\n",
      "0   220  190627091611011003610    10.0      4       1850.0         88.0   \n",
      "1  3416  190719071611011006077    10.0      1       2197.0         89.0   \n",
      "2  3417  190719071811011006078    10.0      1       2184.0         86.0   \n",
      "3  3418  190719072011011006079    10.0      1       2159.0         89.0   \n",
      "4  3419  190719072111011006080    10.0      1       2175.0         89.0   \n",
      "\n",
      "   czas_fazy_3  max_predkosc  cisnienie_tloka  cisnienie_koncowe  ...  \\\n",
      "0         47.5          6.52              7.0              264.0  ...   \n",
      "1         46.5          6.59             11.0              285.0  ...   \n",
      "2         45.0          6.52              8.0              284.0  ...   \n",
      "3         45.5          6.54              6.0              284.0  ...   \n",
      "4         47.0          6.57              8.0              283.0  ...   \n",
      "\n",
      "   oni_temp_curr_f2  oni_temp_fore_f1  oni_temp_fore_f2  vds_air_pressure  \\\n",
      "0               NaN               NaN               NaN               NaN   \n",
      "1               NaN               NaN               NaN               NaN   \n",
      "2               NaN               NaN               NaN               NaN   \n",
      "3               NaN               NaN               NaN               NaN   \n",
      "4               NaN               NaN               NaN               NaN   \n",
      "\n",
      "   vds_vac_hose1  vds_vac_hose2  vds_vac_tank  vds_vac_valve1  vds_vac_valve2  \\\n",
      "0            NaN            NaN           NaN             NaN             NaN   \n",
      "1            NaN            NaN           NaN             NaN             NaN   \n",
      "2            NaN            NaN           NaN             NaN             NaN   \n",
      "3            NaN            NaN           NaN             NaN             NaN   \n",
      "4            NaN            NaN           NaN             NaN             NaN   \n",
      "\n",
      "   czas_taktu  \n",
      "0         NaN  \n",
      "1         NaN  \n",
      "2         NaN  \n",
      "3         NaN  \n",
      "4         NaN  \n",
      "\n",
      "[5 rows x 25 columns]\n"
     ]
    }
   ],
   "source": [
    "# MEB_DGM\n",
    "# print(data['MEB_DGM'].columns)\n",
    "# print(data['MEB_DGM'].head(5))\n",
    "# ('metal_level', 'metal_pressure') - We do not collect this data yet\n",
    "data['MEB_DGM'].drop(columns=['timestamp', 'data_znakowania', 'data_odlania', 'metal_level', 'metal_pressure'], inplace=True)\n",
    "print(\"\\n MEB_DGM after drop of columns: \\n\")\n",
    "print(data['MEB_DGM'].head(5))"
   ]
  },
  {
   "cell_type": "code",
   "execution_count": 38,
   "metadata": {},
   "outputs": [
    {
     "name": "stdout",
     "output_type": "stream",
     "text": [
      "\n",
      " MEB_DMC after drop of columns: \n",
      "\n",
      "   id_dmc                                         dmc  status_koncowy  \\\n",
      "0    2063  0MH301103CVW41910090436321102S111910040455             2.0   \n",
      "1    2064  0MH301103CVW41910090436411102S111910040410             1.0   \n",
      "2    2065  0MH301103CVW41910090436521102S111910040350             2.0   \n",
      "3    2066  0MH301103CVW41910090436611102S111910040356             2.0   \n",
      "4    2067  0MH301103CVW41910090436721102S111910040345             2.0   \n",
      "\n",
      "  dmc_casting  \n",
      "0        None  \n",
      "1        None  \n",
      "2        None  \n",
      "3        None  \n",
      "4        None  \n"
     ]
    }
   ],
   "source": [
    "#MEB_DMC\n",
    "# print(data['MEB_DMC'].columns)\n",
    "# print(data['MEB_DMC'].head(5))\n",
    "data['MEB_DMC'].drop(columns = ['timestamp', 'update_time','id_meb_containers', 'packed_time', 'first_packed_time', 'production_step'], inplace = True)\n",
    "print(\"\\n MEB_DMC after drop of columns: \\n\")\n",
    "print(data['MEB_DMC'].head(5))"
   ]
  },
  {
   "cell_type": "code",
   "execution_count": 39,
   "metadata": {},
   "outputs": [
    {
     "name": "stdout",
     "output_type": "stream",
     "text": [
      "\n",
      " MEB_KO after drop of columns: \n",
      "\n",
      "   id_dmc  nok_strefa  nok_rodzaj  status_ko  rn\n",
      "0    2007           0           0          0   1\n",
      "1    2062           0           0          1   1\n",
      "2    2063         511         201          2   1\n",
      "3    2064           0           0          1   1\n",
      "4    2065         505         201          2   1\n"
     ]
    }
   ],
   "source": [
    "#MEB_KO\n",
    "# print(data['MEB_KO'].columns)\n",
    "# print(data['MEB_KO'].head(5))\n",
    "data['MEB_KO'].drop(columns = ['id_ko', 'data', 'timestamp', 'eks'], inplace = True)\n",
    "print(\"\\n MEB_KO after drop of columns: \\n\")\n",
    "print(data['MEB_KO'].head(5))"
   ]
  },
  {
   "cell_type": "code",
   "execution_count": 41,
   "metadata": {},
   "outputs": [
    {
     "name": "stdout",
     "output_type": "stream",
     "text": [
      "\n",
      " MEB_KO_DGM after drop of columns: \n",
      "\n",
      "   id_dmc  nok_strefa  nok_rodzaj  status_ko  rodzaj_kontroli product_id  \\\n",
      "0   67460           0           0          1                1       None   \n",
      "1   67475           0           0          1                1       None   \n",
      "2   67521           0           0          1                1       None   \n",
      "3   67522           0           0          1                1       None   \n",
      "4   67523           0           0          1                1       None   \n",
      "\n",
      "  line_id  rn  \n",
      "0    None   1  \n",
      "1    None   1  \n",
      "2    None   1  \n",
      "3    None   1  \n",
      "4    None   1  \n"
     ]
    }
   ],
   "source": [
    "#MEB_KO_DGM\n",
    "# print(data['MEB_KO_DGM'].columns)\n",
    "# print(data['MEB_KO_DGM'].head(5))\n",
    "data['MEB_KO_DGM'].drop(columns = ['id_ko','data_odlania', 'timestamp', 'operator'], inplace = True)\n",
    "print(\"\\n MEB_KO_DGM after drop of columns: \\n\")\n",
    "print(data['MEB_KO_DGM'].head(5))"
   ]
  },
  {
   "cell_type": "code",
   "execution_count": 40,
   "metadata": {},
   "outputs": [
    {
     "name": "stdout",
     "output_type": "stream",
     "text": [
      "\n",
      " 'MEB_KS' after drop of columns: \n",
      "\n",
      "   cisnienie  przeciek  nrprogramu  temperaturatestu  statusszczelnosc  \\\n",
      "0      1.051     0.398           1         23.680000                 1   \n",
      "1      1.054     0.393           1         23.719999                 1   \n",
      "2      1.053     0.794           1         22.519999                 1   \n",
      "3      1.055     0.433           1         22.600000                 1   \n",
      "4      0.992    24.202           1         22.840000                 3   \n",
      "\n",
      "   statusdmc  id_dmc  rn  \n",
      "0        1.0    1917   1  \n",
      "1        1.0    1918   1  \n",
      "2        1.0    1919   1  \n",
      "3        1.0    1920   1  \n",
      "4        1.0    1921   1  \n"
     ]
    }
   ],
   "source": [
    "# MEB_KS\n",
    "# print(data['MEB_KS'].columns)\n",
    "# print(data['MEB_KS'].head(5))\n",
    "data['MEB_KS'].drop(columns = ['id_ks', 'nrgniazda', 'liczbawystapien', 'nrformy', 'data', 'timestamp', 'gradedmc_max','gradedmc_aktualny'], inplace = True)\n",
    "print(\"\\n 'MEB_KS' after drop of columns: \\n\")\n",
    "print(data['MEB_KS'].head(5))"
   ]
  },
  {
   "cell_type": "code",
   "execution_count": 42,
   "metadata": {},
   "outputs": [
    {
     "name": "stdout",
     "output_type": "stream",
     "text": [
      "\n",
      " 'MEB_GROB' after drop of columns: \n",
      "\n",
      "   id_meb_grob  id_dmc  part_type  part_status  last_machine_number  \\\n",
      "0            5    5746          1            1                    1   \n",
      "1            6    5753          1            1                    1   \n",
      "2            7    5754          1            1                    1   \n",
      "3            8    5756          1            1                    1   \n",
      "4            9    5758          1            1                    1   \n",
      "\n",
      "   last_pcf_number  temp_workpiece  temp_hydraulics  pressure_pcf_1  \\\n",
      "0                2       23.400000        33.400002           100.0   \n",
      "1                1       23.500000        33.400002           100.0   \n",
      "2                2       23.299999        33.400002           100.0   \n",
      "3                1       23.500000        33.400002           100.0   \n",
      "4                2       23.299999        33.400002           100.0   \n",
      "\n",
      "   pressure_pcf_2  pressure_pcf_3  machine_nr  rn  \n",
      "0           100.0            89.0         1.0   1  \n",
      "1           100.0            89.0         1.0   1  \n",
      "2           100.0            89.0         1.0   1  \n",
      "3            99.0            89.0         1.0   1  \n",
      "4            99.0            89.0         1.0   1  \n"
     ]
    }
   ],
   "source": [
    "#MEB_GROB \n",
    "# print(data['MEB_GROB'].columns)\n",
    "# print(data['MEB_GROB'].head(5))\n",
    "data['MEB_GROB'].drop(columns = ['shift_number', 'last_operation', 'timestamp', 'production_date', 'reworkrequested', \n",
    "                                'reworkdone', 'partcleaningisfinished', 'waitfortoolcheck', 'workingstep1', 'workingstep2', 'workingstep3', 'workingstep4', 'mms_ok'], inplace = True)\n",
    "print(\"\\n 'MEB_GROB' after drop of columns: \\n\")\n",
    "print(data['MEB_GROB'].head(5))\n"
   ]
  },
  {
   "cell_type": "markdown",
   "metadata": {},
   "source": [
    "<h1>Łączenie tabel</h1>"
   ]
  },
  {
   "cell_type": "code",
   "execution_count": 43,
   "metadata": {},
   "outputs": [],
   "source": [
    "#pd.set_option('display.max_columns', None)\n",
    "\n",
    "# łączę tabele MEB_KO i MEB_KO_DGM z tabelami MEB_KO_STREFA/RODZAJ\n",
    "\n",
    "data['MEB_KO'] = data['MEB_KO'].merge(data['MEB_KO_STREFA'], left_on='nok_strefa', right_on='indeks', how='inner')\n",
    "data['MEB_KO'].drop(columns=['indeks'], inplace=True)\n",
    "\n",
    "data['MEB_KO'] = data['MEB_KO'].merge(data['MEB_KO_RODZAJ'], left_on='nok_rodzaj', right_on='indeks', how='inner')\n",
    "data['MEB_KO'].drop(columns=['indeks'], inplace=True)\n",
    "\n",
    "data['MEB_KO_DGM'] = data['MEB_KO_DGM'].merge(data['MEB_KO_STREFA'], left_on='nok_strefa', right_on='indeks', how='inner')\n",
    "data['MEB_KO_DGM'].drop(columns=['indeks'], inplace=True)\n",
    "\n",
    "data['MEB_KO_DGM'] = data['MEB_KO_DGM'].merge(data['MEB_KO_RODZAJ'], left_on='nok_rodzaj', right_on='indeks', how='inner')\n",
    "data['MEB_KO_DGM'].drop(columns=['indeks'], inplace=True)\n",
    "\n",
    "\n",
    "#data['MEB_KO'].head()\n",
    "#data['MEB_KO_DGM'].head()"
   ]
  },
  {
   "cell_type": "code",
   "execution_count": 44,
   "metadata": {},
   "outputs": [],
   "source": [
    "# łączę tabelę MEB_DMC z tabelą MEB_KO\n",
    "\n",
    "data['MEB_DMC'] = data['MEB_DMC'].merge(data['MEB_KO'], on='id_dmc', how='left')\n",
    "\n",
    "#  do wyrzucenia kolumna timestamp oraz eks\n",
    "\n",
    "#data['MEB_DMC'].head(1)"
   ]
  },
  {
   "cell_type": "code",
   "execution_count": 45,
   "metadata": {},
   "outputs": [],
   "source": [
    "# łączę tabelę MEB_DGM z tabelą MEB_KO_DGM\n",
    "\n",
    "data['MEB_DGM'] = data['MEB_DGM'].merge(data['MEB_KO_DGM'], left_on='id', right_on='id_dmc', how='left')\n",
    "#data['MEB_DGM'].head(1)"
   ]
  },
  {
   "cell_type": "code",
   "execution_count": 46,
   "metadata": {},
   "outputs": [],
   "source": [
    "# przygotowywuję tabelę ONI_CIRCUITS do połączenia \n",
    "\n",
    "oni_circuits = data['ONI_CIRCUITS'].pivot(index='id_dmc', columns='circuit_nr', values=['assigment', 'flow', 'ref_time', 'set_point', 'start_delay', 'working_mode'])\n",
    "oni_circuits.columns = oni_circuits.columns.map('{0[0]}_{0[1]}'.format) \n",
    "oni_circuits.reset_index(inplace=True)\n",
    "\n",
    "\n",
    "# łączę z tabelą MEB_DGM\n",
    "\n",
    "oni_circuits = oni_circuits.merge(data['MEB_DGM'], left_on='id_dmc', right_on='id', how='left')\n",
    "#oni_circuits.head(1)"
   ]
  },
  {
   "cell_type": "code",
   "execution_count": 47,
   "metadata": {},
   "outputs": [],
   "source": [
    "# łączę tabelę MEB_DMC z ONI_CIRCUITS\n",
    "data['MEB_DMC'] = data['MEB_DMC'].merge(oni_circuits, left_on='dmc_casting', right_on='dmc', how='left')\n",
    "#data['MEB_DMC'].head(1)"
   ]
  },
  {
   "cell_type": "code",
   "execution_count": null,
   "metadata": {},
   "outputs": [],
   "source": [
    "# łączę tabelę MEB_DMC z tabelą MEB_GROB\n",
    "\n",
    "data['MEB_DMC'] = data['MEB_DMC'].merge(data['MEB_GROB'], on='id_dmc', how='left')\n",
    "#data['MEB_DMC'].head(1)"
   ]
  },
  {
   "cell_type": "code",
   "execution_count": null,
   "metadata": {},
   "outputs": [
    {
     "data": {
      "text/plain": [
       "['id_dmc',\n",
       " 'dmc_x',\n",
       " 'status_koncowy',\n",
       " 'dmc_casting',\n",
       " 'nok_strefa_x',\n",
       " 'nok_rodzaj_x',\n",
       " 'status_ko_x',\n",
       " 'rn_x',\n",
       " 'kod_pola_x',\n",
       " 'rodzaj_uszkodzenia_x',\n",
       " 'id_dmc_x',\n",
       " 'flow_1',\n",
       " 'flow_2',\n",
       " 'flow_3',\n",
       " 'flow_4',\n",
       " 'flow_5',\n",
       " 'flow_6',\n",
       " 'flow_7',\n",
       " 'flow_8',\n",
       " 'flow_9',\n",
       " 'flow_10',\n",
       " 'flow_11',\n",
       " 'flow_12',\n",
       " 'flow_13',\n",
       " 'flow_14',\n",
       " 'flow_15',\n",
       " 'flow_16',\n",
       " 'flow_17',\n",
       " 'flow_18',\n",
       " 'flow_19',\n",
       " 'flow_20',\n",
       " 'flow_21',\n",
       " 'flow_22',\n",
       " 'flow_23',\n",
       " 'flow_24',\n",
       " 'flow_25',\n",
       " 'flow_26',\n",
       " 'flow_27',\n",
       " 'flow_28',\n",
       " 'temp_1',\n",
       " 'temp_2',\n",
       " 'temp_3',\n",
       " 'temp_4',\n",
       " 'temp_5',\n",
       " 'temp_6',\n",
       " 'temp_7',\n",
       " 'temp_8',\n",
       " 'temp_9',\n",
       " 'temp_10',\n",
       " 'temp_11',\n",
       " 'temp_12',\n",
       " 'temp_13',\n",
       " 'temp_14',\n",
       " 'temp_15',\n",
       " 'temp_16',\n",
       " 'temp_17',\n",
       " 'temp_18',\n",
       " 'temp_19',\n",
       " 'temp_20',\n",
       " 'temp_21',\n",
       " 'temp_22',\n",
       " 'temp_23',\n",
       " 'temp_24',\n",
       " 'temp_25',\n",
       " 'temp_26',\n",
       " 'temp_27',\n",
       " 'temp_28',\n",
       " 'id',\n",
       " 'dmc_y',\n",
       " 'nr_dgm',\n",
       " 'status',\n",
       " 'czas_fazy_1',\n",
       " 'czas_fazy_2',\n",
       " 'czas_fazy_3',\n",
       " 'max_predkosc',\n",
       " 'cisnienie_tloka',\n",
       " 'cisnienie_koncowe',\n",
       " 'nachdruck_hub',\n",
       " 'anguss',\n",
       " 'max_press_kolbenhub',\n",
       " 'temp_pieca',\n",
       " 'oni_temp_curr_f1',\n",
       " 'oni_temp_curr_f2',\n",
       " 'oni_temp_fore_f1',\n",
       " 'oni_temp_fore_f2',\n",
       " 'vds_air_pressure',\n",
       " 'vds_vac_hose1',\n",
       " 'vds_vac_hose2',\n",
       " 'vds_vac_tank',\n",
       " 'vds_vac_valve1',\n",
       " 'vds_vac_valve2',\n",
       " 'czas_taktu',\n",
       " 'id_dmc_y',\n",
       " 'nok_strefa_y',\n",
       " 'nok_rodzaj_y',\n",
       " 'status_ko_y',\n",
       " 'rodzaj_kontroli',\n",
       " 'product_id',\n",
       " 'line_id',\n",
       " 'rn_y',\n",
       " 'kod_pola_y',\n",
       " 'rodzaj_uszkodzenia_y',\n",
       " 'id_meb_grob',\n",
       " 'part_type',\n",
       " 'part_status',\n",
       " 'last_machine_number',\n",
       " 'last_pcf_number',\n",
       " 'temp_workpiece',\n",
       " 'temp_hydraulics',\n",
       " 'pressure_pcf_1',\n",
       " 'pressure_pcf_2',\n",
       " 'pressure_pcf_3',\n",
       " 'machine_nr',\n",
       " 'rn']"
      ]
     },
     "execution_count": 30,
     "metadata": {},
     "output_type": "execute_result"
    }
   ],
   "source": [
    "pd.set_option('display.max_rows', None)\n",
    "data['MEB_DMC'].columns.tolist()"
   ]
  },
  {
   "cell_type": "code",
   "execution_count": null,
   "metadata": {},
   "outputs": [
    {
     "ename": "MergeError",
     "evalue": "Passing 'suffixes' which cause duplicate columns {'rn_x'} is not allowed.",
     "output_type": "error",
     "traceback": [
      "\u001b[1;31m---------------------------------------------------------------------------\u001b[0m",
      "\u001b[1;31mMergeError\u001b[0m                                Traceback (most recent call last)",
      "Cell \u001b[1;32mIn[26], line 3\u001b[0m\n\u001b[0;32m      1\u001b[0m \u001b[38;5;66;03m# łączę tabelę MEB_DMC z tabelą MEB_KS\u001b[39;00m\n\u001b[1;32m----> 3\u001b[0m data[\u001b[38;5;124m'\u001b[39m\u001b[38;5;124mMEB_DMC\u001b[39m\u001b[38;5;124m'\u001b[39m] \u001b[38;5;241m=\u001b[39m \u001b[43mdata\u001b[49m\u001b[43m[\u001b[49m\u001b[38;5;124;43m'\u001b[39;49m\u001b[38;5;124;43mMEB_DMC\u001b[39;49m\u001b[38;5;124;43m'\u001b[39;49m\u001b[43m]\u001b[49m\u001b[38;5;241;43m.\u001b[39;49m\u001b[43mmerge\u001b[49m\u001b[43m(\u001b[49m\u001b[43mdata\u001b[49m\u001b[43m[\u001b[49m\u001b[38;5;124;43m'\u001b[39;49m\u001b[38;5;124;43mMEB_KS\u001b[39;49m\u001b[38;5;124;43m'\u001b[39;49m\u001b[43m]\u001b[49m\u001b[43m,\u001b[49m\u001b[43m \u001b[49m\u001b[43mon\u001b[49m\u001b[38;5;241;43m=\u001b[39;49m\u001b[38;5;124;43m'\u001b[39;49m\u001b[38;5;124;43mid_dmc\u001b[39;49m\u001b[38;5;124;43m'\u001b[39;49m\u001b[43m,\u001b[49m\u001b[43m \u001b[49m\u001b[43mhow\u001b[49m\u001b[38;5;241;43m=\u001b[39;49m\u001b[38;5;124;43m'\u001b[39;49m\u001b[38;5;124;43mleft\u001b[39;49m\u001b[38;5;124;43m'\u001b[39;49m\u001b[43m)\u001b[49m\n\u001b[0;32m      4\u001b[0m \u001b[38;5;66;03m#data['MEB_DMC'].head(1)\u001b[39;00m\n",
      "File \u001b[1;32m~\\AppData\\Roaming\\Python\\Python310\\site-packages\\pandas\\core\\frame.py:9843\u001b[0m, in \u001b[0;36mDataFrame.merge\u001b[1;34m(self, right, how, on, left_on, right_on, left_index, right_index, sort, suffixes, copy, indicator, validate)\u001b[0m\n\u001b[0;32m   <a href='file:///~/AppData/Roaming/Python/Python310/site-packages/pandas/core/frame.py?line=9823'>9824</a>\u001b[0m \u001b[39m@Substitution\u001b[39m(\u001b[39m\"\u001b[39m\u001b[39m\"\u001b[39m)\n\u001b[0;32m   <a href='file:///~/AppData/Roaming/Python/Python310/site-packages/pandas/core/frame.py?line=9824'>9825</a>\u001b[0m \u001b[39m@Appender\u001b[39m(_merge_doc, indents\u001b[39m=\u001b[39m\u001b[39m2\u001b[39m)\n\u001b[0;32m   <a href='file:///~/AppData/Roaming/Python/Python310/site-packages/pandas/core/frame.py?line=9825'>9826</a>\u001b[0m \u001b[39mdef\u001b[39;00m \u001b[39mmerge\u001b[39m(\n\u001b[1;32m   (...)\u001b[0m\n\u001b[0;32m   <a href='file:///~/AppData/Roaming/Python/Python310/site-packages/pandas/core/frame.py?line=9838'>9839</a>\u001b[0m     validate: \u001b[39mstr\u001b[39m \u001b[39m|\u001b[39m \u001b[39mNone\u001b[39;00m \u001b[39m=\u001b[39m \u001b[39mNone\u001b[39;00m,\n\u001b[0;32m   <a href='file:///~/AppData/Roaming/Python/Python310/site-packages/pandas/core/frame.py?line=9839'>9840</a>\u001b[0m ) \u001b[39m-\u001b[39m\u001b[39m>\u001b[39m DataFrame:\n\u001b[0;32m   <a href='file:///~/AppData/Roaming/Python/Python310/site-packages/pandas/core/frame.py?line=9840'>9841</a>\u001b[0m     \u001b[39mfrom\u001b[39;00m \u001b[39mpandas\u001b[39;00m\u001b[39m.\u001b[39;00m\u001b[39mcore\u001b[39;00m\u001b[39m.\u001b[39;00m\u001b[39mreshape\u001b[39;00m\u001b[39m.\u001b[39;00m\u001b[39mmerge\u001b[39;00m \u001b[39mimport\u001b[39;00m merge\n\u001b[1;32m-> <a href='file:///~/AppData/Roaming/Python/Python310/site-packages/pandas/core/frame.py?line=9842'>9843</a>\u001b[0m     \u001b[39mreturn\u001b[39;00m merge(\n\u001b[0;32m   <a href='file:///~/AppData/Roaming/Python/Python310/site-packages/pandas/core/frame.py?line=9843'>9844</a>\u001b[0m         \u001b[39mself\u001b[39;49m,\n\u001b[0;32m   <a href='file:///~/AppData/Roaming/Python/Python310/site-packages/pandas/core/frame.py?line=9844'>9845</a>\u001b[0m         right,\n\u001b[0;32m   <a href='file:///~/AppData/Roaming/Python/Python310/site-packages/pandas/core/frame.py?line=9845'>9846</a>\u001b[0m         how\u001b[39m=\u001b[39;49mhow,\n\u001b[0;32m   <a href='file:///~/AppData/Roaming/Python/Python310/site-packages/pandas/core/frame.py?line=9846'>9847</a>\u001b[0m         on\u001b[39m=\u001b[39;49mon,\n\u001b[0;32m   <a href='file:///~/AppData/Roaming/Python/Python310/site-packages/pandas/core/frame.py?line=9847'>9848</a>\u001b[0m         left_on\u001b[39m=\u001b[39;49mleft_on,\n\u001b[0;32m   <a href='file:///~/AppData/Roaming/Python/Python310/site-packages/pandas/core/frame.py?line=9848'>9849</a>\u001b[0m         right_on\u001b[39m=\u001b[39;49mright_on,\n\u001b[0;32m   <a href='file:///~/AppData/Roaming/Python/Python310/site-packages/pandas/core/frame.py?line=9849'>9850</a>\u001b[0m         left_index\u001b[39m=\u001b[39;49mleft_index,\n\u001b[0;32m   <a href='file:///~/AppData/Roaming/Python/Python310/site-packages/pandas/core/frame.py?line=9850'>9851</a>\u001b[0m         right_index\u001b[39m=\u001b[39;49mright_index,\n\u001b[0;32m   <a href='file:///~/AppData/Roaming/Python/Python310/site-packages/pandas/core/frame.py?line=9851'>9852</a>\u001b[0m         sort\u001b[39m=\u001b[39;49msort,\n\u001b[0;32m   <a href='file:///~/AppData/Roaming/Python/Python310/site-packages/pandas/core/frame.py?line=9852'>9853</a>\u001b[0m         suffixes\u001b[39m=\u001b[39;49msuffixes,\n\u001b[0;32m   <a href='file:///~/AppData/Roaming/Python/Python310/site-packages/pandas/core/frame.py?line=9853'>9854</a>\u001b[0m         copy\u001b[39m=\u001b[39;49mcopy,\n\u001b[0;32m   <a href='file:///~/AppData/Roaming/Python/Python310/site-packages/pandas/core/frame.py?line=9854'>9855</a>\u001b[0m         indicator\u001b[39m=\u001b[39;49mindicator,\n\u001b[0;32m   <a href='file:///~/AppData/Roaming/Python/Python310/site-packages/pandas/core/frame.py?line=9855'>9856</a>\u001b[0m         validate\u001b[39m=\u001b[39;49mvalidate,\n\u001b[0;32m   <a href='file:///~/AppData/Roaming/Python/Python310/site-packages/pandas/core/frame.py?line=9856'>9857</a>\u001b[0m     )\n",
      "File \u001b[1;32m~\\AppData\\Roaming\\Python\\Python310\\site-packages\\pandas\\core\\reshape\\merge.py:162\u001b[0m, in \u001b[0;36mmerge\u001b[1;34m(left, right, how, on, left_on, right_on, left_index, right_index, sort, suffixes, copy, indicator, validate)\u001b[0m\n\u001b[0;32m    <a href='file:///~/AppData/Roaming/Python/Python310/site-packages/pandas/core/reshape/merge.py?line=130'>131</a>\u001b[0m \u001b[39m@Substitution\u001b[39m(\u001b[39m\"\u001b[39m\u001b[39m\\n\u001b[39;00m\u001b[39mleft : DataFrame or named Series\u001b[39m\u001b[39m\"\u001b[39m)\n\u001b[0;32m    <a href='file:///~/AppData/Roaming/Python/Python310/site-packages/pandas/core/reshape/merge.py?line=131'>132</a>\u001b[0m \u001b[39m@Appender\u001b[39m(_merge_doc, indents\u001b[39m=\u001b[39m\u001b[39m0\u001b[39m)\n\u001b[0;32m    <a href='file:///~/AppData/Roaming/Python/Python310/site-packages/pandas/core/reshape/merge.py?line=132'>133</a>\u001b[0m \u001b[39mdef\u001b[39;00m \u001b[39mmerge\u001b[39m(\n\u001b[1;32m   (...)\u001b[0m\n\u001b[0;32m    <a href='file:///~/AppData/Roaming/Python/Python310/site-packages/pandas/core/reshape/merge.py?line=145'>146</a>\u001b[0m     validate: \u001b[39mstr\u001b[39m \u001b[39m|\u001b[39m \u001b[39mNone\u001b[39;00m \u001b[39m=\u001b[39m \u001b[39mNone\u001b[39;00m,\n\u001b[0;32m    <a href='file:///~/AppData/Roaming/Python/Python310/site-packages/pandas/core/reshape/merge.py?line=146'>147</a>\u001b[0m ) \u001b[39m-\u001b[39m\u001b[39m>\u001b[39m DataFrame:\n\u001b[0;32m    <a href='file:///~/AppData/Roaming/Python/Python310/site-packages/pandas/core/reshape/merge.py?line=147'>148</a>\u001b[0m     op \u001b[39m=\u001b[39m _MergeOperation(\n\u001b[0;32m    <a href='file:///~/AppData/Roaming/Python/Python310/site-packages/pandas/core/reshape/merge.py?line=148'>149</a>\u001b[0m         left,\n\u001b[0;32m    <a href='file:///~/AppData/Roaming/Python/Python310/site-packages/pandas/core/reshape/merge.py?line=149'>150</a>\u001b[0m         right,\n\u001b[1;32m   (...)\u001b[0m\n\u001b[0;32m    <a href='file:///~/AppData/Roaming/Python/Python310/site-packages/pandas/core/reshape/merge.py?line=159'>160</a>\u001b[0m         validate\u001b[39m=\u001b[39mvalidate,\n\u001b[0;32m    <a href='file:///~/AppData/Roaming/Python/Python310/site-packages/pandas/core/reshape/merge.py?line=160'>161</a>\u001b[0m     )\n\u001b[1;32m--> <a href='file:///~/AppData/Roaming/Python/Python310/site-packages/pandas/core/reshape/merge.py?line=161'>162</a>\u001b[0m     \u001b[39mreturn\u001b[39;00m op\u001b[39m.\u001b[39;49mget_result(copy\u001b[39m=\u001b[39;49mcopy)\n",
      "File \u001b[1;32m~\\AppData\\Roaming\\Python\\Python310\\site-packages\\pandas\\core\\reshape\\merge.py:811\u001b[0m, in \u001b[0;36m_MergeOperation.get_result\u001b[1;34m(self, copy)\u001b[0m\n\u001b[0;32m    <a href='file:///~/AppData/Roaming/Python/Python310/site-packages/pandas/core/reshape/merge.py?line=806'>807</a>\u001b[0m     \u001b[39mself\u001b[39m\u001b[39m.\u001b[39mleft, \u001b[39mself\u001b[39m\u001b[39m.\u001b[39mright \u001b[39m=\u001b[39m \u001b[39mself\u001b[39m\u001b[39m.\u001b[39m_indicator_pre_merge(\u001b[39mself\u001b[39m\u001b[39m.\u001b[39mleft, \u001b[39mself\u001b[39m\u001b[39m.\u001b[39mright)\n\u001b[0;32m    <a href='file:///~/AppData/Roaming/Python/Python310/site-packages/pandas/core/reshape/merge.py?line=808'>809</a>\u001b[0m join_index, left_indexer, right_indexer \u001b[39m=\u001b[39m \u001b[39mself\u001b[39m\u001b[39m.\u001b[39m_get_join_info()\n\u001b[1;32m--> <a href='file:///~/AppData/Roaming/Python/Python310/site-packages/pandas/core/reshape/merge.py?line=810'>811</a>\u001b[0m result \u001b[39m=\u001b[39m \u001b[39mself\u001b[39;49m\u001b[39m.\u001b[39;49m_reindex_and_concat(\n\u001b[0;32m    <a href='file:///~/AppData/Roaming/Python/Python310/site-packages/pandas/core/reshape/merge.py?line=811'>812</a>\u001b[0m     join_index, left_indexer, right_indexer, copy\u001b[39m=\u001b[39;49mcopy\n\u001b[0;32m    <a href='file:///~/AppData/Roaming/Python/Python310/site-packages/pandas/core/reshape/merge.py?line=812'>813</a>\u001b[0m )\n\u001b[0;32m    <a href='file:///~/AppData/Roaming/Python/Python310/site-packages/pandas/core/reshape/merge.py?line=813'>814</a>\u001b[0m result \u001b[39m=\u001b[39m result\u001b[39m.\u001b[39m__finalize__(\u001b[39mself\u001b[39m, method\u001b[39m=\u001b[39m\u001b[39mself\u001b[39m\u001b[39m.\u001b[39m_merge_type)\n\u001b[0;32m    <a href='file:///~/AppData/Roaming/Python/Python310/site-packages/pandas/core/reshape/merge.py?line=815'>816</a>\u001b[0m \u001b[39mif\u001b[39;00m \u001b[39mself\u001b[39m\u001b[39m.\u001b[39mindicator:\n",
      "File \u001b[1;32m~\\AppData\\Roaming\\Python\\Python310\\site-packages\\pandas\\core\\reshape\\merge.py:763\u001b[0m, in \u001b[0;36m_MergeOperation._reindex_and_concat\u001b[1;34m(self, join_index, left_indexer, right_indexer, copy)\u001b[0m\n\u001b[0;32m    <a href='file:///~/AppData/Roaming/Python/Python310/site-packages/pandas/core/reshape/merge.py?line=759'>760</a>\u001b[0m left \u001b[39m=\u001b[39m \u001b[39mself\u001b[39m\u001b[39m.\u001b[39mleft[:]\n\u001b[0;32m    <a href='file:///~/AppData/Roaming/Python/Python310/site-packages/pandas/core/reshape/merge.py?line=760'>761</a>\u001b[0m right \u001b[39m=\u001b[39m \u001b[39mself\u001b[39m\u001b[39m.\u001b[39mright[:]\n\u001b[1;32m--> <a href='file:///~/AppData/Roaming/Python/Python310/site-packages/pandas/core/reshape/merge.py?line=762'>763</a>\u001b[0m llabels, rlabels \u001b[39m=\u001b[39m _items_overlap_with_suffix(\n\u001b[0;32m    <a href='file:///~/AppData/Roaming/Python/Python310/site-packages/pandas/core/reshape/merge.py?line=763'>764</a>\u001b[0m     \u001b[39mself\u001b[39;49m\u001b[39m.\u001b[39;49mleft\u001b[39m.\u001b[39;49m_info_axis, \u001b[39mself\u001b[39;49m\u001b[39m.\u001b[39;49mright\u001b[39m.\u001b[39;49m_info_axis, \u001b[39mself\u001b[39;49m\u001b[39m.\u001b[39;49msuffixes\n\u001b[0;32m    <a href='file:///~/AppData/Roaming/Python/Python310/site-packages/pandas/core/reshape/merge.py?line=764'>765</a>\u001b[0m )\n\u001b[0;32m    <a href='file:///~/AppData/Roaming/Python/Python310/site-packages/pandas/core/reshape/merge.py?line=766'>767</a>\u001b[0m \u001b[39mif\u001b[39;00m left_indexer \u001b[39mis\u001b[39;00m \u001b[39mnot\u001b[39;00m \u001b[39mNone\u001b[39;00m \u001b[39mand\u001b[39;00m \u001b[39mnot\u001b[39;00m is_range_indexer(left_indexer, \u001b[39mlen\u001b[39m(left)):\n\u001b[0;32m    <a href='file:///~/AppData/Roaming/Python/Python310/site-packages/pandas/core/reshape/merge.py?line=767'>768</a>\u001b[0m     \u001b[39m# Pinning the index here (and in the right code just below) is not\u001b[39;00m\n\u001b[0;32m    <a href='file:///~/AppData/Roaming/Python/Python310/site-packages/pandas/core/reshape/merge.py?line=768'>769</a>\u001b[0m     \u001b[39m#  necessary, but makes the `.take` more performant if we have e.g.\u001b[39;00m\n\u001b[0;32m    <a href='file:///~/AppData/Roaming/Python/Python310/site-packages/pandas/core/reshape/merge.py?line=769'>770</a>\u001b[0m     \u001b[39m#  a MultiIndex for left.index.\u001b[39;00m\n\u001b[0;32m    <a href='file:///~/AppData/Roaming/Python/Python310/site-packages/pandas/core/reshape/merge.py?line=770'>771</a>\u001b[0m     lmgr \u001b[39m=\u001b[39m left\u001b[39m.\u001b[39m_mgr\u001b[39m.\u001b[39mreindex_indexer(\n\u001b[0;32m    <a href='file:///~/AppData/Roaming/Python/Python310/site-packages/pandas/core/reshape/merge.py?line=771'>772</a>\u001b[0m         join_index,\n\u001b[0;32m    <a href='file:///~/AppData/Roaming/Python/Python310/site-packages/pandas/core/reshape/merge.py?line=772'>773</a>\u001b[0m         left_indexer,\n\u001b[1;32m   (...)\u001b[0m\n\u001b[0;32m    <a href='file:///~/AppData/Roaming/Python/Python310/site-packages/pandas/core/reshape/merge.py?line=777'>778</a>\u001b[0m         use_na_proxy\u001b[39m=\u001b[39m\u001b[39mTrue\u001b[39;00m,\n\u001b[0;32m    <a href='file:///~/AppData/Roaming/Python/Python310/site-packages/pandas/core/reshape/merge.py?line=778'>779</a>\u001b[0m     )\n",
      "File \u001b[1;32m~\\AppData\\Roaming\\Python\\Python310\\site-packages\\pandas\\core\\reshape\\merge.py:2640\u001b[0m, in \u001b[0;36m_items_overlap_with_suffix\u001b[1;34m(left, right, suffixes)\u001b[0m\n\u001b[0;32m   <a href='file:///~/AppData/Roaming/Python/Python310/site-packages/pandas/core/reshape/merge.py?line=2637'>2638</a>\u001b[0m     dups\u001b[39m.\u001b[39mextend(rlabels[(rlabels\u001b[39m.\u001b[39mduplicated()) \u001b[39m&\u001b[39m (\u001b[39m~\u001b[39mright\u001b[39m.\u001b[39mduplicated())]\u001b[39m.\u001b[39mtolist())\n\u001b[0;32m   <a href='file:///~/AppData/Roaming/Python/Python310/site-packages/pandas/core/reshape/merge.py?line=2638'>2639</a>\u001b[0m \u001b[39mif\u001b[39;00m dups:\n\u001b[1;32m-> <a href='file:///~/AppData/Roaming/Python/Python310/site-packages/pandas/core/reshape/merge.py?line=2639'>2640</a>\u001b[0m     \u001b[39mraise\u001b[39;00m MergeError(\n\u001b[0;32m   <a href='file:///~/AppData/Roaming/Python/Python310/site-packages/pandas/core/reshape/merge.py?line=2640'>2641</a>\u001b[0m         \u001b[39mf\u001b[39m\u001b[39m\"\u001b[39m\u001b[39mPassing \u001b[39m\u001b[39m'\u001b[39m\u001b[39msuffixes\u001b[39m\u001b[39m'\u001b[39m\u001b[39m which cause duplicate columns \u001b[39m\u001b[39m{\u001b[39;00m\u001b[39mset\u001b[39m(dups)\u001b[39m}\u001b[39;00m\u001b[39m is \u001b[39m\u001b[39m\"\u001b[39m\n\u001b[0;32m   <a href='file:///~/AppData/Roaming/Python/Python310/site-packages/pandas/core/reshape/merge.py?line=2641'>2642</a>\u001b[0m         \u001b[39mf\u001b[39m\u001b[39m\"\u001b[39m\u001b[39mnot allowed.\u001b[39m\u001b[39m\"\u001b[39m,\n\u001b[0;32m   <a href='file:///~/AppData/Roaming/Python/Python310/site-packages/pandas/core/reshape/merge.py?line=2642'>2643</a>\u001b[0m     )\n\u001b[0;32m   <a href='file:///~/AppData/Roaming/Python/Python310/site-packages/pandas/core/reshape/merge.py?line=2644'>2645</a>\u001b[0m \u001b[39mreturn\u001b[39;00m llabels, rlabels\n",
      "\u001b[1;31mMergeError\u001b[0m: Passing 'suffixes' which cause duplicate columns {'rn_x'} is not allowed."
     ]
    }
   ],
   "source": [
    "# łączę tabelę MEB_DMC z tabelą MEB_KS\n",
    "\n",
    "data['MEB_DMC'] = data['MEB_DMC'].merge(data['MEB_KS'], on='id_dmc', how='left')\n",
    "#data['MEB_DMC'].head(1)"
   ]
  },
  {
   "cell_type": "code",
   "execution_count": null,
   "metadata": {},
   "outputs": [
    {
     "data": {
      "text/plain": [
       "\"connection=cx_Oracle.connect(username,password,dsn,encoding='UTF-8')\\nconnection.version\\nconnection.close()\""
      ]
     },
     "execution_count": 19,
     "metadata": {},
     "output_type": "execute_result"
    }
   ],
   "source": [
    "\"\"\"connection=cx_Oracle.connect(username,password,dsn,encoding='UTF-8')\n",
    "connection.version\n",
    "connection.close()\"\"\""
   ]
  },
  {
   "cell_type": "code",
   "execution_count": null,
   "metadata": {},
   "outputs": [
    {
     "data": {
      "text/plain": [
       "\"try:\\n    with cx_Oracle.connect(username,password,dsn,encoding='UTF-8') as connection:\\n        with connection.cursor() as cursor:\\n            cursor.execute(dmc_sql)\\n            while True:\\n                row = cursor.fetchone()\\n                if row is None:\\n                    break\\n                print(row)\\n                data={'id':row[0],'dmc':row[1]}\\n    cursor.close()\\n    connection.close()\\nexcept cx_Oracle.Error as error:\\n    print(error)\""
      ]
     },
     "execution_count": 20,
     "metadata": {},
     "output_type": "execute_result"
    }
   ],
   "source": [
    "\"\"\"try:\n",
    "    with cx_Oracle.connect(username,password,dsn,encoding='UTF-8') as connection:\n",
    "        with connection.cursor() as cursor:\n",
    "            cursor.execute(dmc_sql)\n",
    "            while True:\n",
    "                row = cursor.fetchone()\n",
    "                if row is None:\n",
    "                    break\n",
    "                print(row)\n",
    "                data={'id':row[0],'dmc':row[1]}\n",
    "    cursor.close()\n",
    "    connection.close()\n",
    "except cx_Oracle.Error as error:\n",
    "    print(error)\"\"\""
   ]
  },
  {
   "cell_type": "code",
   "execution_count": null,
   "metadata": {},
   "outputs": [
    {
     "data": {
      "text/plain": [
       "1"
      ]
     },
     "execution_count": 7,
     "metadata": {},
     "output_type": "execute_result"
    }
   ],
   "source": [
    "#dodej to Adam przystojniaku"
   ]
  },
  {
   "cell_type": "code",
   "execution_count": null,
   "metadata": {},
   "outputs": [],
   "source": []
  }
 ],
 "metadata": {
  "kernelspec": {
   "display_name": "base",
   "language": "python",
   "name": "python3"
  },
  "language_info": {
   "codemirror_mode": {
    "name": "ipython",
    "version": 3
   },
   "file_extension": ".py",
   "mimetype": "text/x-python",
   "name": "python",
   "nbconvert_exporter": "python",
   "pygments_lexer": "ipython3",
   "version": "3.10.10"
  },
  "orig_nbformat": 4
 },
 "nbformat": 4,
 "nbformat_minor": 2
}
