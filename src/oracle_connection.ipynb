{
 "cells": [
  {
   "cell_type": "code",
   "execution_count": 7,
   "metadata": {},
   "outputs": [],
   "source": [
    "import cx_Oracle\n",
    "import pandas as pd\n",
    "import sqlalchemy\n",
    "from sqlalchemy.exc import SQLAlchemyError"
   ]
  },
  {
   "cell_type": "code",
   "execution_count": 8,
   "metadata": {},
   "outputs": [],
   "source": [
    "data = {}\n",
    "\n",
    "dbtable = 'z3dmc.meb_dmc'\n",
    "username = 'dmcro'\n",
    "password = 'ouZ9Rys7astDp4byjUvO'\n",
    "dsn = 'vwpnwrud0000rac:1521/dmc.vwg'\n",
    "dbhostname='vwpnwrud0000rac'\n",
    "service_name='dmc.vwg'"
   ]
  },
  {
   "cell_type": "code",
   "execution_count": 14,
   "metadata": {},
   "outputs": [
    {
     "name": "stdout",
     "output_type": "stream",
     "text": [
      "   id_dmc                                         dmc  status_koncowy  \\\n",
      "0    2071  0MH301103CVW41910090437321102S111910040418               1   \n",
      "1    2070  0MH301103CVW41910090437211102S111910040342               2   \n",
      "2    2069  0MH301103CVW41910090437121102S111910040330             107   \n",
      "3    2068  0MH301103CVW41910090437011102S111910040351               1   \n",
      "4    2067  0MH301103CVW41910090436721102S111910040345               2   \n",
      "5    2066  0MH301103CVW41910090436611102S111910040356               2   \n",
      "6    2065  0MH301103CVW41910090436521102S111910040350               2   \n",
      "7    2064  0MH301103CVW41910090436411102S111910040410               1   \n",
      "8    2063  0MH301103CVW41910090436321102S111910040455               2   \n",
      "\n",
      "            timestamp         update_time  id_meb_containers  \\\n",
      "0 2019-10-09 08:33:13 2019-11-06 06:49:05                504   \n",
      "1 2019-10-09 08:32:53 2019-11-06 09:14:37                366   \n",
      "2 2019-10-09 08:32:26 2019-11-12 06:32:27                366   \n",
      "3 2019-10-09 08:18:26 2019-11-06 05:26:55                504   \n",
      "4 2019-10-09 08:18:05 2019-10-09 08:22:31                  0   \n",
      "5 2019-10-09 08:17:45 2019-11-06 05:40:39                366   \n",
      "6 2019-10-09 08:13:58 2019-11-06 06:47:19                366   \n",
      "7 2019-10-09 08:09:27 2019-11-06 05:50:29                  0   \n",
      "8 2019-10-09 08:09:07 2019-11-06 05:40:27                366   \n",
      "\n",
      "          packed_time first_packed_time dmc_casting  production_step  \n",
      "0 2019-11-06 06:49:04              None        None            700.0  \n",
      "1 2019-11-06 09:14:36              None        None            700.0  \n",
      "2 2019-11-12 06:32:26              None        None            700.0  \n",
      "3 2019-11-06 05:26:54              None        None            700.0  \n",
      "4                 NaT              None        None              NaN  \n",
      "5 2019-11-06 05:40:38              None        None            700.0  \n",
      "6 2019-11-06 06:47:18              None        None            700.0  \n",
      "7 2019-10-09 08:18:06              None        None            500.0  \n",
      "8 2019-11-06 05:40:26              None        None            700.0  \n"
     ]
    }
   ],
   "source": [
    "try:\n",
    "   sqlalchemy_engine=\"oracle+cx_oracle://\"+username+\":\"+password+\"@\"+dbhostname+\"/?service_name=\"+service_name\n",
    "   engine = sqlalchemy.create_engine(sqlalchemy_engine, arraysize=1000)\n",
    "   dmc_sql = \"select * from \"+dbtable+\" where rownum<10 order by ID_DMC desc\"\n",
    "   df_dmc = pd.read_sql(dmc_sql, engine)\n",
    "   print(df_dmc)\n",
    "except SQLAlchemyError as e:\n",
    "   print(e)"
   ]
  },
  {
   "cell_type": "code",
   "execution_count": 10,
   "metadata": {},
   "outputs": [
    {
     "data": {
      "text/html": [
       "<div>\n",
       "<style scoped>\n",
       "    .dataframe tbody tr th:only-of-type {\n",
       "        vertical-align: middle;\n",
       "    }\n",
       "\n",
       "    .dataframe tbody tr th {\n",
       "        vertical-align: top;\n",
       "    }\n",
       "\n",
       "    .dataframe thead th {\n",
       "        text-align: right;\n",
       "    }\n",
       "</style>\n",
       "<table border=\"1\" class=\"dataframe\">\n",
       "  <thead>\n",
       "    <tr style=\"text-align: right;\">\n",
       "      <th></th>\n",
       "      <th>id_dmc</th>\n",
       "      <th>dmc</th>\n",
       "      <th>status_koncowy</th>\n",
       "      <th>timestamp</th>\n",
       "      <th>update_time</th>\n",
       "      <th>id_meb_containers</th>\n",
       "      <th>packed_time</th>\n",
       "      <th>first_packed_time</th>\n",
       "      <th>dmc_casting</th>\n",
       "      <th>production_step</th>\n",
       "    </tr>\n",
       "  </thead>\n",
       "  <tbody>\n",
       "    <tr>\n",
       "      <th>0</th>\n",
       "      <td>2071</td>\n",
       "      <td>0MH301103CVW41910090437321102S111910040418</td>\n",
       "      <td>1</td>\n",
       "      <td>2019-10-09 08:33:13</td>\n",
       "      <td>2019-11-06 06:49:05</td>\n",
       "      <td>504</td>\n",
       "      <td>2019-11-06 06:49:04</td>\n",
       "      <td>None</td>\n",
       "      <td>None</td>\n",
       "      <td>700.0</td>\n",
       "    </tr>\n",
       "    <tr>\n",
       "      <th>1</th>\n",
       "      <td>2070</td>\n",
       "      <td>0MH301103CVW41910090437211102S111910040342</td>\n",
       "      <td>2</td>\n",
       "      <td>2019-10-09 08:32:53</td>\n",
       "      <td>2019-11-06 09:14:37</td>\n",
       "      <td>366</td>\n",
       "      <td>2019-11-06 09:14:36</td>\n",
       "      <td>None</td>\n",
       "      <td>None</td>\n",
       "      <td>700.0</td>\n",
       "    </tr>\n",
       "    <tr>\n",
       "      <th>2</th>\n",
       "      <td>2069</td>\n",
       "      <td>0MH301103CVW41910090437121102S111910040330</td>\n",
       "      <td>107</td>\n",
       "      <td>2019-10-09 08:32:26</td>\n",
       "      <td>2019-11-12 06:32:27</td>\n",
       "      <td>366</td>\n",
       "      <td>2019-11-12 06:32:26</td>\n",
       "      <td>None</td>\n",
       "      <td>None</td>\n",
       "      <td>700.0</td>\n",
       "    </tr>\n",
       "    <tr>\n",
       "      <th>3</th>\n",
       "      <td>2068</td>\n",
       "      <td>0MH301103CVW41910090437011102S111910040351</td>\n",
       "      <td>1</td>\n",
       "      <td>2019-10-09 08:18:26</td>\n",
       "      <td>2019-11-06 05:26:55</td>\n",
       "      <td>504</td>\n",
       "      <td>2019-11-06 05:26:54</td>\n",
       "      <td>None</td>\n",
       "      <td>None</td>\n",
       "      <td>700.0</td>\n",
       "    </tr>\n",
       "    <tr>\n",
       "      <th>4</th>\n",
       "      <td>2067</td>\n",
       "      <td>0MH301103CVW41910090436721102S111910040345</td>\n",
       "      <td>2</td>\n",
       "      <td>2019-10-09 08:18:05</td>\n",
       "      <td>2019-10-09 08:22:31</td>\n",
       "      <td>0</td>\n",
       "      <td>NaT</td>\n",
       "      <td>None</td>\n",
       "      <td>None</td>\n",
       "      <td>NaN</td>\n",
       "    </tr>\n",
       "  </tbody>\n",
       "</table>\n",
       "</div>"
      ],
      "text/plain": [
       "   id_dmc                                         dmc  status_koncowy  \\\n",
       "0    2071  0MH301103CVW41910090437321102S111910040418               1   \n",
       "1    2070  0MH301103CVW41910090437211102S111910040342               2   \n",
       "2    2069  0MH301103CVW41910090437121102S111910040330             107   \n",
       "3    2068  0MH301103CVW41910090437011102S111910040351               1   \n",
       "4    2067  0MH301103CVW41910090436721102S111910040345               2   \n",
       "\n",
       "            timestamp         update_time  id_meb_containers  \\\n",
       "0 2019-10-09 08:33:13 2019-11-06 06:49:05                504   \n",
       "1 2019-10-09 08:32:53 2019-11-06 09:14:37                366   \n",
       "2 2019-10-09 08:32:26 2019-11-12 06:32:27                366   \n",
       "3 2019-10-09 08:18:26 2019-11-06 05:26:55                504   \n",
       "4 2019-10-09 08:18:05 2019-10-09 08:22:31                  0   \n",
       "\n",
       "          packed_time first_packed_time dmc_casting  production_step  \n",
       "0 2019-11-06 06:49:04              None        None            700.0  \n",
       "1 2019-11-06 09:14:36              None        None            700.0  \n",
       "2 2019-11-12 06:32:26              None        None            700.0  \n",
       "3 2019-11-06 05:26:54              None        None            700.0  \n",
       "4                 NaT              None        None              NaN  "
      ]
     },
     "execution_count": 10,
     "metadata": {},
     "output_type": "execute_result"
    }
   ],
   "source": [
    "df_dmc.head()"
   ]
  },
  {
   "cell_type": "code",
   "execution_count": 11,
   "metadata": {},
   "outputs": [],
   "source": [
    "connection=cx_Oracle.connect(username,password,dsn,encoding='UTF-8')\n",
    "connection.version\n",
    "connection.close()"
   ]
  },
  {
   "cell_type": "code",
   "execution_count": 12,
   "metadata": {},
   "outputs": [
    {
     "name": "stdout",
     "output_type": "stream",
     "text": [
      "(2071, '0MH301103CVW41910090437321102S111910040418', 1, datetime.datetime(2019, 10, 9, 8, 33, 13), datetime.datetime(2019, 11, 6, 6, 49, 5), 504, datetime.datetime(2019, 11, 6, 6, 49, 4), None, None, 700)\n",
      "(2070, '0MH301103CVW41910090437211102S111910040342', 2, datetime.datetime(2019, 10, 9, 8, 32, 53), datetime.datetime(2019, 11, 6, 9, 14, 37), 366, datetime.datetime(2019, 11, 6, 9, 14, 36), None, None, 700)\n",
      "(2069, '0MH301103CVW41910090437121102S111910040330', 107, datetime.datetime(2019, 10, 9, 8, 32, 26), datetime.datetime(2019, 11, 12, 6, 32, 27), 366, datetime.datetime(2019, 11, 12, 6, 32, 26), None, None, 700)\n",
      "(2068, '0MH301103CVW41910090437011102S111910040351', 1, datetime.datetime(2019, 10, 9, 8, 18, 26), datetime.datetime(2019, 11, 6, 5, 26, 55), 504, datetime.datetime(2019, 11, 6, 5, 26, 54), None, None, 700)\n",
      "(2067, '0MH301103CVW41910090436721102S111910040345', 2, datetime.datetime(2019, 10, 9, 8, 18, 5), datetime.datetime(2019, 10, 9, 8, 22, 31), 0, None, None, None, None)\n",
      "(2066, '0MH301103CVW41910090436611102S111910040356', 2, datetime.datetime(2019, 10, 9, 8, 17, 45), datetime.datetime(2019, 11, 6, 5, 40, 39), 366, datetime.datetime(2019, 11, 6, 5, 40, 38), None, None, 700)\n",
      "(2065, '0MH301103CVW41910090436521102S111910040350', 2, datetime.datetime(2019, 10, 9, 8, 13, 58), datetime.datetime(2019, 11, 6, 6, 47, 19), 366, datetime.datetime(2019, 11, 6, 6, 47, 18), None, None, 700)\n",
      "(2064, '0MH301103CVW41910090436411102S111910040410', 1, datetime.datetime(2019, 10, 9, 8, 9, 27), datetime.datetime(2019, 11, 6, 5, 50, 29), 0, datetime.datetime(2019, 10, 9, 8, 18, 6), None, None, 500)\n",
      "(2063, '0MH301103CVW41910090436321102S111910040455', 2, datetime.datetime(2019, 10, 9, 8, 9, 7), datetime.datetime(2019, 11, 6, 5, 40, 27), 366, datetime.datetime(2019, 11, 6, 5, 40, 26), None, None, 700)\n",
      "not open\n"
     ]
    }
   ],
   "source": [
    "try:\n",
    "    with cx_Oracle.connect(username,password,dsn,encoding='UTF-8') as connection:\n",
    "        with connection.cursor() as cursor:\n",
    "            cursor.execute(dmc_sql)\n",
    "            while True:\n",
    "                row = cursor.fetchone()\n",
    "                if row is None:\n",
    "                    break\n",
    "                print(row)\n",
    "                data={'id':row[0],'dmc':row[1]}\n",
    "    cursor.close()\n",
    "    connection.close()\n",
    "except cx_Oracle.Error as error:\n",
    "    print(error)    "
   ]
  }
 ],
 "metadata": {
  "kernelspec": {
   "display_name": "base",
   "language": "python",
   "name": "python3"
  },
  "language_info": {
   "codemirror_mode": {
    "name": "ipython",
    "version": 3
   },
   "file_extension": ".py",
   "mimetype": "text/x-python",
   "name": "python",
   "nbconvert_exporter": "python",
   "pygments_lexer": "ipython3",
   "version": "3.10.10"
  },
  "orig_nbformat": 4
 },
 "nbformat": 4,
 "nbformat_minor": 2
}
