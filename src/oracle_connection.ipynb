{
 "cells": [
  {
   "cell_type": "code",
   "execution_count": 1,
   "metadata": {},
   "outputs": [],
   "source": [
    "import cx_Oracle\n",
    "import pandas as pd\n",
    "import sqlalchemy\n",
    "from sqlalchemy.exc import SQLAlchemyError"
   ]
  },
  {
   "cell_type": "markdown",
   "metadata": {},
   "source": [
    "<h1>Pobieranie danych z bazy</h1>"
   ]
  },
  {
   "cell_type": "code",
   "execution_count": 2,
   "metadata": {},
   "outputs": [],
   "source": [
    "data = {}\n",
    "\n",
    "dbtables = ['MEB_DGM', 'MEB_DMC', 'MEB_GROB', 'MEB_KO', 'MEB_KO_DGM', 'MEB_KO_RODZAJ', 'MEB_KO_STREFA', 'MEB_KS', 'ONI_CIRCUITS']\n",
    "querys = [\n",
    "#Tutaj występują duplikaty, ale jeszcze nie zdecydowaliśmy co z nimi zrobić\n",
    "\"\"\"\n",
    "SELECT * \n",
    "FROM Z3DMC.MEB_DGM\n",
    "\"\"\",\n",
    "#Tutaj występują duplikaty, ale jeszcze nie zdecydowaliśmy co z nimi zrobić, usunąłem tylko nulle i anomalię\n",
    "#Po wykonaniu LEFT JOIN liczba rekordów się zwiększyła, trzeba usunąć duplikaty z DMC_CASTING ~ LO\n",
    "\"\"\"\n",
    "SELECT *\n",
    "FROM Z3DMC.MEB_DMC\n",
    "WHERE (DMC <> 'null') AND (DMC <> 'NIECZYTELNY')\n",
    "\"\"\",\n",
    "\"\"\"\n",
    "SELECT *\n",
    "FROM (\n",
    "  SELECT\n",
    "    t.*,\n",
    "    ROW_NUMBER() OVER (PARTITION BY ID_DMC ORDER BY ID_MEB_GROB DESC) AS rn\n",
    "  FROM\n",
    "    Z3DMC.MEB_GROB t\n",
    ") subquery\n",
    "WHERE rn = 1\n",
    "\"\"\",\n",
    "\"\"\"\n",
    "SELECT *\n",
    "FROM (\n",
    "  SELECT\n",
    "    t.*,\n",
    "    ROW_NUMBER() OVER (PARTITION BY ID_DMC ORDER BY ID_KO DESC) AS rn\n",
    "  FROM\n",
    "    Z3DMC.MEB_KO t\n",
    ") subquery\n",
    "WHERE rn = 1\n",
    "\"\"\",\n",
    "\"\"\"\n",
    "SELECT *\n",
    "FROM (\n",
    "  SELECT\n",
    "    t.*,\n",
    "    ROW_NUMBER() OVER (PARTITION BY ID_DMC ORDER BY ID_KO DESC) AS rn\n",
    "  FROM\n",
    "    Z3DMC.MEB_KO_DGM t\n",
    "  WHERE ID_DMC <> 0\n",
    ") subquery\n",
    "WHERE rn = 1\n",
    "\"\"\",\n",
    "#Tabela słownik, niczego nie usuwamy, wczytuję całą tabelę\n",
    "\"\"\"\n",
    "SELECT *\n",
    "FROM Z3DMC.MEB_KO_RODZAJ\n",
    "\"\"\",\n",
    "#Tabela słownik, niczego nie usuwamy, wczytuję całą tabelę\n",
    "\"\"\"\n",
    "SELECT *\n",
    "FROM Z3DMC.MEB_KO_STREFA\n",
    "\"\"\",\n",
    "\"\"\"\n",
    "SELECT *\n",
    "FROM (\n",
    "  SELECT\n",
    "    t.*,\n",
    "    ROW_NUMBER() OVER (PARTITION BY ID_DMC ORDER BY ID_KS DESC) AS rn\n",
    "  FROM\n",
    "    Z3DMC.MEB_KS t\n",
    ") subquery\n",
    "WHERE rn = 1\n",
    "\"\"\",\n",
    "#Tabela ONI_CIRCUITS posiada wiele duplikatów, a powinno być ich do 28 per jeden ID_DMC, dlatego wrzucam całą tabelę i przegadamy co z tym zrobić.\n",
    "#Poniżej zakomentowany kod usuwający wszystkie duplikaty.\n",
    "\"\"\"\n",
    "select id_dmc, circuit_nr, \n",
    "max(assigment) as assigment, \n",
    "max(flow) as flow, \n",
    "max(ref_time) as ref_time,\n",
    "max(set_point) as set_point,\n",
    "max(start_delay) as start_delay,\n",
    "max(temp) as temp,\n",
    "max(working_mode) as working_mode,\n",
    "max(timestamp) as timestamp\n",
    "from z3dmc.oni_circuits\n",
    "group by id_dmc, circuit_nr\n",
    "order by id_dmc\n",
    "\"\"\"\n",
    "#SELECT *\n",
    "#FROM (\n",
    "#  SELECT\n",
    "#    t.*,\n",
    "#    ROW_NUMBER() OVER (PARTITION BY ID_DMC ORDER BY ID_CIRCUIT DESC) AS rn\n",
    "#  FROM\n",
    "#    Z3DMC.ONI_CIRCUITS t\n",
    "#) subquery\n",
    "#WHERE rn = 1\n",
    "]\n",
    "username = 'dmcro'\n",
    "password = 'ouZ9Rys7astDp4byjUvO'\n",
    "dsn = 'vwpnwrud0000rac:1521/dmc.vwg'\n",
    "dbhostname='vwpnwrud0000rac'\n",
    "service_name='dmc.vwg'"
   ]
  },
  {
   "cell_type": "code",
   "execution_count": 3,
   "metadata": {},
   "outputs": [],
   "source": [
    "try:\n",
    "    sqlalchemy_engine=\"oracle+cx_oracle://\"+username+\":\"+password+\"@\"+dbhostname+\"/?service_name=\"+service_name\n",
    "    engine = sqlalchemy.create_engine(sqlalchemy_engine, arraysize=1000)\n",
    "    for table, query in zip(dbtables, querys):\n",
    "        data.update({table: pd.read_sql(query, engine)})\n",
    "except SQLAlchemyError as e:\n",
    "    print(e)"
   ]
  },
  {
   "cell_type": "markdown",
   "metadata": {},
   "source": [
    "<h1>Usuwanie zbędnych kolumn z tabel</h1>"
   ]
  },
  {
   "cell_type": "code",
   "execution_count": 4,
   "metadata": {},
   "outputs": [
    {
     "name": "stdout",
     "output_type": "stream",
     "text": [
      "['MEB_DGM', 'MEB_DMC', 'MEB_GROB', 'MEB_KO', 'MEB_KO_DGM', 'MEB_KO_RODZAJ', 'MEB_KO_STREFA', 'MEB_KS', 'ONI_CIRCUITS']\n"
     ]
    }
   ],
   "source": [
    "print(list(data.keys()))\n",
    "# Useless tables\n",
    "# MEB_CONTAINERS, MEB_DMC_GRADE, MEB_KS_WZORC"
   ]
  },
  {
   "cell_type": "code",
   "execution_count": 5,
   "metadata": {},
   "outputs": [
    {
     "name": "stdout",
     "output_type": "stream",
     "text": [
      "\n",
      " ONI_CIRCUITS after drop of columns: \n",
      "\n",
      "   id_dmc  circuit_nr  assigment  flow  ref_time  set_point  start_delay  \\\n",
      "0  235342           1          0   0.0       0.0        0.0          0.0   \n",
      "1  235342           2          0   0.0       0.0        0.0          0.0   \n",
      "2  235342           3          0   0.0       0.0        0.0          0.0   \n",
      "3  235342           4          0   0.0       0.0        0.0          0.0   \n",
      "4  235342           5          0   0.0       0.0        0.0          0.0   \n",
      "\n",
      "   temp  working_mode  \n",
      "0   0.0             0  \n",
      "1   0.0             0  \n",
      "2   0.0             0  \n",
      "3   0.0             0  \n",
      "4   0.0             0  \n"
     ]
    }
   ],
   "source": [
    "# ONI CIRCUITS\n",
    "# print(data['ONI_CIRCUITS'].head())\n",
    "data['ONI_CIRCUITS'].drop(columns=['timestamp'], inplace=True)\n",
    "print(\"\\n ONI_CIRCUITS after drop of columns: \\n\")\n",
    "print(data['ONI_CIRCUITS'].head())"
   ]
  },
  {
   "cell_type": "code",
   "execution_count": 6,
   "metadata": {},
   "outputs": [
    {
     "name": "stdout",
     "output_type": "stream",
     "text": [
      "\n",
      " MEB_DGM after drop of columns: \n",
      "\n",
      "     id                    dmc  nr_dgm status  czas_fazy_1  czas_fazy_2  \\\n",
      "0   220  190627091611011003610    10.0      4       1850.0         88.0   \n",
      "1  3416  190719071611011006077    10.0      1       2197.0         89.0   \n",
      "2  3417  190719071811011006078    10.0      1       2184.0         86.0   \n",
      "3  3418  190719072011011006079    10.0      1       2159.0         89.0   \n",
      "4  3419  190719072111011006080    10.0      1       2175.0         89.0   \n",
      "\n",
      "   czas_fazy_3  max_predkosc  cisnienie_tloka  cisnienie_koncowe  ...  \\\n",
      "0         47.5          6.52              7.0              264.0  ...   \n",
      "1         46.5          6.59             11.0              285.0  ...   \n",
      "2         45.0          6.52              8.0              284.0  ...   \n",
      "3         45.5          6.54              6.0              284.0  ...   \n",
      "4         47.0          6.57              8.0              283.0  ...   \n",
      "\n",
      "   oni_temp_curr_f2  oni_temp_fore_f1  oni_temp_fore_f2  vds_air_pressure  \\\n",
      "0               NaN               NaN               NaN               NaN   \n",
      "1               NaN               NaN               NaN               NaN   \n",
      "2               NaN               NaN               NaN               NaN   \n",
      "3               NaN               NaN               NaN               NaN   \n",
      "4               NaN               NaN               NaN               NaN   \n",
      "\n",
      "   vds_vac_hose1  vds_vac_hose2  vds_vac_tank  vds_vac_valve1  vds_vac_valve2  \\\n",
      "0            NaN            NaN           NaN             NaN             NaN   \n",
      "1            NaN            NaN           NaN             NaN             NaN   \n",
      "2            NaN            NaN           NaN             NaN             NaN   \n",
      "3            NaN            NaN           NaN             NaN             NaN   \n",
      "4            NaN            NaN           NaN             NaN             NaN   \n",
      "\n",
      "   czas_taktu  \n",
      "0         NaN  \n",
      "1         NaN  \n",
      "2         NaN  \n",
      "3         NaN  \n",
      "4         NaN  \n",
      "\n",
      "[5 rows x 25 columns]\n"
     ]
    }
   ],
   "source": [
    "# MEB_DGM\n",
    "# print(data['MEB_DGM'].columns)\n",
    "# print(data['MEB_DGM'].head(5))\n",
    "# ('metal_level', 'metal_pressure') - We do not collect this data yet\n",
    "data['MEB_DGM'].drop(columns=['timestamp', 'data_znakowania', 'data_odlania', 'metal_level', 'metal_pressure'], inplace=True)\n",
    "print(\"\\n MEB_DGM after drop of columns: \\n\")\n",
    "print(data['MEB_DGM'].head(5))"
   ]
  },
  {
   "cell_type": "code",
   "execution_count": 7,
   "metadata": {},
   "outputs": [
    {
     "name": "stdout",
     "output_type": "stream",
     "text": [
      "\n",
      " MEB_DMC after drop of columns: \n",
      "\n",
      "   id_dmc                                         dmc  status_koncowy  \\\n",
      "0    2063  0MH301103CVW41910090436321102S111910040455             2.0   \n",
      "1    2064  0MH301103CVW41910090436411102S111910040410             1.0   \n",
      "2    2065  0MH301103CVW41910090436521102S111910040350             2.0   \n",
      "3    2066  0MH301103CVW41910090436611102S111910040356             2.0   \n",
      "4    2067  0MH301103CVW41910090436721102S111910040345             2.0   \n",
      "\n",
      "  dmc_casting  \n",
      "0        None  \n",
      "1        None  \n",
      "2        None  \n",
      "3        None  \n",
      "4        None  \n"
     ]
    }
   ],
   "source": [
    "#MEB_DMC\n",
    "# print(data['MEB_DMC'].columns)\n",
    "# print(data['MEB_DMC'].head(5))\n",
    "data['MEB_DMC'].drop(columns = ['timestamp', 'update_time','id_meb_containers', 'packed_time', 'first_packed_time', 'production_step'], inplace = True)\n",
    "print(\"\\n MEB_DMC after drop of columns: \\n\")\n",
    "print(data['MEB_DMC'].head(5))"
   ]
  },
  {
   "cell_type": "code",
   "execution_count": 8,
   "metadata": {},
   "outputs": [
    {
     "name": "stdout",
     "output_type": "stream",
     "text": [
      "\n",
      " MEB_KO after drop of columns: \n",
      "\n",
      "   id_dmc  nok_strefa  nok_rodzaj  status_ko  rn\n",
      "0    2007           0           0          0   1\n",
      "1    2062           0           0          1   1\n",
      "2    2063         511         201          2   1\n",
      "3    2064           0           0          1   1\n",
      "4    2065         505         201          2   1\n"
     ]
    }
   ],
   "source": [
    "#MEB_KO\n",
    "# print(data['MEB_KO'].columns)\n",
    "# print(data['MEB_KO'].head(5))\n",
    "data['MEB_KO'].drop(columns = ['id_ko', 'data', 'timestamp', 'eks'], inplace = True)\n",
    "print(\"\\n MEB_KO after drop of columns: \\n\")\n",
    "print(data['MEB_KO'].head(5))"
   ]
  },
  {
   "cell_type": "code",
   "execution_count": 9,
   "metadata": {},
   "outputs": [
    {
     "name": "stdout",
     "output_type": "stream",
     "text": [
      "\n",
      " MEB_KO_DGM after drop of columns: \n",
      "\n",
      "   id_dmc  nok_strefa  nok_rodzaj  status_ko  rodzaj_kontroli product_id  \\\n",
      "0   67460           0           0          1                1       None   \n",
      "1   67475           0           0          1                1       None   \n",
      "2   67521           0           0          1                1       None   \n",
      "3   67522           0           0          1                1       None   \n",
      "4   67523           0           0          1                1       None   \n",
      "\n",
      "  line_id  rn  \n",
      "0    None   1  \n",
      "1    None   1  \n",
      "2    None   1  \n",
      "3    None   1  \n",
      "4    None   1  \n"
     ]
    }
   ],
   "source": [
    "#MEB_KO_DGM\n",
    "# print(data['MEB_KO_DGM'].columns)\n",
    "# print(data['MEB_KO_DGM'].head(5))\n",
    "data['MEB_KO_DGM'].drop(columns = ['id_ko','data_odlania', 'timestamp', 'operator'], inplace = True)\n",
    "print(\"\\n MEB_KO_DGM after drop of columns: \\n\")\n",
    "print(data['MEB_KO_DGM'].head(5))"
   ]
  },
  {
   "cell_type": "code",
   "execution_count": 10,
   "metadata": {},
   "outputs": [
    {
     "name": "stdout",
     "output_type": "stream",
     "text": [
      "\n",
      " 'MEB_KS' after drop of columns: \n",
      "\n",
      "   cisnienie  przeciek  nrprogramu  temperaturatestu  statusszczelnosc  \\\n",
      "0      1.051     0.398           1         23.680000                 1   \n",
      "1      1.054     0.393           1         23.719999                 1   \n",
      "2      1.053     0.794           1         22.519999                 1   \n",
      "3      1.055     0.433           1         22.600000                 1   \n",
      "4      0.992    24.202           1         22.840000                 3   \n",
      "\n",
      "   statusdmc  id_dmc  rn  \n",
      "0        1.0    1917   1  \n",
      "1        1.0    1918   1  \n",
      "2        1.0    1919   1  \n",
      "3        1.0    1920   1  \n",
      "4        1.0    1921   1  \n"
     ]
    }
   ],
   "source": [
    "# MEB_KS\n",
    "# print(data['MEB_KS'].columns)\n",
    "# print(data['MEB_KS'].head(5))\n",
    "data['MEB_KS'].drop(columns = ['id_ks', 'nrgniazda', 'liczbawystapien', 'nrformy', 'data', 'timestamp', 'gradedmc_max','gradedmc_aktualny'], inplace = True)\n",
    "print(\"\\n 'MEB_KS' after drop of columns: \\n\")\n",
    "print(data['MEB_KS'].head(5))"
   ]
  },
  {
   "cell_type": "code",
   "execution_count": 11,
   "metadata": {},
   "outputs": [
    {
     "name": "stdout",
     "output_type": "stream",
     "text": [
      "\n",
      " 'MEB_GROB' after drop of columns: \n",
      "\n",
      "   id_meb_grob  id_dmc  part_type  part_status  last_machine_number  \\\n",
      "0            5    5746          1            1                    1   \n",
      "1            6    5753          1            1                    1   \n",
      "2            7    5754          1            1                    1   \n",
      "3            8    5756          1            1                    1   \n",
      "4            9    5758          1            1                    1   \n",
      "\n",
      "   last_pcf_number  temp_workpiece  temp_hydraulics  pressure_pcf_1  \\\n",
      "0                2       23.400000        33.400002           100.0   \n",
      "1                1       23.500000        33.400002           100.0   \n",
      "2                2       23.299999        33.400002           100.0   \n",
      "3                1       23.500000        33.400002           100.0   \n",
      "4                2       23.299999        33.400002           100.0   \n",
      "\n",
      "   pressure_pcf_2  pressure_pcf_3  machine_nr  rn  \n",
      "0           100.0            89.0         1.0   1  \n",
      "1           100.0            89.0         1.0   1  \n",
      "2           100.0            89.0         1.0   1  \n",
      "3            99.0            89.0         1.0   1  \n",
      "4            99.0            89.0         1.0   1  \n"
     ]
    }
   ],
   "source": [
    "#MEB_GROB \n",
    "# print(data['MEB_GROB'].columns)\n",
    "# print(data['MEB_GROB'].head(5))\n",
    "data['MEB_GROB'].drop(columns = ['shift_number', 'last_operation', 'timestamp', 'production_date', 'reworkrequested', \n",
    "                                'reworkdone', 'partcleaningisfinished', 'waitfortoolcheck', 'workingstep1', 'workingstep2', 'workingstep3', 'workingstep4', 'mms_ok'], inplace = True)\n",
    "print(\"\\n 'MEB_GROB' after drop of columns: \\n\")\n",
    "print(data['MEB_GROB'].head(5))\n"
   ]
  },
  {
   "cell_type": "markdown",
   "metadata": {},
   "source": [
    "<h1>Łączenie tabel</h1>"
   ]
  },
  {
   "cell_type": "code",
   "execution_count": 12,
   "metadata": {},
   "outputs": [],
   "source": [
    "# łączę tabele MEB_KO i MEB_KO_DGM z tabelami MEB_KO_STREFA/RODZAJ\n",
    "\n",
    "data['MEB_KO'] = data['MEB_KO'].merge(data['MEB_KO_STREFA'], left_on='nok_strefa', right_on='indeks', how='inner')\n",
    "data['MEB_KO'].drop(columns=['indeks'], inplace=True)\n",
    "\n",
    "data['MEB_KO'] = data['MEB_KO'].merge(data['MEB_KO_RODZAJ'], left_on='nok_rodzaj', right_on='indeks', how='inner')\n",
    "data['MEB_KO'].drop(columns=['indeks'], inplace=True)\n",
    "\n",
    "data['MEB_KO_DGM'] = data['MEB_KO_DGM'].merge(data['MEB_KO_STREFA'], left_on='nok_strefa', right_on='indeks', how='inner')\n",
    "data['MEB_KO_DGM'].drop(columns=['indeks'], inplace=True)\n",
    "\n",
    "data['MEB_KO_DGM'] = data['MEB_KO_DGM'].merge(data['MEB_KO_RODZAJ'], left_on='nok_rodzaj', right_on='indeks', how='inner')\n",
    "data['MEB_KO_DGM'].drop(columns=['indeks'], inplace=True)\n",
    "\n",
    "\n",
    "#data['MEB_KO'].head()\n",
    "#data['MEB_KO_DGM'].head()"
   ]
  },
  {
   "cell_type": "code",
   "execution_count": 13,
   "metadata": {},
   "outputs": [
    {
     "name": "stdout",
     "output_type": "stream",
     "text": [
      "(1188651, 4)\n",
      "(1188651, 10)\n"
     ]
    }
   ],
   "source": [
    "# łączę tabelę MEB_DMC z tabelą MEB_KO\n",
    "print(data['MEB_DMC'].shape)\n",
    "data['MEB_DMC'] = data['MEB_DMC'].merge(data['MEB_KO'], on='id_dmc', how='left')\n",
    "print(data['MEB_DMC'].shape)"
   ]
  },
  {
   "cell_type": "code",
   "execution_count": null,
   "metadata": {},
   "outputs": [],
   "source": [
    "data['MEB_DMC'].drop(columns=['rn'], inplace=True)"
   ]
  },
  {
   "cell_type": "code",
   "execution_count": null,
   "metadata": {},
   "outputs": [],
   "source": [
    "# łączę tabelę MEB_DGM z tabelą MEB_KO_DGM\n",
    "print(data['MEB_DGM'].shape)\n",
    "data['MEB_DGM'] = data['MEB_DGM'].merge(data['MEB_KO_DGM'], left_on='id', right_on='id_dmc', how='left')\n",
    "print(data['MEB_DGM'].shape)\n"
   ]
  },
  {
   "cell_type": "code",
   "execution_count": 17,
   "metadata": {},
   "outputs": [],
   "source": [
    "data['MEB_DGM'].drop(columns=['rn'], inplace=True)"
   ]
  },
  {
   "cell_type": "code",
   "execution_count": null,
   "metadata": {},
   "outputs": [],
   "source": [
    "# przygotowywuję tabelę ONI_CIRCUITS do połączenia \n",
    "\n",
    "oni_circuits = data['ONI_CIRCUITS'].pivot(index='id_dmc', columns='circuit_nr', values=['assigment', 'flow', 'ref_time', 'set_point', 'start_delay', 'working_mode', 'temp'])\n",
    "oni_circuits.columns = oni_circuits.columns.map('{0[0]}_{0[1]}'.format) \n",
    "oni_circuits.reset_index(inplace=True)\n",
    "\n",
    "\n",
    "# łączę z tabelą MEB_DGM\n",
    "print(oni_circuits.shape)\n",
    "oni_circuits = oni_circuits.merge(data['MEB_DGM'], left_on='id_dmc', right_on='id', how='left', suffixes=('_ONI', '_DGM'))\n",
    "print(oni_circuits.shape)"
   ]
  },
  {
   "cell_type": "code",
   "execution_count": null,
   "metadata": {},
   "outputs": [],
   "source": [
    "# łączę tabelę MEB_DMC z ONI_CIRCUITS\n",
    "print(data['MEB_DMC'].shape)\n",
    "data['MEB_DMC'] = data['MEB_DMC'].merge(oni_circuits, left_on='dmc_casting', right_on='dmc', how='left')\n",
    "print(data['MEB_DMC'].shape)"
   ]
  },
  {
   "cell_type": "code",
   "execution_count": 28,
   "metadata": {},
   "outputs": [
    {
     "name": "stdout",
     "output_type": "stream",
     "text": [
      "(1309521, 240)\n",
      "(1309521, 252)\n"
     ]
    }
   ],
   "source": [
    "# łączę tabelę MEB_DMC z tabelą MEB_GROB\n",
    "print(data['MEB_DMC'].shape)\n",
    "data['MEB_DMC'] = data['MEB_DMC'].merge(data['MEB_GROB'], on='id_dmc', how='left')\n",
    "print(data['MEB_DMC'].shape)"
   ]
  },
  {
   "cell_type": "code",
   "execution_count": null,
   "metadata": {},
   "outputs": [],
   "source": [
    "data['MEB_DMC'].drop(columns=['rn'], inplace=True)"
   ]
  },
  {
   "cell_type": "code",
   "execution_count": 29,
   "metadata": {},
   "outputs": [
    {
     "name": "stdout",
     "output_type": "stream",
     "text": [
      "(1309521, 252)\n",
      "(1309521, 259)\n"
     ]
    }
   ],
   "source": [
    "# łączę tabelę MEB_DMC z tabelą MEB_KS\n",
    "print(data['MEB_DMC'].shape)\n",
    "data['MEB_DMC'] = data['MEB_DMC'].merge(data['MEB_KS'], on='id_dmc', how='left')\n",
    "print(data['MEB_DMC'].shape)\n",
    "#data['MEB_DMC'].head(1)"
   ]
  },
  {
   "cell_type": "code",
   "execution_count": null,
   "metadata": {},
   "outputs": [],
   "source": [
    "data['MEB_DMC'].drop(columns=['rn'], inplace=True)"
   ]
  },
  {
   "cell_type": "code",
   "execution_count": null,
   "metadata": {},
   "outputs": [
    {
     "data": {
      "text/plain": [
       "\"connection=cx_Oracle.connect(username,password,dsn,encoding='UTF-8')\\nconnection.version\\nconnection.close()\""
      ]
     },
     "execution_count": 19,
     "metadata": {},
     "output_type": "execute_result"
    }
   ],
   "source": [
    "\"\"\"connection=cx_Oracle.connect(username,password,dsn,encoding='UTF-8')\n",
    "connection.version\n",
    "connection.close()\"\"\""
   ]
  },
  {
   "cell_type": "code",
   "execution_count": null,
   "metadata": {},
   "outputs": [
    {
     "data": {
      "text/plain": [
       "\"try:\\n    with cx_Oracle.connect(username,password,dsn,encoding='UTF-8') as connection:\\n        with connection.cursor() as cursor:\\n            cursor.execute(dmc_sql)\\n            while True:\\n                row = cursor.fetchone()\\n                if row is None:\\n                    break\\n                print(row)\\n                data={'id':row[0],'dmc':row[1]}\\n    cursor.close()\\n    connection.close()\\nexcept cx_Oracle.Error as error:\\n    print(error)\""
      ]
     },
     "execution_count": 20,
     "metadata": {},
     "output_type": "execute_result"
    }
   ],
   "source": [
    "\"\"\"try:\n",
    "    with cx_Oracle.connect(username,password,dsn,encoding='UTF-8') as connection:\n",
    "        with connection.cursor() as cursor:\n",
    "            cursor.execute(dmc_sql)\n",
    "            while True:\n",
    "                row = cursor.fetchone()\n",
    "                if row is None:\n",
    "                    break\n",
    "                print(row)\n",
    "                data={'id':row[0],'dmc':row[1]}\n",
    "    cursor.close()\n",
    "    connection.close()\n",
    "except cx_Oracle.Error as error:\n",
    "    print(error)\"\"\""
   ]
  },
  {
   "cell_type": "code",
   "execution_count": null,
   "metadata": {},
   "outputs": [
    {
     "data": {
      "text/plain": [
       "1"
      ]
     },
     "execution_count": 7,
     "metadata": {},
     "output_type": "execute_result"
    }
   ],
   "source": [
    "#dodej to Adam przystojniaku"
   ]
  },
  {
   "cell_type": "code",
   "execution_count": null,
   "metadata": {},
   "outputs": [],
   "source": []
  }
 ],
 "metadata": {
  "kernelspec": {
   "display_name": "base",
   "language": "python",
   "name": "python3"
  },
  "language_info": {
   "codemirror_mode": {
    "name": "ipython",
    "version": 3
   },
   "file_extension": ".py",
   "mimetype": "text/x-python",
   "name": "python",
   "nbconvert_exporter": "python",
   "pygments_lexer": "ipython3",
   "version": "3.10.10"
  },
  "orig_nbformat": 4
 },
 "nbformat": 4,
 "nbformat_minor": 2
}
