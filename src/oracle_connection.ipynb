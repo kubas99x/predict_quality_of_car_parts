{
 "cells": [
  {
   "cell_type": "code",
   "execution_count": null,
   "metadata": {},
   "outputs": [],
   "source": [
    "#import cx_Oracle\n",
    "import pandas as pd\n",
    "import sqlalchemy\n",
    "from sqlalchemy.exc import SQLAlchemyError"
   ]
  },
  {
   "cell_type": "markdown",
   "metadata": {},
   "source": [
    "<h1>Pobieranie danych z bazy</h1>"
   ]
  },
  {
   "cell_type": "code",
   "execution_count": null,
   "metadata": {},
   "outputs": [],
   "source": [
    "data = {}\n",
    "\n",
    "dbtables = ['MEB_DGM', 'MEB_DMC', 'MEB_GROB', 'MEB_KO', 'MEB_KO_DGM', 'MEB_KO_RODZAJ', 'MEB_KO_STREFA', 'MEB_KS', 'ONI_CIRCUITS']\n",
    "querys = [\n",
    "#Tutaj występują duplikaty, ale jeszcze nie zdecydowaliśmy co z nimi zrobić\n",
    "\"\"\"\n",
    "SELECT *\n",
    "FROM (\n",
    "  SELECT\n",
    "    t.*,\n",
    "    ROW_NUMBER() OVER (PARTITION BY DMC ORDER BY ID DESC) AS rn\n",
    "  FROM\n",
    "    Z3DMC.MEB_DGM t\n",
    ") subquery\n",
    "WHERE rn = 1\n",
    "\"\"\",\n",
    "#Tutaj występują duplikaty, ale jeszcze nie zdecydowaliśmy co z nimi zrobić, usunąłem tylko nulle i anomalię\n",
    "#Po wykonaniu LEFT JOIN liczba rekordów się zwiększyła, trzeba usunąć duplikaty z DMC_CASTING ~ LO\n",
    "# Zapytanie dodatkowo nie pobiera wartości null z DMC_CASTING\n",
    "\"\"\"\n",
    "SELECT *\n",
    "FROM Z3DMC.MEB_DMC\n",
    "WHERE (DMC <> 'null') AND (DMC <> 'NIECZYTELNY') AND (DMC_CASTING IS NOT NULL)\n",
    "\"\"\",\n",
    "\"\"\"\n",
    "SELECT *\n",
    "FROM (\n",
    "  SELECT\n",
    "    t.*,\n",
    "    ROW_NUMBER() OVER (PARTITION BY ID_DMC ORDER BY ID_MEB_GROB DESC) AS rn\n",
    "  FROM\n",
    "    Z3DMC.MEB_GROB t\n",
    ") subquery\n",
    "WHERE rn = 1\n",
    "\"\"\",\n",
    "\"\"\"\n",
    "SELECT *\n",
    "FROM (\n",
    "  SELECT\n",
    "    t.*,\n",
    "    ROW_NUMBER() OVER (PARTITION BY ID_DMC ORDER BY ID_KO DESC) AS rn\n",
    "  FROM\n",
    "    Z3DMC.MEB_KO t\n",
    ") subquery\n",
    "WHERE rn = 1\n",
    "\"\"\",\n",
    "\"\"\"\n",
    "SELECT *\n",
    "FROM (\n",
    "  SELECT\n",
    "    t.*,\n",
    "    ROW_NUMBER() OVER (PARTITION BY ID_DMC ORDER BY ID_KO DESC) AS rn\n",
    "  FROM\n",
    "    Z3DMC.MEB_KO_DGM t\n",
    "  WHERE ID_DMC <> 0\n",
    ") subquery\n",
    "WHERE rn = 1\n",
    "\"\"\",\n",
    "#Tabela słownik, niczego nie usuwamy, wczytuję całą tabelę\n",
    "\"\"\"\n",
    "SELECT *\n",
    "FROM Z3DMC.MEB_KO_RODZAJ\n",
    "\"\"\",\n",
    "#Tabela słownik, niczego nie usuwamy, wczytuję całą tabelę\n",
    "\"\"\"\n",
    "SELECT *\n",
    "FROM Z3DMC.MEB_KO_STREFA\n",
    "\"\"\",\n",
    "\"\"\"\n",
    "SELECT *\n",
    "FROM (\n",
    "  SELECT\n",
    "    t.*,\n",
    "    ROW_NUMBER() OVER (PARTITION BY ID_DMC ORDER BY ID_KS DESC) AS rn\n",
    "  FROM\n",
    "    Z3DMC.MEB_KS t\n",
    ") subquery\n",
    "WHERE rn = 1\n",
    "\"\"\",\n",
    "#Tabela ONI_CIRCUITS posiada wiele duplikatów, a powinno być ich do 28 per jeden ID_DMC, dlatego wrzucam całą tabelę i przegadamy co z tym zrobić.\n",
    "#Poniżej zakomentowany kod usuwający wszystkie duplikaty.\n",
    "\"\"\"\n",
    "SELECT ID_DMC, CIRCUIT_NR, \n",
    "MAX(ASSIGMENT) AS ASSIGMENT, \n",
    "MAX(FLOW) AS FLOW, \n",
    "MAX(SET_POINT) AS SET_POINT,\n",
    "MAX(START_DELAY) AS START_DELAY,\n",
    "MAX(TEMP) AS TEMP,\n",
    "MAX(WORKING_MODE) AS WORKING_MODE\n",
    "FROM Z3DMC.ONI_CIRCUITS\n",
    "GROUP BY ID_DMC, CIRCUIT_NR\n",
    "ORDER BY ID_DMC\n",
    "\"\"\"\n",
    "#SELECT *\n",
    "#FROM (\n",
    "#  SELECT\n",
    "#    t.*,\n",
    "#    ROW_NUMBER() OVER (PARTITION BY ID_DMC ORDER BY ID_CIRCUIT DESC) AS rn\n",
    "#  FROM\n",
    "#    Z3DMC.ONI_CIRCUITS t\n",
    "#) subquery\n",
    "#WHERE rn = 1\n",
    "]\n",
    "username = 'dmcro'\n",
    "password = 'ouZ9Rys7astDp4byjUvO'\n",
    "dsn = 'vwpnwrud0000rac:1521/dmc.vwg'\n",
    "dbhostname='vwpnwrud0000rac'\n",
    "service_name='dmc.vwg'"
   ]
  },
  {
   "cell_type": "code",
   "execution_count": null,
   "metadata": {},
   "outputs": [],
   "source": [
    "try:\n",
    "    sqlalchemy_engine=\"oracle+cx_oracle://\"+username+\":\"+password+\"@\"+dbhostname+\"/?service_name=\"+service_name\n",
    "    engine = sqlalchemy.create_engine(sqlalchemy_engine, arraysize=1000)\n",
    "    for table, query in zip(dbtables, querys):\n",
    "        data.update({table: pd.read_sql(query, engine)})\n",
    "except SQLAlchemyError as e:\n",
    "    print(e)"
   ]
  },
  {
   "cell_type": "markdown",
   "metadata": {},
   "source": [
    "<h1>Usuwanie zbędnych kolumn z tabel</h1>"
   ]
  },
  {
   "cell_type": "code",
   "execution_count": null,
   "metadata": {},
   "outputs": [],
   "source": [
    "dbtables = ['MEB_DGM', 'MEB_DMC', 'MEB_GROB', 'MEB_KO', 'MEB_KO_DGM', 'MEB_KS']\n",
    "columns = [['timestamp', 'data_znakowania', 'data_odlania', 'metal_level', 'metal_pressure'],                                           #MEB_DGM\n",
    "['timestamp', 'update_time','id_meb_containers', 'packed_time', 'first_packed_time', 'production_step', 'status_koncowy'],              #MEB_DMC\n",
    "['id_meb_grob', 'shift_number', 'last_operation', 'timestamp', 'production_date', 'reworkrequested',                                    \n",
    "'reworkdone', 'partcleaningisfinished', 'waitfortoolcheck', 'workingstep1', 'workingstep2', 'workingstep3', 'workingstep4', 'mms_ok'],  #MEB_GROB\n",
    "['id_ko', 'data', 'timestamp', 'eks'],                                                                                                  #MEB_KO\n",
    "['id_ko','data_odlania', 'timestamp', 'operator'],                                                                                      #MEB_KO_DGM\n",
    "['id_ks', 'nrgniazda', 'liczbawystapien', 'nrformy', 'data', 'timestamp', 'gradedmc_max','gradedmc_aktualny']]                          #MEB_KS\n",
    "\n",
    "for table, column in zip(dbtables, columns):\n",
    "    data[table].drop(columns=column, inplace=True)\n",
    "    #print(f'{table}: {data[table].columns}')"
   ]
  },
  {
   "cell_type": "markdown",
   "metadata": {},
   "source": [
    "<h1>Łączenie tabel</h1>\n",
    "Doklejać do MEB_DGM"
   ]
  },
  {
   "cell_type": "code",
   "execution_count": null,
   "metadata": {},
   "outputs": [],
   "source": [
    "# usuwanie znaków białych z DMC[MEB_DGM] i DMC_CASTING[MEB_DMC]\n",
    "data['MEB_DMC'].dmc_casting = data['MEB_DMC']['dmc_casting'].str.strip()\n",
    "data['MEB_DGM'].dmc = data['MEB_DGM']['dmc'].str.strip()"
   ]
  },
  {
   "cell_type": "code",
   "execution_count": null,
   "metadata": {},
   "outputs": [],
   "source": [
    "# usuwanie z meb_dmc wierszy z 'WORKPIECE NIO' w kodzie DMC\n",
    "data['MEB_DMC'] = data['MEB_DMC'][~data['MEB_DMC']['dmc'].str.contains('WORKPIECE', case=False, na=False)]"
   ]
  },
  {
   "cell_type": "code",
   "execution_count": null,
   "metadata": {},
   "outputs": [],
   "source": [
    "# wybieranie rekordów dla MEB+ \n",
    "data['MEB_DGM'] = data['MEB_DGM'][(data['MEB_DGM']['nr_dgm'].between(8, 10)) & (data['MEB_DGM']['dmc'].apply(lambda x: len(x)) == 21)]\n",
    "# usunięcie anomalii z MEB_DMC\n",
    "data['MEB_DMC'] = data['MEB_DMC'][data['MEB_DMC']['dmc'].str[:3] == '0MH']"
   ]
  },
  {
   "cell_type": "code",
   "execution_count": null,
   "metadata": {},
   "outputs": [],
   "source": [
    "# łączę tabele MEB_KO i MEB_KO_DGM z tabelami MEB_KO_STREFA/RODZAJ\n",
    "\n",
    "data['MEB_KO'] = data['MEB_KO'].merge(data['MEB_KO_STREFA'], left_on='nok_strefa', right_on='indeks', how='inner')\n",
    "data['MEB_KO'].drop(columns=['indeks'], inplace=True)\n",
    "\n",
    "data['MEB_KO'] = data['MEB_KO'].merge(data['MEB_KO_RODZAJ'], left_on='nok_rodzaj', right_on='indeks', how='inner')\n",
    "data['MEB_KO'].drop(columns=['indeks'], inplace=True)\n",
    "\n",
    "data['MEB_KO_DGM'] = data['MEB_KO_DGM'].merge(data['MEB_KO_STREFA'], left_on='nok_strefa', right_on='indeks', how='inner')\n",
    "data['MEB_KO_DGM'].drop(columns=['indeks'], inplace=True)\n",
    "\n",
    "data['MEB_KO_DGM'] = data['MEB_KO_DGM'].merge(data['MEB_KO_RODZAJ'], left_on='nok_rodzaj', right_on='indeks', how='inner')\n",
    "data['MEB_KO_DGM'].drop(columns=['indeks'], inplace=True)"
   ]
  },
  {
   "cell_type": "code",
   "execution_count": null,
   "metadata": {},
   "outputs": [],
   "source": [
    "# łączę tabelę MEB_DMC z tabelą MEB_KO\n",
    "data['MEB_DMC'] = data['MEB_DMC'].merge(data['MEB_KO'], on='id_dmc', how='left')\n",
    "data['MEB_DMC'].drop(columns=['rn'], inplace=True)"
   ]
  },
  {
   "cell_type": "code",
   "execution_count": null,
   "metadata": {},
   "outputs": [],
   "source": [
    "# łączę tabelę MEB_DMC z tabelą MEB_GROB\n",
    "data['MEB_DMC'] = data['MEB_DMC'].merge(data['MEB_GROB'], on='id_dmc', how='left')\n",
    "data['MEB_DMC'].drop(columns=['rn'], inplace=True)"
   ]
  },
  {
   "cell_type": "code",
   "execution_count": null,
   "metadata": {},
   "outputs": [],
   "source": [
    "# łączę tabelę MEB_DMC z tabelą MEB_KS\n",
    "data['MEB_DMC'] = data['MEB_DMC'].merge(data['MEB_KS'], on='id_dmc', how='left')\n",
    "data['MEB_DMC'].drop(columns=['rn'], inplace=True)"
   ]
  },
  {
   "cell_type": "code",
   "execution_count": null,
   "metadata": {},
   "outputs": [],
   "source": [
    "# przygotowywuję tabelę ONI_CIRCUITS do połączenia \n",
    "oni_circuits = data['ONI_CIRCUITS'].pivot(index='id_dmc', columns='circuit_nr', values=['assigment', 'flow', 'set_point', 'start_delay', 'working_mode', 'temp'])\n",
    "oni_circuits.columns = oni_circuits.columns.map('{0[0]}_{0[1]}'.format) \n",
    "oni_circuits.reset_index(inplace=True)"
   ]
  },
  {
   "cell_type": "code",
   "execution_count": null,
   "metadata": {},
   "outputs": [],
   "source": [
    "final_table = data['MEB_DGM'].copy()\n",
    "final_table.drop(columns=['rn'], inplace=True)\n",
    "# łączę tabelę MEB_DGM z tabelą MEB_KO_DGM\n",
    "final_table = final_table.merge(data['MEB_KO_DGM'], left_on='id', right_on='id_dmc', how='left')\n",
    "final_table.drop(columns=['rn'], inplace=True)\n",
    "# łączę z tabelą MEB_DGM\n",
    "final_table = final_table.merge(oni_circuits, left_on='id', right_on='id_dmc', how='inner')\n",
    "final_table.drop(columns=['id_dmc_y'], inplace=True)\n",
    "final_table.rename(columns={'id_dmc_x': 'id_dmc'}, inplace=True)\n",
    "# łączę tabelę MEB_DMC z ONI_CIRCUITS\n",
    "final_table = final_table.merge(data['MEB_DMC'], left_on='dmc', right_on='dmc_casting', how='left', suffixes=('_DGM', '_DMC'))"
   ]
  },
  {
   "cell_type": "code",
   "execution_count": null,
   "metadata": {},
   "outputs": [],
   "source": [
    "duplicate_count_oni = final_table['dmc_DMC'].duplicated(keep=False).sum()\n",
    "print(f\"Number of rows with the same 'dmc' value: {duplicate_count_oni}\")\n",
    "final_table.drop(columns=['nok_strefa_DGM', 'nok_rodzaj_DGM', 'status_ko_DGM', 'kod_pola_DGM', 'rodzaj_uszkodzenia_DGM'], inplace=True)\n",
    "final_table.rename(columns={'nok_strefa_DMC': 'nok_strefa', 'nok_rodzaj_DMC': 'nok_rodzaj', \n",
    "                            'status_ko_DMC': 'status_ko', 'kod_pola_DMC': 'kod_pola', \n",
    "                            'rodzaj_uszkodzenia_DMC': 'rodzaj_uszkodzenia'}, inplace=True)\n",
    "                            \n",
    "final_table.drop(index=final_table[(final_table['dmc_DGM'].duplicated(keep=False)) & (~final_table['dmc_casting'].isna())].index, inplace=True)\n",
    "final_table.drop(columns = ['part_status'], inplace = True)"
   ]
  },
  {
   "cell_type": "markdown",
   "metadata": {},
   "source": [
    "<h1>Usuwanie niepotrzebnych danych z tabeli koncowej</h1>"
   ]
  },
  {
   "cell_type": "code",
   "execution_count": null,
   "metadata": {},
   "outputs": [],
   "source": [
    "final_table = final_table[~final_table['status'].isin(['4', '5', '7', '8', '10', '11'])]\n",
    "final_table['status'] = final_table['status'].replace(['3', '14'], '2')\n",
    "final_table = final_table.loc[~final_table['status_ko'].isin([0, 106])]\n",
    "final_table = final_table.loc[~final_table['statusszczelnosc'].isin([0, 3])]\n",
    "final_table = final_table.loc[~final_table['statusdmc'].isin([0])]"
   ]
  },
  {
   "cell_type": "code",
   "execution_count": null,
   "metadata": {},
   "outputs": [],
   "source": [
    "print(list(final_table.keys()))"
   ]
  },
  {
   "cell_type": "code",
   "execution_count": null,
   "metadata": {},
   "outputs": [],
   "source": [
    "for i in range(1,29):\n",
    "    print(final_table[f'ref_time_{i}'].value_counts())\n",
    "    print('\\n')"
   ]
  },
  {
   "cell_type": "code",
   "execution_count": null,
   "metadata": {},
   "outputs": [],
   "source": [
    "for i in range(1,29):\n",
    "    print(final_table[f'start_delay_{i}'].value_counts())\n",
    "    print('\\n')"
   ]
  },
  {
   "cell_type": "code",
   "execution_count": null,
   "metadata": {},
   "outputs": [],
   "source": [
    "for i in range(1,29):\n",
    "    print(final_table[f'working_mode_{i}'].value_counts())\n",
    "    print('\\n')"
   ]
  },
  {
   "cell_type": "markdown",
   "metadata": {},
   "source": [
    "<h1>Tworzenie statusu końcowego</h1>"
   ]
  },
  {
   "cell_type": "code",
   "execution_count": null,
   "metadata": {},
   "outputs": [],
   "source": [
    "# status:\n",
    "#   1! - IO, 3! - NIO DGM, 4 - NIO DMC, 5 - NIO stolik pelen, 7 - NIO prasa, 8 - NIO znakowarka, 10 - NIO AT, 11 - NIO znakowarka zajęta, 14! - NIO vacuum\n",
    "#   106 - Pomiary niszczące 110 - do pomiaru ręcznego, \n",
    "# rodzaj_kontroli\n",
    "# status_koncowy - WYWALONY\n",
    "# status_ko\n",
    "# part_status - zostalo wywalone clkowicie bo mialo same 1 \n",
    "# statusszczelnosc - 3 - do impregnacji - do wywalenia\n",
    "# statusdmc\n",
    "print(final_table['status'].value_counts().sort_index())\n",
    "print(final_table['status_ko'].value_counts())\n",
    "print(final_table['statusszczelnosc'].value_counts())\n",
    "print(final_table['statusdmc'].value_counts())"
   ]
  },
  {
   "cell_type": "code",
   "execution_count": null,
   "metadata": {},
   "outputs": [],
   "source": [
    "final_table['our_final_status'] = final_table.apply(lambda row: max(int(row['status']), row['status_ko'], row['statusszczelnosc'], row['statusdmc']), axis=1)\n",
    "print(final_table['our_final_status'].value_counts())"
   ]
  },
  {
   "cell_type": "code",
   "execution_count": null,
   "metadata": {},
   "outputs": [],
   "source": [
    "final_table.drop(columns=['status', 'status_ko', 'statusszczelnosc', 'statusdmc'], inplace=True)"
   ]
  },
  {
   "cell_type": "markdown",
   "metadata": {},
   "source": [
    "<h1>Eliminacja NaN</h1>"
   ]
  },
  {
   "cell_type": "code",
   "execution_count": null,
   "metadata": {},
   "outputs": [],
   "source": [
    "# podmiana zer na NaNy, na następnym spotkaniu ustalimy co z tym zrobić\n",
    "final_table.iloc[:, 28:196] = final_table[final_table.iloc[:, 28:196] != 0]\n",
    "final_table.iloc[:, 28:196]"
   ]
  },
  {
   "cell_type": "markdown",
   "metadata": {},
   "source": [
    "<h1>Zebranie kolumn do dalszej dyskucji</h1>"
   ]
  },
  {
   "cell_type": "code",
   "execution_count": null,
   "metadata": {},
   "outputs": [],
   "source": [
    "# wyświetlenie kolumn z danymi numerycznymi\n",
    "pd.set_option('display.max_columns', None)\n",
    "final_table.select_dtypes(include=['number'])\n",
    "# kolumny, które będą niepotrzebne: id, nr_dgm, status_ko, part_type, nrprogramu, id_dmc_DGM, id_dmc_DGM\n",
    "# kolumny, o które trzeba zapytać produkcję: nachdruck_hub, anguss, max_press_kolbenhub, last_machine_number, last_pcf_number, machine_nr,\n",
    "# cisnienie_tloka, rodzaj_kontroli, assigment"
   ]
  },
  {
   "cell_type": "code",
   "execution_count": null,
   "metadata": {},
   "outputs": [],
   "source": [
    "# wyświetlanie danych kategorycznych\n",
    "final_table.select_dtypes(include=['object'])\n",
    "# kolumny do usunięcia: dmc_DGM, product_id, line_id, dmc_DMC, dmc_casting\n",
    "# z jakiegoś powodu assigment 2,4,28 i flow 1 są danymi typu object - prawdopodobnie dlatego, że wszystkie wartości w kolumnach były równe 0 i zostały zmienione na NaN"
   ]
  },
  {
   "cell_type": "code",
   "execution_count": null,
   "metadata": {},
   "outputs": [],
   "source": [
    "# DO DYSKUCJI!\n",
    "final_table.drop(columns=['id', 'nr_dgm', 'part_type', 'nrprogramu', 'id_dmc_DGM', 'id_dmc_DGM', \n",
    "                          'dmc_DGM', 'product_id', 'line_id', 'dmc_DMC', 'dmc_casting'\n",
    "                          'flow_1', 'flow_3', 'flow_5', ], inplace=True)"
   ]
  },
  {
   "cell_type": "markdown",
   "metadata": {},
   "source": [
    "<h1>Normalizacja danych</h1>"
   ]
  },
  {
   "cell_type": "code",
   "execution_count": null,
   "metadata": {},
   "outputs": [],
   "source": [
    "# Przekształcenie danych kategorycznych\n",
    "final_table['kod_pola'].value_counts()"
   ]
  },
  {
   "cell_type": "code",
   "execution_count": null,
   "metadata": {},
   "outputs": [],
   "source": [
    "final_table = pd.get_dummies(final_table, columns=['kod_pola', 'rodzaj_uszkodzenia'], dummy_na=True, dtype='uint8')"
   ]
  },
  {
   "cell_type": "code",
   "execution_count": null,
   "metadata": {},
   "outputs": [],
   "source": [
    "# Normalizacja danych numerycznych\n"
   ]
  }
 ],
 "metadata": {
  "kernelspec": {
   "display_name": "base",
   "language": "python",
   "name": "python3"
  },
  "language_info": {
   "codemirror_mode": {
    "name": "ipython",
    "version": 3
   },
   "file_extension": ".py",
   "mimetype": "text/x-python",
   "name": "python",
   "nbconvert_exporter": "python",
   "pygments_lexer": "ipython3",
   "version": "3.10.10"
  },
  "orig_nbformat": 4
 },
 "nbformat": 4,
 "nbformat_minor": 2
}
