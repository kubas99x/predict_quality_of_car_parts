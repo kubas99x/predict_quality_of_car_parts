{
 "cells": [
  {
   "cell_type": "code",
   "execution_count": null,
   "metadata": {},
   "outputs": [],
   "source": [
    "import cx_Oracle\n",
    "import pandas as pd\n",
    "import sqlalchemy\n",
    "from sqlalchemy.exc import SQLAlchemyError"
   ]
  },
  {
   "cell_type": "markdown",
   "metadata": {},
   "source": [
    "<h1>Pobieranie danych z bazy</h1>"
   ]
  },
  {
   "cell_type": "code",
   "execution_count": null,
   "metadata": {},
   "outputs": [],
   "source": [
    "data = {}\n",
    "\n",
    "dbtables = ['MEB_DGM', 'MEB_DMC', 'MEB_GROB', 'MEB_KO', 'MEB_KO_DGM', 'MEB_KO_RODZAJ', 'MEB_KO_STREFA', 'MEB_KS', 'ONI_CIRCUITS']\n",
    "querys = [\n",
    "#Tutaj występują duplikaty, ale jeszcze nie zdecydowaliśmy co z nimi zrobić\n",
    "\"\"\"\n",
    "SELECT * \n",
    "FROM Z3DMC.MEB_DGM\n",
    "\"\"\",\n",
    "#Tutaj występują duplikaty, ale jeszcze nie zdecydowaliśmy co z nimi zrobić, usunąłem tylko nulle i anomalię\n",
    "#Po wykonaniu LEFT JOIN liczba rekordów się zwiększyła, trzeba usunąć duplikaty z DMC_CASTING ~ LO\n",
    "\"\"\"\n",
    "SELECT *\n",
    "FROM Z3DMC.MEB_DMC\n",
    "WHERE (DMC <> 'null') AND (DMC <> 'NIECZYTELNY')\n",
    "\"\"\",\n",
    "\"\"\"\n",
    "SELECT *\n",
    "FROM (\n",
    "  SELECT\n",
    "    t.*,\n",
    "    ROW_NUMBER() OVER (PARTITION BY ID_DMC ORDER BY ID_MEB_GROB DESC) AS rn\n",
    "  FROM\n",
    "    Z3DMC.MEB_GROB t\n",
    ") subquery\n",
    "WHERE rn = 1\n",
    "\"\"\",\n",
    "\"\"\"\n",
    "SELECT *\n",
    "FROM (\n",
    "  SELECT\n",
    "    t.*,\n",
    "    ROW_NUMBER() OVER (PARTITION BY ID_DMC ORDER BY ID_KO DESC) AS rn\n",
    "  FROM\n",
    "    Z3DMC.MEB_KO t\n",
    ") subquery\n",
    "WHERE rn = 1\n",
    "\"\"\",\n",
    "\"\"\"\n",
    "SELECT *\n",
    "FROM (\n",
    "  SELECT\n",
    "    t.*,\n",
    "    ROW_NUMBER() OVER (PARTITION BY ID_DMC ORDER BY ID_KO DESC) AS rn\n",
    "  FROM\n",
    "    Z3DMC.MEB_KO_DGM t\n",
    "  WHERE ID_DMC <> 0\n",
    ") subquery\n",
    "WHERE rn = 1\n",
    "\"\"\",\n",
    "#Tabela słownik, niczego nie usuwamy, wczytuję całą tabelę\n",
    "\"\"\"\n",
    "SELECT *\n",
    "FROM Z3DMC.MEB_KO_RODZAJ\n",
    "\"\"\",\n",
    "#Tabela słownik, niczego nie usuwamy, wczytuję całą tabelę\n",
    "\"\"\"\n",
    "SELECT *\n",
    "FROM Z3DMC.MEB_KO_STREFA\n",
    "\"\"\",\n",
    "\"\"\"\n",
    "SELECT *\n",
    "FROM (\n",
    "  SELECT\n",
    "    t.*,\n",
    "    ROW_NUMBER() OVER (PARTITION BY ID_DMC ORDER BY ID_KS DESC) AS rn\n",
    "  FROM\n",
    "    Z3DMC.MEB_KS t\n",
    ") subquery\n",
    "WHERE rn = 1\n",
    "\"\"\",\n",
    "#Tabela ONI_CIRCUITS posiada wiele duplikatów, a powinno być ich do 28 per jeden ID_DMC, dlatego wrzucam całą tabelę i przegadamy co z tym zrobić.\n",
    "#Poniżej zakomentowany kod usuwający wszystkie duplikaty.\n",
    "\"\"\"\n",
    "select id_dmc, circuit_nr, \n",
    "max(assigment) as assigment, \n",
    "max(flow) as flow, \n",
    "max(ref_time) as ref_time,\n",
    "max(set_point) as set_point,\n",
    "max(start_delay) as start_delay,\n",
    "max(temp) as temp,\n",
    "max(working_mode) as working_mode,\n",
    "max(timestamp) as timestamp\n",
    "from z3dmc.oni_circuits\n",
    "group by id_dmc, circuit_nr\n",
    "order by id_dmc\n",
    "\"\"\"\n",
    "#SELECT *\n",
    "#FROM (\n",
    "#  SELECT\n",
    "#    t.*,\n",
    "#    ROW_NUMBER() OVER (PARTITION BY ID_DMC ORDER BY ID_CIRCUIT DESC) AS rn\n",
    "#  FROM\n",
    "#    Z3DMC.ONI_CIRCUITS t\n",
    "#) subquery\n",
    "#WHERE rn = 1\n",
    "]\n",
    "username = 'dmcro'\n",
    "password = 'ouZ9Rys7astDp4byjUvO'\n",
    "dsn = 'vwpnwrud0000rac:1521/dmc.vwg'\n",
    "dbhostname='vwpnwrud0000rac'\n",
    "service_name='dmc.vwg'"
   ]
  },
  {
   "cell_type": "code",
   "execution_count": null,
   "metadata": {},
   "outputs": [],
   "source": [
    "try:\n",
    "    sqlalchemy_engine=\"oracle+cx_oracle://\"+username+\":\"+password+\"@\"+dbhostname+\"/?service_name=\"+service_name\n",
    "    engine = sqlalchemy.create_engine(sqlalchemy_engine, arraysize=1000)\n",
    "    for table, query in zip(dbtables, querys):\n",
    "        data.update({table: pd.read_sql(query, engine)})\n",
    "except SQLAlchemyError as e:\n",
    "    print(e)"
   ]
  },
  {
   "cell_type": "markdown",
   "metadata": {},
   "source": [
    "<h1>Usuwanie zbędnych kolumn z tabel</h1>"
   ]
  },
  {
   "cell_type": "code",
   "execution_count": null,
   "metadata": {},
   "outputs": [],
   "source": [
    "print(list(data.keys()))\n",
    "# Useless tables\n",
    "# MEB_CONTAINERS, MEB_DMC_GRADE, MEB_KS_WZORC"
   ]
  },
  {
   "cell_type": "code",
   "execution_count": null,
   "metadata": {},
   "outputs": [],
   "source": [
    "# ONI CIRCUITS\n",
    "# print(data['ONI_CIRCUITS'].head())\n",
    "data['ONI_CIRCUITS'].drop(columns=['timestamp'], inplace=True)\n",
    "print(\"\\n ONI_CIRCUITS after drop of columns: \\n\")\n",
    "print(data['ONI_CIRCUITS'].head())"
   ]
  },
  {
   "cell_type": "code",
   "execution_count": null,
   "metadata": {},
   "outputs": [],
   "source": [
    "# MEB_DGM\n",
    "# print(data['MEB_DGM'].columns)\n",
    "# print(data['MEB_DGM'].head(5))\n",
    "# ('metal_level', 'metal_pressure') - We do not collect this data yet\n",
    "data['MEB_DGM'].drop(columns=['timestamp', 'data_znakowania', 'data_odlania', 'metal_level', 'metal_pressure'], inplace=True)\n",
    "print(\"\\n MEB_DGM after drop of columns: \\n\")\n",
    "print(data['MEB_DGM'].head(5))"
   ]
  },
  {
   "cell_type": "code",
   "execution_count": null,
   "metadata": {},
   "outputs": [],
   "source": [
    "#MEB_DMC\n",
    "# print(data['MEB_DMC'].columns)\n",
    "# print(data['MEB_DMC'].head(5))\n",
    "data['MEB_DMC'].drop(columns = ['timestamp', 'update_time','id_meb_containers', 'packed_time', 'first_packed_time', 'production_step'], inplace = True)\n",
    "print(\"\\n MEB_DMC after drop of columns: \\n\")\n",
    "print(data['MEB_DMC'].head(5))"
   ]
  },
  {
   "cell_type": "code",
   "execution_count": null,
   "metadata": {},
   "outputs": [],
   "source": [
    "#MEB_KO\n",
    "# print(data['MEB_KO'].columns)\n",
    "# print(data['MEB_KO'].head(5))\n",
    "data['MEB_KO'].drop(columns = ['id_ko', 'data', 'timestamp', 'eks'], inplace = True)\n",
    "print(\"\\n MEB_KO after drop of columns: \\n\")\n",
    "print(data['MEB_KO'].head(5))"
   ]
  },
  {
   "cell_type": "code",
   "execution_count": null,
   "metadata": {},
   "outputs": [],
   "source": [
    "#MEB_KO_DGM\n",
    "# print(data['MEB_KO_DGM'].columns)\n",
    "# print(data['MEB_KO_DGM'].head(5))\n",
    "data['MEB_KO_DGM'].drop(columns = ['id_ko','data_odlania', 'timestamp', 'operator'], inplace = True)\n",
    "print(\"\\n MEB_KO_DGM after drop of columns: \\n\")\n",
    "print(data['MEB_KO_DGM'].head(5))"
   ]
  },
  {
   "cell_type": "code",
   "execution_count": null,
   "metadata": {},
   "outputs": [],
   "source": [
    "# MEB_KS\n",
    "# print(data['MEB_KS'].columns)\n",
    "# print(data['MEB_KS'].head(5))\n",
    "data['MEB_KS'].drop(columns = ['id_ks', 'nrgniazda', 'liczbawystapien', 'nrformy', 'data', 'timestamp', 'gradedmc_max','gradedmc_aktualny'], inplace = True)\n",
    "print(\"\\n 'MEB_KS' after drop of columns: \\n\")\n",
    "print(data['MEB_KS'].head(5))"
   ]
  },
  {
   "cell_type": "code",
   "execution_count": null,
   "metadata": {},
   "outputs": [],
   "source": [
    "#MEB_GROB \n",
    "# print(data['MEB_GROB'].columns)\n",
    "# print(data['MEB_GROB'].head(5))\n",
    "data['MEB_GROB'].drop(columns = ['shift_number', 'last_operation', 'timestamp', 'production_date', 'reworkrequested', \n",
    "                                'reworkdone', 'partcleaningisfinished', 'waitfortoolcheck', 'workingstep1', 'workingstep2', 'workingstep3', 'workingstep4', 'mms_ok'], inplace = True)\n",
    "print(\"\\n 'MEB_GROB' after drop of columns: \\n\")\n",
    "print(data['MEB_GROB'].head(5))\n"
   ]
  },
  {
   "cell_type": "markdown",
   "metadata": {},
   "source": [
    "<h1>Łączenie tabel</h1>"
   ]
  },
  {
   "cell_type": "code",
   "execution_count": null,
   "metadata": {},
   "outputs": [],
   "source": [
    "final_table = data['MEB_DMC'].copy()"
   ]
  },
  {
   "cell_type": "code",
   "execution_count": null,
   "metadata": {},
   "outputs": [],
   "source": [
    "# łączę tabele MEB_KO i MEB_KO_DGM z tabelami MEB_KO_STREFA/RODZAJ\n",
    "\n",
    "data['MEB_KO'] = data['MEB_KO'].merge(data['MEB_KO_STREFA'], left_on='nok_strefa', right_on='indeks', how='inner')\n",
    "data['MEB_KO'].drop(columns=['indeks'], inplace=True)\n",
    "\n",
    "data['MEB_KO'] = data['MEB_KO'].merge(data['MEB_KO_RODZAJ'], left_on='nok_rodzaj', right_on='indeks', how='inner')\n",
    "data['MEB_KO'].drop(columns=['indeks'], inplace=True)\n",
    "\n",
    "data['MEB_KO_DGM'] = data['MEB_KO_DGM'].merge(data['MEB_KO_STREFA'], left_on='nok_strefa', right_on='indeks', how='inner')\n",
    "data['MEB_KO_DGM'].drop(columns=['indeks'], inplace=True)\n",
    "\n",
    "data['MEB_KO_DGM'] = data['MEB_KO_DGM'].merge(data['MEB_KO_RODZAJ'], left_on='nok_rodzaj', right_on='indeks', how='inner')\n",
    "data['MEB_KO_DGM'].drop(columns=['indeks'], inplace=True)\n",
    "\n",
    "\n",
    "#data['MEB_KO'].head()\n",
    "#data['MEB_KO_DGM'].head()"
   ]
  },
  {
   "cell_type": "code",
   "execution_count": null,
   "metadata": {},
   "outputs": [],
   "source": [
    "# łączę tabelę MEB_DMC z tabelą MEB_KO\n",
    "print(final_table.shape)\n",
    "final_table = final_table.merge(data['MEB_KO'], on='id_dmc', how='left')\n",
    "print(final_table.shape)"
   ]
  },
  {
   "cell_type": "code",
   "execution_count": null,
   "metadata": {},
   "outputs": [],
   "source": [
    "final_table.drop(columns=['rn'], inplace=True)"
   ]
  },
  {
   "cell_type": "code",
   "execution_count": null,
   "metadata": {},
   "outputs": [],
   "source": [
    "# łączę tabelę MEB_DGM z tabelą MEB_KO_DGM\n",
    "print(data['MEB_DGM'].shape)\n",
    "data['MEB_DGM'] = data['MEB_DGM'].merge(data['MEB_KO_DGM'], left_on='id', right_on='id_dmc', how='left')\n",
    "print(data['MEB_DGM'].shape)\n"
   ]
  },
  {
   "cell_type": "code",
   "execution_count": null,
   "metadata": {},
   "outputs": [],
   "source": [
    "data['MEB_DGM'].drop(columns=['rn'], inplace=True)"
   ]
  },
  {
   "cell_type": "code",
   "execution_count": null,
   "metadata": {},
   "outputs": [],
   "source": [
    "# przygotowywuję tabelę ONI_CIRCUITS do połączenia \n",
    "\n",
    "oni_circuits = data['ONI_CIRCUITS'].pivot(index='id_dmc', columns='circuit_nr', values=['assigment', 'flow', 'ref_time', 'set_point', 'start_delay', 'working_mode', 'temp'])\n",
    "oni_circuits.columns = oni_circuits.columns.map('{0[0]}_{0[1]}'.format) \n",
    "oni_circuits.reset_index(inplace=True)\n",
    "\n",
    "\n",
    "# łączę z tabelą MEB_DGM\n",
    "print(f\"Before meb_dgm to oni circuits{len(oni_circuits)}\")\n",
    "\n",
    "oni_circuits = oni_circuits.merge(data['MEB_DGM'], left_on='id_dmc', right_on='id', how='left')\n",
    "#oni_circuits.head(1)\n",
    "print(f\"After meb_dgm to oni circuits{len(oni_circuits)}\")"
   ]
  },
  {
   "cell_type": "code",
   "execution_count": null,
   "metadata": {},
   "outputs": [],
   "source": [
    "\n",
    "print(list(oni_circuits.keys()))\n",
    "\n",
    "filtered_values = [value for value in list(oni_circuits.keys()) if value.startswith('id')]\n",
    "\n",
    "print(filtered_values)\n",
    "\n",
    "print(oni_circuits[['id_dmc_x', 'id', 'id_dmc_y']].head(5))\n"
   ]
  },
  {
   "cell_type": "code",
   "execution_count": null,
   "metadata": {},
   "outputs": [],
   "source": [
    "# łączę tabelę MEB_DMC z ONI_CIRCUITS\n",
    "print(f\"Before oni circuits to meb_dmc{len(final_table)}\")\n",
    "final_table = final_table.merge(oni_circuits, left_on='dmc_casting', right_on='dmc', how='left')\n",
    "#data['MEB_DMC'].head(1)\n",
    "print(f\"after oni circuits to meb_dmc{len(final_table)}\")"
   ]
  },
  {
   "cell_type": "code",
   "execution_count": null,
   "metadata": {},
   "outputs": [],
   "source": [
    "data['MEB_DMC']['dmc_casting'] = data['MEB_DMC']['dmc_casting'].str.strip() \n",
    "oni_circuits['dmc'] = oni_circuits['dmc'].str.strip()  \n",
    "\n",
    "data['MEB_DMC'].drop_duplicates(subset=['dmc_casting'], inplace=True)\n",
    "oni_circuits.drop_duplicates(subset=['dmc'], inplace=True)\n",
    "\n",
    "inner_j = data['MEB_DMC'].merge(oni_circuits, left_on='dmc_casting', right_on='dmc', how='inner')\n",
    "left_j = data['MEB_DMC'].merge(oni_circuits, left_on='dmc_casting', right_on='dmc', how='left')\n",
    "print(f\"MEB_DMC: {data['MEB_DMC'].shape}\")\n",
    "print(f\"oni circuits: {oni_circuits.shape}\")\n",
    "print(f'inner: {inner_j.shape}')\n",
    "print(f\"left: {left_j.shape}\")\n",
    "print(f\"final: {final_table.shape}\")"
   ]
  },
  {
   "cell_type": "code",
   "execution_count": null,
   "metadata": {},
   "outputs": [],
   "source": [
    "duplicate_count = data['MEB_DMC']['dmc_casting'].duplicated(keep=False).sum()\n",
    "print(f\"Number of rows with the same 'MEB_DMC' value: {duplicate_count}\")"
   ]
  },
  {
   "cell_type": "code",
   "execution_count": null,
   "metadata": {},
   "outputs": [],
   "source": [
    "duplicate_count_oni = oni_circuits['dmc'].duplicated(keep=False).sum()\n",
    "print(f\"Number of rows with the same 'dmc' value: {duplicate_count_oni}\")"
   ]
  },
  {
   "cell_type": "code",
   "execution_count": null,
   "metadata": {},
   "outputs": [],
   "source": [
    "# łączę tabelę MEB_DMC z tabelą MEB_GROB\n",
    "print(final_table.shape)\n",
    "final_table = final_table.merge(data['MEB_GROB'], on='id_dmc', how='left')\n",
    "print(final_table.shape)"
   ]
  },
  {
   "cell_type": "code",
   "execution_count": null,
   "metadata": {},
   "outputs": [],
   "source": [
    "final_table.drop(columns=['rn'], inplace=True)"
   ]
  },
  {
   "cell_type": "code",
   "execution_count": null,
   "metadata": {},
   "outputs": [],
   "source": [
    "# łączę tabelę MEB_DMC z tabelą MEB_KS\n",
    "print(final_table.shape)\n",
    "final_table = final_table.merge(data['MEB_KS'], on='id_dmc', how='left')\n",
    "print(final_table.shape)\n",
    "#data['MEB_DMC'].head(1)"
   ]
  },
  {
   "cell_type": "code",
   "execution_count": null,
   "metadata": {},
   "outputs": [],
   "source": [
    "final_table.drop(columns=['rn'], inplace=True)"
   ]
  },
  {
   "cell_type": "code",
   "execution_count": null,
   "metadata": {},
   "outputs": [],
   "source": [
    "\"\"\"connection=cx_Oracle.connect(username,password,dsn,encoding='UTF-8')\n",
    "connection.version\n",
    "connection.close()\"\"\""
   ]
  },
  {
   "cell_type": "code",
   "execution_count": null,
   "metadata": {},
   "outputs": [],
   "source": [
    "\"\"\"try:\n",
    "    with cx_Oracle.connect(username,password,dsn,encoding='UTF-8') as connection:\n",
    "        with connection.cursor() as cursor:\n",
    "            cursor.execute(dmc_sql)\n",
    "            while True:\n",
    "                row = cursor.fetchone()\n",
    "                if row is None:\n",
    "                    break\n",
    "                print(row)\n",
    "                data={'id':row[0],'dmc':row[1]}\n",
    "    cursor.close()\n",
    "    connection.close()\n",
    "except cx_Oracle.Error as error:\n",
    "    print(error)\"\"\""
   ]
  },
  {
   "cell_type": "markdown",
   "metadata": {},
   "source": [
    "<h1>Usuwanie anomalii</h1>"
   ]
  },
  {
   "cell_type": "code",
   "execution_count": null,
   "metadata": {},
   "outputs": [],
   "source": [
    "print(list(data.keys()))"
   ]
  },
  {
   "cell_type": "code",
   "execution_count": null,
   "metadata": {},
   "outputs": [],
   "source": [
    "meb_dgm_df = data['MEB_DGM']"
   ]
  },
  {
   "cell_type": "code",
   "execution_count": null,
   "metadata": {},
   "outputs": [],
   "source": [
    "print(meb_dgm_df.head(5))"
   ]
  },
  {
   "cell_type": "code",
   "execution_count": null,
   "metadata": {},
   "outputs": [],
   "source": [
    "print(list(meb_dgm_df.keys()))"
   ]
  },
  {
   "cell_type": "code",
   "execution_count": null,
   "metadata": {},
   "outputs": [],
   "source": [
    "print(meb_dgm_df['nr_dgm'].unique())\n",
    "print(len(meb_dgm_df))\n",
    "print(type(meb_dgm_df['nr_dgm'][0]))\n",
    "print(len(meb_dgm_df[meb_dgm_df['nr_dgm'] == 20]))\n",
    "\n"
   ]
  },
  {
   "cell_type": "code",
   "execution_count": null,
   "metadata": {},
   "outputs": [],
   "source": [
    "print(final_table.head(4))\n"
   ]
  },
  {
   "cell_type": "code",
   "execution_count": null,
   "metadata": {},
   "outputs": [],
   "source": [
    "for i in final_table.keys():\n",
    "    print(i)"
   ]
  },
  {
   "cell_type": "code",
   "execution_count": null,
   "metadata": {},
   "outputs": [],
   "source": [
    "result = meb_dgm_df.groupby(final_table['dmc_x'].str[:3]).size().reset_index(name='count_of_results')\n",
    "result.columns = ['unique_starting_letters', 'count_of_results']\n",
    "result = result.sort_values(by='unique_starting_letters')\n",
    "\n",
    "print(result)"
   ]
  },
  {
   "cell_type": "code",
   "execution_count": null,
   "metadata": {},
   "outputs": [],
   "source": []
  }
 ],
 "metadata": {
  "kernelspec": {
   "display_name": "base",
   "language": "python",
   "name": "python3"
  },
  "language_info": {
   "codemirror_mode": {
    "name": "ipython",
    "version": 3
   },
   "file_extension": ".py",
   "mimetype": "text/x-python",
   "name": "python",
   "nbconvert_exporter": "python",
   "pygments_lexer": "ipython3",
   "version": "3.10.10"
  },
  "orig_nbformat": 4
 },
 "nbformat": 4,
 "nbformat_minor": 2
}
