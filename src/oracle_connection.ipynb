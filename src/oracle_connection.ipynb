{
 "cells": [
  {
   "cell_type": "code",
   "execution_count": null,
   "metadata": {},
   "outputs": [],
   "source": [
    "#import cx_Oracle\n",
    "import pandas as pd\n",
    "import sqlalchemy\n",
    "from sqlalchemy.exc import SQLAlchemyError"
   ]
  },
  {
   "cell_type": "markdown",
   "metadata": {},
   "source": [
    "<h1>Pobieranie danych z bazy</h1>"
   ]
  },
  {
   "cell_type": "code",
   "execution_count": null,
   "metadata": {},
   "outputs": [],
   "source": [
    "data = {}\n",
    "\n",
    "dbtables = ['ONI_CIRCUITS', 'MEB_CONTAINERS', 'MEB_DGM', 'MEB_DMC', 'MEB_DMC_GRADE', 'MEB_GROB', 'MEB_KO', 'MEB_KO_DGM', 'MEB_KO_RODZAJ', 'MEB_KO_STREFA', 'MEB_KS', 'MEB_KS_WZORC']\n",
    "username = 'dmcro'\n",
    "password = 'ouZ9Rys7astDp4byjUvO'\n",
    "dsn = 'vwpnwrud0000rac:1521/dmc.vwg'\n",
    "dbhostname='vwpnwrud0000rac'\n",
    "service_name='dmc.vwg'"
   ]
  },
  {
   "cell_type": "code",
   "execution_count": null,
   "metadata": {},
   "outputs": [],
   "source": [
    "try:\n",
    "    sqlalchemy_engine=\"oracle+cx_oracle://\"+username+\":\"+password+\"@\"+dbhostname+\"/?service_name=\"+service_name\n",
    "    engine = sqlalchemy.create_engine(sqlalchemy_engine, arraysize=1000)\n",
    "    for table in dbtables:\n",
    "        query = f\"select * from z3dmc.{table} where rownum<101\"\n",
    "        data.update({table: pd.read_sql(query, engine)})\n",
    "except SQLAlchemyError as e:\n",
    "    print(e)"
   ]
  },
  {
   "cell_type": "markdown",
   "metadata": {},
   "source": [
    "<h1>Usuwanie zbędnych kolumn z tabel</h1>"
   ]
  },
  {
   "cell_type": "code",
   "execution_count": null,
   "metadata": {},
   "outputs": [],
   "source": [
    "print(list(data.keys()))\n",
    "# Tabele, których wgl bym nie pobierał:\n",
    "# MEB_CONTAINERS\n",
    "# "
   ]
  },
  {
   "cell_type": "code",
   "execution_count": null,
   "metadata": {},
   "outputs": [],
   "source": [
    "# ONI CIRCUITS\n",
    "print(data['ONI_CIRCUITS'].head())\n",
    "# TO DELETE: assigment, ref_time, set_point, start_delay, working_mode, timestamp, circuit_nr\n",
    "data['ONI_CIRCUITS'].drop(columns=['assigment', 'ref_time', 'set_point', 'start_delay', 'working_mode', 'timestamp', 'circuit_nr'], inplace=True)\n",
    "print(\"ONI_CIRCUITS after drop of columns: \\n\")\n",
    "print(data['ONI_CIRCUITS'].head())"
   ]
  },
  {
   "cell_type": "code",
   "execution_count": null,
   "metadata": {},
   "outputs": [],
   "source": [
    "# MEB_DGM\n",
    "print(data['MEB_DGM'].columns)\n",
    "print(data['MEB_DGM'].head(5))\n",
    "# TO DELETE: 'timestamp','temp_pieca', 'oni_temp_curr_f1', 'oni_temp_curr_f2','oni_temp_fore_f1', 'oni_temp_fore_f2',\n",
    "#  'vds_air_pressure','vds_vac_hose1', 'vds_vac_hose2', 'vds_vac_tank', 'vds_vac_valve1','vds_vac_valve2', 'czas_taktu',\n",
    "#  'data_znakowania', 'data_odlania','metal_level', 'metal_pressure'\n",
    "data['MEB_DGM'].drop(columns=['timestamp',\n",
    "       'temp_pieca', 'oni_temp_curr_f1', 'oni_temp_curr_f2',\n",
    "       'oni_temp_fore_f1', 'oni_temp_fore_f2', 'vds_air_pressure',\n",
    "       'vds_vac_hose1', 'vds_vac_hose2', 'vds_vac_tank', 'vds_vac_valve1',\n",
    "       'vds_vac_valve2', 'czas_taktu', 'data_znakowania', 'data_odlania',\n",
    "       'metal_level', 'metal_pressure'], inplace=True)\n",
    "print(\"MEB_DGM after drop of columns: \\n\")\n",
    "print(data['MEB_DGM'].head(5))"
   ]
  },
  {
   "cell_type": "code",
   "execution_count": null,
   "metadata": {},
   "outputs": [],
   "source": [
    "#MEB_DMC\n",
    "print(data['MEB_DMC'].columns)\n",
    "print(data['MEB_DMC'].head(5))\n",
    "# TO DELETE: 'timestamp', 'update_time','id_meb_containers', 'packed_time', 'first_packed_time', 'dmc_casting','production_step'\n",
    "data['MEB_DMC'].drop(columns = ['timestamp', 'update_time','id_meb_containers', 'packed_time', 'first_packed_time', 'dmc_casting','production_step'], inplace = True)\n",
    "print(\"MEB_DMC after drop of columns: \\n\")\n",
    "print(data['MEB_DMC'].head(5))"
   ]
  },
  {
   "cell_type": "code",
   "execution_count": null,
   "metadata": {},
   "outputs": [],
   "source": [
    "#MEB_KO\n",
    "print(data['MEB_KO'].columns)\n",
    "print(data['MEB_KO'].head(5))\n",
    "# TO DELETE: 'data', 'timestamp', 'eks'\n",
    "data['MEB_KO'].drop(columns = ['data', 'timestamp', 'eks'], inplace = True)\n",
    "print(\"MEB_KO after drop of columns: \\n\")\n",
    "print(data['MEB_KO'].head(5))"
   ]
  },
  {
   "cell_type": "code",
   "execution_count": 13,
   "metadata": {},
   "outputs": [
    {
     "name": "stdout",
     "output_type": "stream",
     "text": [
      "Index(['id_ko', 'id_dmc', 'nok_strefa', 'nok_rodzaj', 'status_ko',\n",
      "       'data_odlania', 'timestamp', 'operator', 'rodzaj_kontroli',\n",
      "       'product_id', 'line_id'],\n",
      "      dtype='object')\n",
      "   id_ko  id_dmc  nok_strefa  nok_rodzaj  status_ko        data_odlania  \\\n",
      "0    497   72978           0           0          1 2020-09-01 10:04:00   \n",
      "1    498   72977           0           0          1 2020-09-01 10:02:00   \n",
      "2    499   72980           0           0          1 2020-09-01 10:07:00   \n",
      "3    500   72981           0           0          1 2020-09-01 10:08:00   \n",
      "4    501   73020         511         402          2 2020-09-01 11:10:00   \n",
      "\n",
      "            timestamp operator  rodzaj_kontroli product_id line_id  \n",
      "0 2020-09-01 10:41:22  5920                   1       None    None  \n",
      "1 2020-09-01 10:41:43  5920                   1       None    None  \n",
      "2 2020-09-01 10:42:24  5920                   1       None    None  \n",
      "3 2020-09-01 10:42:46  5920                   1       None    None  \n",
      "4 2020-09-01 11:25:23  5920                   2       None    None  \n",
      "MEB_KO_DGM after drop of columns: \n",
      "\n",
      "   id_ko  id_dmc  nok_strefa  nok_rodzaj  status_ko  rodzaj_kontroli  \\\n",
      "0    497   72978           0           0          1                1   \n",
      "1    498   72977           0           0          1                1   \n",
      "2    499   72980           0           0          1                1   \n",
      "3    500   72981           0           0          1                1   \n",
      "4    501   73020         511         402          2                2   \n",
      "\n",
      "  product_id line_id  \n",
      "0       None    None  \n",
      "1       None    None  \n",
      "2       None    None  \n",
      "3       None    None  \n",
      "4       None    None  \n"
     ]
    }
   ],
   "source": [
    "#MEB_KO_DGM\n",
    "print(data['MEB_KO_DGM'].columns)\n",
    "print(data['MEB_KO_DGM'].head(5))\n",
    "# TO DELETE: 'data_odlania', 'timestamp', 'operator', \n",
    "data['MEB_KO_DGM'].drop(columns = ['data_odlania', 'timestamp', 'operator'], inplace = True)\n",
    "print(\"MEB_KO_DGM after drop of columns: \\n\")\n",
    "print(data['MEB_KO_DGM'].head(5))"
   ]
  },
  {
   "cell_type": "markdown",
   "metadata": {},
   "source": [
    "<h1>Łączenie tabel</h1>"
   ]
  },
  {
   "cell_type": "code",
   "execution_count": null,
   "metadata": {},
   "outputs": [],
   "source": [
    "# łączę tabele MEB_KO i MEB_KO_DGM z tabelami MEB_KO_STREFA/RODZAJ\n",
    "\n",
    "data['MEB_KO'] = data['MEB_KO'].merge(data['MEB_KO_STREFA'], left_on='nok_strefa', right_on='indeks', how='inner')\n",
    "data['MEB_KO'] = data['MEB_KO'].merge(data['MEB_KO_RODZAJ'], left_on='nok_rodzaj', right_on='indeks', how='inner')\n",
    "\n",
    "data['MEB_KO_DGM'] = data['MEB_KO_DGM'].merge(data['MEB_KO_STREFA'], left_on='nok_strefa', right_on='indeks', how='inner')\n",
    "data['MEB_KO_DGM'] = data['MEB_KO_DGM'].merge(data['MEB_KO_STREFA'], left_on='nok_rodzaj', right_on='indeks', how='inner')\n",
    "\n",
    "# tu do wyrzucenia będzie kolumna indeks\n",
    "#data['MEB_KO'].head()\n",
    "# tu do wyrzucenia będzie kolumna indeks i kod_pola\n",
    "#data['MEB_KO_DGM'].head()"
   ]
  },
  {
   "cell_type": "code",
   "execution_count": null,
   "metadata": {},
   "outputs": [],
   "source": [
    "# łączę tabelę MEB_DMC z tabelą MEB_KO\n",
    "\n",
    "data['MEB_DMC'] = data['MEB_DMC'].merge(data['MEB_KO'], on='id_dmc', how='left')\n",
    "\n",
    "#  do wyrzucenia kolumna timestamp oraz eks\n",
    "\n",
    "data['MEB_DMC'].head()"
   ]
  },
  {
   "cell_type": "code",
   "execution_count": null,
   "metadata": {},
   "outputs": [],
   "source": [
    "# łączę tabelę MEB_DGM z tabelą MEB_KO_DGM\n",
    "\n",
    "data['MEB_DGM'] = data['MEB_DGM'].merge(data['MEB_KO_DGM'], left_on='id', right_on='id_dmc', how='left')\n",
    "data['MEB_DGM'].head()"
   ]
  },
  {
   "cell_type": "code",
   "execution_count": null,
   "metadata": {},
   "outputs": [],
   "source": [
    "# przygotowywuję tabelę ONI_CIRCUITS do połączenia \n",
    "# Tutaj będzie do zmiany, ponieważ usuwam część kolumn z ONI_CIRCTUIS - JR\n",
    "oni_circuits = data['ONI_CIRCUITS'].pivot(index='id_dmc', columns='circuit_nr', values=['assigment', 'flow', 'ref_time', 'set_point', 'start_delay', 'temp', 'working_mode'])\n",
    "oni_circuits.columns = oni_circuits.columns.map('{0[0]}_{0[1]}'.format) \n",
    "oni_circuits.reset_index(inplace=True)\n",
    "\n",
    "\n",
    "# łączę z tabelą MEB_DGM\n",
    "\n",
    "oni_circuits = oni_circuits.merge(data['MEB_DGM'], on='id_dmc', how='left')\n",
    "oni_circuits.head()"
   ]
  },
  {
   "cell_type": "code",
   "execution_count": null,
   "metadata": {},
   "outputs": [],
   "source": [
    "# łączę tabelę MEB_DMC z ONI_CIRCUITS\n",
    "\n",
    "data['MEB_DMC'] = data['MEB_DMC'].merge(oni_circuits, on='id_dmc', how='left')\n",
    "data['MEB_DMC'].head()"
   ]
  },
  {
   "cell_type": "code",
   "execution_count": null,
   "metadata": {},
   "outputs": [],
   "source": [
    "# łączę tabelę MEB_DMC z tabelą MEB_GROB\n",
    "\n",
    "data['MEB_DMC'] = data['MEB_DMC'].merge(data['MEB_GROB'], on='id_dmc', how='left')\n",
    "data['MEB_DMC'].head()"
   ]
  },
  {
   "cell_type": "code",
   "execution_count": null,
   "metadata": {},
   "outputs": [],
   "source": [
    "# łączę tabelę MEB_DMC z tabelą MEB_KS\n",
    "\n",
    "data['MEB_DMC'] = data['MEB_DMC'].merge(data['MEB_KS'], on='id_dmc', how='left')\n",
    "data['MEB_DMC'].head()"
   ]
  },
  {
   "cell_type": "code",
   "execution_count": null,
   "metadata": {},
   "outputs": [],
   "source": [
    "\"\"\"connection=cx_Oracle.connect(username,password,dsn,encoding='UTF-8')\n",
    "connection.version\n",
    "connection.close()\"\"\""
   ]
  },
  {
   "cell_type": "code",
   "execution_count": null,
   "metadata": {},
   "outputs": [],
   "source": [
    "\"\"\"try:\n",
    "    with cx_Oracle.connect(username,password,dsn,encoding='UTF-8') as connection:\n",
    "        with connection.cursor() as cursor:\n",
    "            cursor.execute(dmc_sql)\n",
    "            while True:\n",
    "                row = cursor.fetchone()\n",
    "                if row is None:\n",
    "                    break\n",
    "                print(row)\n",
    "                data={'id':row[0],'dmc':row[1]}\n",
    "    cursor.close()\n",
    "    connection.close()\n",
    "except cx_Oracle.Error as error:\n",
    "    print(error)\"\"\""
   ]
  },
  {
   "cell_type": "code",
   "execution_count": null,
   "metadata": {},
   "outputs": [],
   "source": [
    "#dodej to Adam przystojniaku"
   ]
  }
 ],
 "metadata": {
  "kernelspec": {
   "display_name": "base",
   "language": "python",
   "name": "python3"
  },
  "language_info": {
   "codemirror_mode": {
    "name": "ipython",
    "version": 3
   },
   "file_extension": ".py",
   "mimetype": "text/x-python",
   "name": "python",
   "nbconvert_exporter": "python",
   "pygments_lexer": "ipython3",
   "version": "3.10.10"
  },
  "orig_nbformat": 4
 },
 "nbformat": 4,
 "nbformat_minor": 2
}
