{
 "cells": [
  {
   "cell_type": "code",
   "execution_count": 4,
   "metadata": {},
   "outputs": [],
   "source": [
    "import cx_Oracle"
   ]
  },
  {
   "cell_type": "code",
   "execution_count": 5,
   "metadata": {},
   "outputs": [],
   "source": [
    "\n",
    "data = {}\n",
    "\n",
    "dbtable = 'z3dmc.meb_dmc'\n",
    "username = 'dmcro'\n",
    "password = 'ouZ9Rys7astDp4byjUvO'\n",
    "dsn = 'vwpnwrud0000rac:1521/dmc.vwg'"
   ]
  },
  {
   "cell_type": "code",
   "execution_count": 16,
   "metadata": {},
   "outputs": [
    {
     "data": {
      "text/plain": [
       "'11.2.0.4.0'"
      ]
     },
     "execution_count": 16,
     "metadata": {},
     "output_type": "execute_result"
    }
   ],
   "source": [
    "connection=cx_Oracle.connect(username,password,dsn,encoding='UTF-8')\n",
    "connection.version"
   ]
  },
  {
   "cell_type": "code",
   "execution_count": 13,
   "metadata": {},
   "outputs": [],
   "source": [
    "sql = \"select * from \"+dbtable+\" where rownum<10 order by ID_DMC desc\""
   ]
  },
  {
   "cell_type": "code",
   "execution_count": 14,
   "metadata": {},
   "outputs": [
    {
     "name": "stdout",
     "output_type": "stream",
     "text": [
      "(2071, '0MH301103CVW41910090437321102S111910040418', 1, datetime.datetime(2019, 10, 9, 8, 33, 13), datetime.datetime(2019, 11, 6, 6, 49, 5), 504, datetime.datetime(2019, 11, 6, 6, 49, 4), None, None, 700)\n",
      "(2070, '0MH301103CVW41910090437211102S111910040342', 2, datetime.datetime(2019, 10, 9, 8, 32, 53), datetime.datetime(2019, 11, 6, 9, 14, 37), 366, datetime.datetime(2019, 11, 6, 9, 14, 36), None, None, 700)\n",
      "(2069, '0MH301103CVW41910090437121102S111910040330', 107, datetime.datetime(2019, 10, 9, 8, 32, 26), datetime.datetime(2019, 11, 12, 6, 32, 27), 366, datetime.datetime(2019, 11, 12, 6, 32, 26), None, None, 700)\n",
      "(2068, '0MH301103CVW41910090437011102S111910040351', 1, datetime.datetime(2019, 10, 9, 8, 18, 26), datetime.datetime(2019, 11, 6, 5, 26, 55), 504, datetime.datetime(2019, 11, 6, 5, 26, 54), None, None, 700)\n",
      "(2067, '0MH301103CVW41910090436721102S111910040345', 2, datetime.datetime(2019, 10, 9, 8, 18, 5), datetime.datetime(2019, 10, 9, 8, 22, 31), 0, None, None, None, None)\n",
      "(2066, '0MH301103CVW41910090436611102S111910040356', 2, datetime.datetime(2019, 10, 9, 8, 17, 45), datetime.datetime(2019, 11, 6, 5, 40, 39), 366, datetime.datetime(2019, 11, 6, 5, 40, 38), None, None, 700)\n",
      "(2065, '0MH301103CVW41910090436521102S111910040350', 2, datetime.datetime(2019, 10, 9, 8, 13, 58), datetime.datetime(2019, 11, 6, 6, 47, 19), 366, datetime.datetime(2019, 11, 6, 6, 47, 18), None, None, 700)\n",
      "(2064, '0MH301103CVW41910090436411102S111910040410', 1, datetime.datetime(2019, 10, 9, 8, 9, 27), datetime.datetime(2019, 11, 6, 5, 50, 29), 0, datetime.datetime(2019, 10, 9, 8, 18, 6), None, None, 500)\n",
      "(2063, '0MH301103CVW41910090436321102S111910040455', 2, datetime.datetime(2019, 10, 9, 8, 9, 7), datetime.datetime(2019, 11, 6, 5, 40, 27), 366, datetime.datetime(2019, 11, 6, 5, 40, 26), None, None, 700)\n",
      "not open\n"
     ]
    }
   ],
   "source": [
    "try:\n",
    "    with cx_Oracle.connect(username,password,dsn,encoding='UTF-8') as connection:\n",
    "        with connection.cursor() as cursor:\n",
    "            cursor.execute(sql)\n",
    "            while True:\n",
    "                row = cursor.fetchone()\n",
    "                if row is None:\n",
    "                    break\n",
    "                print(row)\n",
    "                data={'id':row[0],'dmc':row[1]}\n",
    "    cursor.close()\n",
    "    connection.close()\n",
    "except cx_Oracle.Error as error:\n",
    "    print(error)    "
   ]
  }
 ],
 "metadata": {
  "kernelspec": {
   "display_name": "base",
   "language": "python",
   "name": "python3"
  },
  "language_info": {
   "codemirror_mode": {
    "name": "ipython",
    "version": 3
   },
   "file_extension": ".py",
   "mimetype": "text/x-python",
   "name": "python",
   "nbconvert_exporter": "python",
   "pygments_lexer": "ipython3",
   "version": "3.10.10"
  },
  "orig_nbformat": 4
 },
 "nbformat": 4,
 "nbformat_minor": 2
}
