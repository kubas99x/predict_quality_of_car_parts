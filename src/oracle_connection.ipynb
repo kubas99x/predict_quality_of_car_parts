{
 "cells": [
  {
   "cell_type": "code",
   "execution_count": 3,
   "metadata": {},
   "outputs": [],
   "source": [
    "import cx_Oracle\n",
    "import pandas as pd\n",
    "import sqlalchemy\n",
    "from sqlalchemy.exc import SQLAlchemyError"
   ]
  },
  {
   "cell_type": "markdown",
   "metadata": {},
   "source": [
    "<h1>Pobieranie danych z bazy</h1>"
   ]
  },
  {
   "cell_type": "code",
   "execution_count": 4,
   "metadata": {},
   "outputs": [],
   "source": [
    "data = {}\n",
    "\n",
    "dbtables = ['MEB_DGM', 'MEB_DMC', 'MEB_GROB', 'MEB_KO', 'MEB_KO_DGM', 'MEB_KO_RODZAJ', 'MEB_KO_STREFA', 'MEB_KS', 'ONI_CIRCUITS']\n",
    "querys = [\n",
    "#Tutaj występują duplikaty, ale jeszcze nie zdecydowaliśmy co z nimi zrobić\n",
    "\"\"\"\n",
    "SELECT * \n",
    "FROM Z3DMC.MEB_DGM\"\"\",\n",
    "#Tutaj występują duplikaty, ale jeszcze nie zdecydowaliśmy co z nimi zrobić, usunąłem tylko nulle i anomalię\n",
    "\"\"\"\n",
    "SELECT *\n",
    "FROM Z3DMC.MEB_DMC\n",
    "WHERE (DMC <> 'null') AND (DMC <> 'NIECZYTELNY')\n",
    "\"\"\",\n",
    "\"\"\"\n",
    "SELECT *\n",
    "FROM (\n",
    "  SELECT\n",
    "    t.*,\n",
    "    ROW_NUMBER() OVER (PARTITION BY DMC ORDER BY ID_DMC DESC) AS rn\n",
    "  FROM\n",
    "    Z3DMC.MEB_DMC t\n",
    ") subquery\n",
    "WHERE rn = 1\n",
    "\"\"\",\n",
    "\"\"\"\n",
    "SELECT *\n",
    "FROM (\n",
    "  SELECT\n",
    "    t.*,\n",
    "    ROW_NUMBER() OVER (PARTITION BY ID_DMC ORDER BY ID_KO DESC) AS rn\n",
    "  FROM\n",
    "    Z3DMC.MEB_KO t\n",
    ") subquery\n",
    "WHERE rn = 1\n",
    "\"\"\",\n",
    "\"\"\"\n",
    "SELECT *\n",
    "FROM (\n",
    "  SELECT\n",
    "    t.*,\n",
    "    ROW_NUMBER() OVER (PARTITION BY ID_DMC ORDER BY ID_KO DESC) AS rn\n",
    "  FROM\n",
    "    Z3DMC.MEB_KO_DGM t\n",
    "  WHERE ID_DMC <> 0\n",
    ") subquery\n",
    "WHERE rn = 1\n",
    "\"\"\",\n",
    "#Tabela słownik, niczego nie usuwamy, wczytuję całą tabelę\n",
    "\"\"\"\n",
    "SELECT *\n",
    "FROM Z3DMC.MEB_KO_RODZAJ\n",
    "\"\"\",\n",
    "#Tabela słownik, niczego nie usuwamy, wczytuję całą tabelę\n",
    "\"\"\"\n",
    "SELECT *\n",
    "FROM Z3DMC.MEB_KO_STREFA\n",
    "\"\"\",\n",
    "\"\"\"\n",
    "SELECT *\n",
    "FROM (\n",
    "  SELECT\n",
    "    t.*,\n",
    "    ROW_NUMBER() OVER (PARTITION BY ID_DMC ORDER BY ID_KS DESC) AS rn\n",
    "  FROM\n",
    "    Z3DMC.MEB_KS t\n",
    ") subquery\n",
    "WHERE rn = 1\n",
    "\"\"\"\n",
    "]\n",
    "username = 'dmcro'\n",
    "password = 'ouZ9Rys7astDp4byjUvO'\n",
    "dsn = 'vwpnwrud0000rac:1521/dmc.vwg'\n",
    "dbhostname='vwpnwrud0000rac'\n",
    "service_name='dmc.vwg'"
   ]
  },
  {
   "cell_type": "code",
   "execution_count": 5,
   "metadata": {},
   "outputs": [],
   "source": [
    "try:\n",
    "    sqlalchemy_engine=\"oracle+cx_oracle://\"+username+\":\"+password+\"@\"+dbhostname+\"/?service_name=\"+service_name\n",
    "    engine = sqlalchemy.create_engine(sqlalchemy_engine, arraysize=1000)\n",
    "    for table, query in zip(dbtables, querys):\n",
    "        data.update({table: pd.read_sql(query, engine)})\n",
    "except SQLAlchemyError as e:\n",
    "    print(e)"
   ]
  },
  {
   "cell_type": "markdown",
   "metadata": {},
   "source": [
    "<h1>Usuwanie zbędnych kolumn z tabel</h1>"
   ]
  },
  {
   "cell_type": "code",
   "execution_count": 6,
   "metadata": {},
   "outputs": [
    {
     "name": "stdout",
     "output_type": "stream",
     "text": [
      "['MEB_DGM', 'MEB_DMC', 'MEB_GROB', 'MEB_KO', 'MEB_KO_DGM', 'MEB_KO_RODZAJ', 'MEB_KO_STREFA', 'MEB_KS']\n"
     ]
    }
   ],
   "source": [
    "print(list(data.keys()))\n",
    "# Useless tables\n",
    "# MEB_CONTAINERS, MEB_DMC_GRADE, MEB_KS_WZORC"
   ]
  },
  {
   "cell_type": "code",
   "execution_count": 7,
   "metadata": {},
   "outputs": [
    {
     "ename": "KeyError",
     "evalue": "'ONI_CIRCUITS'",
     "output_type": "error",
     "traceback": [
      "\u001b[1;31m---------------------------------------------------------------------------\u001b[0m",
      "\u001b[1;31mKeyError\u001b[0m                                  Traceback (most recent call last)",
      "Cell \u001b[1;32mIn[7], line 3\u001b[0m\n\u001b[0;32m      1\u001b[0m \u001b[39m# ONI CIRCUITS\u001b[39;00m\n\u001b[0;32m      2\u001b[0m \u001b[39m# print(data['ONI_CIRCUITS'].head())\u001b[39;00m\n\u001b[1;32m----> 3\u001b[0m data[\u001b[39m'\u001b[39;49m\u001b[39mONI_CIRCUITS\u001b[39;49m\u001b[39m'\u001b[39;49m]\u001b[39m.\u001b[39mdrop(columns\u001b[39m=\u001b[39m[\u001b[39m'\u001b[39m\u001b[39mtimestamp\u001b[39m\u001b[39m'\u001b[39m], inplace\u001b[39m=\u001b[39m\u001b[39mTrue\u001b[39;00m)\n\u001b[0;32m      4\u001b[0m \u001b[39mprint\u001b[39m(\u001b[39m\"\u001b[39m\u001b[39m\\n\u001b[39;00m\u001b[39m ONI_CIRCUITS after drop of columns: \u001b[39m\u001b[39m\\n\u001b[39;00m\u001b[39m\"\u001b[39m)\n\u001b[0;32m      5\u001b[0m \u001b[39mprint\u001b[39m(data[\u001b[39m'\u001b[39m\u001b[39mONI_CIRCUITS\u001b[39m\u001b[39m'\u001b[39m]\u001b[39m.\u001b[39mhead())\n",
      "\u001b[1;31mKeyError\u001b[0m: 'ONI_CIRCUITS'"
     ]
    }
   ],
   "source": [
    "# ONI CIRCUITS\n",
    "# print(data['ONI_CIRCUITS'].head())\n",
    "data['ONI_CIRCUITS'].drop(columns=['timestamp'], inplace=True)\n",
    "print(\"\\n ONI_CIRCUITS after drop of columns: \\n\")\n",
    "print(data['ONI_CIRCUITS'].head())"
   ]
  },
  {
   "cell_type": "code",
   "execution_count": 8,
   "metadata": {},
   "outputs": [
    {
     "name": "stdout",
     "output_type": "stream",
     "text": [
      "\n",
      " MEB_DGM after drop of columns: \n",
      "\n",
      "     id                    dmc  nr_dgm status  czas_fazy_1  czas_fazy_2  \\\n",
      "0   220  190627091611011003610    10.0      4       1850.0         88.0   \n",
      "1  3416  190719071611011006077    10.0      1       2197.0         89.0   \n",
      "2  3417  190719071811011006078    10.0      1       2184.0         86.0   \n",
      "3  3418  190719072011011006079    10.0      1       2159.0         89.0   \n",
      "4  3419  190719072111011006080    10.0      1       2175.0         89.0   \n",
      "\n",
      "   czas_fazy_3  max_predkosc  cisnienie_tloka  cisnienie_koncowe  ...  \\\n",
      "0         47.5          6.52              7.0              264.0  ...   \n",
      "1         46.5          6.59             11.0              285.0  ...   \n",
      "2         45.0          6.52              8.0              284.0  ...   \n",
      "3         45.5          6.54              6.0              284.0  ...   \n",
      "4         47.0          6.57              8.0              283.0  ...   \n",
      "\n",
      "   oni_temp_curr_f2  oni_temp_fore_f1  oni_temp_fore_f2  vds_air_pressure  \\\n",
      "0               NaN               NaN               NaN               NaN   \n",
      "1               NaN               NaN               NaN               NaN   \n",
      "2               NaN               NaN               NaN               NaN   \n",
      "3               NaN               NaN               NaN               NaN   \n",
      "4               NaN               NaN               NaN               NaN   \n",
      "\n",
      "   vds_vac_hose1  vds_vac_hose2  vds_vac_tank  vds_vac_valve1  vds_vac_valve2  \\\n",
      "0            NaN            NaN           NaN             NaN             NaN   \n",
      "1            NaN            NaN           NaN             NaN             NaN   \n",
      "2            NaN            NaN           NaN             NaN             NaN   \n",
      "3            NaN            NaN           NaN             NaN             NaN   \n",
      "4            NaN            NaN           NaN             NaN             NaN   \n",
      "\n",
      "   czas_taktu  \n",
      "0         NaN  \n",
      "1         NaN  \n",
      "2         NaN  \n",
      "3         NaN  \n",
      "4         NaN  \n",
      "\n",
      "[5 rows x 25 columns]\n"
     ]
    }
   ],
   "source": [
    "# MEB_DGM\n",
    "# print(data['MEB_DGM'].columns)\n",
    "# print(data['MEB_DGM'].head(5))\n",
    "# ('metal_level', 'metal_pressure') - We do not collect this data yet\n",
    "data['MEB_DGM'].drop(columns=['timestamp', 'data_znakowania', 'data_odlania', 'metal_level', 'metal_pressure'], inplace=True)\n",
    "print(\"\\n MEB_DGM after drop of columns: \\n\")\n",
    "print(data['MEB_DGM'].head(5))"
   ]
  },
  {
   "cell_type": "code",
   "execution_count": null,
   "metadata": {},
   "outputs": [],
   "source": [
    "#MEB_DMC\n",
    "# print(data['MEB_DMC'].columns)\n",
    "# print(data['MEB_DMC'].head(5))\n",
    "data['MEB_DMC'].drop(columns = ['timestamp', 'update_time','id_meb_containers', 'packed_time', 'first_packed_time', 'production_step'], inplace = True)\n",
    "print(\"\\n MEB_DMC after drop of columns: \\n\")\n",
    "print(data['MEB_DMC'].head(5))"
   ]
  },
  {
   "cell_type": "code",
   "execution_count": null,
   "metadata": {},
   "outputs": [],
   "source": [
    "#MEB_KO\n",
    "# print(data['MEB_KO'].columns)\n",
    "# print(data['MEB_KO'].head(5))\n",
    "data['MEB_KO'].drop(columns = ['id_ko', 'data', 'timestamp', 'eks'], inplace = True)\n",
    "print(\"\\n MEB_KO after drop of columns: \\n\")\n",
    "print(data['MEB_KO'].head(5))"
   ]
  },
  {
   "cell_type": "code",
   "execution_count": null,
   "metadata": {},
   "outputs": [],
   "source": [
    "#MEB_KO_DGM\n",
    "# print(data['MEB_KO_DGM'].columns)\n",
    "# print(data['MEB_KO_DGM'].head(5))\n",
    "data['MEB_KO_DGM'].drop(columns = ['id_ko','data_odlania', 'timestamp', 'operator'], inplace = True)\n",
    "print(\"\\n MEB_KO_DGM after drop of columns: \\n\")\n",
    "print(data['MEB_KO_DGM'].head(5))"
   ]
  },
  {
   "cell_type": "code",
   "execution_count": null,
   "metadata": {},
   "outputs": [],
   "source": [
    "# MEB_KS\n",
    "# print(data['MEB_KS'].columns)\n",
    "# print(data['MEB_KS'].head(5))\n",
    "data['MEB_KS'].drop(columns = ['id_ks', 'nrgniazda', 'liczbawystapien', 'nrformy', 'data', 'timestamp', 'gradedmc_max','gradedmc_aktualny'], inplace = True)\n",
    "print(\"\\n 'MEB_KS' after drop of columns: \\n\")\n",
    "print(data['MEB_KS'].head(5))"
   ]
  },
  {
   "cell_type": "code",
   "execution_count": null,
   "metadata": {},
   "outputs": [],
   "source": [
    "#MEB_GROB \n",
    "# print(data['MEB_GROB'].columns)\n",
    "# print(data['MEB_GROB'].head(5))\n",
    "data['MEB_GROB'].drop(columns = ['shift_number', 'last_operation', 'timestamp', 'production_date', 'reworkrequested', \n",
    "                                'reworkdone', 'partcleaningisfinished', 'waitfortoolcheck', 'workingstep1', 'workingstep2', 'workingstep3', 'workingstep4', 'mms_ok'], inplace = True)\n",
    "print(\"\\n 'MEB_GROB' after drop of columns: \\n\")\n",
    "print(data['MEB_GROB'].head(5))\n"
   ]
  },
  {
   "cell_type": "markdown",
   "metadata": {},
   "source": [
    "<h1>Łączenie tabel</h1>"
   ]
  },
  {
   "cell_type": "code",
   "execution_count": null,
   "metadata": {},
   "outputs": [],
   "source": [
    "#pd.set_option('display.max_columns', None)\n",
    "\n",
    "# łączę tabele MEB_KO i MEB_KO_DGM z tabelami MEB_KO_STREFA/RODZAJ\n",
    "\n",
    "data['MEB_KO'] = data['MEB_KO'].merge(data['MEB_KO_STREFA'], left_on='nok_strefa', right_on='indeks', how='inner')\n",
    "data['MEB_KO'].drop(columns=['indeks'], inplace=True)\n",
    "\n",
    "data['MEB_KO'] = data['MEB_KO'].merge(data['MEB_KO_RODZAJ'], left_on='nok_rodzaj', right_on='indeks', how='inner')\n",
    "data['MEB_KO'].drop(columns=['indeks'], inplace=True)\n",
    "\n",
    "data['MEB_KO_DGM'] = data['MEB_KO_DGM'].merge(data['MEB_KO_STREFA'], left_on='nok_strefa', right_on='indeks', how='inner')\n",
    "data['MEB_KO_DGM'].drop(columns=['indeks'], inplace=True)\n",
    "\n",
    "data['MEB_KO_DGM'] = data['MEB_KO_DGM'].merge(data['MEB_KO_RODZAJ'], left_on='nok_rodzaj', right_on='indeks', how='inner')\n",
    "data['MEB_KO_DGM'].drop(columns=['indeks'], inplace=True)\n",
    "\n",
    "\n",
    "#data['MEB_KO'].head()\n",
    "#data['MEB_KO_DGM'].head()"
   ]
  },
  {
   "cell_type": "code",
   "execution_count": null,
   "metadata": {},
   "outputs": [],
   "source": [
    "# łączę tabelę MEB_DMC z tabelą MEB_KO\n",
    "\n",
    "data['MEB_DMC'] = data['MEB_DMC'].merge(data['MEB_KO'], on='id_dmc', how='left')\n",
    "\n",
    "#  do wyrzucenia kolumna timestamp oraz eks\n",
    "\n",
    "#data['MEB_DMC'].head(1)"
   ]
  },
  {
   "cell_type": "code",
   "execution_count": null,
   "metadata": {},
   "outputs": [],
   "source": [
    "# łączę tabelę MEB_DGM z tabelą MEB_KO_DGM\n",
    "\n",
    "data['MEB_DGM'] = data['MEB_DGM'].merge(data['MEB_KO_DGM'], left_on='id', right_on='id_dmc', how='left')\n",
    "#data['MEB_DGM'].head(1)"
   ]
  },
  {
   "cell_type": "code",
   "execution_count": null,
   "metadata": {},
   "outputs": [],
   "source": [
    "# przygotowywuję tabelę ONI_CIRCUITS do połączenia \n",
    "# Tutaj będzie do zmiany, ponieważ usuwam część kolumn z ONI_CIRCTUIS - JR\n",
    "# Przerobione ~ ŁO\n",
    "oni_circuits = data['ONI_CIRCUITS'].pivot(index='id_dmc', columns='circuit_nr', values=['flow', 'temp'])\n",
    "oni_circuits.columns = oni_circuits.columns.map('{0[0]}_{0[1]}'.format) \n",
    "oni_circuits.reset_index(inplace=True)\n",
    "\n",
    "\n",
    "# łączę z tabelą MEB_DGM\n",
    "\n",
    "oni_circuits = oni_circuits.merge(data['MEB_DGM'], left_on='id_dmc', right_on='id', how='left')\n",
    "#oni_circuits.head(1)"
   ]
  },
  {
   "cell_type": "code",
   "execution_count": null,
   "metadata": {},
   "outputs": [],
   "source": [
    "# łączę tabelę MEB_DMC z ONI_CIRCUITS\n",
    "\n",
    "data['MEB_DMC'] = data['MEB_DMC'].merge(oni_circuits, left_on='dmc_casting', right_on='dmc', how='left')\n",
    "#data['MEB_DMC'].head(1)"
   ]
  },
  {
   "cell_type": "code",
   "execution_count": null,
   "metadata": {},
   "outputs": [],
   "source": [
    "# łączę tabelę MEB_DMC z tabelą MEB_GROB\n",
    "\n",
    "data['MEB_DMC'] = data['MEB_DMC'].merge(data['MEB_GROB'], on='id_dmc', how='left')\n",
    "#data['MEB_DMC'].head(1)"
   ]
  },
  {
   "cell_type": "code",
   "execution_count": null,
   "metadata": {},
   "outputs": [],
   "source": [
    "# łączę tabelę MEB_DMC z tabelą MEB_KS\n",
    "\n",
    "data['MEB_DMC'] = data['MEB_DMC'].merge(data['MEB_KS'], on='id_dmc', how='left')\n",
    "#data['MEB_DMC'].head(1)"
   ]
  },
  {
   "cell_type": "code",
   "execution_count": null,
   "metadata": {},
   "outputs": [],
   "source": [
    "\"\"\"connection=cx_Oracle.connect(username,password,dsn,encoding='UTF-8')\n",
    "connection.version\n",
    "connection.close()\"\"\""
   ]
  },
  {
   "cell_type": "code",
   "execution_count": null,
   "metadata": {},
   "outputs": [],
   "source": [
    "\"\"\"try:\n",
    "    with cx_Oracle.connect(username,password,dsn,encoding='UTF-8') as connection:\n",
    "        with connection.cursor() as cursor:\n",
    "            cursor.execute(dmc_sql)\n",
    "            while True:\n",
    "                row = cursor.fetchone()\n",
    "                if row is None:\n",
    "                    break\n",
    "                print(row)\n",
    "                data={'id':row[0],'dmc':row[1]}\n",
    "    cursor.close()\n",
    "    connection.close()\n",
    "except cx_Oracle.Error as error:\n",
    "    print(error)\"\"\""
   ]
  },
  {
   "cell_type": "markdown",
   "metadata": {},
   "source": [
    "<h1>Usuwanie anomalii</h1>"
   ]
  },
  {
   "cell_type": "code",
   "execution_count": 9,
   "metadata": {},
   "outputs": [
    {
     "name": "stdout",
     "output_type": "stream",
     "text": [
      "['MEB_DGM', 'MEB_DMC', 'MEB_GROB', 'MEB_KO', 'MEB_KO_DGM', 'MEB_KO_RODZAJ', 'MEB_KO_STREFA', 'MEB_KS']\n"
     ]
    }
   ],
   "source": [
    "print(list(data.keys()))"
   ]
  },
  {
   "cell_type": "code",
   "execution_count": 15,
   "metadata": {},
   "outputs": [],
   "source": [
    "meb_dgm_df = data['MEB_DGM']"
   ]
  },
  {
   "cell_type": "code",
   "execution_count": 16,
   "metadata": {},
   "outputs": [
    {
     "name": "stdout",
     "output_type": "stream",
     "text": [
      "     id                    dmc  nr_dgm status  czas_fazy_1  czas_fazy_2  \\\n",
      "0   220  190627091611011003610    10.0      4       1850.0         88.0   \n",
      "1  3416  190719071611011006077    10.0      1       2197.0         89.0   \n",
      "2  3417  190719071811011006078    10.0      1       2184.0         86.0   \n",
      "3  3418  190719072011011006079    10.0      1       2159.0         89.0   \n",
      "4  3419  190719072111011006080    10.0      1       2175.0         89.0   \n",
      "\n",
      "   czas_fazy_3  max_predkosc  cisnienie_tloka  cisnienie_koncowe  ...  \\\n",
      "0         47.5          6.52              7.0              264.0  ...   \n",
      "1         46.5          6.59             11.0              285.0  ...   \n",
      "2         45.0          6.52              8.0              284.0  ...   \n",
      "3         45.5          6.54              6.0              284.0  ...   \n",
      "4         47.0          6.57              8.0              283.0  ...   \n",
      "\n",
      "   oni_temp_curr_f2  oni_temp_fore_f1  oni_temp_fore_f2  vds_air_pressure  \\\n",
      "0               NaN               NaN               NaN               NaN   \n",
      "1               NaN               NaN               NaN               NaN   \n",
      "2               NaN               NaN               NaN               NaN   \n",
      "3               NaN               NaN               NaN               NaN   \n",
      "4               NaN               NaN               NaN               NaN   \n",
      "\n",
      "   vds_vac_hose1  vds_vac_hose2  vds_vac_tank  vds_vac_valve1  vds_vac_valve2  \\\n",
      "0            NaN            NaN           NaN             NaN             NaN   \n",
      "1            NaN            NaN           NaN             NaN             NaN   \n",
      "2            NaN            NaN           NaN             NaN             NaN   \n",
      "3            NaN            NaN           NaN             NaN             NaN   \n",
      "4            NaN            NaN           NaN             NaN             NaN   \n",
      "\n",
      "   czas_taktu  \n",
      "0         NaN  \n",
      "1         NaN  \n",
      "2         NaN  \n",
      "3         NaN  \n",
      "4         NaN  \n",
      "\n",
      "[5 rows x 25 columns]\n"
     ]
    }
   ],
   "source": [
    "print(meb_dgm_df.head(5))"
   ]
  },
  {
   "cell_type": "code",
   "execution_count": 18,
   "metadata": {},
   "outputs": [
    {
     "name": "stdout",
     "output_type": "stream",
     "text": [
      "['id', 'dmc', 'nr_dgm', 'status', 'czas_fazy_1', 'czas_fazy_2', 'czas_fazy_3', 'max_predkosc', 'cisnienie_tloka', 'cisnienie_koncowe', 'nachdruck_hub', 'anguss', 'max_press_kolbenhub', 'temp_pieca', 'oni_temp_curr_f1', 'oni_temp_curr_f2', 'oni_temp_fore_f1', 'oni_temp_fore_f2', 'vds_air_pressure', 'vds_vac_hose1', 'vds_vac_hose2', 'vds_vac_tank', 'vds_vac_valve1', 'vds_vac_valve2', 'czas_taktu']\n"
     ]
    }
   ],
   "source": [
    "print(list(meb_dgm_df.keys()))"
   ]
  },
  {
   "cell_type": "code",
   "execution_count": 25,
   "metadata": {},
   "outputs": [
    {
     "name": "stdout",
     "output_type": "stream",
     "text": [
      "[10.  9.  4. nan  8. 16. 20.]\n",
      "1357796\n",
      "<class 'numpy.float64'>\n",
      "3521\n"
     ]
    }
   ],
   "source": [
    "print(meb_dgm_df['nr_dgm'].unique())\n",
    "print(len(meb_dgm_df))\n",
    "print(type(meb_dgm_df['nr_dgm'][0]))\n",
    "print(len(meb_dgm_df[meb_dgm_df['nr_dgm'] == 20]))\n",
    "\n"
   ]
  },
  {
   "cell_type": "code",
   "execution_count": null,
   "metadata": {},
   "outputs": [],
   "source": []
  }
 ],
 "metadata": {
  "kernelspec": {
   "display_name": "base",
   "language": "python",
   "name": "python3"
  },
  "language_info": {
   "codemirror_mode": {
    "name": "ipython",
    "version": 3
   },
   "file_extension": ".py",
   "mimetype": "text/x-python",
   "name": "python",
   "nbconvert_exporter": "python",
   "pygments_lexer": "ipython3",
   "version": "3.10.10"
  },
  "orig_nbformat": 4
 },
 "nbformat": 4,
 "nbformat_minor": 2
}
