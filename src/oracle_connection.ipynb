{
 "cells": [
  {
   "cell_type": "code",
   "execution_count": 1,
   "metadata": {},
   "outputs": [],
   "source": [
    "import cx_Oracle\n",
    "import pandas as pd\n",
    "import sqlalchemy\n",
    "from sqlalchemy.exc import SQLAlchemyError"
   ]
  },
  {
   "cell_type": "markdown",
   "metadata": {},
   "source": [
    "<h1>Pobieranie danych z bazy</h1>"
   ]
  },
  {
   "cell_type": "code",
   "execution_count": 2,
   "metadata": {},
   "outputs": [],
   "source": [
    "data = {}\n",
    "\n",
    "dbtables = ['MEB_DGM', 'MEB_DMC', 'MEB_GROB', 'MEB_KO', 'MEB_KO_DGM', 'MEB_KO_RODZAJ', 'MEB_KO_STREFA', 'MEB_KS', 'ONI_CIRCUITS']\n",
    "querys = [\n",
    "#Tutaj występują duplikaty, ale jeszcze nie zdecydowaliśmy co z nimi zrobić\n",
    "\"\"\"\n",
    "SELECT * \n",
    "FROM Z3DMC.MEB_DGM\n",
    "\"\"\",\n",
    "#Tutaj występują duplikaty, ale jeszcze nie zdecydowaliśmy co z nimi zrobić, usunąłem tylko nulle i anomalię\n",
    "#Po wykonaniu LEFT JOIN liczba rekordów się zwiększyła, trzeba usunąć duplikaty z DMC_CASTING ~ LO\n",
    "\"\"\"\n",
    "SELECT *\n",
    "FROM Z3DMC.MEB_DMC\n",
    "WHERE (DMC <> 'null') AND (DMC <> 'NIECZYTELNY')\n",
    "\"\"\",\n",
    "\"\"\"\n",
    "SELECT *\n",
    "FROM (\n",
    "  SELECT\n",
    "    t.*,\n",
    "    ROW_NUMBER() OVER (PARTITION BY ID_DMC ORDER BY ID_MEB_GROB DESC) AS rn\n",
    "  FROM\n",
    "    Z3DMC.MEB_GROB t\n",
    ") subquery\n",
    "WHERE rn = 1\n",
    "\"\"\",\n",
    "\"\"\"\n",
    "SELECT *\n",
    "FROM (\n",
    "  SELECT\n",
    "    t.*,\n",
    "    ROW_NUMBER() OVER (PARTITION BY ID_DMC ORDER BY ID_KO DESC) AS rn\n",
    "  FROM\n",
    "    Z3DMC.MEB_KO t\n",
    ") subquery\n",
    "WHERE rn = 1\n",
    "\"\"\",\n",
    "\"\"\"\n",
    "SELECT *\n",
    "FROM (\n",
    "  SELECT\n",
    "    t.*,\n",
    "    ROW_NUMBER() OVER (PARTITION BY ID_DMC ORDER BY ID_KO DESC) AS rn\n",
    "  FROM\n",
    "    Z3DMC.MEB_KO_DGM t\n",
    "  WHERE ID_DMC <> 0\n",
    ") subquery\n",
    "WHERE rn = 1\n",
    "\"\"\",\n",
    "#Tabela słownik, niczego nie usuwamy, wczytuję całą tabelę\n",
    "\"\"\"\n",
    "SELECT *\n",
    "FROM Z3DMC.MEB_KO_RODZAJ\n",
    "\"\"\",\n",
    "#Tabela słownik, niczego nie usuwamy, wczytuję całą tabelę\n",
    "\"\"\"\n",
    "SELECT *\n",
    "FROM Z3DMC.MEB_KO_STREFA\n",
    "\"\"\",\n",
    "\"\"\"\n",
    "SELECT *\n",
    "FROM (\n",
    "  SELECT\n",
    "    t.*,\n",
    "    ROW_NUMBER() OVER (PARTITION BY ID_DMC ORDER BY ID_KS DESC) AS rn\n",
    "  FROM\n",
    "    Z3DMC.MEB_KS t\n",
    ") subquery\n",
    "WHERE rn = 1\n",
    "\"\"\",\n",
    "#Tabela ONI_CIRCUITS posiada wiele duplikatów, a powinno być ich do 28 per jeden ID_DMC, dlatego wrzucam całą tabelę i przegadamy co z tym zrobić.\n",
    "#Poniżej zakomentowany kod usuwający wszystkie duplikaty.\n",
    "\"\"\"\n",
    "SELECT ID_DMC, CIRCUIT_NR, \n",
    "MAX(ASSIGMENT) AS ASSIGMENT, \n",
    "MAX(FLOW) AS FLOW, \n",
    "MAX(REF_TIME) AS REF_TIME,\n",
    "MAX(SET_POINT) AS SET_POINT,\n",
    "MAX(START_DELAY) AS START_DELAY,\n",
    "MAX(TEMP) AS TEMP,\n",
    "MAX(WORKING_MODE) AS WORKING_MODE,\n",
    "MAX(TIMESTAMP) AS TIMESTAMP\n",
    "FROM Z3DMC.ONI_CIRCUITS\n",
    "GROUP BY ID_DMC, CIRCUIT_NR\n",
    "ORDER BY ID_DMC\n",
    "\"\"\"\n",
    "#SELECT *\n",
    "#FROM (\n",
    "#  SELECT\n",
    "#    t.*,\n",
    "#    ROW_NUMBER() OVER (PARTITION BY ID_DMC ORDER BY ID_CIRCUIT DESC) AS rn\n",
    "#  FROM\n",
    "#    Z3DMC.ONI_CIRCUITS t\n",
    "#) subquery\n",
    "#WHERE rn = 1\n",
    "]\n",
    "username = 'dmcro'\n",
    "password = 'ouZ9Rys7astDp4byjUvO'\n",
    "dsn = 'vwpnwrud0000rac:1521/dmc.vwg'\n",
    "dbhostname='vwpnwrud0000rac'\n",
    "service_name='dmc.vwg'"
   ]
  },
  {
   "cell_type": "code",
   "execution_count": null,
   "metadata": {},
   "outputs": [],
   "source": [
    "try:\n",
    "    sqlalchemy_engine=\"oracle+cx_oracle://\"+username+\":\"+password+\"@\"+dbhostname+\"/?service_name=\"+service_name\n",
    "    engine = sqlalchemy.create_engine(sqlalchemy_engine, arraysize=1000)\n",
    "    for table, query in zip(dbtables, querys):\n",
    "        data.update({table: pd.read_sql(query, engine)})\n",
    "except SQLAlchemyError as e:\n",
    "    print(e)"
   ]
  },
  {
   "cell_type": "markdown",
   "metadata": {},
   "source": [
    "<h1>Usuwanie zbędnych kolumn z tabel</h1>"
   ]
  },
  {
   "cell_type": "code",
   "execution_count": 4,
   "metadata": {},
   "outputs": [
    {
     "name": "stdout",
     "output_type": "stream",
     "text": [
      "['MEB_DGM', 'MEB_DMC', 'MEB_GROB', 'MEB_KO', 'MEB_KO_DGM', 'MEB_KO_RODZAJ', 'MEB_KO_STREFA', 'MEB_KS', 'ONI_CIRCUITS']\n"
     ]
    }
   ],
   "source": [
    "print(list(data.keys()))\n",
    "# Useless tables\n",
    "# MEB_CONTAINERS, MEB_DMC_GRADE, MEB_KS_WZORC"
   ]
  },
  {
   "cell_type": "code",
   "execution_count": 5,
   "metadata": {},
   "outputs": [],
   "source": [
    "# ONI CIRCUITS\n",
    "# print(data['ONI_CIRCUITS'].head())\n",
    "data['ONI_CIRCUITS'].drop(columns=['timestamp'], inplace=True)\n",
    "# print(\"\\n ONI_CIRCUITS after drop of columns: \\n\")\n",
    "# print(data['ONI_CIRCUITS'].head())"
   ]
  },
  {
   "cell_type": "code",
   "execution_count": 6,
   "metadata": {},
   "outputs": [],
   "source": [
    "# MEB_DGM\n",
    "# print(data['MEB_DGM'].columns)\n",
    "# print(data['MEB_DGM'].head(5))\n",
    "# ('metal_level', 'metal_pressure') - We do not collect this data yet\n",
    "data['MEB_DGM'].drop(columns=['timestamp', 'data_znakowania', 'data_odlania', 'metal_level', 'metal_pressure'], inplace=True)\n",
    "# print(\"\\n MEB_DGM after drop of columns: \\n\")\n",
    "# print(data['MEB_DGM'].head(5))"
   ]
  },
  {
   "cell_type": "code",
   "execution_count": 7,
   "metadata": {},
   "outputs": [],
   "source": [
    "#MEB_DMC\n",
    "# print(data['MEB_DMC'].columns)\n",
    "# print(data['MEB_DMC'].head(5))\n",
    "data['MEB_DMC'].drop(columns = ['timestamp', 'update_time','id_meb_containers', 'packed_time', 'first_packed_time', 'production_step'], inplace = True)\n",
    "# print(\"\\n MEB_DMC after drop of columns: \\n\")\n",
    "# print(data['MEB_DMC'].head(5))"
   ]
  },
  {
   "cell_type": "code",
   "execution_count": 8,
   "metadata": {},
   "outputs": [],
   "source": [
    "#MEB_KO\n",
    "# print(data['MEB_KO'].columns)\n",
    "# print(data['MEB_KO'].head(5))\n",
    "data['MEB_KO'].drop(columns = ['id_ko', 'data', 'timestamp', 'eks'], inplace = True)\n",
    "# print(\"\\n MEB_KO after drop of columns: \\n\")\n",
    "# print(data['MEB_KO'].head(5))"
   ]
  },
  {
   "cell_type": "code",
   "execution_count": 9,
   "metadata": {},
   "outputs": [],
   "source": [
    "#MEB_KO_DGM\n",
    "# print(data['MEB_KO_DGM'].columns)\n",
    "# print(data['MEB_KO_DGM'].head(5))\n",
    "data['MEB_KO_DGM'].drop(columns = ['id_ko','data_odlania', 'timestamp', 'operator'], inplace = True)\n",
    "# print(\"\\n MEB_KO_DGM after drop of columns: \\n\")\n",
    "# print(data['MEB_KO_DGM'].head(5))"
   ]
  },
  {
   "cell_type": "code",
   "execution_count": 10,
   "metadata": {},
   "outputs": [],
   "source": [
    "# MEB_KS\n",
    "# print(data['MEB_KS'].columns)\n",
    "# print(data['MEB_KS'].head(5))\n",
    "data['MEB_KS'].drop(columns = ['id_ks', 'nrgniazda', 'liczbawystapien', 'nrformy', 'data', 'timestamp', 'gradedmc_max','gradedmc_aktualny'], inplace = True)\n",
    "# print(\"\\n 'MEB_KS' after drop of columns: \\n\")\n",
    "# print(data['MEB_KS'].head(5))"
   ]
  },
  {
   "cell_type": "code",
   "execution_count": 11,
   "metadata": {},
   "outputs": [],
   "source": [
    "#MEB_GROB \n",
    "# print(data['MEB_GROB'].columns)\n",
    "# print(data['MEB_GROB'].head(5))\n",
    "data['MEB_GROB'].drop(columns = ['shift_number', 'last_operation', 'timestamp', 'production_date', 'reworkrequested', \n",
    "                                'reworkdone', 'partcleaningisfinished', 'waitfortoolcheck', 'workingstep1', 'workingstep2', 'workingstep3', 'workingstep4', 'mms_ok'], inplace = True)\n",
    "# print(\"\\n 'MEB_GROB' after drop of columns: \\n\")\n",
    "# print(data['MEB_GROB'].head(5))\n"
   ]
  },
  {
   "cell_type": "markdown",
   "metadata": {},
   "source": [
    "<h1>Łączenie tabel</h1>"
   ]
  },
  {
   "cell_type": "code",
   "execution_count": 12,
   "metadata": {},
   "outputs": [],
   "source": [
    "# usuwanie znaków białych z DMC i DMC_CASTING\n",
    "data['MEB_DMC'].dmc_casting = data['MEB_DMC'].dmc_casting.str.strip()\n",
    "data['MEB_DGM'].dmc = data['MEB_DGM'].dmc.str.strip()"
   ]
  },
  {
   "cell_type": "code",
   "execution_count": 13,
   "metadata": {},
   "outputs": [
    {
     "name": "stdout",
     "output_type": "stream",
     "text": [
      "(1190800, 4)\n",
      "(1190041, 4)\n"
     ]
    }
   ],
   "source": [
    "# usuwanie z meb_dmc wierszy z 'WORKPIECE NIO' w kodzie DMC\n",
    "print(data['MEB_DMC'].shape)\n",
    "data['MEB_DMC'] = data['MEB_DMC'][~data['MEB_DMC']['dmc'].str.contains('WORKPIECE', case=False, na=False)]\n",
    "print(data['MEB_DMC'].shape)"
   ]
  },
  {
   "cell_type": "code",
   "execution_count": 14,
   "metadata": {},
   "outputs": [],
   "source": [
    "final_table = data['MEB_DMC'].copy()"
   ]
  },
  {
   "cell_type": "code",
   "execution_count": 15,
   "metadata": {},
   "outputs": [],
   "source": [
    "# wybieranie produktu MEB+\n",
    "data['MEB_DGM'] = data['MEB_DGM'][(data['MEB_DGM'].nr_dgm >= 8) & (data['MEB_DGM'].nr_dgm <= 10)]"
   ]
  },
  {
   "cell_type": "code",
   "execution_count": 16,
   "metadata": {},
   "outputs": [],
   "source": [
    "# łączę tabele MEB_KO i MEB_KO_DGM z tabelami MEB_KO_STREFA/RODZAJ\n",
    "\n",
    "data['MEB_KO'] = data['MEB_KO'].merge(data['MEB_KO_STREFA'], left_on='nok_strefa', right_on='indeks', how='inner')\n",
    "data['MEB_KO'].drop(columns=['indeks'], inplace=True)\n",
    "\n",
    "data['MEB_KO'] = data['MEB_KO'].merge(data['MEB_KO_RODZAJ'], left_on='nok_rodzaj', right_on='indeks', how='inner')\n",
    "data['MEB_KO'].drop(columns=['indeks'], inplace=True)\n",
    "\n",
    "data['MEB_KO_DGM'] = data['MEB_KO_DGM'].merge(data['MEB_KO_STREFA'], left_on='nok_strefa', right_on='indeks', how='inner')\n",
    "data['MEB_KO_DGM'].drop(columns=['indeks'], inplace=True)\n",
    "\n",
    "data['MEB_KO_DGM'] = data['MEB_KO_DGM'].merge(data['MEB_KO_RODZAJ'], left_on='nok_rodzaj', right_on='indeks', how='inner')\n",
    "data['MEB_KO_DGM'].drop(columns=['indeks'], inplace=True)\n",
    "\n",
    "\n",
    "#data['MEB_KO'].head()\n",
    "#data['MEB_KO_DGM'].head()"
   ]
  },
  {
   "cell_type": "code",
   "execution_count": 17,
   "metadata": {},
   "outputs": [
    {
     "name": "stdout",
     "output_type": "stream",
     "text": [
      "(1190041, 4)\n",
      "(1190041, 9)\n"
     ]
    }
   ],
   "source": [
    "# łączę tabelę MEB_DMC z tabelą MEB_KO\n",
    "print(final_table.shape)\n",
    "final_table = final_table.merge(data['MEB_KO'], on='id_dmc', how='left')\n",
    "final_table.drop(columns=['rn'], inplace=True)\n",
    "print(final_table.shape)"
   ]
  },
  {
   "cell_type": "code",
   "execution_count": 19,
   "metadata": {},
<<<<<<< HEAD
   "outputs": [
    {
     "name": "stdout",
     "output_type": "stream",
     "text": [
      "(1190041, 9)\n",
      "(1190041, 20)\n"
     ]
    }
   ],
=======
   "outputs": [],
>>>>>>> af0f293a8f849e610c553cd70cb373600a8fe66a
   "source": [
    "# łączę tabelę MEB_DMC z tabelą MEB_GROB\n",
    "print(final_table.shape)\n",
    "final_table = final_table.merge(data['MEB_GROB'], on='id_dmc', how='left')\n",
    "final_table.drop(columns=['rn'], inplace=True)\n",
    "print(final_table.shape)"
   ]
  },
  {
   "cell_type": "code",
   "execution_count": 20,
   "metadata": {},
   "outputs": [
    {
     "name": "stdout",
     "output_type": "stream",
     "text": [
      "(1190041, 20)\n",
      "(1190041, 26)\n"
     ]
    }
   ],
   "source": [
    "# łączę tabelę MEB_DMC z tabelą MEB_KS\n",
    "print(final_table.shape)\n",
    "final_table = final_table.merge(data['MEB_KS'], on='id_dmc', how='left')\n",
    "final_table.drop(columns=['rn'], inplace=True)\n",
    "print(final_table.shape)"
   ]
  },
  {
   "cell_type": "code",
   "execution_count": 21,
   "metadata": {},
<<<<<<< HEAD
   "outputs": [
    {
     "name": "stdout",
     "output_type": "stream",
     "text": [
      "(1276150, 25)\n",
      "(1276150, 34)\n"
     ]
    }
   ],
=======
   "outputs": [],
>>>>>>> af0f293a8f849e610c553cd70cb373600a8fe66a
   "source": [
    "# łączę tabelę MEB_DGM z tabelą MEB_KO_DGM\n",
    "print(data['MEB_DGM'].shape)\n",
    "data['MEB_DGM'] = data['MEB_DGM'].merge(data['MEB_KO_DGM'], left_on='id', right_on='id_dmc', how='left')\n",
    "data['MEB_DGM'].drop(columns=['rn'], inplace=True)\n",
    "print(data['MEB_DGM'].shape)"
   ]
  },
  {
   "cell_type": "code",
   "execution_count": null,
   "metadata": {},
   "outputs": [],
   "source": [
    "final_table.head()"
   ]
  },
  {
   "cell_type": "code",
   "execution_count": 29,
   "metadata": {},
   "outputs": [
    {
     "name": "stdout",
     "output_type": "stream",
     "text": [
      "Before meb_dgm to oni circuits 701341\n",
      "After meb_dgm to oni circuits 701341\n"
     ]
    }
   ],
   "source": [
    "# przygotowywuję tabelę ONI_CIRCUITS do połączenia \n",
    "\n",
    "oni_circuits = data['ONI_CIRCUITS'].pivot(index='id_dmc', columns='circuit_nr', values=['assigment', 'flow', 'ref_time', 'set_point', 'start_delay', 'working_mode', 'temp'])\n",
    "oni_circuits.columns = oni_circuits.columns.map('{0[0]}_{0[1]}'.format) \n",
    "oni_circuits.reset_index(inplace=True)\n",
    "\n",
    "\n",
    "# łączę z tabelą MEB_DGM\n",
    "print(f\"Before meb_dgm to oni circuits {len(oni_circuits)}\")\n",
    "oni_circuits = oni_circuits.merge(data['MEB_DGM'], left_on='id_dmc', right_on='id', how='left')\n",
    "print(f\"After meb_dgm to oni circuits {len(oni_circuits)}\")"
   ]
  },
  {
   "cell_type": "code",
   "execution_count": 30,
   "metadata": {},
   "outputs": [],
   "source": [
    "# Usunięcie nulli z oni circuits 'dmc'\n",
    "oni_circuits = oni_circuits.dropna(subset=['dmc'])"
   ]
  },
  {
   "cell_type": "code",
   "execution_count": null,
   "metadata": {},
   "outputs": [],
   "source": [
    "oni_circuits[oni_circuits.id_dmc_x == oni_circuits.id]"
   ]
  },
  {
   "cell_type": "code",
   "execution_count": null,
   "metadata": {},
   "outputs": [],
   "source": [
    "oni_circuits.drop(columns=['id_dmc_y'], inplace=True)\n",
    "oni_circuits.rename(columns={'id_dmc_x': 'id_dmc'}, inplace=True)"
   ]
  },
  {
   "cell_type": "code",
   "execution_count": null,
   "metadata": {},
   "outputs": [],
   "source": [
    "print(list(oni_circuits.keys()))"
   ]
  },
  {
   "cell_type": "code",
   "execution_count": null,
   "metadata": {},
   "outputs": [],
   "source": [
    "# łączę tabelę MEB_DMC z ONI_CIRCUITS\n",
    "print(f\"Before oni circuits to meb_dmc {len(final_table)}\")\n",
    "final_table = final_table.merge(oni_circuits, left_on='dmc_casting', right_on='dmc', how='left', suffixes=('_DMC', '_ONI'))\n",
    "#data['MEB_DMC'].head(1)\n",
    "print(f\"after oni circuits to meb_dmc {len(final_table)}\")"
   ]
  },
  {
   "cell_type": "code",
   "execution_count": null,
   "metadata": {},
   "outputs": [],
   "source": [
    "duplicate_count = final_table['dmc_casting'].duplicated(keep=False).sum()\n",
    "print(f\"Number of rows with the same 'dmc_casting' value: {duplicate_count}\")"
   ]
  },
  {
   "cell_type": "code",
   "execution_count": null,
   "metadata": {},
   "outputs": [],
   "source": [
    "# nones_meb_dgm = oni_circuits['dmc'].isna().sum()\n",
    "# print(nones_meb_dgm)\n",
    "# oni_circuits = oni_circuits.dropna(subset=['dmc'])\n",
    "# nones_meb_dgm = oni_circuits['dmc'].isna().sum()\n",
    "# print(nones_meb_dgm)"
   ]
  },
  {
   "cell_type": "code",
   "execution_count": null,
   "metadata": {},
   "outputs": [],
   "source": [
    "nones_meb_dmc = data['MEB_DMC']['dmc_casting'].isna().sum()\n",
    "print(nones_meb_dmc)"
   ]
  },
  {
   "cell_type": "code",
   "execution_count": null,
   "metadata": {},
   "outputs": [],
   "source": [
    "nones = final_table['dmc_casting'].isna().sum()\n",
    "print(nones)"
   ]
  },
  {
   "cell_type": "code",
   "execution_count": null,
   "metadata": {},
   "outputs": [],
   "source": [
    "duplicates = final_table[final_table['dmc_casting'].duplicated(keep=False)]\n",
    "print(\"Duplicated rows:\")\n",
    "print(duplicates.head(10))"
   ]
  },
  {
   "cell_type": "code",
   "execution_count": null,
   "metadata": {},
   "outputs": [],
   "source": [
    "print(list(final_table.keys()))"
   ]
  },
  {
   "cell_type": "code",
   "execution_count": null,
   "metadata": {},
   "outputs": [],
   "source": [
    "duplicate_count_oni = final_table['dmc_DMC'].duplicated(keep=False).sum()\n",
    "print(f\"Number of rows with the same 'dmc' value: {duplicate_count_oni}\")"
   ]
  },
  {
   "cell_type": "code",
   "execution_count": 28,
   "metadata": {},
<<<<<<< HEAD
   "outputs": [
    {
     "data": {
      "text/html": [
       "<div>\n",
       "<style scoped>\n",
       "    .dataframe tbody tr th:only-of-type {\n",
       "        vertical-align: middle;\n",
       "    }\n",
       "\n",
       "    .dataframe tbody tr th {\n",
       "        vertical-align: top;\n",
       "    }\n",
       "\n",
       "    .dataframe thead th {\n",
       "        text-align: right;\n",
       "    }\n",
       "</style>\n",
       "<table border=\"1\" class=\"dataframe\">\n",
       "  <thead>\n",
       "    <tr style=\"text-align: right;\">\n",
       "      <th></th>\n",
       "      <th>id_dmc</th>\n",
       "      <th>dmc</th>\n",
       "      <th>status_koncowy</th>\n",
       "      <th>dmc_casting</th>\n",
       "      <th>nok_strefa</th>\n",
       "      <th>nok_rodzaj</th>\n",
       "      <th>status_ko</th>\n",
       "      <th>kod_pola</th>\n",
       "      <th>rodzaj_uszkodzenia</th>\n",
       "      <th>id_meb_grob</th>\n",
       "      <th>...</th>\n",
       "      <th>pressure_pcf_1</th>\n",
       "      <th>pressure_pcf_2</th>\n",
       "      <th>pressure_pcf_3</th>\n",
       "      <th>machine_nr</th>\n",
       "      <th>cisnienie</th>\n",
       "      <th>przeciek</th>\n",
       "      <th>nrprogramu</th>\n",
       "      <th>temperaturatestu</th>\n",
       "      <th>statusszczelnosc</th>\n",
       "      <th>statusdmc</th>\n",
       "    </tr>\n",
       "  </thead>\n",
       "  <tbody>\n",
       "    <tr>\n",
       "      <th>0</th>\n",
       "      <td>2063</td>\n",
       "      <td>0MH301103CVW41910090436321102S111910040455</td>\n",
       "      <td>2.0</td>\n",
       "      <td>None</td>\n",
       "      <td>511.0</td>\n",
       "      <td>201.0</td>\n",
       "      <td>2.0</td>\n",
       "      <td>S11</td>\n",
       "      <td>Mechaniczne - odlewnicze</td>\n",
       "      <td>NaN</td>\n",
       "      <td>...</td>\n",
       "      <td>NaN</td>\n",
       "      <td>NaN</td>\n",
       "      <td>NaN</td>\n",
       "      <td>NaN</td>\n",
       "      <td>1.052</td>\n",
       "      <td>1.339</td>\n",
       "      <td>1.0</td>\n",
       "      <td>22.519999</td>\n",
       "      <td>1.0</td>\n",
       "      <td>1.0</td>\n",
       "    </tr>\n",
       "    <tr>\n",
       "      <th>1</th>\n",
       "      <td>2064</td>\n",
       "      <td>0MH301103CVW41910090436411102S111910040410</td>\n",
       "      <td>1.0</td>\n",
       "      <td>None</td>\n",
       "      <td>0.0</td>\n",
       "      <td>0.0</td>\n",
       "      <td>1.0</td>\n",
       "      <td>Brak</td>\n",
       "      <td>Brak</td>\n",
       "      <td>NaN</td>\n",
       "      <td>...</td>\n",
       "      <td>NaN</td>\n",
       "      <td>NaN</td>\n",
       "      <td>NaN</td>\n",
       "      <td>NaN</td>\n",
       "      <td>1.052</td>\n",
       "      <td>1.893</td>\n",
       "      <td>1.0</td>\n",
       "      <td>22.439999</td>\n",
       "      <td>1.0</td>\n",
       "      <td>1.0</td>\n",
       "    </tr>\n",
       "    <tr>\n",
       "      <th>2</th>\n",
       "      <td>2065</td>\n",
       "      <td>0MH301103CVW41910090436521102S111910040350</td>\n",
       "      <td>2.0</td>\n",
       "      <td>None</td>\n",
       "      <td>505.0</td>\n",
       "      <td>201.0</td>\n",
       "      <td>2.0</td>\n",
       "      <td>S05</td>\n",
       "      <td>Mechaniczne - odlewnicze</td>\n",
       "      <td>NaN</td>\n",
       "      <td>...</td>\n",
       "      <td>NaN</td>\n",
       "      <td>NaN</td>\n",
       "      <td>NaN</td>\n",
       "      <td>NaN</td>\n",
       "      <td>1.054</td>\n",
       "      <td>2.202</td>\n",
       "      <td>1.0</td>\n",
       "      <td>21.439999</td>\n",
       "      <td>1.0</td>\n",
       "      <td>1.0</td>\n",
       "    </tr>\n",
       "    <tr>\n",
       "      <th>3</th>\n",
       "      <td>2066</td>\n",
       "      <td>0MH301103CVW41910090436611102S111910040356</td>\n",
       "      <td>2.0</td>\n",
       "      <td>None</td>\n",
       "      <td>511.0</td>\n",
       "      <td>201.0</td>\n",
       "      <td>2.0</td>\n",
       "      <td>S11</td>\n",
       "      <td>Mechaniczne - odlewnicze</td>\n",
       "      <td>NaN</td>\n",
       "      <td>...</td>\n",
       "      <td>NaN</td>\n",
       "      <td>NaN</td>\n",
       "      <td>NaN</td>\n",
       "      <td>NaN</td>\n",
       "      <td>1.055</td>\n",
       "      <td>2.788</td>\n",
       "      <td>1.0</td>\n",
       "      <td>22.039999</td>\n",
       "      <td>1.0</td>\n",
       "      <td>1.0</td>\n",
       "    </tr>\n",
       "    <tr>\n",
       "      <th>4</th>\n",
       "      <td>2067</td>\n",
       "      <td>0MH301103CVW41910090436721102S111910040345</td>\n",
       "      <td>2.0</td>\n",
       "      <td>None</td>\n",
       "      <td>513.0</td>\n",
       "      <td>202.0</td>\n",
       "      <td>2.0</td>\n",
       "      <td>S13</td>\n",
       "      <td>Mechaniczne - obróbka MF</td>\n",
       "      <td>NaN</td>\n",
       "      <td>...</td>\n",
       "      <td>NaN</td>\n",
       "      <td>NaN</td>\n",
       "      <td>NaN</td>\n",
       "      <td>NaN</td>\n",
       "      <td>1.052</td>\n",
       "      <td>4.267</td>\n",
       "      <td>1.0</td>\n",
       "      <td>24.639999</td>\n",
       "      <td>1.0</td>\n",
       "      <td>1.0</td>\n",
       "    </tr>\n",
       "  </tbody>\n",
       "</table>\n",
       "<p>5 rows × 26 columns</p>\n",
       "</div>"
      ],
      "text/plain": [
       "   id_dmc                                         dmc  status_koncowy  \\\n",
       "0    2063  0MH301103CVW41910090436321102S111910040455             2.0   \n",
       "1    2064  0MH301103CVW41910090436411102S111910040410             1.0   \n",
       "2    2065  0MH301103CVW41910090436521102S111910040350             2.0   \n",
       "3    2066  0MH301103CVW41910090436611102S111910040356             2.0   \n",
       "4    2067  0MH301103CVW41910090436721102S111910040345             2.0   \n",
       "\n",
       "  dmc_casting  nok_strefa  nok_rodzaj  status_ko kod_pola  \\\n",
       "0        None       511.0       201.0        2.0      S11   \n",
       "1        None         0.0         0.0        1.0     Brak   \n",
       "2        None       505.0       201.0        2.0      S05   \n",
       "3        None       511.0       201.0        2.0      S11   \n",
       "4        None       513.0       202.0        2.0      S13   \n",
       "\n",
       "         rodzaj_uszkodzenia  id_meb_grob  ...  pressure_pcf_1  pressure_pcf_2  \\\n",
       "0  Mechaniczne - odlewnicze          NaN  ...             NaN             NaN   \n",
       "1                      Brak          NaN  ...             NaN             NaN   \n",
       "2  Mechaniczne - odlewnicze          NaN  ...             NaN             NaN   \n",
       "3  Mechaniczne - odlewnicze          NaN  ...             NaN             NaN   \n",
       "4  Mechaniczne - obróbka MF          NaN  ...             NaN             NaN   \n",
       "\n",
       "   pressure_pcf_3  machine_nr  cisnienie  przeciek  nrprogramu  \\\n",
       "0             NaN         NaN      1.052     1.339         1.0   \n",
       "1             NaN         NaN      1.052     1.893         1.0   \n",
       "2             NaN         NaN      1.054     2.202         1.0   \n",
       "3             NaN         NaN      1.055     2.788         1.0   \n",
       "4             NaN         NaN      1.052     4.267         1.0   \n",
       "\n",
       "   temperaturatestu  statusszczelnosc  statusdmc  \n",
       "0         22.519999               1.0        1.0  \n",
       "1         22.439999               1.0        1.0  \n",
       "2         21.439999               1.0        1.0  \n",
       "3         22.039999               1.0        1.0  \n",
       "4         24.639999               1.0        1.0  \n",
       "\n",
       "[5 rows x 26 columns]"
      ]
     },
     "execution_count": 28,
     "metadata": {},
     "output_type": "execute_result"
    }
   ],
=======
   "outputs": [],
>>>>>>> af0f293a8f849e610c553cd70cb373600a8fe66a
   "source": [
    "final_table.head()"
   ]
  },
  {
   "cell_type": "markdown",
   "metadata": {},
   "source": [
    "<h1>Usuwanie anomalii</h1>"
   ]
  },
  {
   "cell_type": "code",
   "execution_count": null,
   "metadata": {},
   "outputs": [],
   "source": [
    "print(list(data.keys()))"
   ]
  },
  {
   "cell_type": "code",
   "execution_count": 22,
   "metadata": {},
   "outputs": [],
   "source": [
    "meb_dgm_df = data['MEB_DGM']"
   ]
  },
  {
   "cell_type": "code",
   "execution_count": null,
   "metadata": {},
   "outputs": [],
   "source": [
    "print(meb_dgm_df.head(5))"
   ]
  },
  {
   "cell_type": "code",
   "execution_count": null,
   "metadata": {},
   "outputs": [],
   "source": [
    "print(list(meb_dgm_df.keys()))"
   ]
  },
  {
   "cell_type": "code",
   "execution_count": null,
   "metadata": {},
   "outputs": [],
   "source": [
    "print(meb_dgm_df['nr_dgm'].unique())\n",
    "print(len(meb_dgm_df))\n",
    "print(type(meb_dgm_df['nr_dgm'][0]))\n",
    "print(len(meb_dgm_df[meb_dgm_df['nr_dgm'] == 20]))"
   ]
  },
  {
   "cell_type": "code",
   "execution_count": null,
   "metadata": {},
   "outputs": [],
   "source": [
    "print(final_table.head(4))"
   ]
  },
  {
   "cell_type": "code",
   "execution_count": null,
   "metadata": {},
   "outputs": [],
   "source": [
    "for i in final_table.keys():\n",
    "    print(i)"
   ]
  },
  {
   "cell_type": "code",
   "execution_count": null,
   "metadata": {},
   "outputs": [],
   "source": [
    "result = meb_dgm_df.groupby(final_table['dmc_DMC'].str[:3]).size().reset_index(name='count_of_results')\n",
    "result.columns = ['unique_starting_letters', 'count_of_results']\n",
    "result = result.sort_values(by='unique_starting_letters')\n",
    "\n",
    "print(result)"
   ]
  },
  {
   "cell_type": "code",
   "execution_count": null,
   "metadata": {},
   "outputs": [],
   "source": [
    "meb_dgm_df[meb_dgm_df.dmc.str.len() < 21]"
   ]
  },
  {
   "cell_type": "code",
   "execution_count": null,
   "metadata": {},
   "outputs": [],
   "source": [
    "data['MEB_DMC'][data['MEB_DMC'].dmc_casting.str.len() < 21]"
   ]
  },
  {
   "cell_type": "code",
   "execution_count": null,
   "metadata": {},
   "outputs": [],
   "source": [
    "data['MEB_DMC'][data['MEB_DMC'].dmc.str.len() < 42]"
   ]
  },
  {
   "cell_type": "code",
   "execution_count": 27,
   "metadata": {},
   "outputs": [
    {
     "data": {
      "text/html": [
       "<div>\n",
       "<style scoped>\n",
       "    .dataframe tbody tr th:only-of-type {\n",
       "        vertical-align: middle;\n",
       "    }\n",
       "\n",
       "    .dataframe tbody tr th {\n",
       "        vertical-align: top;\n",
       "    }\n",
       "\n",
       "    .dataframe thead th {\n",
       "        text-align: right;\n",
       "    }\n",
       "</style>\n",
       "<table border=\"1\" class=\"dataframe\">\n",
       "  <thead>\n",
       "    <tr style=\"text-align: right;\">\n",
       "      <th></th>\n",
       "      <th>id_dmc</th>\n",
       "      <th>dmc</th>\n",
       "      <th>status_koncowy</th>\n",
       "      <th>dmc_casting</th>\n",
       "    </tr>\n",
       "  </thead>\n",
       "  <tbody>\n",
       "    <tr>\n",
       "      <th>3153</th>\n",
       "      <td>5776</td>\n",
       "      <td>0MH301103CVW41910300767021202S111909301231</td>\n",
       "      <td>1.0</td>\n",
       "      <td>190930123121011010067</td>\n",
       "    </tr>\n",
       "    <tr>\n",
       "      <th>3154</th>\n",
       "      <td>5777</td>\n",
       "      <td>0MH301103CVW41910300767111202S111909301227</td>\n",
       "      <td>1.0</td>\n",
       "      <td>190930122721011010064</td>\n",
       "    </tr>\n",
       "    <tr>\n",
       "      <th>3155</th>\n",
       "      <td>5778</td>\n",
       "      <td>0MH301103CVW41910300767221202S111909301220</td>\n",
       "      <td>1.0</td>\n",
       "      <td>190930122021011010060</td>\n",
       "    </tr>\n",
       "    <tr>\n",
       "      <th>3156</th>\n",
       "      <td>5779</td>\n",
       "      <td>0MH301103CVW41910300767311202S111909301215</td>\n",
       "      <td>1.0</td>\n",
       "      <td>190930121521011010057</td>\n",
       "    </tr>\n",
       "    <tr>\n",
       "      <th>3157</th>\n",
       "      <td>5780</td>\n",
       "      <td>0MH301103CVW41910300767421202S111909301235</td>\n",
       "      <td>1.0</td>\n",
       "      <td>190930123521011010069</td>\n",
       "    </tr>\n",
       "    <tr>\n",
       "      <th>...</th>\n",
       "      <td>...</td>\n",
       "      <td>...</td>\n",
       "      <td>...</td>\n",
       "      <td>...</td>\n",
       "    </tr>\n",
       "    <tr>\n",
       "      <th>1190795</th>\n",
       "      <td>1195694</td>\n",
       "      <td>0MH301103DVW42309059177623103S522309051500</td>\n",
       "      <td>1.0</td>\n",
       "      <td>230905150031052165162</td>\n",
       "    </tr>\n",
       "    <tr>\n",
       "      <th>1190796</th>\n",
       "      <td>1195695</td>\n",
       "      <td>0MH301103DVW42309059177711103S522309051359</td>\n",
       "      <td>1.0</td>\n",
       "      <td>230905135911052165121</td>\n",
       "    </tr>\n",
       "    <tr>\n",
       "      <th>1190797</th>\n",
       "      <td>1195698</td>\n",
       "      <td>0MH301103DVW42309059178213103S522309051405</td>\n",
       "      <td>1.0</td>\n",
       "      <td>230905140531052165125</td>\n",
       "    </tr>\n",
       "    <tr>\n",
       "      <th>1190798</th>\n",
       "      <td>1195703</td>\n",
       "      <td>0MH301103DVW42309059178714103S522309051439</td>\n",
       "      <td>1.0</td>\n",
       "      <td>230905143931052165147</td>\n",
       "    </tr>\n",
       "    <tr>\n",
       "      <th>1190799</th>\n",
       "      <td>1195704</td>\n",
       "      <td>0MH301103DVW42309059178812103S522309051434</td>\n",
       "      <td>1.0</td>\n",
       "      <td>230905143431052165144</td>\n",
       "    </tr>\n",
       "  </tbody>\n",
       "</table>\n",
       "<p>1182928 rows × 4 columns</p>\n",
       "</div>"
      ],
      "text/plain": [
       "          id_dmc                                         dmc  status_koncowy  \\\n",
       "3153        5776  0MH301103CVW41910300767021202S111909301231             1.0   \n",
       "3154        5777  0MH301103CVW41910300767111202S111909301227             1.0   \n",
       "3155        5778  0MH301103CVW41910300767221202S111909301220             1.0   \n",
       "3156        5779  0MH301103CVW41910300767311202S111909301215             1.0   \n",
       "3157        5780  0MH301103CVW41910300767421202S111909301235             1.0   \n",
       "...          ...                                         ...             ...   \n",
       "1190795  1195694  0MH301103DVW42309059177623103S522309051500             1.0   \n",
       "1190796  1195695  0MH301103DVW42309059177711103S522309051359             1.0   \n",
       "1190797  1195698  0MH301103DVW42309059178213103S522309051405             1.0   \n",
       "1190798  1195703  0MH301103DVW42309059178714103S522309051439             1.0   \n",
       "1190799  1195704  0MH301103DVW42309059178812103S522309051434             1.0   \n",
       "\n",
       "                   dmc_casting  \n",
       "3153     190930123121011010067  \n",
       "3154     190930122721011010064  \n",
       "3155     190930122021011010060  \n",
       "3156     190930121521011010057  \n",
       "3157     190930123521011010069  \n",
       "...                        ...  \n",
       "1190795  230905150031052165162  \n",
       "1190796  230905135911052165121  \n",
       "1190797  230905140531052165125  \n",
       "1190798  230905143931052165147  \n",
       "1190799  230905143431052165144  \n",
       "\n",
       "[1182928 rows x 4 columns]"
      ]
     },
     "execution_count": 27,
     "metadata": {},
     "output_type": "execute_result"
    }
   ],
   "source": [
    "data['MEB_DMC'][~data['MEB_DMC'].dmc_casting.isna()]"
   ]
  },
  {
   "cell_type": "code",
   "execution_count": null,
   "metadata": {},
   "outputs": [],
   "source": []
  }
 ],
 "metadata": {
  "kernelspec": {
   "display_name": "base",
   "language": "python",
   "name": "python3"
  },
  "language_info": {
   "codemirror_mode": {
    "name": "ipython",
    "version": 3
   },
   "file_extension": ".py",
   "mimetype": "text/x-python",
   "name": "python",
   "nbconvert_exporter": "python",
   "pygments_lexer": "ipython3",
   "version": "3.10.10"
  },
  "orig_nbformat": 4
 },
 "nbformat": 4,
 "nbformat_minor": 2
}
