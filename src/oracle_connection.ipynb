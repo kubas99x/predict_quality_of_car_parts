{
 "cells": [
  {
   "cell_type": "code",
   "execution_count": 1,
   "metadata": {},
   "outputs": [],
   "source": [
    "import cx_Oracle\n",
    "import pandas as pd\n",
    "import sqlalchemy\n",
    "from sqlalchemy.exc import SQLAlchemyError"
   ]
  },
  {
   "cell_type": "markdown",
   "metadata": {},
   "source": [
    "<h1>Pobieranie danych z bazy</h1>"
   ]
  },
  {
   "cell_type": "code",
   "execution_count": 2,
   "metadata": {},
   "outputs": [],
   "source": [
    "data = {}\n",
    "\n",
    "dbtables = ['MEB_DGM', 'MEB_DMC', 'MEB_GROB', 'MEB_KO', 'MEB_KO_DGM', 'MEB_KO_RODZAJ', 'MEB_KO_STREFA', 'MEB_KS', 'ONI_CIRCUITS']\n",
    "querys = [\n",
    "#Tutaj występują duplikaty, ale jeszcze nie zdecydowaliśmy co z nimi zrobić\n",
    "\"\"\"\n",
    "SELECT * \n",
    "FROM Z3DMC.MEB_DGM\n",
    "\"\"\",\n",
    "#Tutaj występują duplikaty, ale jeszcze nie zdecydowaliśmy co z nimi zrobić, usunąłem tylko nulle i anomalię\n",
    "#Po wykonaniu LEFT JOIN liczba rekordów się zwiększyła, trzeba usunąć duplikaty z DMC_CASTING ~ LO\n",
    "\"\"\"\n",
    "SELECT *\n",
    "FROM Z3DMC.MEB_DMC\n",
    "WHERE (DMC <> 'null') AND (DMC <> 'NIECZYTELNY')\n",
    "\"\"\",\n",
    "\"\"\"\n",
    "SELECT *\n",
    "FROM (\n",
    "  SELECT\n",
    "    t.*,\n",
    "    ROW_NUMBER() OVER (PARTITION BY ID_DMC ORDER BY ID_MEB_GROB DESC) AS rn\n",
    "  FROM\n",
    "    Z3DMC.MEB_GROB t\n",
    ") subquery\n",
    "WHERE rn = 1\n",
    "\"\"\",\n",
    "\"\"\"\n",
    "SELECT *\n",
    "FROM (\n",
    "  SELECT\n",
    "    t.*,\n",
    "    ROW_NUMBER() OVER (PARTITION BY ID_DMC ORDER BY ID_KO DESC) AS rn\n",
    "  FROM\n",
    "    Z3DMC.MEB_KO t\n",
    ") subquery\n",
    "WHERE rn = 1\n",
    "\"\"\",\n",
    "\"\"\"\n",
    "SELECT *\n",
    "FROM (\n",
    "  SELECT\n",
    "    t.*,\n",
    "    ROW_NUMBER() OVER (PARTITION BY ID_DMC ORDER BY ID_KO DESC) AS rn\n",
    "  FROM\n",
    "    Z3DMC.MEB_KO_DGM t\n",
    "  WHERE ID_DMC <> 0\n",
    ") subquery\n",
    "WHERE rn = 1\n",
    "\"\"\",\n",
    "#Tabela słownik, niczego nie usuwamy, wczytuję całą tabelę\n",
    "\"\"\"\n",
    "SELECT *\n",
    "FROM Z3DMC.MEB_KO_RODZAJ\n",
    "\"\"\",\n",
    "#Tabela słownik, niczego nie usuwamy, wczytuję całą tabelę\n",
    "\"\"\"\n",
    "SELECT *\n",
    "FROM Z3DMC.MEB_KO_STREFA\n",
    "\"\"\",\n",
    "\"\"\"\n",
    "SELECT *\n",
    "FROM (\n",
    "  SELECT\n",
    "    t.*,\n",
    "    ROW_NUMBER() OVER (PARTITION BY ID_DMC ORDER BY ID_KS DESC) AS rn\n",
    "  FROM\n",
    "    Z3DMC.MEB_KS t\n",
    ") subquery\n",
    "WHERE rn = 1\n",
    "\"\"\",\n",
    "#Tabela ONI_CIRCUITS posiada wiele duplikatów, a powinno być ich do 28 per jeden ID_DMC, dlatego wrzucam całą tabelę i przegadamy co z tym zrobić.\n",
    "#Poniżej zakomentowany kod usuwający wszystkie duplikaty.\n",
    "\"\"\"\n",
    "SELECT ID_DMC, CIRCUIT_NR, \n",
    "MAX(ASSIGMENT) AS ASSIGMENT, \n",
    "MAX(FLOW) AS FLOW, \n",
    "MAX(REF_TIME) AS REF_TIME,\n",
    "MAX(SET_POINT) AS SET_POINT,\n",
    "MAX(START_DELAY) AS START_DELAY,\n",
    "MAX(TEMP) AS TEMP,\n",
    "MAX(WORKING_MODE) AS WORKING_MODE,\n",
    "MAX(TIMESTAMP) AS TIMESTAMP\n",
    "FROM Z3DMC.ONI_CIRCUITS\n",
    "GROUP BY ID_DMC, CIRCUIT_NR\n",
    "ORDER BY ID_DMC\n",
    "\"\"\"\n",
    "#SELECT *\n",
    "#FROM (\n",
    "#  SELECT\n",
    "#    t.*,\n",
    "#    ROW_NUMBER() OVER (PARTITION BY ID_DMC ORDER BY ID_CIRCUIT DESC) AS rn\n",
    "#  FROM\n",
    "#    Z3DMC.ONI_CIRCUITS t\n",
    "#) subquery\n",
    "#WHERE rn = 1\n",
    "]\n",
    "username = 'dmcro'\n",
    "password = 'ouZ9Rys7astDp4byjUvO'\n",
    "dsn = 'vwpnwrud0000rac:1521/dmc.vwg'\n",
    "dbhostname='vwpnwrud0000rac'\n",
    "service_name='dmc.vwg'"
   ]
  },
  {
   "cell_type": "code",
   "execution_count": 3,
   "metadata": {},
   "outputs": [],
   "source": [
    "try:\n",
    "    sqlalchemy_engine=\"oracle+cx_oracle://\"+username+\":\"+password+\"@\"+dbhostname+\"/?service_name=\"+service_name\n",
    "    engine = sqlalchemy.create_engine(sqlalchemy_engine, arraysize=1000)\n",
    "    for table, query in zip(dbtables, querys):\n",
    "        data.update({table: pd.read_sql(query, engine)})\n",
    "except SQLAlchemyError as e:\n",
    "    print(e)"
   ]
  },
  {
   "cell_type": "markdown",
   "metadata": {},
   "source": [
    "<h1>Usuwanie zbędnych kolumn z tabel</h1>"
   ]
  },
  {
   "cell_type": "code",
   "execution_count": 4,
   "metadata": {},
   "outputs": [
    {
     "name": "stdout",
     "output_type": "stream",
     "text": [
      "['MEB_DGM', 'MEB_DMC', 'MEB_GROB', 'MEB_KO', 'MEB_KO_DGM', 'MEB_KO_RODZAJ', 'MEB_KO_STREFA', 'MEB_KS', 'ONI_CIRCUITS']\n"
     ]
    }
   ],
   "source": [
    "print(list(data.keys()))\n",
    "# Useless tables\n",
    "# MEB_CONTAINERS, MEB_DMC_GRADE, MEB_KS_WZORC"
   ]
  },
  {
   "cell_type": "code",
   "execution_count": 5,
   "metadata": {},
   "outputs": [
    {
     "name": "stdout",
     "output_type": "stream",
     "text": [
      "\n",
      " ONI_CIRCUITS after drop of columns: \n",
      "\n",
      "   id_dmc  circuit_nr  assigment  flow  ref_time  set_point  start_delay  \\\n",
      "0  235342           1          0   0.0       0.0        0.0          0.0   \n",
      "1  235342           2          0   0.0       0.0        0.0          0.0   \n",
      "2  235342           3          0   0.0       0.0        0.0          0.0   \n",
      "3  235342           4          0   0.0       0.0        0.0          0.0   \n",
      "4  235342           5          0   0.0       0.0        0.0          0.0   \n",
      "\n",
      "   temp  working_mode  \n",
      "0   0.0             0  \n",
      "1   0.0             0  \n",
      "2   0.0             0  \n",
      "3   0.0             0  \n",
      "4   0.0             0  \n"
     ]
    }
   ],
   "source": [
    "# ONI CIRCUITS\n",
    "# print(data['ONI_CIRCUITS'].head())\n",
    "data['ONI_CIRCUITS'].drop(columns=['timestamp'], inplace=True)\n",
    "print(\"\\n ONI_CIRCUITS after drop of columns: \\n\")\n",
    "print(data['ONI_CIRCUITS'].head())"
   ]
  },
  {
   "cell_type": "code",
   "execution_count": 6,
   "metadata": {},
   "outputs": [
    {
     "name": "stdout",
     "output_type": "stream",
     "text": [
      "\n",
      " MEB_DGM after drop of columns: \n",
      "\n",
      "     id                    dmc  nr_dgm status  czas_fazy_1  czas_fazy_2  \\\n",
      "0   220  190627091611011003610    10.0      4       1850.0         88.0   \n",
      "1  3416  190719071611011006077    10.0      1       2197.0         89.0   \n",
      "2  3417  190719071811011006078    10.0      1       2184.0         86.0   \n",
      "3  3418  190719072011011006079    10.0      1       2159.0         89.0   \n",
      "4  3419  190719072111011006080    10.0      1       2175.0         89.0   \n",
      "\n",
      "   czas_fazy_3  max_predkosc  cisnienie_tloka  cisnienie_koncowe  ...  \\\n",
      "0         47.5          6.52              7.0              264.0  ...   \n",
      "1         46.5          6.59             11.0              285.0  ...   \n",
      "2         45.0          6.52              8.0              284.0  ...   \n",
      "3         45.5          6.54              6.0              284.0  ...   \n",
      "4         47.0          6.57              8.0              283.0  ...   \n",
      "\n",
      "   oni_temp_curr_f2  oni_temp_fore_f1  oni_temp_fore_f2  vds_air_pressure  \\\n",
      "0               NaN               NaN               NaN               NaN   \n",
      "1               NaN               NaN               NaN               NaN   \n",
      "2               NaN               NaN               NaN               NaN   \n",
      "3               NaN               NaN               NaN               NaN   \n",
      "4               NaN               NaN               NaN               NaN   \n",
      "\n",
      "   vds_vac_hose1  vds_vac_hose2  vds_vac_tank  vds_vac_valve1  vds_vac_valve2  \\\n",
      "0            NaN            NaN           NaN             NaN             NaN   \n",
      "1            NaN            NaN           NaN             NaN             NaN   \n",
      "2            NaN            NaN           NaN             NaN             NaN   \n",
      "3            NaN            NaN           NaN             NaN             NaN   \n",
      "4            NaN            NaN           NaN             NaN             NaN   \n",
      "\n",
      "   czas_taktu  \n",
      "0         NaN  \n",
      "1         NaN  \n",
      "2         NaN  \n",
      "3         NaN  \n",
      "4         NaN  \n",
      "\n",
      "[5 rows x 25 columns]\n"
     ]
    }
   ],
   "source": [
    "# MEB_DGM\n",
    "# print(data['MEB_DGM'].columns)\n",
    "# print(data['MEB_DGM'].head(5))\n",
    "# ('metal_level', 'metal_pressure') - We do not collect this data yet\n",
    "data['MEB_DGM'].drop(columns=['timestamp', 'data_znakowania', 'data_odlania', 'metal_level', 'metal_pressure'], inplace=True)\n",
    "print(\"\\n MEB_DGM after drop of columns: \\n\")\n",
    "print(data['MEB_DGM'].head(5))"
   ]
  },
  {
   "cell_type": "code",
   "execution_count": 7,
   "metadata": {},
   "outputs": [
    {
     "name": "stdout",
     "output_type": "stream",
     "text": [
      "\n",
      " MEB_DMC after drop of columns: \n",
      "\n",
      "   id_dmc                                         dmc  status_koncowy  \\\n",
      "0    2063  0MH301103CVW41910090436321102S111910040455             2.0   \n",
      "1    2064  0MH301103CVW41910090436411102S111910040410             1.0   \n",
      "2    2065  0MH301103CVW41910090436521102S111910040350             2.0   \n",
      "3    2066  0MH301103CVW41910090436611102S111910040356             2.0   \n",
      "4    2067  0MH301103CVW41910090436721102S111910040345             2.0   \n",
      "\n",
      "  dmc_casting  \n",
      "0        None  \n",
      "1        None  \n",
      "2        None  \n",
      "3        None  \n",
      "4        None  \n"
     ]
    }
   ],
   "source": [
    "#MEB_DMC\n",
    "# print(data['MEB_DMC'].columns)\n",
    "# print(data['MEB_DMC'].head(5))\n",
    "data['MEB_DMC'].drop(columns = ['timestamp', 'update_time','id_meb_containers', 'packed_time', 'first_packed_time', 'production_step'], inplace = True)\n",
    "print(\"\\n MEB_DMC after drop of columns: \\n\")\n",
    "print(data['MEB_DMC'].head(5))"
   ]
  },
  {
   "cell_type": "code",
   "execution_count": 8,
   "metadata": {},
   "outputs": [
    {
     "name": "stdout",
     "output_type": "stream",
     "text": [
      "\n",
      " MEB_KO after drop of columns: \n",
      "\n",
      "   id_dmc  nok_strefa  nok_rodzaj  status_ko  rn\n",
      "0    2007           0           0          0   1\n",
      "1    2062           0           0          1   1\n",
      "2    2063         511         201          2   1\n",
      "3    2064           0           0          1   1\n",
      "4    2065         505         201          2   1\n"
     ]
    }
   ],
   "source": [
    "#MEB_KO\n",
    "# print(data['MEB_KO'].columns)\n",
    "# print(data['MEB_KO'].head(5))\n",
    "data['MEB_KO'].drop(columns = ['id_ko', 'data', 'timestamp', 'eks'], inplace = True)\n",
    "print(\"\\n MEB_KO after drop of columns: \\n\")\n",
    "print(data['MEB_KO'].head(5))"
   ]
  },
  {
   "cell_type": "code",
   "execution_count": 9,
   "metadata": {},
   "outputs": [
    {
     "name": "stdout",
     "output_type": "stream",
     "text": [
      "\n",
      " MEB_KO_DGM after drop of columns: \n",
      "\n",
      "   id_dmc  nok_strefa  nok_rodzaj  status_ko  rodzaj_kontroli product_id  \\\n",
      "0   67460           0           0          1                1       None   \n",
      "1   67475           0           0          1                1       None   \n",
      "2   67521           0           0          1                1       None   \n",
      "3   67522           0           0          1                1       None   \n",
      "4   67523           0           0          1                1       None   \n",
      "\n",
      "  line_id  rn  \n",
      "0    None   1  \n",
      "1    None   1  \n",
      "2    None   1  \n",
      "3    None   1  \n",
      "4    None   1  \n"
     ]
    }
   ],
   "source": [
    "#MEB_KO_DGM\n",
    "# print(data['MEB_KO_DGM'].columns)\n",
    "# print(data['MEB_KO_DGM'].head(5))\n",
    "data['MEB_KO_DGM'].drop(columns = ['id_ko','data_odlania', 'timestamp', 'operator'], inplace = True)\n",
    "print(\"\\n MEB_KO_DGM after drop of columns: \\n\")\n",
    "print(data['MEB_KO_DGM'].head(5))"
   ]
  },
  {
   "cell_type": "code",
   "execution_count": 10,
   "metadata": {},
   "outputs": [
    {
     "name": "stdout",
     "output_type": "stream",
     "text": [
      "\n",
      " 'MEB_KS' after drop of columns: \n",
      "\n",
      "   cisnienie  przeciek  nrprogramu  temperaturatestu  statusszczelnosc  \\\n",
      "0      1.051     0.398           1         23.680000                 1   \n",
      "1      1.054     0.393           1         23.719999                 1   \n",
      "2      1.053     0.794           1         22.519999                 1   \n",
      "3      1.055     0.433           1         22.600000                 1   \n",
      "4      0.992    24.202           1         22.840000                 3   \n",
      "\n",
      "   statusdmc  id_dmc  rn  \n",
      "0        1.0    1917   1  \n",
      "1        1.0    1918   1  \n",
      "2        1.0    1919   1  \n",
      "3        1.0    1920   1  \n",
      "4        1.0    1921   1  \n"
     ]
    }
   ],
   "source": [
    "# MEB_KS\n",
    "# print(data['MEB_KS'].columns)\n",
    "# print(data['MEB_KS'].head(5))\n",
    "data['MEB_KS'].drop(columns = ['id_ks', 'nrgniazda', 'liczbawystapien', 'nrformy', 'data', 'timestamp', 'gradedmc_max','gradedmc_aktualny'], inplace = True)\n",
    "print(\"\\n 'MEB_KS' after drop of columns: \\n\")\n",
    "print(data['MEB_KS'].head(5))"
   ]
  },
  {
   "cell_type": "code",
   "execution_count": 11,
   "metadata": {},
   "outputs": [
    {
     "name": "stdout",
     "output_type": "stream",
     "text": [
      "\n",
      " 'MEB_GROB' after drop of columns: \n",
      "\n",
      "   id_meb_grob  id_dmc  part_type  part_status  last_machine_number  \\\n",
      "0            5    5746          1            1                    1   \n",
      "1            6    5753          1            1                    1   \n",
      "2            7    5754          1            1                    1   \n",
      "3            8    5756          1            1                    1   \n",
      "4            9    5758          1            1                    1   \n",
      "\n",
      "   last_pcf_number  temp_workpiece  temp_hydraulics  pressure_pcf_1  \\\n",
      "0                2       23.400000        33.400002           100.0   \n",
      "1                1       23.500000        33.400002           100.0   \n",
      "2                2       23.299999        33.400002           100.0   \n",
      "3                1       23.500000        33.400002           100.0   \n",
      "4                2       23.299999        33.400002           100.0   \n",
      "\n",
      "   pressure_pcf_2  pressure_pcf_3  machine_nr  rn  \n",
      "0           100.0            89.0         1.0   1  \n",
      "1           100.0            89.0         1.0   1  \n",
      "2           100.0            89.0         1.0   1  \n",
      "3            99.0            89.0         1.0   1  \n",
      "4            99.0            89.0         1.0   1  \n"
     ]
    }
   ],
   "source": [
    "#MEB_GROB \n",
    "# print(data['MEB_GROB'].columns)\n",
    "# print(data['MEB_GROB'].head(5))\n",
    "data['MEB_GROB'].drop(columns = ['shift_number', 'last_operation', 'timestamp', 'production_date', 'reworkrequested', \n",
    "                                'reworkdone', 'partcleaningisfinished', 'waitfortoolcheck', 'workingstep1', 'workingstep2', 'workingstep3', 'workingstep4', 'mms_ok'], inplace = True)\n",
    "print(\"\\n 'MEB_GROB' after drop of columns: \\n\")\n",
    "print(data['MEB_GROB'].head(5))\n"
   ]
  },
  {
   "cell_type": "markdown",
   "metadata": {},
   "source": [
    "<h1>Łączenie tabel</h1>"
   ]
  },
  {
   "cell_type": "code",
   "execution_count": 12,
   "metadata": {},
   "outputs": [],
   "source": [
    "# usuwanie znaków białych z DMC i DMC_CASTING\n",
    "data['MEB_DMC'].dmc_casting = data['MEB_DMC'].dmc_casting.str.strip()\n",
    "data['MEB_DGM'].dmc = data['MEB_DGM'].dmc.str.strip()\n",
    "\n",
    "\n",
    "final_table = data['MEB_DMC'].copy()"
   ]
  },
  {
   "cell_type": "code",
   "execution_count": 13,
   "metadata": {},
   "outputs": [],
   "source": [
    "# wybieranie produktu MEB+\n",
    "data['MEB_DGM'] = data['MEB_DGM'][(data['MEB_DGM'].nr_dgm >= 8) & (data['MEB_DGM'].nr_dgm <= 10)]"
   ]
  },
  {
   "cell_type": "code",
   "execution_count": 14,
   "metadata": {},
   "outputs": [],
   "source": [
    "# łączę tabele MEB_KO i MEB_KO_DGM z tabelami MEB_KO_STREFA/RODZAJ\n",
    "\n",
    "data['MEB_KO'] = data['MEB_KO'].merge(data['MEB_KO_STREFA'], left_on='nok_strefa', right_on='indeks', how='inner')\n",
    "data['MEB_KO'].drop(columns=['indeks'], inplace=True)\n",
    "\n",
    "data['MEB_KO'] = data['MEB_KO'].merge(data['MEB_KO_RODZAJ'], left_on='nok_rodzaj', right_on='indeks', how='inner')\n",
    "data['MEB_KO'].drop(columns=['indeks'], inplace=True)\n",
    "\n",
    "data['MEB_KO_DGM'] = data['MEB_KO_DGM'].merge(data['MEB_KO_STREFA'], left_on='nok_strefa', right_on='indeks', how='inner')\n",
    "data['MEB_KO_DGM'].drop(columns=['indeks'], inplace=True)\n",
    "\n",
    "data['MEB_KO_DGM'] = data['MEB_KO_DGM'].merge(data['MEB_KO_RODZAJ'], left_on='nok_rodzaj', right_on='indeks', how='inner')\n",
    "data['MEB_KO_DGM'].drop(columns=['indeks'], inplace=True)\n",
    "\n",
    "\n",
    "#data['MEB_KO'].head()\n",
    "#data['MEB_KO_DGM'].head()"
   ]
  },
  {
   "cell_type": "code",
   "execution_count": 15,
   "metadata": {},
   "outputs": [
    {
     "name": "stdout",
     "output_type": "stream",
     "text": [
      "(1190632, 4)\n",
      "(1190632, 9)\n"
     ]
    }
   ],
   "source": [
    "# łączę tabelę MEB_DMC z tabelą MEB_KO\n",
    "print(final_table.shape)\n",
    "final_table = final_table.merge(data['MEB_KO'], on='id_dmc', how='left')\n",
    "final_table.drop(columns=['rn'], inplace=True)\n",
    "print(final_table.shape)\n",
    "print(final_table.head())\n"
   ]
  },
  {
   "cell_type": "code",
   "execution_count": 16,
   "metadata": {},
   "outputs": [
    {
     "name": "stdout",
     "output_type": "stream",
     "text": [
      "(1190632, 9)\n",
      "(1190632, 20)\n"
     ]
    }
   ],
   "source": [
    "# łączę tabelę MEB_DMC z tabelą MEB_GROB\n",
    "print(final_table.shape)\n",
    "final_table = final_table.merge(data['MEB_GROB'], on='id_dmc', how='left')\n",
    "final_table.drop(columns=['rn'], inplace=True)\n",
    "print(final_table.shape)\n",
    "print(final_table.head())"
   ]
  },
  {
   "cell_type": "code",
   "execution_count": 17,
   "metadata": {},
   "outputs": [
    {
     "name": "stdout",
     "output_type": "stream",
     "text": [
      "(1190632, 20)\n",
      "(1190632, 26)\n"
     ]
    }
   ],
   "source": [
    "# łączę tabelę MEB_DMC z tabelą MEB_KS\n",
    "print(final_table.shape)\n",
    "final_table = final_table.merge(data['MEB_KS'], on='id_dmc', how='left')\n",
    "final_table.drop(columns=['rn'], inplace=True)\n",
    "print(final_table.shape)\n",
    "print(final_table.head())"
   ]
  },
  {
   "cell_type": "code",
   "execution_count": 18,
   "metadata": {},
   "outputs": [
    {
     "name": "stdout",
     "output_type": "stream",
     "text": [
      "(1276004, 25)\n",
      "(1276004, 34)\n"
     ]
    }
   ],
   "source": [
    "# łączę tabelę MEB_DGM z tabelą MEB_KO_DGM\n",
    "print(data['MEB_DGM'].shape)\n",
    "data['MEB_DGM'] = data['MEB_DGM'].merge(data['MEB_KO_DGM'], left_on='id', right_on='id_dmc', how='left')\n",
    "data['MEB_DGM'].drop(columns=['rn'], inplace=True)\n",
    "print(data['MEB_DGM'].shape)\n",
    "print(final_table.head())"
   ]
  },
  {
   "cell_type": "code",
   "execution_count": 20,
   "metadata": {},
   "outputs": [
    {
     "name": "stdout",
     "output_type": "stream",
     "text": [
      "Before meb_dgm to oni circuits701241\n",
      "After meb_dgm to oni circuits701241\n"
     ]
    }
   ],
   "source": [
    "# przygotowywuję tabelę ONI_CIRCUITS do połączenia \n",
    "\n",
    "oni_circuits = data['ONI_CIRCUITS'].pivot(index='id_dmc', columns='circuit_nr', values=['assigment', 'flow', 'ref_time', 'set_point', 'start_delay', 'working_mode', 'temp'])\n",
    "oni_circuits.columns = oni_circuits.columns.map('{0[0]}_{0[1]}'.format) \n",
    "oni_circuits.reset_index(inplace=True)\n",
    "\n",
    "\n",
    "# łączę z tabelą MEB_DGM\n",
    "print(f\"Before meb_dgm to oni circuits{len(oni_circuits)}\")\n",
    "oni_circuits = oni_circuits.merge(data['MEB_DGM'], left_on='id_dmc', right_on='id', how='left')\n",
    "oni_circuits.drop(columns=['id_dmc_y'], inplace=True)\n",
    "oni_circuits.rename(columns={'id_dmc_x': 'id_dmc'}, inplace=True)\n",
    "print(f\"After meb_dgm to oni circuits{len(oni_circuits)}\")\n",
    "print(oni_circuits.head())"
   ]
  },
  {
   "cell_type": "code",
   "execution_count": 21,
   "metadata": {},
   "outputs": [
    {
     "name": "stdout",
     "output_type": "stream",
     "text": [
      "['id_dmc', 'assigment_1', 'assigment_2', 'assigment_3', 'assigment_4', 'assigment_5', 'assigment_6', 'assigment_7', 'assigment_8', 'assigment_9', 'assigment_10', 'assigment_11', 'assigment_12', 'assigment_13', 'assigment_14', 'assigment_15', 'assigment_16', 'assigment_17', 'assigment_18', 'assigment_19', 'assigment_20', 'assigment_21', 'assigment_22', 'assigment_23', 'assigment_24', 'assigment_25', 'assigment_26', 'assigment_27', 'assigment_28', 'flow_1', 'flow_2', 'flow_3', 'flow_4', 'flow_5', 'flow_6', 'flow_7', 'flow_8', 'flow_9', 'flow_10', 'flow_11', 'flow_12', 'flow_13', 'flow_14', 'flow_15', 'flow_16', 'flow_17', 'flow_18', 'flow_19', 'flow_20', 'flow_21', 'flow_22', 'flow_23', 'flow_24', 'flow_25', 'flow_26', 'flow_27', 'flow_28', 'ref_time_1', 'ref_time_2', 'ref_time_3', 'ref_time_4', 'ref_time_5', 'ref_time_6', 'ref_time_7', 'ref_time_8', 'ref_time_9', 'ref_time_10', 'ref_time_11', 'ref_time_12', 'ref_time_13', 'ref_time_14', 'ref_time_15', 'ref_time_16', 'ref_time_17', 'ref_time_18', 'ref_time_19', 'ref_time_20', 'ref_time_21', 'ref_time_22', 'ref_time_23', 'ref_time_24', 'ref_time_25', 'ref_time_26', 'ref_time_27', 'ref_time_28', 'set_point_1', 'set_point_2', 'set_point_3', 'set_point_4', 'set_point_5', 'set_point_6', 'set_point_7', 'set_point_8', 'set_point_9', 'set_point_10', 'set_point_11', 'set_point_12', 'set_point_13', 'set_point_14', 'set_point_15', 'set_point_16', 'set_point_17', 'set_point_18', 'set_point_19', 'set_point_20', 'set_point_21', 'set_point_22', 'set_point_23', 'set_point_24', 'set_point_25', 'set_point_26', 'set_point_27', 'set_point_28', 'start_delay_1', 'start_delay_2', 'start_delay_3', 'start_delay_4', 'start_delay_5', 'start_delay_6', 'start_delay_7', 'start_delay_8', 'start_delay_9', 'start_delay_10', 'start_delay_11', 'start_delay_12', 'start_delay_13', 'start_delay_14', 'start_delay_15', 'start_delay_16', 'start_delay_17', 'start_delay_18', 'start_delay_19', 'start_delay_20', 'start_delay_21', 'start_delay_22', 'start_delay_23', 'start_delay_24', 'start_delay_25', 'start_delay_26', 'start_delay_27', 'start_delay_28', 'working_mode_1', 'working_mode_2', 'working_mode_3', 'working_mode_4', 'working_mode_5', 'working_mode_6', 'working_mode_7', 'working_mode_8', 'working_mode_9', 'working_mode_10', 'working_mode_11', 'working_mode_12', 'working_mode_13', 'working_mode_14', 'working_mode_15', 'working_mode_16', 'working_mode_17', 'working_mode_18', 'working_mode_19', 'working_mode_20', 'working_mode_21', 'working_mode_22', 'working_mode_23', 'working_mode_24', 'working_mode_25', 'working_mode_26', 'working_mode_27', 'working_mode_28', 'temp_1', 'temp_2', 'temp_3', 'temp_4', 'temp_5', 'temp_6', 'temp_7', 'temp_8', 'temp_9', 'temp_10', 'temp_11', 'temp_12', 'temp_13', 'temp_14', 'temp_15', 'temp_16', 'temp_17', 'temp_18', 'temp_19', 'temp_20', 'temp_21', 'temp_22', 'temp_23', 'temp_24', 'temp_25', 'temp_26', 'temp_27', 'temp_28', 'id', 'dmc', 'nr_dgm', 'status', 'czas_fazy_1', 'czas_fazy_2', 'czas_fazy_3', 'max_predkosc', 'cisnienie_tloka', 'cisnienie_koncowe', 'nachdruck_hub', 'anguss', 'max_press_kolbenhub', 'temp_pieca', 'oni_temp_curr_f1', 'oni_temp_curr_f2', 'oni_temp_fore_f1', 'oni_temp_fore_f2', 'vds_air_pressure', 'vds_vac_hose1', 'vds_vac_hose2', 'vds_vac_tank', 'vds_vac_valve1', 'vds_vac_valve2', 'czas_taktu', 'nok_strefa', 'nok_rodzaj', 'status_ko', 'rodzaj_kontroli', 'product_id', 'line_id', 'kod_pola', 'rodzaj_uszkodzenia']\n",
      "['id_dmc', 'id']\n",
      "   id_dmc        id\n",
      "0  235342       NaN\n",
      "1  315793  315793.0\n",
      "2  315794  315794.0\n",
      "3  315795  315795.0\n",
      "4  315796  315796.0\n"
     ]
    }
   ],
   "source": [
    "\n",
    "print(list(oni_circuits.keys()))\n",
    "\n",
    "filtered_values = [value for value in list(oni_circuits.keys()) if value.startswith('id')]\n",
    "\n",
    "print(filtered_values)\n",
    "\n",
    "print(oni_circuits[['id_dmc', 'id']].head(5))"
   ]
  },
  {
   "cell_type": "code",
   "execution_count": 22,
   "metadata": {},
   "outputs": [
    {
     "name": "stdout",
     "output_type": "stream",
     "text": [
      "Before oni circuits to meb_dmc1190632\n",
      "after oni circuits to meb_dmc1311553\n"
     ]
    }
   ],
   "source": [
    "# łączę tabelę MEB_DMC z ONI_CIRCUITS\n",
    "print(f\"Before oni circuits to meb_dmc{len(final_table)}\")\n",
    "final_table = final_table.merge(oni_circuits, left_on='dmc_casting', right_on='dmc', how='left', suffixes=('_DMC', '_ONI'))\n",
    "print(f\"after oni circuits to meb_dmc{len(final_table)}\")\n",
    "print(final_table.head())"
   ]
  },
  {
   "cell_type": "code",
   "execution_count": 23,
   "metadata": {},
   "outputs": [
    {
     "name": "stdout",
     "output_type": "stream",
     "text": [
      "MEB_DMC: (1190632, 4)\n",
      "oni circuits: (701241, 230)\n",
      "inner: (762816, 234)\n",
      "left: (1311553, 234)\n",
      "final: (1311553, 256)\n"
     ]
    }
   ],
   "source": [
    "\"\"\"data['MEB_DMC']['dmc_casting'] = data['MEB_DMC']['dmc_casting'].str.strip() \n",
    "oni_circuits['dmc'] = oni_circuits['dmc'].str.strip()\"\"\"\n",
    "\n",
    "\"\"\"data['MEB_DMC'].drop_duplicates(subset=['dmc_casting'], inplace=True)\n",
    "oni_circuits.drop_duplicates(subset=['dmc'], inplace=True)\"\"\"\n",
    "\n",
    "inner_j = data['MEB_DMC'].merge(oni_circuits, left_on='dmc_casting', right_on='dmc', how='inner')\n",
    "left_j = data['MEB_DMC'].merge(oni_circuits, left_on='dmc_casting', right_on='dmc', how='left')\n",
    "print(f\"MEB_DMC: {data['MEB_DMC'].shape}\")\n",
    "print(f\"oni circuits: {oni_circuits.shape}\")\n",
    "print(f'inner: {inner_j.shape}')\n",
    "print(f\"left: {left_j.shape}\")\n",
    "print(f\"final: {final_table.shape}\")"
   ]
  },
  {
   "cell_type": "code",
   "execution_count": 24,
   "metadata": {},
   "outputs": [
    {
     "name": "stdout",
     "output_type": "stream",
     "text": [
      "Number of rows with the same 'MEB_DMC' value: 7787\n"
     ]
    }
   ],
   "source": [
    "duplicate_count = data['MEB_DMC']['dmc_casting'].duplicated(keep=False).sum()\n",
    "print(f\"Number of rows with the same 'MEB_DMC' value: {duplicate_count}\")"
   ]
  },
  {
   "cell_type": "code",
   "execution_count": 25,
   "metadata": {},
   "outputs": [
    {
     "name": "stdout",
     "output_type": "stream",
     "text": [
      "Number of rows with the same 'dmc' value: 18\n"
     ]
    }
   ],
   "source": [
    "duplicate_count_oni = oni_circuits['dmc'].duplicated(keep=False).sum()\n",
    "print(f\"Number of rows with the same 'dmc' value: {duplicate_count_oni}\")"
   ]
  },
  {
   "cell_type": "code",
   "execution_count": null,
   "metadata": {},
   "outputs": [],
   "source": [
    "final_table.head()"
   ]
  },
  {
   "cell_type": "markdown",
   "metadata": {},
   "source": [
    "<h1>Usuwanie anomalii</h1>"
   ]
  },
  {
   "cell_type": "code",
   "execution_count": 26,
   "metadata": {},
   "outputs": [
    {
     "name": "stdout",
     "output_type": "stream",
     "text": [
      "['MEB_DGM', 'MEB_DMC', 'MEB_GROB', 'MEB_KO', 'MEB_KO_DGM', 'MEB_KO_RODZAJ', 'MEB_KO_STREFA', 'MEB_KS', 'ONI_CIRCUITS']\n"
     ]
    }
   ],
   "source": [
    "print(list(data.keys()))"
   ]
  },
  {
   "cell_type": "code",
   "execution_count": 27,
   "metadata": {},
   "outputs": [],
   "source": [
    "meb_dgm_df = data['MEB_DGM']"
   ]
  },
  {
   "cell_type": "code",
   "execution_count": 28,
   "metadata": {},
   "outputs": [
    {
     "name": "stdout",
     "output_type": "stream",
     "text": [
      "     id                    dmc  nr_dgm status  czas_fazy_1  czas_fazy_2  \\\n",
      "0   220  190627091611011003610    10.0      4       1850.0         88.0   \n",
      "1  3416  190719071611011006077    10.0      1       2197.0         89.0   \n",
      "2  3417  190719071811011006078    10.0      1       2184.0         86.0   \n",
      "3  3418  190719072011011006079    10.0      1       2159.0         89.0   \n",
      "4  3419  190719072111011006080    10.0      1       2175.0         89.0   \n",
      "\n",
      "   czas_fazy_3  max_predkosc  cisnienie_tloka  cisnienie_koncowe  ...  \\\n",
      "0         47.5          6.52              7.0              264.0  ...   \n",
      "1         46.5          6.59             11.0              285.0  ...   \n",
      "2         45.0          6.52              8.0              284.0  ...   \n",
      "3         45.5          6.54              6.0              284.0  ...   \n",
      "4         47.0          6.57              8.0              283.0  ...   \n",
      "\n",
      "   czas_taktu  id_dmc  nok_strefa  nok_rodzaj  status_ko  rodzaj_kontroli  \\\n",
      "0         NaN     NaN         NaN         NaN        NaN              NaN   \n",
      "1         NaN     NaN         NaN         NaN        NaN              NaN   \n",
      "2         NaN     NaN         NaN         NaN        NaN              NaN   \n",
      "3         NaN     NaN         NaN         NaN        NaN              NaN   \n",
      "4         NaN     NaN         NaN         NaN        NaN              NaN   \n",
      "\n",
      "   product_id  line_id  kod_pola  rodzaj_uszkodzenia  \n",
      "0         NaN      NaN       NaN                 NaN  \n",
      "1         NaN      NaN       NaN                 NaN  \n",
      "2         NaN      NaN       NaN                 NaN  \n",
      "3         NaN      NaN       NaN                 NaN  \n",
      "4         NaN      NaN       NaN                 NaN  \n",
      "\n",
      "[5 rows x 34 columns]\n"
     ]
    }
   ],
   "source": [
    "print(meb_dgm_df.head(5))"
   ]
  },
  {
   "cell_type": "code",
   "execution_count": 29,
   "metadata": {},
   "outputs": [
    {
     "name": "stdout",
     "output_type": "stream",
     "text": [
      "['id', 'dmc', 'nr_dgm', 'status', 'czas_fazy_1', 'czas_fazy_2', 'czas_fazy_3', 'max_predkosc', 'cisnienie_tloka', 'cisnienie_koncowe', 'nachdruck_hub', 'anguss', 'max_press_kolbenhub', 'temp_pieca', 'oni_temp_curr_f1', 'oni_temp_curr_f2', 'oni_temp_fore_f1', 'oni_temp_fore_f2', 'vds_air_pressure', 'vds_vac_hose1', 'vds_vac_hose2', 'vds_vac_tank', 'vds_vac_valve1', 'vds_vac_valve2', 'czas_taktu', 'id_dmc', 'nok_strefa', 'nok_rodzaj', 'status_ko', 'rodzaj_kontroli', 'product_id', 'line_id', 'kod_pola', 'rodzaj_uszkodzenia']\n"
     ]
    }
   ],
   "source": [
    "print(list(meb_dgm_df.keys()))"
   ]
  },
  {
   "cell_type": "code",
   "execution_count": 30,
   "metadata": {},
   "outputs": [
    {
     "name": "stdout",
     "output_type": "stream",
     "text": [
      "[10.  9.  8.]\n",
      "1276004\n",
      "<class 'numpy.float64'>\n",
      "0\n"
     ]
    }
   ],
   "source": [
    "print(meb_dgm_df['nr_dgm'].unique())\n",
    "print(len(meb_dgm_df))\n",
    "print(type(meb_dgm_df['nr_dgm'][0]))\n",
    "print(len(meb_dgm_df[meb_dgm_df['nr_dgm'] == 20]))"
   ]
  },
  {
   "cell_type": "code",
   "execution_count": 31,
   "metadata": {},
   "outputs": [
    {
     "name": "stdout",
     "output_type": "stream",
     "text": [
      "   id_dmc_DMC                                     dmc_DMC  status_koncowy  \\\n",
      "0        2063  0MH301103CVW41910090436321102S111910040455             2.0   \n",
      "1        2063  0MH301103CVW41910090436321102S111910040455             2.0   \n",
      "2        2063  0MH301103CVW41910090436321102S111910040455             2.0   \n",
      "3        2063  0MH301103CVW41910090436321102S111910040455             2.0   \n",
      "\n",
      "  dmc_casting  nok_strefa_DMC  nok_rodzaj_DMC  status_ko_DMC kod_pola_DMC  \\\n",
      "0        None           511.0           201.0            2.0          S11   \n",
      "1        None           511.0           201.0            2.0          S11   \n",
      "2        None           511.0           201.0            2.0          S11   \n",
      "3        None           511.0           201.0            2.0          S11   \n",
      "\n",
      "     rodzaj_uszkodzenia_DMC  id_meb_grob  ...  vds_vac_valve2  czas_taktu  \\\n",
      "0  Mechaniczne - odlewnicze          NaN  ...             NaN         NaN   \n",
      "1  Mechaniczne - odlewnicze          NaN  ...             NaN         NaN   \n",
      "2  Mechaniczne - odlewnicze          NaN  ...             NaN         NaN   \n",
      "3  Mechaniczne - odlewnicze          NaN  ...             NaN         NaN   \n",
      "\n",
      "   nok_strefa_ONI  nok_rodzaj_ONI  status_ko_ONI  rodzaj_kontroli  product_id  \\\n",
      "0             NaN             NaN            NaN              NaN         NaN   \n",
      "1             NaN             NaN            NaN              NaN         NaN   \n",
      "2             NaN             NaN            NaN              NaN         NaN   \n",
      "3             NaN             NaN            NaN              NaN         NaN   \n",
      "\n",
      "   line_id  kod_pola_ONI  rodzaj_uszkodzenia_ONI  \n",
      "0      NaN           NaN                     NaN  \n",
      "1      NaN           NaN                     NaN  \n",
      "2      NaN           NaN                     NaN  \n",
      "3      NaN           NaN                     NaN  \n",
      "\n",
      "[4 rows x 256 columns]\n"
     ]
    }
   ],
   "source": [
    "print(final_table.head(4))"
   ]
  },
  {
   "cell_type": "code",
   "execution_count": 32,
   "metadata": {},
   "outputs": [
    {
     "name": "stdout",
     "output_type": "stream",
     "text": [
      "id_dmc_DMC\n",
      "dmc_DMC\n",
      "status_koncowy\n",
      "dmc_casting\n",
      "nok_strefa_DMC\n",
      "nok_rodzaj_DMC\n",
      "status_ko_DMC\n",
      "kod_pola_DMC\n",
      "rodzaj_uszkodzenia_DMC\n",
      "id_meb_grob\n",
      "part_type\n",
      "part_status\n",
      "last_machine_number\n",
      "last_pcf_number\n",
      "temp_workpiece\n",
      "temp_hydraulics\n",
      "pressure_pcf_1\n",
      "pressure_pcf_2\n",
      "pressure_pcf_3\n",
      "machine_nr\n",
      "cisnienie\n",
      "przeciek\n",
      "nrprogramu\n",
      "temperaturatestu\n",
      "statusszczelnosc\n",
      "statusdmc\n",
      "id_dmc_ONI\n",
      "assigment_1\n",
      "assigment_2\n",
      "assigment_3\n",
      "assigment_4\n",
      "assigment_5\n",
      "assigment_6\n",
      "assigment_7\n",
      "assigment_8\n",
      "assigment_9\n",
      "assigment_10\n",
      "assigment_11\n",
      "assigment_12\n",
      "assigment_13\n",
      "assigment_14\n",
      "assigment_15\n",
      "assigment_16\n",
      "assigment_17\n",
      "assigment_18\n",
      "assigment_19\n",
      "assigment_20\n",
      "assigment_21\n",
      "assigment_22\n",
      "assigment_23\n",
      "assigment_24\n",
      "assigment_25\n",
      "assigment_26\n",
      "assigment_27\n",
      "assigment_28\n",
      "flow_1\n",
      "flow_2\n",
      "flow_3\n",
      "flow_4\n",
      "flow_5\n",
      "flow_6\n",
      "flow_7\n",
      "flow_8\n",
      "flow_9\n",
      "flow_10\n",
      "flow_11\n",
      "flow_12\n",
      "flow_13\n",
      "flow_14\n",
      "flow_15\n",
      "flow_16\n",
      "flow_17\n",
      "flow_18\n",
      "flow_19\n",
      "flow_20\n",
      "flow_21\n",
      "flow_22\n",
      "flow_23\n",
      "flow_24\n",
      "flow_25\n",
      "flow_26\n",
      "flow_27\n",
      "flow_28\n",
      "ref_time_1\n",
      "ref_time_2\n",
      "ref_time_3\n",
      "ref_time_4\n",
      "ref_time_5\n",
      "ref_time_6\n",
      "ref_time_7\n",
      "ref_time_8\n",
      "ref_time_9\n",
      "ref_time_10\n",
      "ref_time_11\n",
      "ref_time_12\n",
      "ref_time_13\n",
      "ref_time_14\n",
      "ref_time_15\n",
      "ref_time_16\n",
      "ref_time_17\n",
      "ref_time_18\n",
      "ref_time_19\n",
      "ref_time_20\n",
      "ref_time_21\n",
      "ref_time_22\n",
      "ref_time_23\n",
      "ref_time_24\n",
      "ref_time_25\n",
      "ref_time_26\n",
      "ref_time_27\n",
      "ref_time_28\n",
      "set_point_1\n",
      "set_point_2\n",
      "set_point_3\n",
      "set_point_4\n",
      "set_point_5\n",
      "set_point_6\n",
      "set_point_7\n",
      "set_point_8\n",
      "set_point_9\n",
      "set_point_10\n",
      "set_point_11\n",
      "set_point_12\n",
      "set_point_13\n",
      "set_point_14\n",
      "set_point_15\n",
      "set_point_16\n",
      "set_point_17\n",
      "set_point_18\n",
      "set_point_19\n",
      "set_point_20\n",
      "set_point_21\n",
      "set_point_22\n",
      "set_point_23\n",
      "set_point_24\n",
      "set_point_25\n",
      "set_point_26\n",
      "set_point_27\n",
      "set_point_28\n",
      "start_delay_1\n",
      "start_delay_2\n",
      "start_delay_3\n",
      "start_delay_4\n",
      "start_delay_5\n",
      "start_delay_6\n",
      "start_delay_7\n",
      "start_delay_8\n",
      "start_delay_9\n",
      "start_delay_10\n",
      "start_delay_11\n",
      "start_delay_12\n",
      "start_delay_13\n",
      "start_delay_14\n",
      "start_delay_15\n",
      "start_delay_16\n",
      "start_delay_17\n",
      "start_delay_18\n",
      "start_delay_19\n",
      "start_delay_20\n",
      "start_delay_21\n",
      "start_delay_22\n",
      "start_delay_23\n",
      "start_delay_24\n",
      "start_delay_25\n",
      "start_delay_26\n",
      "start_delay_27\n",
      "start_delay_28\n",
      "working_mode_1\n",
      "working_mode_2\n",
      "working_mode_3\n",
      "working_mode_4\n",
      "working_mode_5\n",
      "working_mode_6\n",
      "working_mode_7\n",
      "working_mode_8\n",
      "working_mode_9\n",
      "working_mode_10\n",
      "working_mode_11\n",
      "working_mode_12\n",
      "working_mode_13\n",
      "working_mode_14\n",
      "working_mode_15\n",
      "working_mode_16\n",
      "working_mode_17\n",
      "working_mode_18\n",
      "working_mode_19\n",
      "working_mode_20\n",
      "working_mode_21\n",
      "working_mode_22\n",
      "working_mode_23\n",
      "working_mode_24\n",
      "working_mode_25\n",
      "working_mode_26\n",
      "working_mode_27\n",
      "working_mode_28\n",
      "temp_1\n",
      "temp_2\n",
      "temp_3\n",
      "temp_4\n",
      "temp_5\n",
      "temp_6\n",
      "temp_7\n",
      "temp_8\n",
      "temp_9\n",
      "temp_10\n",
      "temp_11\n",
      "temp_12\n",
      "temp_13\n",
      "temp_14\n",
      "temp_15\n",
      "temp_16\n",
      "temp_17\n",
      "temp_18\n",
      "temp_19\n",
      "temp_20\n",
      "temp_21\n",
      "temp_22\n",
      "temp_23\n",
      "temp_24\n",
      "temp_25\n",
      "temp_26\n",
      "temp_27\n",
      "temp_28\n",
      "id\n",
      "dmc_ONI\n",
      "nr_dgm\n",
      "status\n",
      "czas_fazy_1\n",
      "czas_fazy_2\n",
      "czas_fazy_3\n",
      "max_predkosc\n",
      "cisnienie_tloka\n",
      "cisnienie_koncowe\n",
      "nachdruck_hub\n",
      "anguss\n",
      "max_press_kolbenhub\n",
      "temp_pieca\n",
      "oni_temp_curr_f1\n",
      "oni_temp_curr_f2\n",
      "oni_temp_fore_f1\n",
      "oni_temp_fore_f2\n",
      "vds_air_pressure\n",
      "vds_vac_hose1\n",
      "vds_vac_hose2\n",
      "vds_vac_tank\n",
      "vds_vac_valve1\n",
      "vds_vac_valve2\n",
      "czas_taktu\n",
      "nok_strefa_ONI\n",
      "nok_rodzaj_ONI\n",
      "status_ko_ONI\n",
      "rodzaj_kontroli\n",
      "product_id\n",
      "line_id\n",
      "kod_pola_ONI\n",
      "rodzaj_uszkodzenia_ONI\n"
     ]
    }
   ],
   "source": [
    "for i in final_table.keys():\n",
    "    print(i)"
   ]
  },
  {
   "cell_type": "code",
   "execution_count": 35,
   "metadata": {},
   "outputs": [
    {
     "name": "stdout",
     "output_type": "stream",
     "text": [
      "   unique_starting_letters  count_of_results\n",
      "0                      0MH           1267908\n",
      "1                      201               882\n",
      "2                      202              1926\n",
      "3                      210               497\n",
      "4                      211                 8\n",
      "5                      220               178\n",
      "6                      221                94\n",
      "7                      230               172\n",
      "8                      A0M              4212\n",
      "9                      ASD                18\n",
      "10                     BRA                18\n",
      "11                     H30                18\n",
      "12                     TEM                18\n",
      "13                     TES                18\n",
      "14                     asd                18\n",
      "15                     tes                19\n"
     ]
    }
   ],
   "source": [
    "result = meb_dgm_df.groupby(final_table['dmc_DMC'].str[:3]).size().reset_index(name='count_of_results')\n",
    "result.columns = ['unique_starting_letters', 'count_of_results']\n",
    "result = result.sort_values(by='unique_starting_letters')\n",
    "\n",
    "print(result)"
   ]
  },
  {
   "cell_type": "code",
   "execution_count": null,
   "metadata": {},
   "outputs": [],
   "source": [
    "meb_dgm_df[meb_dgm_df.dmc.str.len() < 21]"
   ]
  },
  {
   "cell_type": "code",
   "execution_count": null,
   "metadata": {},
   "outputs": [],
   "source": [
    "data['MEB_DMC'][data['MEB_DMC'].dmc_casting.str.len() < 21]"
   ]
  },
  {
   "cell_type": "code",
   "execution_count": null,
   "metadata": {},
   "outputs": [],
   "source": [
    "data['MEB_DMC'][data['MEB_DMC'].dmc.str.len() < 42]"
   ]
  }
 ],
 "metadata": {
  "kernelspec": {
   "display_name": "base",
   "language": "python",
   "name": "python3"
  },
  "language_info": {
   "codemirror_mode": {
    "name": "ipython",
    "version": 3
   },
   "file_extension": ".py",
   "mimetype": "text/x-python",
   "name": "python",
   "nbconvert_exporter": "python",
   "pygments_lexer": "ipython3",
   "version": "3.10.10"
  },
  "orig_nbformat": 4
 },
 "nbformat": 4,
 "nbformat_minor": 2
}
