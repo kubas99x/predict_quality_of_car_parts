{
 "cells": [
  {
   "cell_type": "code",
   "execution_count": 1,
   "metadata": {},
   "outputs": [],
   "source": [
    "#import cx_Oracle\n",
    "import pandas as pd\n",
    "import sqlalchemy\n",
    "from sqlalchemy.exc import SQLAlchemyError"
   ]
  },
  {
   "cell_type": "markdown",
   "metadata": {},
   "source": [
    "<h1>Pobieranie danych z bazy</h1>"
   ]
  },
  {
   "cell_type": "code",
   "execution_count": 2,
   "metadata": {},
   "outputs": [],
   "source": [
    "data = {}\n",
    "\n",
    "dbtables = ['MEB_DGM', 'MEB_DMC', 'MEB_GROB', 'MEB_KO', 'MEB_KO_DGM', 'MEB_KO_RODZAJ', 'MEB_KO_STREFA', 'MEB_KS', 'ONI_CIRCUITS']\n",
    "username = 'dmcro'\n",
    "password = 'ouZ9Rys7astDp4byjUvO'\n",
    "dsn = 'vwpnwrud0000rac:1521/dmc.vwg'\n",
    "dbhostname='vwpnwrud0000rac'\n",
    "service_name='dmc.vwg'"
   ]
  },
  {
   "cell_type": "code",
   "execution_count": 3,
   "metadata": {},
   "outputs": [],
   "source": [
    "try:\n",
    "    sqlalchemy_engine=\"oracle+cx_oracle://\"+username+\":\"+password+\"@\"+dbhostname+\"/?service_name=\"+service_name\n",
    "    engine = sqlalchemy.create_engine(sqlalchemy_engine, arraysize=1000)\n",
    "    for table in dbtables:\n",
    "        query = f\"select * from z3dmc.{table} where rownum<101\"\n",
    "        data.update({table: pd.read_sql(query, engine)})\n",
    "except SQLAlchemyError as e:\n",
    "    print(e)"
   ]
  },
  {
   "cell_type": "markdown",
   "metadata": {},
   "source": [
    "<h1>Usuwanie zbędnych kolumn z tabel</h1>"
   ]
  },
  {
   "cell_type": "code",
   "execution_count": 4,
   "metadata": {},
   "outputs": [
    {
     "name": "stdout",
     "output_type": "stream",
     "text": [
      "['MEB_DGM', 'MEB_DMC', 'MEB_GROB', 'MEB_KO', 'MEB_KO_DGM', 'MEB_KO_RODZAJ', 'MEB_KO_STREFA', 'MEB_KS', 'ONI_CIRCUITS']\n"
     ]
    }
   ],
   "source": [
    "print(list(data.keys()))\n",
    "# Useless tables\n",
    "# MEB_CONTAINERS, MEB_DMC_GRADE, MEB_KS_WZORC"
   ]
  },
  {
   "cell_type": "code",
   "execution_count": 5,
   "metadata": {},
   "outputs": [
    {
     "name": "stdout",
     "output_type": "stream",
     "text": [
      "\n",
      " ONI_CIRCUITS after drop of columns: \n",
      "\n",
      "   id_circuit  assigment  flow  ref_time  set_point  start_delay  temp  \\\n",
      "0     2052059         17  11.6         0          0            2  87.0   \n",
      "1     2054892         17  14.3         0         15            2  97.2   \n",
      "2     2054900          2   9.6         0         25            5  92.1   \n",
      "3     2054908         17  11.1         0         35            2  77.8   \n",
      "4     2054916         17  13.3         0         15            2  78.0   \n",
      "\n",
      "   working_mode  circuit_nr  id_dmc  \n",
      "0             3          27  319248  \n",
      "1             2           4  319339  \n",
      "2             0          12  319339  \n",
      "3             2          20  319339  \n",
      "4             2          28  319339  \n"
     ]
    }
   ],
   "source": [
    "# ONI CIRCUITS\n",
    "# print(data['ONI_CIRCUITS'].head())\n",
    "data['ONI_CIRCUITS'].drop(columns=['timestamp'], inplace=True)\n",
    "print(\"\\n ONI_CIRCUITS after drop of columns: \\n\")\n",
    "print(data['ONI_CIRCUITS'].head())"
   ]
  },
  {
   "cell_type": "code",
   "execution_count": 6,
   "metadata": {},
   "outputs": [
    {
     "name": "stdout",
     "output_type": "stream",
     "text": [
      "\n",
      " MEB_DGM after drop of columns: \n",
      "\n",
      "     id                    dmc  nr_dgm status  czas_fazy_1  czas_fazy_2  \\\n",
      "0   220  190627091611011003610      10      4         1850           88   \n",
      "1  3416  190719071611011006077      10      1         2197           89   \n",
      "2  3417  190719071811011006078      10      1         2184           86   \n",
      "3  3418  190719072011011006079      10      1         2159           89   \n",
      "4  3419  190719072111011006080      10      1         2175           89   \n",
      "\n",
      "   czas_fazy_3  max_predkosc  cisnienie_tloka  cisnienie_koncowe  ...  \\\n",
      "0         47.5          6.52                7                264  ...   \n",
      "1         46.5          6.59               11                285  ...   \n",
      "2         45.0          6.52                8                284  ...   \n",
      "3         45.5          6.54                6                284  ...   \n",
      "4         47.0          6.57                8                283  ...   \n",
      "\n",
      "   oni_temp_curr_f2  oni_temp_fore_f1  oni_temp_fore_f2 vds_air_pressure  \\\n",
      "0              None              None              None             None   \n",
      "1              None              None              None             None   \n",
      "2              None              None              None             None   \n",
      "3              None              None              None             None   \n",
      "4              None              None              None             None   \n",
      "\n",
      "  vds_vac_hose1 vds_vac_hose2 vds_vac_tank vds_vac_valve1 vds_vac_valve2  \\\n",
      "0          None          None         None           None           None   \n",
      "1          None          None         None           None           None   \n",
      "2          None          None         None           None           None   \n",
      "3          None          None         None           None           None   \n",
      "4          None          None         None           None           None   \n",
      "\n",
      "  czas_taktu  \n",
      "0       None  \n",
      "1       None  \n",
      "2       None  \n",
      "3       None  \n",
      "4       None  \n",
      "\n",
      "[5 rows x 25 columns]\n"
     ]
    }
   ],
   "source": [
    "# MEB_DGM\n",
    "# print(data['MEB_DGM'].columns)\n",
    "# print(data['MEB_DGM'].head(5))\n",
    "# ('metal_level', 'metal_pressure') - We do not collect this data yet\n",
    "data['MEB_DGM'].drop(columns=['timestamp', 'data_znakowania', 'data_odlania', 'metal_level', 'metal_pressure'], inplace=True)\n",
    "print(\"\\n MEB_DGM after drop of columns: \\n\")\n",
    "print(data['MEB_DGM'].head(5))"
   ]
  },
  {
   "cell_type": "code",
   "execution_count": 7,
   "metadata": {},
   "outputs": [
    {
     "name": "stdout",
     "output_type": "stream",
     "text": [
      "\n",
      " MEB_DMC after drop of columns: \n",
      "\n",
      "   id_dmc                                         dmc  status_koncowy  \\\n",
      "0    2063  0MH301103CVW41910090436321102S111910040455               2   \n",
      "1    2064  0MH301103CVW41910090436411102S111910040410               1   \n",
      "2    2065  0MH301103CVW41910090436521102S111910040350               2   \n",
      "3    2066  0MH301103CVW41910090436611102S111910040356               2   \n",
      "4    2067  0MH301103CVW41910090436721102S111910040345               2   \n",
      "\n",
      "  dmc_casting  \n",
      "0        None  \n",
      "1        None  \n",
      "2        None  \n",
      "3        None  \n",
      "4        None  \n"
     ]
    }
   ],
   "source": [
    "#MEB_DMC\n",
    "# print(data['MEB_DMC'].columns)\n",
    "# print(data['MEB_DMC'].head(5))\n",
    "data['MEB_DMC'].drop(columns = ['timestamp', 'update_time','id_meb_containers', 'packed_time', 'first_packed_time', 'production_step'], inplace = True)\n",
    "print(\"\\n MEB_DMC after drop of columns: \\n\")\n",
    "print(data['MEB_DMC'].head(5))"
   ]
  },
  {
   "cell_type": "code",
   "execution_count": 8,
   "metadata": {},
   "outputs": [
    {
     "name": "stdout",
     "output_type": "stream",
     "text": [
      "\n",
      " MEB_KO after drop of columns: \n",
      "\n",
      "   id_ko  id_dmc  nok_strefa  nok_rodzaj  status_ko\n",
      "0   2803    2065           0           0          1\n",
      "1   2804    2064           0           0          1\n",
      "2   2805    2062           0           0          1\n",
      "3   2806    2063           0           0          1\n",
      "4   2807    2067         513         202          2\n"
     ]
    }
   ],
   "source": [
    "#MEB_KO\n",
    "# print(data['MEB_KO'].columns)\n",
    "# print(data['MEB_KO'].head(5))\n",
    "data['MEB_KO'].drop(columns = ['data', 'timestamp', 'eks'], inplace = True)\n",
    "print(\"\\n MEB_KO after drop of columns: \\n\")\n",
    "print(data['MEB_KO'].head(5))"
   ]
  },
  {
   "cell_type": "code",
   "execution_count": 9,
   "metadata": {},
   "outputs": [
    {
     "name": "stdout",
     "output_type": "stream",
     "text": [
      "\n",
      " MEB_KO_DGM after drop of columns: \n",
      "\n",
      "   id_ko  id_dmc  nok_strefa  nok_rodzaj  status_ko  rodzaj_kontroli  \\\n",
      "0    497   72978           0           0          1                1   \n",
      "1    498   72977           0           0          1                1   \n",
      "2    499   72980           0           0          1                1   \n",
      "3    500   72981           0           0          1                1   \n",
      "4    501   73020         511         402          2                2   \n",
      "\n",
      "  product_id line_id  \n",
      "0       None    None  \n",
      "1       None    None  \n",
      "2       None    None  \n",
      "3       None    None  \n",
      "4       None    None  \n"
     ]
    }
   ],
   "source": [
    "#MEB_KO_DGM\n",
    "# print(data['MEB_KO_DGM'].columns)\n",
    "# print(data['MEB_KO_DGM'].head(5))\n",
    "data['MEB_KO_DGM'].drop(columns = ['data_odlania', 'timestamp', 'operator'], inplace = True)\n",
    "print(\"\\n MEB_KO_DGM after drop of columns: \\n\")\n",
    "print(data['MEB_KO_DGM'].head(5))"
   ]
  },
  {
   "cell_type": "code",
   "execution_count": 10,
   "metadata": {},
   "outputs": [
    {
     "name": "stdout",
     "output_type": "stream",
     "text": [
      "\n",
      " 'MEB_KS' after drop of columns: \n",
      "\n",
      "   cisnienie  przeciek  nrprogramu  temperaturatestu  statusszczelnosc  \\\n",
      "0      1.051     3.085           1         19.119999                 1   \n",
      "1      1.051     1.179           1         18.840000                 1   \n",
      "2      1.049     1.256           1         18.879999                 1   \n",
      "3      1.052     0.155           1         18.760000                 1   \n",
      "4      1.052     0.155           1         18.760000                 1   \n",
      "\n",
      "   statusdmc  id_dmc  \n",
      "0          1    2019  \n",
      "1          1    1987  \n",
      "2          1    1996  \n",
      "3          1    2030  \n",
      "4          1    2030  \n"
     ]
    }
   ],
   "source": [
    "# MEB_KS\n",
    "# print(data['MEB_KS'].columns)\n",
    "# print(data['MEB_KS'].head(5))\n",
    "data['MEB_KS'].drop(columns = ['id_ks', 'nrgniazda', 'liczbawystapien', 'nrformy', 'data', 'timestamp', 'gradedmc_max','gradedmc_aktualny'], inplace = True)\n",
    "print(\"\\n 'MEB_KS' after drop of columns: \\n\")\n",
    "print(data['MEB_KS'].head(5))"
   ]
  },
  {
   "cell_type": "code",
   "execution_count": 11,
   "metadata": {},
   "outputs": [
    {
     "name": "stdout",
     "output_type": "stream",
     "text": [
      "\n",
      " 'MEB_GROB' after drop of columns: \n",
      "\n",
      "   id_meb_grob  id_dmc  part_type  part_status  last_machine_number  \\\n",
      "0          105    5884          1            1                    1   \n",
      "1          106    5885          1            1                    1   \n",
      "2          107    5886          1            1                    1   \n",
      "3          108    5887          1            1                    1   \n",
      "4          109    5888          1            1                    1   \n",
      "\n",
      "   last_pcf_number  temp_workpiece  temp_hydraulics  pressure_pcf_1  \\\n",
      "0                2       21.299999        30.700001              99   \n",
      "1                1       21.000000        30.700001              99   \n",
      "2                2       20.900000        30.700001              99   \n",
      "3                1       20.700001        30.600000              99   \n",
      "4                2       20.600000        30.600000              99   \n",
      "\n",
      "   pressure_pcf_2  pressure_pcf_3  machine_nr  \n",
      "0             100              89           1  \n",
      "1             100              89           1  \n",
      "2             100              89           1  \n",
      "3             100              89           1  \n",
      "4             100              89           1  \n"
     ]
    }
   ],
   "source": [
    "#MEB_GROB \n",
    "# print(data['MEB_GROB'].columns)\n",
    "# print(data['MEB_GROB'].head(5))\n",
    "data['MEB_GROB'].drop(columns = ['shift_number', 'last_operation', 'timestamp', 'production_date', 'reworkrequested', \n",
    "                                'reworkdone', 'partcleaningisfinished', 'waitfortoolcheck', 'workingstep1', 'workingstep2', 'workingstep3', 'workingstep4', 'mms_ok'], inplace = True)\n",
    "print(\"\\n 'MEB_GROB' after drop of columns: \\n\")\n",
    "print(data['MEB_GROB'].head(5))\n"
   ]
  },
  {
   "cell_type": "markdown",
   "metadata": {},
   "source": [
    "<h1>Łączenie tabel</h1>"
   ]
  },
  {
   "cell_type": "code",
   "execution_count": 12,
   "metadata": {},
   "outputs": [],
   "source": [
    "#pd.set_option('display.max_columns', None)\n",
    "\n",
    "# łączę tabele MEB_KO i MEB_KO_DGM z tabelami MEB_KO_STREFA/RODZAJ\n",
    "\n",
    "data['MEB_KO'] = data['MEB_KO'].merge(data['MEB_KO_STREFA'], left_on='nok_strefa', right_on='indeks', how='inner')\n",
    "data['MEB_KO'].drop(columns=['indeks'], inplace=True)\n",
    "\n",
    "data['MEB_KO'] = data['MEB_KO'].merge(data['MEB_KO_RODZAJ'], left_on='nok_rodzaj', right_on='indeks', how='inner')\n",
    "data['MEB_KO'].drop(columns=['indeks'], inplace=True)\n",
    "\n",
    "data['MEB_KO_DGM'] = data['MEB_KO_DGM'].merge(data['MEB_KO_STREFA'], left_on='nok_strefa', right_on='indeks', how='inner')\n",
    "data['MEB_KO_DGM'].drop(columns=['indeks'], inplace=True)\n",
    "\n",
    "data['MEB_KO_DGM'] = data['MEB_KO_DGM'].merge(data['MEB_KO_RODZAJ'], left_on='nok_rodzaj', right_on='indeks', how='inner')\n",
    "data['MEB_KO_DGM'].drop(columns=['indeks'], inplace=True)\n",
    "\n",
    "\n",
    "#data['MEB_KO'].head()\n",
    "#data['MEB_KO_DGM'].head()"
   ]
  },
  {
   "cell_type": "code",
   "execution_count": 13,
   "metadata": {},
   "outputs": [],
   "source": [
    "# łączę tabelę MEB_DMC z tabelą MEB_KO\n",
    "\n",
    "data['MEB_DMC'] = data['MEB_DMC'].merge(data['MEB_KO'], on='id_dmc', how='left')\n",
    "\n",
    "#  do wyrzucenia kolumna timestamp oraz eks\n",
    "\n",
    "#data['MEB_DMC'].head(1)"
   ]
  },
  {
   "cell_type": "code",
   "execution_count": 14,
   "metadata": {},
   "outputs": [],
   "source": [
    "# łączę tabelę MEB_DGM z tabelą MEB_KO_DGM\n",
    "\n",
    "data['MEB_DGM'] = data['MEB_DGM'].merge(data['MEB_KO_DGM'], left_on='id', right_on='id_dmc', how='left')\n",
    "#data['MEB_DGM'].head(1)"
   ]
  },
  {
   "cell_type": "code",
   "execution_count": 15,
   "metadata": {},
   "outputs": [],
   "source": [
    "# przygotowywuję tabelę ONI_CIRCUITS do połączenia \n",
    "# Tutaj będzie do zmiany, ponieważ usuwam część kolumn z ONI_CIRCTUIS - JR\n",
    "# Przerobione ~ ŁO\n",
    "oni_circuits = data['ONI_CIRCUITS'].pivot(index='id_dmc', columns='circuit_nr', values=['flow', 'temp'])\n",
    "oni_circuits.columns = oni_circuits.columns.map('{0[0]}_{0[1]}'.format) \n",
    "oni_circuits.reset_index(inplace=True)\n",
    "\n",
    "\n",
    "# łączę z tabelą MEB_DGM\n",
    "\n",
    "oni_circuits = oni_circuits.merge(data['MEB_DGM'], left_on='id_dmc', right_on='id', how='left')\n",
    "#oni_circuits.head(1)"
   ]
  },
  {
   "cell_type": "code",
   "execution_count": 16,
   "metadata": {},
   "outputs": [],
   "source": [
    "# łączę tabelę MEB_DMC z ONI_CIRCUITS\n",
    "\n",
    "data['MEB_DMC'] = data['MEB_DMC'].merge(oni_circuits, left_on='dmc_casting', right_on='dmc', how='left')\n",
    "#data['MEB_DMC'].head(1)"
   ]
  },
  {
   "cell_type": "code",
   "execution_count": 17,
   "metadata": {},
   "outputs": [],
   "source": [
    "# łączę tabelę MEB_DMC z tabelą MEB_GROB\n",
    "\n",
    "data['MEB_DMC'] = data['MEB_DMC'].merge(data['MEB_GROB'], on='id_dmc', how='left')\n",
    "#data['MEB_DMC'].head(1)"
   ]
  },
  {
   "cell_type": "code",
   "execution_count": 18,
   "metadata": {},
   "outputs": [],
   "source": [
    "# łączę tabelę MEB_DMC z tabelą MEB_KS\n",
    "\n",
    "data['MEB_DMC'] = data['MEB_DMC'].merge(data['MEB_KS'], on='id_dmc', how='left')\n",
    "#data['MEB_DMC'].head(1)"
   ]
  },
  {
   "cell_type": "code",
   "execution_count": 19,
   "metadata": {},
   "outputs": [
    {
     "data": {
      "text/plain": [
       "\"connection=cx_Oracle.connect(username,password,dsn,encoding='UTF-8')\\nconnection.version\\nconnection.close()\""
      ]
     },
     "execution_count": 19,
     "metadata": {},
     "output_type": "execute_result"
    }
   ],
   "source": [
    "\"\"\"connection=cx_Oracle.connect(username,password,dsn,encoding='UTF-8')\n",
    "connection.version\n",
    "connection.close()\"\"\""
   ]
  },
  {
   "cell_type": "code",
   "execution_count": 20,
   "metadata": {},
   "outputs": [
    {
     "data": {
      "text/plain": [
       "\"try:\\n    with cx_Oracle.connect(username,password,dsn,encoding='UTF-8') as connection:\\n        with connection.cursor() as cursor:\\n            cursor.execute(dmc_sql)\\n            while True:\\n                row = cursor.fetchone()\\n                if row is None:\\n                    break\\n                print(row)\\n                data={'id':row[0],'dmc':row[1]}\\n    cursor.close()\\n    connection.close()\\nexcept cx_Oracle.Error as error:\\n    print(error)\""
      ]
     },
     "execution_count": 20,
     "metadata": {},
     "output_type": "execute_result"
    }
   ],
   "source": [
    "\"\"\"try:\n",
    "    with cx_Oracle.connect(username,password,dsn,encoding='UTF-8') as connection:\n",
    "        with connection.cursor() as cursor:\n",
    "            cursor.execute(dmc_sql)\n",
    "            while True:\n",
    "                row = cursor.fetchone()\n",
    "                if row is None:\n",
    "                    break\n",
    "                print(row)\n",
    "                data={'id':row[0],'dmc':row[1]}\n",
    "    cursor.close()\n",
    "    connection.close()\n",
    "except cx_Oracle.Error as error:\n",
    "    print(error)\"\"\""
   ]
  },
  {
   "cell_type": "code",
   "execution_count": 21,
   "metadata": {},
   "outputs": [],
   "source": [
    "#dodej to Adam przystojniaku"
   ]
  }
 ],
 "metadata": {
  "kernelspec": {
   "display_name": "base",
   "language": "python",
   "name": "python3"
  },
  "language_info": {
   "codemirror_mode": {
    "name": "ipython",
    "version": 3
   },
   "file_extension": ".py",
   "mimetype": "text/x-python",
   "name": "python",
   "nbconvert_exporter": "python",
   "pygments_lexer": "ipython3",
   "version": "3.10.10"
  },
  "orig_nbformat": 4
 },
 "nbformat": 4,
 "nbformat_minor": 2
}
