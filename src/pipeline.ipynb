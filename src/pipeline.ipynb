{
 "cells": [
  {
   "cell_type": "code",
   "execution_count": null,
   "metadata": {},
   "outputs": [],
   "source": [
    "import pandas as pd\n",
    "import numpy as np\n",
    "import sqlalchemy\n",
    "from sqlalchemy.exc import SQLAlchemyError\n",
    "from ml_functions import *\n",
    "from sklearn.metrics import accuracy_score, recall_score\n",
    "from db_queries import username, password, dsn, dbhostname, service_name, dbtables, querys\n",
    "from table_functions import *\n",
    "import mlflow\n",
    "import mlflow.pyfunc\n",
    "import xgboost as xgb"
   ]
  },
  {
   "cell_type": "code",
   "execution_count": null,
   "metadata": {},
   "outputs": [],
   "source": [
    "pd.set_option('display.max_columns', None)\n",
    "pd.set_option('display.max_rows', None)\n",
    "\n",
    "# DGM id - oni id_dmc\n",
    "# DGM dmc - MEB_DMC dmc_casting\n",
    "\n",
    "def read_last_meb_dgm(last_id = 0):\n",
    "\n",
    "    data = {}\n",
    "    if last_id:\n",
    "        query = f\"\"\"SELECT *\n",
    "            FROM (\n",
    "                SELECT\n",
    "                    t.*,\n",
    "                    ROW_NUMBER() OVER (PARTITION BY DMC ORDER BY ID DESC) AS rn\n",
    "                FROM\n",
    "                    Z3DMC.MEB_DGM t\n",
    "            ) subquery\n",
    "            WHERE rn = 1\n",
    "            AND id > {last_id}\"\"\"\n",
    "\n",
    "    else:\n",
    "        query = \"\"\"SELECT *\n",
    "            FROM (\n",
    "                SELECT *\n",
    "                FROM Z3DMC.MEB_DGM\n",
    "                ORDER BY ID DESC\n",
    "            )\n",
    "            WHERE ROWNUM = 1\n",
    "            \"\"\"\n",
    "    \n",
    "    try:\n",
    "        sqlalchemy_engine=\"oracle+cx_oracle://\"+username+\":\"+password+\"@\"+dbhostname+\"/?service_name=\"+service_name\n",
    "        engine = sqlalchemy.create_engine(sqlalchemy_engine, arraysize=1000)\n",
    "        data.update({'MEB_DGM': pd.read_sql(query, engine)})\n",
    "    except SQLAlchemyError as e:\n",
    "        print(e)\n",
    "    \n",
    "    data['MEB_DGM'].drop(columns=['timestamp','data_znakowania','data_odlania', 'metal_level', 'metal_pressure', 'max_press_kolbenhub', 'oni_temp_curr_f2'], inplace= True)\n",
    "\n",
    "    last_id = data['MEB_DGM'].id.max()\n",
    "    \n",
    "    return data, last_id\n",
    "\n",
    "def check_if_meb_base(data):\n",
    "    size0 = data['MEB_DGM'].shape[0]\n",
    "    data['MEB_DGM'].dmc = data['MEB_DGM']['dmc'].str.strip()\n",
    "    data['MEB_DGM'] = data['MEB_DGM'][(data['MEB_DGM']['nr_dgm'].between(8, 10)) & (data['MEB_DGM']['dmc'].apply(lambda x: len(str(x)) == 21))]\n",
    "    size1 = data['MEB_DGM'].shape[0]\n",
    "    if data['MEB_DGM'].empty:\n",
    "        print('There are not MEB_BASE+ part produced since last time')\n",
    "        return 1\n",
    "    else:\n",
    "        print(f\"{size1} of {size0} are MEB Base+ parts\")\n",
    "        return data\n",
    "\n",
    "def read_oni(data):\n",
    "    id_list = list(data['MEB_DGM'].id)\n",
    "    ids_ranges = [id_list[x:x+500] for x in range(0, len(id_list), 500)]\n",
    "    ids_ranges_tuples = [tuple(sublist) for sublist in ids_ranges]\n",
    "\n",
    "    result_df = pd.DataFrame()\n",
    "    try:\n",
    "        sqlalchemy_engine=\"oracle+cx_oracle://\"+username+\":\"+password+\"@\"+dbhostname+\"/?service_name=\"+service_name\n",
    "        engine = sqlalchemy.create_engine(sqlalchemy_engine, arraysize=1000)\n",
    "\n",
    "        for ids in ids_ranges_tuples:\n",
    "            query = f\"\"\"SELECT ID_DMC, CIRCUIT_NR, \n",
    "                    MAX(ASSIGMENT) AS ASSIGMENT, \n",
    "                    MAX(FLOW) AS FLOW, \n",
    "                    MAX(SET_POINT) AS SET_POINT,\n",
    "                    MAX(START_DELAY) AS START_DELAY,\n",
    "                    MAX(TEMP) AS TEMP,\n",
    "                    MAX(WORKING_MODE) AS WORKING_MODE\n",
    "                FROM Z3DMC.ONI_CIRCUITS\n",
    "                WHERE ID_DMC IN {ids}\n",
    "                GROUP BY ID_DMC, CIRCUIT_NR\n",
    "                ORDER BY ID_DMC\n",
    "                \"\"\"\n",
    "    \n",
    "            df = pd.read_sql(query, engine)\n",
    "            result_df = pd.concat([result_df, df], ignore_index=True)\n",
    "\n",
    "            \n",
    "    except SQLAlchemyError as e:\n",
    "        print(e)\n",
    "\n",
    "    data.update({'ONI_CIRCUITS': result_df})\n",
    "    \n",
    "    return data\n",
    "\n",
    "def combine_into_one_table(data):\n",
    "    data['ONI_CIRCUITS'].drop(columns = ['assigment', 'working_mode', 'set_point'], inplace = True)\n",
    "    oni_circuits = data['ONI_CIRCUITS'].pivot(index='id_dmc', columns='circuit_nr', values=['flow', 'start_delay', 'temp'])\n",
    "    oni_circuits.columns = oni_circuits.columns.map('{0[0]}_{0[1]}'.format) \n",
    "    oni_circuits.reset_index(inplace=True)\n",
    "    final_table = data['MEB_DGM'].copy()\n",
    "    final_table = final_table.merge(oni_circuits, left_on='id', right_on='id_dmc', how='inner')\n",
    "\n",
    "    return final_table\n",
    "\n",
    "# Save value to a text file\n",
    "def save_id_to_file(value, filename='pipeline_files/id.txt'):\n",
    "    with open(filename, 'w') as file:\n",
    "        file.write(str(value))\n",
    "\n",
    "# Read value from a text file\n",
    "def read_id_from_file(filename='pipeline_files/id.txt'):\n",
    "    try:\n",
    "        with open(filename, 'r') as file:\n",
    "            return file.read().strip()\n",
    "    except FileNotFoundError:\n",
    "        return None"
   ]
  },
  {
   "cell_type": "code",
   "execution_count": null,
   "metadata": {},
   "outputs": [],
   "source": [
    "dgm, id_max = read_last_meb_dgm(1494449)          # 1474000\n"
   ]
  },
  {
   "cell_type": "code",
   "execution_count": null,
   "metadata": {},
   "outputs": [],
   "source": [
    "dgm = check_if_meb_base(dgm)"
   ]
  },
  {
   "cell_type": "code",
   "execution_count": null,
   "metadata": {},
   "outputs": [],
   "source": [
    "dgm_oni = read_oni(dgm)"
   ]
  },
  {
   "cell_type": "code",
   "execution_count": null,
   "metadata": {},
   "outputs": [],
   "source": [
    "dgm_oni['ONI_CIRCUITS'].shape"
   ]
  },
  {
   "cell_type": "code",
   "execution_count": null,
   "metadata": {},
   "outputs": [],
   "source": [
    "final_tab = combine_into_one_table(dgm_oni)"
   ]
  },
  {
   "cell_type": "code",
   "execution_count": null,
   "metadata": {},
   "outputs": [],
   "source": [
    "columns_needed = pd.read_csv('./pipeline_files/column_names.csv', header=None)[0].tolist()"
   ]
  },
  {
   "cell_type": "code",
   "execution_count": null,
   "metadata": {},
   "outputs": [],
   "source": [
    "columns_to_drop = final_tab.columns.difference(columns_needed)\n",
    "final_tab = final_tab.drop(columns=columns_to_drop)"
   ]
  },
  {
   "cell_type": "code",
   "execution_count": null,
   "metadata": {},
   "outputs": [],
   "source": [
    "final_tab.keys()"
   ]
  },
  {
   "cell_type": "code",
   "execution_count": null,
   "metadata": {},
   "outputs": [],
   "source": [
    "# Load the XGBoost model\n",
    "model = xgb.Booster(model_file=r'C:\\Users\\DLXPMX8\\Desktop\\Projekt_AI\\meb_process_data_analysis\\src\\final_model\\model\\model.xgb')"
   ]
  },
  {
   "cell_type": "code",
   "execution_count": null,
   "metadata": {},
   "outputs": [],
   "source": [
    "dmatrix = xgb.DMatrix(final_tab)\n",
    "predictions = model.predict(dmatrix)\n",
    "y_pred = np.where(predictions < 0.9, 0, 1)\n",
    "print(y_pred)"
   ]
  },
  {
   "cell_type": "code",
   "execution_count": null,
   "metadata": {},
   "outputs": [],
   "source": [
    "np.sum(y_pred == 1)"
   ]
  },
  {
   "cell_type": "code",
   "execution_count": null,
   "metadata": {},
   "outputs": [],
   "source": [
    "from_october = load_csv('test_data_from_october.csv')"
   ]
  },
  {
   "cell_type": "code",
   "execution_count": null,
   "metadata": {},
   "outputs": [],
   "source": [
    "from_october.keys()"
   ]
  },
  {
   "cell_type": "code",
   "execution_count": null,
   "metadata": {},
   "outputs": [],
   "source": [
    "y_october = from_october['our_final_status']"
   ]
  },
  {
   "cell_type": "code",
   "execution_count": null,
   "metadata": {},
   "outputs": [],
   "source": [
    "dmatrix = xgb.DMatrix(from_october.drop(columns = ['id','our_final_status', 'data_odlania', 'nr_dgm']))\n",
    "predictions = model.predict(dmatrix)\n",
    "y_pred_october = np.where(predictions < 0.95, 0, 1)"
   ]
  },
  {
   "cell_type": "code",
   "execution_count": null,
   "metadata": {},
   "outputs": [],
   "source": [
    "fig1 = create_confusion_matrix(y_october, y_pred_october)"
   ]
  },
  {
   "cell_type": "code",
   "execution_count": null,
   "metadata": {},
   "outputs": [],
   "source": [
    "recall_ok = recall_score(y_october, y_pred_october, pos_label=0)\n",
    "recall_nok = recall_score(y_october, y_pred_october, pos_label=1)\n",
    "accuracy = accuracy_score(y_october, y_pred_october)"
   ]
  },
  {
   "cell_type": "code",
   "execution_count": null,
   "metadata": {},
   "outputs": [],
   "source": [
    "print(f'acc: {accuracy}')\n",
    "print(f'recall_nok {recall_nok}')\n",
    "print(f'recall_ok {recall_ok}')"
   ]
  },
  {
   "cell_type": "code",
   "execution_count": null,
   "metadata": {},
   "outputs": [],
   "source": [
    "print(recall_score(y_october, y_pred_october))"
   ]
  },
  {
   "cell_type": "code",
   "execution_count": null,
   "metadata": {},
   "outputs": [],
   "source": [
    "fig_ = distribution_of_probability_plot(predictions, y_october)"
   ]
  },
  {
   "cell_type": "code",
   "execution_count": null,
   "metadata": {},
   "outputs": [],
   "source": []
  },
  {
   "cell_type": "markdown",
   "metadata": {},
   "source": [
    "## Rozłożenie detali NOK w czasie"
   ]
  },
  {
   "cell_type": "code",
   "execution_count": null,
   "metadata": {},
   "outputs": [],
   "source": [
    "from_october['y_pred_october'] = y_pred_october"
   ]
  },
  {
   "cell_type": "code",
   "execution_count": null,
   "metadata": {},
   "outputs": [],
   "source": [
    "from_october[['data_odlania','nr_dgm', 'our_final_status', 'y_pred_october']]"
   ]
  },
  {
   "cell_type": "code",
   "execution_count": null,
   "metadata": {},
   "outputs": [],
   "source": [
    "from_october['data_odlania'].head()"
   ]
  },
  {
   "cell_type": "code",
   "execution_count": null,
   "metadata": {},
   "outputs": [],
   "source": [
    "import os\n",
    "os.environ['TF_ENABLE_ONEDNN_OPTS'] = '0'"
   ]
  },
  {
   "cell_type": "code",
   "execution_count": null,
   "metadata": {},
   "outputs": [],
   "source": []
  },
  {
   "cell_type": "markdown",
   "metadata": {},
   "source": [
    "## Przetestowanie stworzenia modelu na samych danych z DGM, żeby sprawdzić dla DGM 8"
   ]
  },
  {
   "cell_type": "code",
   "execution_count": null,
   "metadata": {},
   "outputs": [],
   "source": [
    "from main import *"
   ]
  },
  {
   "cell_type": "code",
   "execution_count": null,
   "metadata": {},
   "outputs": [],
   "source": [
    "def combine_final_table_dgm8(data_tmp):\n",
    "\n",
    "    data = data_tmp.copy()\n",
    "    # usuwanie znaków białych z DMC[MEB_DGM] i DMC_CASTING[MEB_DMC]\n",
    "    data['MEB_DMC'].dmc_casting = data['MEB_DMC']['dmc_casting'].str.strip()\n",
    "    data['MEB_DGM'].dmc = data['MEB_DGM']['dmc'].str.strip()\n",
    "\n",
    "    # usuwanie z meb_dmc wierszy z 'WORKPIECE NIO' w kodzie DMC\n",
    "    data['MEB_DMC'] = data['MEB_DMC'][~data['MEB_DMC']['dmc'].str.contains('WORKPIECE', case=False, na=False)]\n",
    "\n",
    "    # wybieranie rekordów dla MEB+ \n",
    "    data['MEB_DGM'] = data['MEB_DGM'][(data['MEB_DGM']['nr_dgm'].between(8, 8)) & (data['MEB_DGM']['dmc'].apply(lambda x: len(str(x)) == 21))]\n",
    "    # usunięcie anomalii z MEB_DMC\n",
    "    data['MEB_DMC'] = data['MEB_DMC'][data['MEB_DMC']['dmc'].str[:3] == '0MH']\n",
    "\n",
    "    # łączę tabele MEB_KO i MEB_KO_DGM z tabelami MEB_KO_STREFA/RODZAJ\n",
    "    data['MEB_KO'] = data['MEB_KO'].merge(data['MEB_KO_STREFA'], left_on='nok_strefa', right_on='indeks', how='inner')\n",
    "    data['MEB_KO'].drop(columns=['indeks'], inplace=True)\n",
    "    data['MEB_KO'] = data['MEB_KO'].merge(data['MEB_KO_RODZAJ'], left_on='nok_rodzaj', right_on='indeks', how='inner')\n",
    "    data['MEB_KO'].drop(columns=['indeks'], inplace=True)\n",
    "    data['MEB_KO_DGM'] = data['MEB_KO_DGM'].merge(data['MEB_KO_STREFA'], left_on='nok_strefa', right_on='indeks', how='inner')\n",
    "    data['MEB_KO_DGM'].drop(columns=['indeks'], inplace=True)\n",
    "    data['MEB_KO_DGM'] = data['MEB_KO_DGM'].merge(data['MEB_KO_RODZAJ'], left_on='nok_rodzaj', right_on='indeks', how='inner')\n",
    "    data['MEB_KO_DGM'].drop(columns=['indeks'], inplace=True)\n",
    "\n",
    "    # łączę tabelę MEB_DMC z tabelą MEB_KO\n",
    "    data['MEB_DMC'] = data['MEB_DMC'].merge(data['MEB_KO'], on='id_dmc', how='left')\n",
    "    data['MEB_DMC'].drop(columns=['rn'], inplace=True)\n",
    "\n",
    "    # łączę tabelę MEB_DMC z tabelą MEB_GROB\n",
    "    data['MEB_DMC'] = data['MEB_DMC'].merge(data['MEB_GROB'], on='id_dmc', how='left')\n",
    "    data['MEB_DMC'].drop(columns=['rn'], inplace=True)\n",
    "\n",
    "    # łączę tabelę MEB_DMC z tabelą MEB_KS\n",
    "    data['MEB_DMC'] = data['MEB_DMC'].merge(data['MEB_KS'], on='id_dmc', how='left')\n",
    "    data['MEB_DMC'].drop(columns=['rn'], inplace=True)\n",
    "\n",
    "\n",
    "    final_table = data['MEB_DGM'].copy()\n",
    "    final_table.drop(columns=['rn'], inplace=True)\n",
    "\n",
    "    # łączę tabelę MEB_DGM z tabelą MEB_KO_DGM\n",
    "    final_table = final_table.merge(data['MEB_KO_DGM'], left_on='id', right_on='id_dmc', how='left')\n",
    "    final_table.drop(columns=['rn'], inplace=True)\n",
    "\n",
    "    # łączę z tabelą MEB_DGM\n",
    "    final_table.rename(columns={'id_dmc_x': 'id_dmc'}, inplace=True)\n",
    "\n",
    "    # łączę tabelę MEB_DMC z ONI_CIRCUITS\n",
    "    final_table = final_table.merge(data['MEB_DMC'], left_on='dmc', right_on='dmc_casting', how='left', suffixes=('_DGM', '_DMC'))\n",
    "\n",
    "    final_table.drop(columns=['nok_strefa_DGM', 'nok_rodzaj_DGM', 'status_ko_DGM', 'kod_pola_DGM', 'rodzaj_uszkodzenia_DGM'], inplace=True)\n",
    "    final_table.rename(columns={'nok_strefa_DMC': 'nok_strefa', 'nok_rodzaj_DMC': 'nok_rodzaj', \n",
    "                                'status_ko_DMC': 'status_ko', 'kod_pola_DMC': 'kod_pola', \n",
    "                                'rodzaj_uszkodzenia_DMC': 'rodzaj_uszkodzenia'}, inplace=True)\n",
    "                                \n",
    "    final_table.drop(index=final_table[(final_table['dmc_DGM'].duplicated(keep=False)) & (~final_table['dmc_casting'].isna())].index, inplace=True)\n",
    "    final_table.drop(columns = ['part_status'], inplace = True)\n",
    "\n",
    "    return final_table\n",
    "\n",
    "def create_final_status_dgm8(final_table_tmp):\n",
    "    # statusy dmc 2 zostały całkowicie wywalone (jest ich ok. 450)\n",
    "    # co do statusu szczelności to czasami na to wpływ ma porowatość wynikająca z odlewania,\n",
    "    # jednak jest dużo błędów wynikających z obróbki czy zepsutej uszczelki\n",
    "\n",
    "    final_table = final_table_tmp.copy()\n",
    "    final_table = final_table[~final_table['status'].isin(['4', '5', '7', '8', '10', '11'])]\n",
    "    final_table['status'] = final_table['status'].replace(['3', '14'], '2')\n",
    "    final_table = final_table.loc[~final_table['status_ko'].isin([0, 106])]\n",
    "    final_table = final_table.loc[~final_table['statusszczelnosc'].isin([0, 3])]\n",
    "    final_table = final_table.loc[~final_table['statusdmc'].isin([0,2])]\n",
    "\n",
    "    final_table['our_final_status'] = final_table.apply(lambda row: max(int(row['status']), row['status_ko'], row['statusszczelnosc'], row['statusdmc']), axis=1)\n",
    "    print(final_table['our_final_status'].value_counts())\n",
    "    final_table.drop(columns=['status', 'status_ko', 'statusszczelnosc', 'statusdmc', \n",
    "                              'part_type', 'nrprogramu', 'id_dmc_DGM', \n",
    "                              'id_dmc_DGM', 'dmc_DGM', 'product_id', 'line_id', \n",
    "                              'dmc_DMC', 'dmc_casting', 'nok_strefa', 'nok_rodzaj'], inplace=True)  # 'nr_dgm' na razie nie kasuje bo testuje dane - JR 25.09\n",
    "\n",
    "    return final_table"
   ]
  },
  {
   "cell_type": "code",
   "execution_count": null,
   "metadata": {},
   "outputs": [],
   "source": [
    "data_dgm8 = read_data_from_database()"
   ]
  },
  {
   "cell_type": "code",
   "execution_count": null,
   "metadata": {},
   "outputs": [],
   "source": [
    "final_dgm8 = combine_final_table_dgm8(data_dgm8)"
   ]
  },
  {
   "cell_type": "code",
   "execution_count": null,
   "metadata": {},
   "outputs": [],
   "source": [
    "final_dgm8 = create_final_status_dgm8(final_dgm8)\n",
    "final_dgm8.drop(final_dgm8[final_dgm8['our_final_status'] == 104].index, inplace=True)"
   ]
  },
  {
   "cell_type": "code",
   "execution_count": null,
   "metadata": {},
   "outputs": [],
   "source": [
    "final_dgm8 = categorize_data(final_dgm8)"
   ]
  },
  {
   "cell_type": "code",
   "execution_count": null,
   "metadata": {},
   "outputs": [],
   "source": [
    "test_dgm8 = final_dgm8[(final_dgm8['data_odlania'].dt.month >= 10) & (final_dgm8['data_odlania'].dt.year >= 2023)]\n",
    "train_dgm8 = final_dgm8.iloc[:-int(test_dgm8.shape[0])]"
   ]
  },
  {
   "cell_type": "code",
   "execution_count": null,
   "metadata": {},
   "outputs": [],
   "source": [
    "columns_to_drop = train_dgm8.columns.difference(columns_needed)\n",
    "dgm8_train = train_dgm8.drop(columns=columns_to_drop)\n",
    "dgm8_test = test_dgm8.drop(columns=columns_to_drop)"
   ]
  },
  {
   "cell_type": "code",
   "execution_count": null,
   "metadata": {},
   "outputs": [],
   "source": [
    "ok_samples = dgm8_train[dgm8_train['our_final_status']==0].shape[0]"
   ]
  },
  {
   "cell_type": "code",
   "execution_count": null,
   "metadata": {},
   "outputs": [],
   "source": [
    "ml_data = split_data(dgm8_train, samples= int(ok_samples/2))"
   ]
  },
  {
   "cell_type": "code",
   "execution_count": null,
   "metadata": {},
   "outputs": [],
   "source": [
    "\n",
    "\n",
    "from ml_models.xg_boost import *\n",
    "\n",
    "clf = xgb_model(*ml_data.values(), run_name_=\"nn_dgm8\")"
   ]
  },
  {
   "cell_type": "code",
   "execution_count": 45,
   "metadata": {},
   "outputs": [],
   "source": [
    "model_dgm8 = xgb.Booster(model_file=r\"c:/Users/DLXPMX8/Desktop/Projekt_AI/meb_process_data_analysis/src/mlruns/558158636042431628/335d53680b064a488c0e6c10dd0cd575/artifacts/model/model.xgb\")"
   ]
  },
  {
   "cell_type": "code",
   "execution_count": 46,
   "metadata": {},
   "outputs": [],
   "source": [
    "y_dgm8 = dgm8_test['our_final_status']"
   ]
  },
  {
   "cell_type": "code",
   "execution_count": 47,
   "metadata": {},
   "outputs": [],
   "source": [
    "dmatrix = xgb.DMatrix(dgm8_test.drop(columns = ['our_final_status']))\n",
    "predictions = model_dgm8.predict(dmatrix)\n",
    "y_dgm8_pred = np.where(predictions < 0.9, 0, 1)"
   ]
  },
  {
   "cell_type": "code",
   "execution_count": 48,
   "metadata": {},
   "outputs": [
    {
     "data": {
      "image/png": "[encoded data removed]",
      "text/plain": [
       "<Figure size 800x800 with 1 Axes>"
      ]
     },
     "metadata": {},
     "output_type": "display_data"
    }
   ],
   "source": [
    "fig1 = create_confusion_matrix(y_dgm8, y_dgm8_pred)"
   ]
  },
  {
   "cell_type": "code",
   "execution_count": null,
   "metadata": {},
   "outputs": [],
   "source": []
  }
 ],
 "metadata": {
  "kernelspec": {
   "display_name": ".venv",
   "language": "python",
   "name": "python3"
  },
  "language_info": {
   "codemirror_mode": {
    "name": "ipython",
    "version": 3
   },
   "file_extension": ".py",
   "mimetype": "text/x-python",
   "name": "python",
   "nbconvert_exporter": "python",
   "pygments_lexer": "ipython3",
   "version": "3.10.10"
  }
 },
 "nbformat": 4,
 "nbformat_minor": 2
}
