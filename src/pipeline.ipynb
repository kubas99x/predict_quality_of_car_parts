{
 "cells": [
  {
   "cell_type": "code",
   "execution_count": null,
   "metadata": {},
   "outputs": [],
   "source": [
    "import pandas as pd\n",
    "import numpy as np\n",
    "import sqlalchemy\n",
    "from sqlalchemy.exc import SQLAlchemyError\n",
    "from ml_functions import *\n",
    "from sklearn.metrics import accuracy_score, recall_score\n",
    "from db_queries import username, password, dsn, dbhostname, service_name, dbtables, querys\n",
    "from table_functions import *\n",
    "import mlflow\n",
    "import mlflow.pyfunc\n",
    "import xgboost as xgb"
   ]
  },
  {
   "cell_type": "code",
   "execution_count": null,
   "metadata": {},
   "outputs": [],
   "source": [
    "pd.set_option('display.max_columns', None)\n",
    "pd.set_option('display.max_rows', None)\n",
    "\n",
    "# DGM id - oni id_dmc\n",
    "# DGM dmc - MEB_DMC dmc_casting\n",
    "\n",
    "def read_last_meb_dgm(last_id = 0):\n",
    "\n",
    "    data = {}\n",
    "    if last_id:\n",
    "        query = f\"\"\"SELECT *\n",
    "            FROM (\n",
    "                SELECT\n",
    "                    t.*,\n",
    "                    ROW_NUMBER() OVER (PARTITION BY DMC ORDER BY ID DESC) AS rn\n",
    "                FROM\n",
    "                    Z3DMC.MEB_DGM t\n",
    "            ) subquery\n",
    "            WHERE rn = 1\n",
    "            AND id > {last_id}\"\"\"\n",
    "\n",
    "    else:\n",
    "        query = \"\"\"SELECT *\n",
    "            FROM (\n",
    "                SELECT *\n",
    "                FROM Z3DMC.MEB_DGM\n",
    "                ORDER BY ID DESC\n",
    "            )\n",
    "            WHERE ROWNUM = 1\n",
    "            \"\"\"\n",
    "    \n",
    "    try:\n",
    "        sqlalchemy_engine=\"oracle+cx_oracle://\"+username+\":\"+password+\"@\"+dbhostname+\"/?service_name=\"+service_name\n",
    "        engine = sqlalchemy.create_engine(sqlalchemy_engine, arraysize=1000)\n",
    "        data.update({'MEB_DGM': pd.read_sql(query, engine)})\n",
    "    except SQLAlchemyError as e:\n",
    "        print(e)\n",
    "    \n",
    "    data['MEB_DGM'].drop(columns=['timestamp','data_znakowania','data_odlania', 'metal_level', 'metal_pressure', 'max_press_kolbenhub', 'oni_temp_curr_f2'], inplace= True)\n",
    "\n",
    "    last_id = data['MEB_DGM'].id.max()\n",
    "    \n",
    "    return data, last_id\n",
    "\n",
    "def check_if_meb_base(data):\n",
    "    data['MEB_DGM'].dmc = data['MEB_DGM']['dmc'].str.strip()\n",
    "    data['MEB_DGM'] = data['MEB_DGM'][(data['MEB_DGM']['nr_dgm'].between(8, 10)) & (data['MEB_DGM']['dmc'].apply(lambda x: len(str(x)) == 21))]\n",
    "\n",
    "    if data['MEB_DGM'].empty:\n",
    "        print('There are not MEB_BASE+ part produced since last time')\n",
    "        return 1\n",
    "    else:\n",
    "        return data\n",
    "\n",
    "def read_oni(data):\n",
    "    id_list = list(data['MEB_DGM'].id)\n",
    "    ids_ranges = [id_list[x:x+500] for x in range(0, len(id_list), 500)]\n",
    "    ids_ranges_tuples = [tuple(sublist) for sublist in ids_ranges]\n",
    "\n",
    "    result_df = pd.DataFrame()\n",
    "    try:\n",
    "        sqlalchemy_engine=\"oracle+cx_oracle://\"+username+\":\"+password+\"@\"+dbhostname+\"/?service_name=\"+service_name\n",
    "        engine = sqlalchemy.create_engine(sqlalchemy_engine, arraysize=1000)\n",
    "\n",
    "        for ids in ids_ranges_tuples:\n",
    "            query = f\"\"\"SELECT ID_DMC, CIRCUIT_NR, \n",
    "                    MAX(ASSIGMENT) AS ASSIGMENT, \n",
    "                    MAX(FLOW) AS FLOW, \n",
    "                    MAX(SET_POINT) AS SET_POINT,\n",
    "                    MAX(START_DELAY) AS START_DELAY,\n",
    "                    MAX(TEMP) AS TEMP,\n",
    "                    MAX(WORKING_MODE) AS WORKING_MODE\n",
    "                FROM Z3DMC.ONI_CIRCUITS\n",
    "                WHERE ID_DMC IN {ids}\n",
    "                GROUP BY ID_DMC, CIRCUIT_NR\n",
    "                ORDER BY ID_DMC\n",
    "                \"\"\"\n",
    "    \n",
    "            df = pd.read_sql(query, engine)\n",
    "            result_df = pd.concat([result_df, df], ignore_index=True)\n",
    "\n",
    "            \n",
    "    except SQLAlchemyError as e:\n",
    "        print(e)\n",
    "\n",
    "    data.update({'ONI_CIRCUITS': result_df})\n",
    "    \n",
    "    return data\n",
    "\n",
    "def combine_into_one_table(data):\n",
    "    data['ONI_CIRCUITS'].drop(columns = ['assigment', 'working_mode', 'set_point'], inplace = True)\n",
    "    oni_circuits = data['ONI_CIRCUITS'].pivot(index='id_dmc', columns='circuit_nr', values=['flow', 'start_delay', 'temp'])\n",
    "    oni_circuits.columns = oni_circuits.columns.map('{0[0]}_{0[1]}'.format) \n",
    "    oni_circuits.reset_index(inplace=True)\n",
    "    final_table = data['MEB_DGM'].copy()\n",
    "    final_table = final_table.merge(oni_circuits, left_on='id', right_on='id_dmc', how='inner')\n",
    "\n",
    "    return final_table\n",
    "\n",
    "# Save value to a text file\n",
    "def save_id_to_file(value, filename='pipeline_files/id.txt'):\n",
    "    with open(filename, 'w') as file:\n",
    "        file.write(str(value))\n",
    "\n",
    "# Read value from a text file\n",
    "def read_id_from_file(filename='pipeline_files/id.txt'):\n",
    "    try:\n",
    "        with open(filename, 'r') as file:\n",
    "            return file.read().strip()\n",
    "    except FileNotFoundError:\n",
    "        return None"
   ]
  },
  {
   "cell_type": "code",
   "execution_count": null,
   "metadata": {},
   "outputs": [],
   "source": [
    "dgm, id_max = read_last_meb_dgm(1474000)\n",
    "dgm = check_if_meb_base(dgm)\n",
    "dgm_oni = read_oni(dgm)\n"
   ]
  },
  {
   "cell_type": "code",
   "execution_count": null,
   "metadata": {},
   "outputs": [],
   "source": [
    "final_tab = combine_into_one_table(dgm_oni)"
   ]
  },
  {
   "cell_type": "code",
   "execution_count": null,
   "metadata": {},
   "outputs": [],
   "source": [
    "train_data = load_csv('final_table_before_normalization.csv')"
   ]
  },
  {
   "cell_type": "code",
   "execution_count": null,
   "metadata": {},
   "outputs": [],
   "source": [
    "train_data.columns.to_series().to_csv('./pipeline_files/column_names.csv', index=False)"
   ]
  },
  {
   "cell_type": "code",
   "execution_count": null,
   "metadata": {},
   "outputs": [],
   "source": [
    "columns_needed = pd.read_csv('./pipeline_files/column_names.csv', header=None)[0].tolist()"
   ]
  },
  {
   "cell_type": "code",
   "execution_count": null,
   "metadata": {},
   "outputs": [],
   "source": [
    "columns_to_drop = final_tab.columns.difference(columns_needed)\n",
    "final_tab = final_tab.drop(columns=columns_to_drop)"
   ]
  },
  {
   "cell_type": "code",
   "execution_count": null,
   "metadata": {},
   "outputs": [],
   "source": [
    "print(dgm_oni['ONI_CIRCUITS'].shape)\n",
    "print(final_tab.shape)\n",
    "print(train_data.shape)"
   ]
  },
  {
   "cell_type": "code",
   "execution_count": null,
   "metadata": {},
   "outputs": [],
   "source": [
    "# Load the XGBoost model\n",
    "model = xgb.Booster(model_file=r'C:\\Users\\DLXPMX8\\Desktop\\Projekt_AI\\meb_process_data_analysis\\src\\final_model\\model\\model.xgb')"
   ]
  },
  {
   "cell_type": "code",
   "execution_count": null,
   "metadata": {},
   "outputs": [],
   "source": [
    "dmatrix = xgb.DMatrix(final_tab)\n",
    "predictions = model.predict(dmatrix)\n",
    "y_pred = np.where(predictions < 0.8, 0, 1)\n",
    "print(y_pred)"
   ]
  },
  {
   "cell_type": "code",
   "execution_count": null,
   "metadata": {},
   "outputs": [],
   "source": [
    "np.sum(y_pred == 1)"
   ]
  },
  {
   "cell_type": "code",
   "execution_count": null,
   "metadata": {},
   "outputs": [],
   "source": [
    "from_october = load_csv('test_data_from_october.csv')"
   ]
  },
  {
   "cell_type": "code",
   "execution_count": null,
   "metadata": {},
   "outputs": [],
   "source": [
    "from_october.keys()"
   ]
  },
  {
   "cell_type": "code",
   "execution_count": null,
   "metadata": {},
   "outputs": [],
   "source": [
    "y_october = from_october['our_final_status']"
   ]
  },
  {
   "cell_type": "code",
   "execution_count": null,
   "metadata": {},
   "outputs": [],
   "source": [
    "dmatrix = xgb.DMatrix(from_october.drop(columns = ['id','our_final_status', 'data_odlania', 'nr_dgm']))\n",
    "predictions = model.predict(dmatrix)\n",
    "y_pred_october = np.where(predictions < 0.95, 0, 1)"
   ]
  },
  {
   "cell_type": "code",
   "execution_count": null,
   "metadata": {},
   "outputs": [],
   "source": [
    "fig1 = create_confusion_matrix(y_october, y_pred_october)"
   ]
  },
  {
   "cell_type": "code",
   "execution_count": null,
   "metadata": {},
   "outputs": [],
   "source": [
    "recall_ok = recall_score(y_october, y_pred_october, pos_label=0)\n",
    "recall_nok = recall_score(y_october, y_pred_october, pos_label=1)\n",
    "accuracy = accuracy_score(y_october, y_pred_october)"
   ]
  },
  {
   "cell_type": "code",
   "execution_count": null,
   "metadata": {},
   "outputs": [],
   "source": [
    "print(f'acc: {accuracy}')\n",
    "print(f'recall_nok {recall_nok}')\n",
    "print(f'recall_ok {recall_ok}')"
   ]
  },
  {
   "cell_type": "code",
   "execution_count": null,
   "metadata": {},
   "outputs": [],
   "source": [
    "print(recall_score(y_october, y_pred_october))"
   ]
  },
  {
   "cell_type": "code",
   "execution_count": null,
   "metadata": {},
   "outputs": [],
   "source": [
    "fig_ = distribution_of_probability_plot(predictions, y_october)"
   ]
  },
  {
   "cell_type": "code",
   "execution_count": null,
   "metadata": {},
   "outputs": [],
   "source": []
  },
  {
   "cell_type": "markdown",
   "metadata": {},
   "source": [
    "## Rozłożenie detali NOK w czasie"
   ]
  },
  {
   "cell_type": "code",
   "execution_count": null,
   "metadata": {},
   "outputs": [],
   "source": [
    "from_october['y_pred_october'] = y_pred_october"
   ]
  },
  {
   "cell_type": "code",
   "execution_count": null,
   "metadata": {},
   "outputs": [],
   "source": [
    "from_october[['data_odlania','nr_dgm', 'our_final_status', 'y_pred_october']]"
   ]
  },
  {
   "cell_type": "code",
   "execution_count": null,
   "metadata": {},
   "outputs": [],
   "source": [
    "from_october['data_odlania'].head()"
   ]
  },
  {
   "cell_type": "code",
   "execution_count": null,
   "metadata": {},
   "outputs": [],
   "source": [
    "import os\n",
    "os.environ['TF_ENABLE_ONEDNN_OPTS'] = '0'"
   ]
  },
  {
   "cell_type": "code",
   "execution_count": null,
   "metadata": {},
   "outputs": [],
   "source": []
  }
 ],
 "metadata": {
  "kernelspec": {
   "display_name": ".venv",
   "language": "python",
   "name": "python3"
  },
  "language_info": {
   "codemirror_mode": {
    "name": "ipython",
    "version": 3
   },
   "file_extension": ".py",
   "mimetype": "text/x-python",
   "name": "python",
   "nbconvert_exporter": "python",
   "pygments_lexer": "ipython3",
   "version": "3.10.10"
  }
 },
 "nbformat": 4,
 "nbformat_minor": 2
}
