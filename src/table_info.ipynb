{
 "cells": [
  {
   "cell_type": "code",
   "execution_count": null,
   "metadata": {},
   "outputs": [],
   "source": [
    "import pandas as pd\n",
    "import numpy as np\n",
    "import sqlalchemy\n",
    "import seaborn as sns\n",
    "from sqlalchemy.exc import SQLAlchemyError\n",
    "from ml_functions import *\n",
    "from sklearn.metrics import accuracy_score, recall_score\n",
    "from db_queries import username, password, dsn, dbhostname, service_name, dbtables, querys\n",
    "from table_functions import *\n",
    "import mlflow\n",
    "import mlflow.pyfunc\n",
    "import xgboost as xgb\n",
    "from main import *\n",
    "\n",
    "pd.set_option('display.max_columns', None)\n",
    "pd.set_option('display.max_rows', None)"
   ]
  },
  {
   "cell_type": "markdown",
   "metadata": {},
   "source": [
    "## Function to download whole table"
   ]
  },
  {
   "cell_type": "code",
   "execution_count": null,
   "metadata": {},
   "outputs": [],
   "source": [
    "def combine_final_whole_table(data_, dgm_smallest = 8, dgm_biggest = 10):\n",
    "\n",
    "    data = data_.copy()\n",
    "    # usuwanie znaków białych z DMC[MEB_DGM] i DMC_CASTING[MEB_DMC]\n",
    "    data['MEB_DMC'].dmc_casting = data['MEB_DMC']['dmc_casting'].str.strip()\n",
    "    data['MEB_DGM'].dmc = data['MEB_DGM']['dmc'].str.strip()\n",
    "\n",
    "    # usuwanie z meb_dmc wierszy z 'WORKPIECE NIO' w kodzie DMC\n",
    "    data['MEB_DMC'] = data['MEB_DMC'][~data['MEB_DMC']['dmc'].str.contains('WORKPIECE', case=False, na=False)]\n",
    "\n",
    "    # wybieranie rekordów dla MEB+ \n",
    "    data['MEB_DGM'] = data['MEB_DGM'][(data['MEB_DGM']['nr_dgm'].between(dgm_smallest, dgm_biggest)) & (data['MEB_DGM']['dmc'].apply(lambda x: len(str(x)) == 21))]\n",
    "    # usunięcie anomalii z MEB_DMC\n",
    "    data['MEB_DMC'] = data['MEB_DMC'][data['MEB_DMC']['dmc'].str[:3] == '0MH']\n",
    "\n",
    "    # łączę tabele MEB_KO i MEB_KO_DGM z tabelami MEB_KO_STREFA/RODZAJ\n",
    "    data['MEB_KO'] = data['MEB_KO'].merge(data['MEB_KO_STREFA'], left_on='nok_strefa', right_on='indeks', how='inner')\n",
    "    data['MEB_KO'].drop(columns=['indeks'], inplace=True)\n",
    "    data['MEB_KO'] = data['MEB_KO'].merge(data['MEB_KO_RODZAJ'], left_on='nok_rodzaj', right_on='indeks', how='inner')\n",
    "    data['MEB_KO'].drop(columns=['indeks'], inplace=True)\n",
    "    data['MEB_KO_DGM'] = data['MEB_KO_DGM'].merge(data['MEB_KO_STREFA'], left_on='nok_strefa', right_on='indeks', how='inner')\n",
    "    data['MEB_KO_DGM'].drop(columns=['indeks'], inplace=True)\n",
    "    data['MEB_KO_DGM'] = data['MEB_KO_DGM'].merge(data['MEB_KO_RODZAJ'], left_on='nok_rodzaj', right_on='indeks', how='inner')\n",
    "    data['MEB_KO_DGM'].drop(columns=['indeks'], inplace=True)\n",
    "\n",
    "    # łączę tabelę MEB_DMC z tabelą MEB_KO\n",
    "    data['MEB_DMC'] = data['MEB_DMC'].merge(data['MEB_KO'], on='id_dmc', how='left')\n",
    "    data['MEB_DMC'].drop(columns=['rn'], inplace=True)\n",
    "\n",
    "    # łączę tabelę MEB_DMC z tabelą MEB_GROB\n",
    "    data['MEB_DMC'] = data['MEB_DMC'].merge(data['MEB_GROB'], on='id_dmc', how='left')\n",
    "    data['MEB_DMC'].drop(columns=['rn'], inplace=True)\n",
    "\n",
    "    # łączę tabelę MEB_DMC z tabelą MEB_KS\n",
    "    data['MEB_DMC'] = data['MEB_DMC'].merge(data['MEB_KS'], on='id_dmc', how='left')\n",
    "    data['MEB_DMC'].drop(columns=['rn'], inplace=True)\n",
    "\n",
    "    # przygotowywuję tabelę ONI_CIRCUITS do połączenia\n",
    "    data['ONI_CIRCUITS'].drop(columns = ['assigment', 'working_mode', 'set_point'], inplace = True)\n",
    "    oni_circuits = data['ONI_CIRCUITS'].pivot(index='id_dmc', columns='circuit_nr', values=['flow', 'start_delay', 'temp'])\n",
    "    oni_circuits.columns = oni_circuits.columns.map('{0[0]}_{0[1]}'.format) \n",
    "    oni_circuits.reset_index(inplace=True)\n",
    "\n",
    "    final_table = data['MEB_DGM'].copy()\n",
    "    final_table.drop(columns=['rn'], inplace=True)\n",
    "\n",
    "    # łączę tabelę MEB_DGM z tabelą MEB_KO_DGM\n",
    "    final_table = final_table.merge(data['MEB_KO_DGM'], left_on='id', right_on='id_dmc', how='left')\n",
    "    final_table.drop(columns=['rn'], inplace=True)\n",
    "\n",
    "    # łączę z tabelą MEB_DGM\n",
    "    final_table = final_table.merge(oni_circuits, left_on='id', right_on='id_dmc', how='inner')\n",
    "    final_table.drop(columns=['id_dmc_y'], inplace=True)\n",
    "    final_table.rename(columns={'id_dmc_x': 'id_dmc'}, inplace=True)\n",
    "\n",
    "    # łączę tabelę MEB_DMC z ONI_CIRCUITS\n",
    "    final_table = final_table.merge(data['MEB_DMC'], left_on='dmc', right_on='dmc_casting', how='left', suffixes=('_DGM', '_DMC'))\n",
    "\n",
    "    # duplicate_count_oni = final_table['dmc_DMC'].duplicated(keep=False).sum()\n",
    "    # print(f\"Number of rows with the same 'dmc' value: {duplicate_count_oni}\")\n",
    "\n",
    "    #final_table.drop(columns=['nok_strefa_DGM', 'nok_rodzaj_DGM', 'status_ko_DGM', 'kod_pola_DGM', 'rodzaj_uszkodzenia_DGM'], inplace=True)\n",
    "    # final_table.rename(columns={'nok_strefa_DMC': 'nok_strefa', 'nok_rodzaj_DMC': 'nok_rodzaj', \n",
    "    #                             'status_ko_DMC': 'status_ko', 'kod_pola_DMC': 'kod_pola', \n",
    "    #                             'rodzaj_uszkodzenia_DMC': 'rodzaj_uszkodzenia'}, inplace=True)\n",
    "                                \n",
    "    final_table.drop(index=final_table[(final_table['dmc_DGM'].duplicated(keep=False)) & (~final_table['dmc_casting'].isna())].index, inplace=True)\n",
    "    final_table.drop(columns = ['part_status'], inplace = True)\n",
    "\n",
    "    return final_table"
   ]
  },
  {
   "cell_type": "code",
   "execution_count": null,
   "metadata": {},
   "outputs": [],
   "source": [
    "data = read_data_from_database()\n",
    "whole_table = combine_final_whole_table(data, 9, 10)"
   ]
  },
  {
   "cell_type": "code",
   "execution_count": null,
   "metadata": {},
   "outputs": [],
   "source": [
    "print('Save whole table')\n",
    "save_df_to_csv(whole_table, 'final_whole_table.csv')"
   ]
  },
  {
   "cell_type": "markdown",
   "metadata": {},
   "source": [
    "## Operations on table"
   ]
  },
  {
   "cell_type": "code",
   "execution_count": null,
   "metadata": {},
   "outputs": [],
   "source": [
    "whole_table = load_csv('final_whole_table.csv')"
   ]
  },
  {
   "cell_type": "code",
   "execution_count": null,
   "metadata": {},
   "outputs": [],
   "source": [
    "whole_table.head()"
   ]
  },
  {
   "cell_type": "code",
   "execution_count": null,
   "metadata": {},
   "outputs": [],
   "source": [
    "whole_table['data_odlania'] = pd.to_datetime(whole_table['data_odlania'])\n",
    "filtered_data = whole_table[whole_table['data_odlania'].dt.year >= 2023]"
   ]
  },
  {
   "cell_type": "code",
   "execution_count": null,
   "metadata": {},
   "outputs": [],
   "source": [
    "filtered_data.head()"
   ]
  },
  {
   "cell_type": "code",
   "execution_count": null,
   "metadata": {},
   "outputs": [],
   "source": [
    "whole_table['status'].value_counts()"
   ]
  },
  {
   "cell_type": "code",
   "execution_count": null,
   "metadata": {},
   "outputs": [],
   "source": [
    "whole_table['status_ko_DGM'].value_counts()"
   ]
  },
  {
   "cell_type": "code",
   "execution_count": null,
   "metadata": {},
   "outputs": [],
   "source": [
    "whole_table['status_ko_DMC'].value_counts()     #status KO - 2 to źle i to się łączy z nok_rodzaj i to po indeksie z rodzaj_uszkodzenia"
   ]
  },
  {
   "cell_type": "code",
   "execution_count": null,
   "metadata": {},
   "outputs": [],
   "source": [
    "whole_table['rodzaj_uszkodzenia_DMC'].value_counts()"
   ]
  },
  {
   "cell_type": "code",
   "execution_count": null,
   "metadata": {},
   "outputs": [],
   "source": [
    "whole_table['nok_rodzaj_DMC'].value_counts() # MEB_KO_RODZAJ i tam po indeksie\n",
    "# Do zostawienia: 0, 102, 201, 103, 101, "
   ]
  },
  {
   "cell_type": "code",
   "execution_count": null,
   "metadata": {},
   "outputs": [],
   "source": [
    "whole_table['statusdmc'].value_counts()"
   ]
  },
  {
   "cell_type": "code",
   "execution_count": null,
   "metadata": {},
   "outputs": [],
   "source": [
    "whole_table['status_ko_DMC'].value_counts()"
   ]
  },
  {
   "cell_type": "code",
   "execution_count": null,
   "metadata": {},
   "outputs": [],
   "source": [
    "whole_table['statusszczelnosc'].value_counts()"
   ]
  },
  {
   "cell_type": "code",
   "execution_count": null,
   "metadata": {},
   "outputs": [],
   "source": [
    "whole_table['status'].value_counts()"
   ]
  },
  {
   "cell_type": "code",
   "execution_count": null,
   "metadata": {},
   "outputs": [],
   "source": [
    "# & \n",
    "#                              (~((whole_table['nok_rodzaj_DMC'] == 0.0) | whole_table['nok_rodzaj_DMC'].isna()))\n",
    "whole_table['data_odlania'] = pd.to_datetime(whole_table['data_odlania'])\n",
    "filtered_table = whole_table[(whole_table['nr_dgm'].isin([9, 10])) & \n",
    "                             (whole_table['data_odlania'].dt.year < 2024) \n",
    "                             ]\n",
    "\n",
    "print(f\"Number of rows after initial filtering: {len(filtered_table)}\")\n",
    "print(filtered_table['status'].value_counts())\n",
    "print('############')\n",
    "#filtered_table = filtered_table[~filtered_table['status'].isin([4, 5, 7, 8, 10, 11])]\n",
    "filtered_table = filtered_table[filtered_table['status'].isin([0,1,3,14])]\n",
    "print(filtered_table['status'].value_counts())\n",
    "print('############')\n",
    "filtered_table['status'] = filtered_table['status'].replace([3, 14], 2)\n",
    "print(filtered_table['status'].value_counts())\n",
    "print(f\"Number of rows after status filtering: {len(filtered_table)}\")\n",
    "\n",
    "\n",
    "result_table = filtered_table[['data_odlania', 'status', 'status_ko_DGM', 'status_ko_DMC', 'rodzaj_uszkodzenia_DMC', 'nok_rodzaj_DMC']]"
   ]
  },
  {
   "cell_type": "code",
   "execution_count": null,
   "metadata": {},
   "outputs": [],
   "source": [
    "# result_table[result_table['status'] == '2'].tail(100)\n",
    "result_table.head(10)"
   ]
  },
  {
   "cell_type": "code",
   "execution_count": null,
   "metadata": {},
   "outputs": [],
   "source": [
    "whole_table.head()"
   ]
  },
  {
   "cell_type": "code",
   "execution_count": null,
   "metadata": {},
   "outputs": [],
   "source": [
    "whole_table[['data_odlania','status','status_ko_DGM', 'status_ko_DMC', 'rodzaj_uszkodzenia_DMC','nok_rodzaj_DMC']].tail(100)"
   ]
  },
  {
   "cell_type": "markdown",
   "metadata": {},
   "source": [
    "## Testing the values of OK and NOK parts"
   ]
  },
  {
   "cell_type": "code",
   "execution_count": null,
   "metadata": {},
   "outputs": [],
   "source": [
    "whole_table = load_csv('final_whole_table.csv')\n",
    "whole_table['data_odlania'] = pd.to_datetime(whole_table['data_odlania'])\n",
    "check_df = whole_table[whole_table['nr_dgm'] == 10]\n",
    "check_df = check_df[(check_df['data_odlania'].dt.month >= 10) & (check_df['data_odlania'].dt.year >= 2023)]"
   ]
  },
  {
   "cell_type": "code",
   "execution_count": null,
   "metadata": {},
   "outputs": [],
   "source": [
    "def create_final_status_check(final_table):\n",
    "    \n",
    "    final_table['status'] = final_table['status'].astype(int)\n",
    "    final_table['nok_rodzaj_DMC'] = final_table['nok_rodzaj_DMC'].fillna(0)\n",
    "    #final_table['nok_rodzaj'] = final_table['nok_rodzaj'].astype(int)\n",
    "    \n",
    "    print(final_table['status'].value_counts())\n",
    "    final_table = final_table[final_table['status'].isin([0,1,3,14])]\n",
    "    final_table['status'] = final_table['status'].replace([3, 14], 2)\n",
    "\n",
    "    print('####################')\n",
    "    print('status counts')\n",
    "    print(final_table['status'].value_counts())\n",
    "\n",
    "    final_table = final_table.loc[~final_table['status_ko_DMC'].isin([0, 106])] # KO\n",
    "    final_table = final_table.loc[~final_table['statusszczelnosc'].isin([0, 3])]\n",
    "    final_table = final_table.loc[~final_table['statusdmc'].isin([0,2])]\n",
    "    print(f'Number of NOK parts on DGM: {final_table[\"status\"].isin([2]).sum()}')\n",
    "    print(f'Number of NOK parts of DGM on KO: {final_table[\"nok_rodzaj_DMC\"].isin([102, 201, 103, 101]).sum()}')\n",
    "\n",
    "    print('####################')\n",
    "    print('nok_rodzaj counts')\n",
    "    print(final_table['nok_rodzaj_DMC'].value_counts())\n",
    "\n",
    "    final_table = final_table.loc[final_table['nok_rodzaj_DMC'].isin([0, 102, 201, 103, 101])]\n",
    "    final_table['nok_rodzaj_DMC'] = final_table['nok_rodzaj_DMC'].replace([102, 201, 103, 101], 2)\n",
    "    final_table['nok_rodzaj_DMC'] = final_table['nok_rodzaj_DMC'].replace([0], 1)\n",
    "\n",
    "    print('####################')\n",
    "    print('nok_rodzaj_DMC counts')\n",
    "    print(final_table['nok_rodzaj_DMC'].value_counts())\n",
    "\n",
    "    print('####################')\n",
    "    print('status counts 2')\n",
    "    print(final_table['status'].value_counts())\n",
    "    \n",
    "    final_table['our_final_status'] = final_table.apply(lambda row: max(row['status'], row['nok_rodzaj_DMC'], row['statusszczelnosc'], row['statusdmc']), axis=1)\n",
    "    print(f\"Final number of NOK parts: {final_table['our_final_status'].value_counts()}\")\n",
    "\n",
    "    return final_table"
   ]
  },
  {
   "cell_type": "code",
   "execution_count": null,
   "metadata": {},
   "outputs": [],
   "source": [
    "check_df = create_final_status_check(check_df)"
   ]
  },
  {
   "cell_type": "code",
   "execution_count": null,
   "metadata": {},
   "outputs": [],
   "source": [
    "check_df[['id','data_odlania','our_final_status','status','status_ko_DGM', 'status_ko_DMC', 'rodzaj_uszkodzenia_DMC','nok_rodzaj_DMC']]"
   ]
  },
  {
   "cell_type": "markdown",
   "metadata": {},
   "source": [
    "## Analiza danych"
   ]
  },
  {
   "cell_type": "code",
   "execution_count": 7,
   "metadata": {},
   "outputs": [
    {
     "data": {
      "text/plain": [
       "rodzaj_uszkodzenia_DMC\n",
       "Brak                          4363\n",
       "Odlewnicze - porowatości        50\n",
       "Odlewnicze - brak naddatku      32\n",
       "Odlewnicze - wtrącenia           3\n",
       "Mechaniczne - odlewnicze         3\n",
       "Name: count, dtype: int64"
      ]
     },
     "execution_count": 7,
     "metadata": {},
     "output_type": "execute_result"
    }
   ],
   "source": [
    "check_df['rodzaj_uszkodzenia_DMC'].value_counts()"
   ]
  },
  {
   "cell_type": "code",
   "execution_count": null,
   "metadata": {},
   "outputs": [],
   "source": []
  },
  {
   "cell_type": "code",
   "execution_count": null,
   "metadata": {},
   "outputs": [],
   "source": []
  },
  {
   "cell_type": "code",
   "execution_count": null,
   "metadata": {},
   "outputs": [],
   "source": []
  },
  {
   "cell_type": "markdown",
   "metadata": {},
   "source": [
    "## Dane dla porowatosci wybranych detali"
   ]
  },
  {
   "cell_type": "code",
   "execution_count": null,
   "metadata": {},
   "outputs": [],
   "source": [
    "def make_and_save_pariplot_check(df_to_plot ,columns_to_analyze, file_name):\n",
    "\n",
    "    plot = sns.pairplot(data=df_to_plot[columns_to_analyze + ['our_final_status']], hue=\"our_final_status\", palette={ 1 : \"green\", 2:\"red\"}, plot_kws={\"s\": 3})\n",
    "    plt.legend(title='status końcowy')\n",
    "    plot.savefig(os.path.join(r\"C:\\Users\\DLXPMX8\\Desktop\\Projekt_AI\\meb_process_data_analysis\\src\\plots\", file_name))"
   ]
  },
  {
   "cell_type": "code",
   "execution_count": null,
   "metadata": {},
   "outputs": [],
   "source": [
    "data_october_10_10_v2 = load_csv('final_table_10_10_v2_2021.csv')\n",
    "data_october_10_10_v1 = load_csv('final_table_10_10_v1_2021.csv')"
   ]
  },
  {
   "cell_type": "code",
   "execution_count": null,
   "metadata": {},
   "outputs": [],
   "source": [
    "id_list = [1411700,1411776,1411795,1411841,1415944,1411935]\n",
    "check_df.reset_index(drop=True, inplace=True)\n",
    "\n",
    "filtered_df_test = check_df[check_df['id'].isin(id_list)]\n",
    "\n",
    "selected_indices = []\n",
    "\n",
    "for id_val in id_list:\n",
    "    indices = filtered_df_test.index[filtered_df_test['id'] == id_val].tolist()\n",
    "    selected_indices.extend(indices)\n",
    "\n",
    "final_indices = []\n",
    "for idx in selected_indices:\n",
    "    lower_bound = max(0, idx - 2)  \n",
    "    upper_bound = min(check_df.shape[0] - 1, idx + 2)  \n",
    "    final_indices.extend(range(lower_bound, upper_bound + 1))\n",
    "\n",
    "final_indices = list(set(final_indices) & set(check_df.index))\n",
    "\n",
    "result_df = check_df.iloc[final_indices]\n"
   ]
  },
  {
   "cell_type": "code",
   "execution_count": null,
   "metadata": {},
   "outputs": [],
   "source": [
    "result_df['our_final_status'].value_counts()"
   ]
  },
  {
   "cell_type": "code",
   "execution_count": null,
   "metadata": {},
   "outputs": [],
   "source": [
    "columns_needed = list(data_october_10_10_v1.columns)\n",
    "columns_to_drop = result_df.columns.difference(columns_needed)\n",
    "tab_to_plot = result_df.drop(columns=columns_to_drop)"
   ]
  },
  {
   "cell_type": "code",
   "execution_count": null,
   "metadata": {},
   "outputs": [],
   "source": [
    "column_groups = np.array_split(list(tab_to_plot.columns), 10)\n",
    "\n",
    "for i, group in enumerate(column_groups):\n",
    "    make_and_save_pariplot_check(tab_to_plot, list(group), f'plot_of_group_{i}')"
   ]
  },
  {
   "cell_type": "markdown",
   "metadata": {},
   "source": [
    "## Wszystkie ze statusem porowatosci"
   ]
  },
  {
   "cell_type": "code",
   "execution_count": null,
   "metadata": {},
   "outputs": [],
   "source": [
    "porowatosc_df = check_df[check_df['rodzaj_uszkodzenia_DMC'] == \"Odlewnicze - porowatości\"]\n",
    "porowatosc_shape = porowatosc_df.shape[0]\n",
    "ok_df = check_df[check_df['our_final_status'] == 1].sample(porowatosc_shape)\n",
    "porowatosc_and_ok = pd.concat([porowatosc_df, ok_df], ignore_index=True)"
   ]
  },
  {
   "cell_type": "code",
   "execution_count": null,
   "metadata": {},
   "outputs": [],
   "source": [
    "columns_needed = list(data_october_10_10_v1.columns)\n",
    "columns_to_drop = porowatosc_and_ok.columns.difference(columns_needed)\n",
    "porowatosc_and_ok = porowatosc_and_ok.drop(columns=columns_to_drop)"
   ]
  },
  {
   "cell_type": "code",
   "execution_count": null,
   "metadata": {},
   "outputs": [],
   "source": [
    "column_groups = np.array_split(list(porowatosc_and_ok.columns), 10)\n",
    "\n",
    "for i, group in enumerate(column_groups):\n",
    "    make_and_save_pariplot_check(porowatosc_and_ok, list(group), f'plot_porowatosc_group_{i}')"
   ]
  },
  {
   "cell_type": "code",
   "execution_count": null,
   "metadata": {},
   "outputs": [],
   "source": []
  }
 ],
 "metadata": {
  "kernelspec": {
   "display_name": ".venv",
   "language": "python",
   "name": "python3"
  },
  "language_info": {
   "codemirror_mode": {
    "name": "ipython",
    "version": 3
   },
   "file_extension": ".py",
   "mimetype": "text/x-python",
   "name": "python",
   "nbconvert_exporter": "python",
   "pygments_lexer": "ipython3",
   "version": "3.10.10"
  }
 },
 "nbformat": 4,
 "nbformat_minor": 2
}
