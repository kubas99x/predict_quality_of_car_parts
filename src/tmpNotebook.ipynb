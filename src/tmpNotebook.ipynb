{
 "cells": [
  {
   "cell_type": "code",
   "execution_count": null,
   "metadata": {},
   "outputs": [],
   "source": [
    "import pandas as pd\n",
    "import sqlalchemy\n",
    "import numpy as np\n",
    "import seaborn as sns\n",
    "import os\n",
    "import matplotlib.pyplot as plt\n",
    "from sqlalchemy.exc import SQLAlchemyError\n",
    "from xgboost import XGBClassifier\n",
    "from sklearn.preprocessing import StandardScaler\n",
    "from sklearn.tree import DecisionTreeClassifier\n",
    "from sklearn.ensemble import RandomForestClassifier\n",
    "from sklearn.model_selection import train_test_split, cross_val_score\n",
    "\n",
    "from sklearn.metrics import accuracy_score, confusion_matrix, classification_report\n",
    "\n",
    "\n",
    "from db_queries import username, password, dsn, dbhostname, service_name, dbtables, querys\n",
    "from table_functions import *\n",
    "from analyze_visualisation import *"
   ]
  },
  {
   "cell_type": "code",
   "execution_count": null,
   "metadata": {},
   "outputs": [],
   "source": [
    "path = \"/home\"\n",
    " \n",
    "# Join various path components \n",
    "print(os.path.join(path, \"User/Desktop\", \"file.txt\"))"
   ]
  },
  {
   "cell_type": "code",
   "execution_count": null,
   "metadata": {},
   "outputs": [],
   "source": [
    "data = {}\n",
    "\n",
    "try:\n",
    "    sqlalchemy_engine=\"oracle+cx_oracle://\"+username+\":\"+password+\"@\"+dbhostname+\"/?service_name=\"+service_name\n",
    "    engine = sqlalchemy.create_engine(sqlalchemy_engine, arraysize=1000)\n",
    "    for table, query in zip(dbtables, querys):\n",
    "        data.update({table: pd.read_sql(query, engine)})\n",
    "except SQLAlchemyError as e:\n",
    "    print(e)"
   ]
  },
  {
   "cell_type": "code",
   "execution_count": null,
   "metadata": {},
   "outputs": [],
   "source": [
    "data = drop_unused_columns(data)"
   ]
  },
  {
   "cell_type": "code",
   "execution_count": null,
   "metadata": {},
   "outputs": [],
   "source": [
    "data.keys()"
   ]
  },
  {
   "cell_type": "code",
   "execution_count": null,
   "metadata": {},
   "outputs": [],
   "source": [
    "data['ONI_CIRCUITS'].shape"
   ]
  },
  {
   "cell_type": "code",
   "execution_count": null,
   "metadata": {},
   "outputs": [],
   "source": [
    "final_table = combine_final_table(data)"
   ]
  },
  {
   "cell_type": "code",
   "execution_count": null,
   "metadata": {},
   "outputs": [],
   "source": [
    "final_table.shape"
   ]
  },
  {
   "cell_type": "code",
   "execution_count": null,
   "metadata": {},
   "outputs": [],
   "source": [
    "\n",
    "final_table = create_final_status(final_table)\n",
    "final_table = drop_columns_not_used_in_ml(final_table)"
   ]
  },
  {
   "cell_type": "code",
   "execution_count": null,
   "metadata": {},
   "outputs": [],
   "source": [
    "final_table.shape"
   ]
  },
  {
   "cell_type": "code",
   "execution_count": null,
   "metadata": {},
   "outputs": [],
   "source": [
    "final_table = read_csv('final_table_before_standarization.csv')"
   ]
  },
  {
   "cell_type": "code",
   "execution_count": null,
   "metadata": {},
   "outputs": [],
   "source": [
    "fig = px.box(final_table, y='vds_vac_hose1')\n",
    "fig.update_layout(width=500, height=400, margin=dict(l=10, r=10, b=10, t=10), paper_bgcolor='rgba(0,0,0,0)', plot_bgcolor='rgba(0,0,0,0)')\n",
    "fig.update_traces(marker=dict(color='darkblue'), boxpoints='outliers')\n",
    "fig.show()"
   ]
  },
  {
   "cell_type": "code",
   "execution_count": null,
   "metadata": {},
   "outputs": [],
   "source": [
    "fig.write_html(r\"C:\\Users\\dlxpmx8\\Desktop\\Projekt_AI\\meb_process_data_analysis\\not_in_repo/box_plot_with_outliers.html\")\n",
    "fig.write_image(r\"C:\\Users\\dlxpmx8\\Desktop\\Projekt_AI\\meb_process_data_analysis\\not_in_repo/box_plot_with_outliers.png\", format=\"png\")"
   ]
  },
  {
   "cell_type": "code",
   "execution_count": null,
   "metadata": {},
   "outputs": [],
   "source": [
    "final_table = read_csv('final_table_before_normalization.csv')"
   ]
  },
  {
   "cell_type": "code",
   "execution_count": null,
   "metadata": {},
   "outputs": [],
   "source": [
    "status_1_data = final_table[final_table['our_final_status'] == 0].sample(n=200, random_state= 69)\n",
    "status_2_data = final_table[final_table['our_final_status'] == 1].sample(n=200, random_state= 69)\n",
    "random_to_analyze = pd.concat([status_1_data, status_2_data], ignore_index=True)\n",
    "\n",
    "col_dgm = ['cisnienie_koncowe','nachdruck_hub', \n",
    "                'anguss','vds_air_pressure','vds_vac_hose1', 'vds_vac_valve1', 'vds_vac_valve2']\n",
    "\n",
    "make_and_save_pariplot(random_to_analyze, col_dgm, 'some_dgm_corr3.png')"
   ]
  },
  {
   "cell_type": "code",
   "execution_count": null,
   "metadata": {},
   "outputs": [],
   "source": [
    "final_table['our_final_status'].value_counts()"
   ]
  },
  {
   "cell_type": "code",
   "execution_count": null,
   "metadata": {},
   "outputs": [],
   "source": [
    "final_table = read_csv('final_table_before_normalization.csv')"
   ]
  },
  {
   "cell_type": "code",
   "execution_count": null,
   "metadata": {},
   "outputs": [],
   "source": [
    "final_table.corr()"
   ]
  },
  {
   "cell_type": "code",
   "execution_count": null,
   "metadata": {},
   "outputs": [],
   "source": [
    "correlation_matrix = final_table.corr()\n",
    "threshold = 0.85  \n",
    "high_corr_features = set()\n",
    "for i in range(len(correlation_matrix.columns)):\n",
    "    for j in range(i):\n",
    "        if abs(correlation_matrix.iloc[i, j]) > threshold:\n",
    "            colname = correlation_matrix.columns[i]\n",
    "            high_corr_features.add(colname)"
   ]
  },
  {
   "cell_type": "code",
   "execution_count": null,
   "metadata": {},
   "outputs": [],
   "source": [
    "pocz = [value for value in high_corr_features if value.startswith('flow')]\n",
    "print(pocz)"
   ]
  },
  {
   "cell_type": "code",
   "execution_count": null,
   "metadata": {},
   "outputs": [],
   "source": [
    "'flow_13', 'flow_9', 'flow_2', 'flow_23'"
   ]
  },
  {
   "cell_type": "code",
   "execution_count": null,
   "metadata": {},
   "outputs": [],
   "source": [
    "print(len(high_corr_features))"
   ]
  },
  {
   "cell_type": "code",
   "execution_count": null,
   "metadata": {},
   "outputs": [],
   "source": [
    "final_table.shape"
   ]
  },
  {
   "cell_type": "code",
   "execution_count": null,
   "metadata": {},
   "outputs": [],
   "source": [
    "final_table_droped = final_table.drop(columns = high_corr_features)"
   ]
  },
  {
   "cell_type": "code",
   "execution_count": null,
   "metadata": {},
   "outputs": [],
   "source": [
    "final_table_droped.shape"
   ]
  },
  {
   "cell_type": "code",
   "execution_count": null,
   "metadata": {},
   "outputs": [],
   "source": [
    "save_df_to_csv(final_table_droped, 'final_table_droped_before_normalization.csv')"
   ]
  },
  {
   "cell_type": "code",
   "execution_count": null,
   "metadata": {},
   "outputs": [],
   "source": [
    "ml_data = split_data(final_table_droped)\n",
    "ml_data['x_train'], scaler = normalize_data(ml_data['x_train'])\n",
    "save_df_to_csv(ml_data['x_train'], 'x_train_droped.csv')\n",
    "save_df_to_csv(ml_data['y_train'], 'y_train_droped.csv')\n",
    "ml_data['x_valid'] = normalize_data(ml_data['x_valid'], scaler)\n",
    "save_df_to_csv(ml_data['x_valid'], 'x_valid_droped.csv')\n",
    "save_df_to_csv(ml_data['y_valid'], 'y_valid_droped.csv')\n",
    "ml_data['x_test'] = normalize_data(ml_data['x_test'], scaler)\n",
    "save_df_to_csv(ml_data['x_test'], 'x_test_droped.csv')\n",
    "save_df_to_csv(ml_data['y_test'], 'y_test_droped.csv')"
   ]
  },
  {
   "cell_type": "code",
   "execution_count": null,
   "metadata": {},
   "outputs": [],
   "source": [
    "pocz = [value for value in final_table_droped if value.startswith('assigment') or value.startswith('working')]\n",
    "print(pocz)"
   ]
  },
  {
   "cell_type": "code",
   "execution_count": 11,
   "metadata": {},
   "outputs": [],
   "source": [
    "import pandas as pd\n",
    "import sqlalchemy\n",
    "from sqlalchemy.exc import SQLAlchemyError\n",
    "\n",
    "from db_queries import username, password, dsn, dbhostname, service_name, dbtables, querys\n",
    "from table_functions import *\n",
    "\n",
    "\n",
    "def read_data_from_database1():\n",
    "    print('Reading from database')\n",
    "    data = {}\n",
    "\n",
    "    try:\n",
    "        sqlalchemy_engine=\"oracle+cx_oracle://\"+username+\":\"+password+\"@\"+dbhostname+\"/?service_name=\"+service_name\n",
    "        engine = sqlalchemy.create_engine(sqlalchemy_engine, arraysize=1000)\n",
    "        for table, query in zip(dbtables, querys):\n",
    "            data.update({table: pd.read_sql(query, engine)})\n",
    "            print(f'Table {table} read')\n",
    "    except SQLAlchemyError as e:\n",
    "        print(e)\n",
    "\n",
    "    data['MEB_DGM']['timestamp'] = pd.to_datetime(data['MEB_DGM']['timestamp'])\n",
    "    filtered_data = data.copy()\n",
    "    filtered_data['MEB_DGM'] = data['MEB_DGM'][(data['MEB_DGM'][\"timestamp\"].dt.month >= 10) & (data['MEB_DGM'][\"timestamp\"].dt.year >= 2023)]\n",
    "\n",
    "    data['MEB_DGM'] = data['MEB_DGM'].sort_values(by='timestamp')\n",
    "    data['MEB_DGM'] = data['MEB_DGM'].iloc[:-int(filtered_data.shape[0])]\n",
    "\n",
    "    #data.drop(filtered_data, inplace= True)\n",
    "    data = drop_unused_columns(data)\n",
    "    filtered_data = drop_unused_columns(filtered_data)\n",
    "    \n",
    "    return data, filtered_data"
   ]
  },
  {
   "cell_type": "code",
   "execution_count": 12,
   "metadata": {},
   "outputs": [
    {
     "name": "stdout",
     "output_type": "stream",
     "text": [
      "Reading from database\n",
      "Table MEB_DGM read\n",
      "Table MEB_DMC read\n",
      "Table MEB_GROB read\n",
      "Table MEB_KO read\n",
      "Table MEB_KO_DGM read\n",
      "Table MEB_KO_RODZAJ read\n",
      "Table MEB_KO_STREFA read\n",
      "Table MEB_KS read\n",
      "Table ONI_CIRCUITS read\n"
     ]
    }
   ],
   "source": [
    "data1, filtered1, amount1 = read_data_from_database1()"
   ]
  },
  {
   "cell_type": "code",
   "execution_count": 3,
   "metadata": {},
   "outputs": [
    {
     "data": {
      "text/plain": [
       "69357"
      ]
     },
     "execution_count": 3,
     "metadata": {},
     "output_type": "execute_result"
    }
   ],
   "source": [
    "filtered1.shape[0]"
   ]
  },
  {
   "cell_type": "code",
   "execution_count": 13,
   "metadata": {},
   "outputs": [
    {
     "data": {
      "text/plain": [
       "(1403234, 24)"
      ]
     },
     "execution_count": 13,
     "metadata": {},
     "output_type": "execute_result"
    }
   ],
   "source": [
    "data1['MEB_DGM'].shape"
   ]
  },
  {
   "cell_type": "code",
   "execution_count": 17,
   "metadata": {},
   "outputs": [
    {
     "data": {
      "text/plain": [
       "['id',\n",
       " 'dmc',\n",
       " 'nr_dgm',\n",
       " 'status',\n",
       " 'czas_fazy_1',\n",
       " 'czas_fazy_2',\n",
       " 'czas_fazy_3',\n",
       " 'max_predkosc',\n",
       " 'cisnienie_tloka',\n",
       " 'cisnienie_koncowe',\n",
       " 'nachdruck_hub',\n",
       " 'anguss',\n",
       " 'temp_pieca',\n",
       " 'oni_temp_curr_f1',\n",
       " 'oni_temp_fore_f1',\n",
       " 'oni_temp_fore_f2',\n",
       " 'vds_air_pressure',\n",
       " 'vds_vac_hose1',\n",
       " 'vds_vac_hose2',\n",
       " 'vds_vac_tank',\n",
       " 'vds_vac_valve1',\n",
       " 'vds_vac_valve2',\n",
       " 'czas_taktu',\n",
       " 'rn']"
      ]
     },
     "execution_count": 17,
     "metadata": {},
     "output_type": "execute_result"
    }
   ],
   "source": [
    "list(data1['MEB_DGM'].keys())"
   ]
  },
  {
   "cell_type": "code",
   "execution_count": 14,
   "metadata": {},
   "outputs": [
    {
     "data": {
      "text/plain": [
       "(1472591, 31)"
      ]
     },
     "execution_count": 14,
     "metadata": {},
     "output_type": "execute_result"
    }
   ],
   "source": [
    "amount1"
   ]
  },
  {
   "cell_type": "code",
   "execution_count": 5,
   "metadata": {},
   "outputs": [
    {
     "data": {
      "text/plain": [
       "0   2023-10-10 22:46:09\n",
       "1   2023-10-02 02:38:51\n",
       "2   2021-06-24 13:51:21\n",
       "3   2023-07-17 02:13:01\n",
       "4   2023-07-17 02:15:35\n",
       "Name: timestamp, dtype: datetime64[ns]"
      ]
     },
     "execution_count": 5,
     "metadata": {},
     "output_type": "execute_result"
    }
   ],
   "source": [
    "data1['MEB_DGM']['timestamp'].head()"
   ]
  },
  {
   "cell_type": "code",
   "execution_count": 6,
   "metadata": {},
   "outputs": [],
   "source": [
    "data1['MEB_DGM'] = data1['MEB_DGM'].sort_values(by='timestamp')"
   ]
  },
  {
   "cell_type": "code",
   "execution_count": 7,
   "metadata": {},
   "outputs": [
    {
     "data": {
      "text/plain": [
       "123512   2019-06-25 08:54:45\n",
       "123513   2019-06-25 08:56:22\n",
       "123514   2019-06-25 08:57:56\n",
       "123515   2019-06-25 08:59:32\n",
       "123516   2019-06-25 09:01:07\n",
       "Name: timestamp, dtype: datetime64[ns]"
      ]
     },
     "execution_count": 7,
     "metadata": {},
     "output_type": "execute_result"
    }
   ],
   "source": [
    "data1['MEB_DGM']['timestamp'].head()"
   ]
  },
  {
   "cell_type": "code",
   "execution_count": 8,
   "metadata": {},
   "outputs": [
    {
     "data": {
      "text/plain": [
       "(1472580, 31)"
      ]
     },
     "execution_count": 8,
     "metadata": {},
     "output_type": "execute_result"
    }
   ],
   "source": [
    "data1['MEB_DGM'].shape"
   ]
  },
  {
   "cell_type": "code",
   "execution_count": 9,
   "metadata": {},
   "outputs": [],
   "source": [
    "data1['MEB_DGM'] = data1['MEB_DGM'].iloc[:-int(filtered1.shape[0])]"
   ]
  },
  {
   "cell_type": "code",
   "execution_count": 10,
   "metadata": {},
   "outputs": [
    {
     "data": {
      "text/plain": [
       "(1403223, 31)"
      ]
     },
     "execution_count": 10,
     "metadata": {},
     "output_type": "execute_result"
    }
   ],
   "source": [
    "data1['MEB_DGM'].shape"
   ]
  },
  {
   "cell_type": "code",
   "execution_count": null,
   "metadata": {},
   "outputs": [],
   "source": [
    "data1.value_counts()"
   ]
  },
  {
   "cell_type": "code",
   "execution_count": null,
   "metadata": {},
   "outputs": [],
   "source": [
    "filtered1.value_counts()"
   ]
  },
  {
   "cell_type": "code",
   "execution_count": null,
   "metadata": {},
   "outputs": [],
   "source": [
    "data1.keys()"
   ]
  },
  {
   "cell_type": "code",
   "execution_count": null,
   "metadata": {},
   "outputs": [],
   "source": [
    "dgm = data1['MEB_DGM']"
   ]
  },
  {
   "cell_type": "code",
   "execution_count": null,
   "metadata": {},
   "outputs": [],
   "source": [
    "dgm.keys()"
   ]
  },
  {
   "cell_type": "code",
   "execution_count": null,
   "metadata": {},
   "outputs": [],
   "source": [
    "dgm['timestamp'][0]"
   ]
  },
  {
   "cell_type": "code",
   "execution_count": null,
   "metadata": {},
   "outputs": [],
   "source": []
  },
  {
   "cell_type": "code",
   "execution_count": null,
   "metadata": {},
   "outputs": [],
   "source": [
    "print(data)"
   ]
  },
  {
   "cell_type": "code",
   "execution_count": null,
   "metadata": {},
   "outputs": [],
   "source": [
    "\n",
    "filtered_data = dgm[(dgm['timestamp'].dt.month >= 10) & (dgm['timestamp'].dt.year >= 2023)]"
   ]
  },
  {
   "cell_type": "code",
   "execution_count": null,
   "metadata": {},
   "outputs": [],
   "source": [
    "print(filtered_data.head())"
   ]
  },
  {
   "cell_type": "code",
   "execution_count": null,
   "metadata": {},
   "outputs": [],
   "source": [
    "filtered_data['id'].value_counts()"
   ]
  },
  {
   "cell_type": "code",
   "execution_count": null,
   "metadata": {},
   "outputs": [],
   "source": [
    "filtered_data.shape"
   ]
  },
  {
   "cell_type": "code",
   "execution_count": 1,
   "metadata": {},
   "outputs": [
    {
     "name": "stdout",
     "output_type": "stream",
     "text": [
      "Reading from database\n",
      "Table MEB_DGM read\n",
      "Table MEB_DMC read\n",
      "Table MEB_GROB read\n",
      "Table MEB_KO read\n",
      "Table MEB_KO_DGM read\n",
      "Table MEB_KO_RODZAJ read\n",
      "Table MEB_KO_STREFA read\n",
      "Table MEB_KS read\n",
      "Table ONI_CIRCUITS read\n"
     ]
    }
   ],
   "source": [
    "from main import *\n",
    "\n",
    "data = read_data_from_database()"
   ]
  },
  {
   "cell_type": "code",
   "execution_count": 2,
   "metadata": {},
   "outputs": [
    {
     "data": {
      "text/plain": [
       "dict_keys(['MEB_DGM', 'MEB_DMC', 'MEB_GROB', 'MEB_KO', 'MEB_KO_DGM', 'MEB_KO_RODZAJ', 'MEB_KO_STREFA', 'MEB_KS', 'ONI_CIRCUITS'])"
      ]
     },
     "execution_count": 2,
     "metadata": {},
     "output_type": "execute_result"
    }
   ],
   "source": [
    "data.keys()"
   ]
  },
  {
   "cell_type": "code",
   "execution_count": 5,
   "metadata": {},
   "outputs": [
    {
     "data": {
      "text/plain": [
       "(1474007, 24)"
      ]
     },
     "execution_count": 5,
     "metadata": {},
     "output_type": "execute_result"
    }
   ],
   "source": [
    "data['MEB_DGM'].shape"
   ]
  },
  {
   "cell_type": "code",
   "execution_count": 7,
   "metadata": {},
   "outputs": [
    {
     "name": "stdout",
     "output_type": "stream",
     "text": [
      "(1474007, 24)\n",
      "(1235152, 3)\n",
      "(1235165, 9)\n",
      "(1212307, 5)\n",
      "(36403, 8)\n",
      "(13, 2)\n",
      "(79, 2)\n",
      "(1228978, 8)\n",
      "(20449940, 8)\n"
     ]
    }
   ],
   "source": [
    "for lol in data.values():\n",
    "    print(lol.shape)"
   ]
  },
  {
   "cell_type": "code",
   "execution_count": 10,
   "metadata": {},
   "outputs": [],
   "source": [
    "def combine_final_table1(data):\n",
    "\n",
    "    # usuwanie znaków białych z DMC[MEB_DGM] i DMC_CASTING[MEB_DMC]\n",
    "    data['MEB_DMC'].dmc_casting = data['MEB_DMC']['dmc_casting'].str.strip()\n",
    "    data['MEB_DGM'].dmc = data['MEB_DGM']['dmc'].str.strip()\n",
    "\n",
    "    # usuwanie z meb_dmc wierszy z 'WORKPIECE NIO' w kodzie DMC\n",
    "    data['MEB_DMC'] = data['MEB_DMC'][~data['MEB_DMC']['dmc'].str.contains('WORKPIECE', case=False, na=False)]\n",
    "\n",
    "    # wybieranie rekordów dla MEB+ \n",
    "    data['MEB_DGM'] = data['MEB_DGM'][(data['MEB_DGM']['nr_dgm'].between(8, 10)) & (data['MEB_DGM']['dmc'].apply(lambda x: len(str(x)) == 21))]\n",
    "\n",
    "    # usunięcie anomalii z MEB_DMC\n",
    "    data['MEB_DMC'] = data['MEB_DMC'][data['MEB_DMC']['dmc'].str[:3] == '0MH']\n",
    "\n",
    "    # łączę tabele MEB_KO i MEB_KO_DGM z tabelami MEB_KO_STREFA/RODZAJ\n",
    "    data['MEB_KO'] = data['MEB_KO'].merge(data['MEB_KO_STREFA'], left_on='nok_strefa', right_on='indeks', how='inner')\n",
    "    data['MEB_KO'].drop(columns=['indeks'], inplace=True)\n",
    "    data['MEB_KO'] = data['MEB_KO'].merge(data['MEB_KO_RODZAJ'], left_on='nok_rodzaj', right_on='indeks', how='inner')\n",
    "    data['MEB_KO'].drop(columns=['indeks'], inplace=True)\n",
    "    data['MEB_KO_DGM'] = data['MEB_KO_DGM'].merge(data['MEB_KO_STREFA'], left_on='nok_strefa', right_on='indeks', how='inner')\n",
    "    data['MEB_KO_DGM'].drop(columns=['indeks'], inplace=True)\n",
    "    data['MEB_KO_DGM'] = data['MEB_KO_DGM'].merge(data['MEB_KO_RODZAJ'], left_on='nok_rodzaj', right_on='indeks', how='inner')\n",
    "    data['MEB_KO_DGM'].drop(columns=['indeks'], inplace=True)\n",
    "\n",
    "    # łączę tabelę MEB_DMC z tabelą MEB_KO\n",
    "    data['MEB_DMC'] = data['MEB_DMC'].merge(data['MEB_KO'], on='id_dmc', how='left')\n",
    "    data['MEB_DMC'].drop(columns=['rn'], inplace=True)\n",
    "\n",
    "    # łączę tabelę MEB_DMC z tabelą MEB_GROB\n",
    "    data['MEB_DMC'] = data['MEB_DMC'].merge(data['MEB_GROB'], on='id_dmc', how='left')\n",
    "    data['MEB_DMC'].drop(columns=['rn'], inplace=True)\n",
    "\n",
    "    # łączę tabelę MEB_DMC z tabelą MEB_KS\n",
    "    data['MEB_DMC'] = data['MEB_DMC'].merge(data['MEB_KS'], on='id_dmc', how='left')\n",
    "    data['MEB_DMC'].drop(columns=['rn'], inplace=True)\n",
    "\n",
    "    # przygotowywuję tabelę ONI_CIRCUITS do połączenia \n",
    "    oni_circuits = data['ONI_CIRCUITS'].pivot(index='id_dmc', columns='circuit_nr', values=['assigment', 'flow', 'set_point', 'start_delay', 'temp', 'working_mode'])\n",
    "    oni_circuits.columns = oni_circuits.columns.map('{0[0]}_{0[1]}'.format) \n",
    "    oni_circuits.reset_index(inplace=True)\n",
    "\n",
    "    final_table = data['MEB_DGM'].copy()\n",
    "    final_table.drop(columns=['rn'], inplace=True)\n",
    "\n",
    "    # łączę tabelę MEB_DGM z tabelą MEB_KO_DGM\n",
    "    final_table = final_table.merge(data['MEB_KO_DGM'], left_on='id', right_on='id_dmc', how='left')\n",
    "    final_table.drop(columns=['rn'], inplace=True)\n",
    "\n",
    "    # łączę z tabelą MEB_DGM\n",
    "    final_table = final_table.merge(oni_circuits, left_on='id', right_on='id_dmc', how='inner')\n",
    "    final_table.drop(columns=['id_dmc_y'], inplace=True)\n",
    "    final_table.rename(columns={'id_dmc_x': 'id_dmc'}, inplace=True)\n",
    "\n",
    "    # łączę tabelę MEB_DMC z ONI_CIRCUITS\n",
    "    final_table = final_table.merge(data['MEB_DMC'], left_on='dmc', right_on='dmc_casting', how='left', suffixes=('_DGM', '_DMC'))\n",
    "\n",
    "    # duplicate_count_oni = final_table['dmc_DMC'].duplicated(keep=False).sum()\n",
    "    # print(f\"Number of rows with the same 'dmc' value: {duplicate_count_oni}\")\n",
    "\n",
    "    final_table.drop(columns=['nok_strefa_DGM', 'nok_rodzaj_DGM', 'status_ko_DGM', 'kod_pola_DGM', 'rodzaj_uszkodzenia_DGM'], inplace=True)\n",
    "    final_table.rename(columns={'nok_strefa_DMC': 'nok_strefa', 'nok_rodzaj_DMC': 'nok_rodzaj', \n",
    "                                'status_ko_DMC': 'status_ko', 'kod_pola_DMC': 'kod_pola', \n",
    "                                'rodzaj_uszkodzenia_DMC': 'rodzaj_uszkodzenia'}, inplace=True)\n",
    "                                \n",
    "    final_table.drop(index=final_table[(final_table['dmc_DGM'].duplicated(keep=False)) & (~final_table['dmc_casting'].isna())].index, inplace=True)\n",
    "    final_table.drop(columns = ['part_status'], inplace = True)\n",
    "\n",
    "    return final_table"
   ]
  },
  {
   "cell_type": "code",
   "execution_count": 11,
   "metadata": {},
   "outputs": [
    {
     "name": "stdout",
     "output_type": "stream",
     "text": [
      "Combine final table\n"
     ]
    }
   ],
   "source": [
    "print('Combine final table')\n",
    "final_table = combine_final_table1(data)"
   ]
  },
  {
   "cell_type": "code",
   "execution_count": 12,
   "metadata": {},
   "outputs": [
    {
     "data": {
      "text/plain": [
       "(730328, 215)"
      ]
     },
     "execution_count": 12,
     "metadata": {},
     "output_type": "execute_result"
    }
   ],
   "source": [
    "final_table.shape"
   ]
  },
  {
   "cell_type": "code",
   "execution_count": 14,
   "metadata": {},
   "outputs": [
    {
     "data": {
      "text/html": [
       "<div>\n",
       "<style scoped>\n",
       "    .dataframe tbody tr th:only-of-type {\n",
       "        vertical-align: middle;\n",
       "    }\n",
       "\n",
       "    .dataframe tbody tr th {\n",
       "        vertical-align: top;\n",
       "    }\n",
       "\n",
       "    .dataframe thead th {\n",
       "        text-align: right;\n",
       "    }\n",
       "</style>\n",
       "<table border=\"1\" class=\"dataframe\">\n",
       "  <thead>\n",
       "    <tr style=\"text-align: right;\">\n",
       "      <th></th>\n",
       "      <th>id</th>\n",
       "      <th>dmc_DGM</th>\n",
       "      <th>nr_dgm</th>\n",
       "      <th>status</th>\n",
       "      <th>czas_fazy_1</th>\n",
       "      <th>czas_fazy_2</th>\n",
       "      <th>czas_fazy_3</th>\n",
       "      <th>max_predkosc</th>\n",
       "      <th>cisnienie_tloka</th>\n",
       "      <th>cisnienie_koncowe</th>\n",
       "      <th>...</th>\n",
       "      <th>temp_hydraulics</th>\n",
       "      <th>pressure_pcf_1</th>\n",
       "      <th>pressure_pcf_2</th>\n",
       "      <th>pressure_pcf_3</th>\n",
       "      <th>cisnienie</th>\n",
       "      <th>przeciek</th>\n",
       "      <th>nrprogramu</th>\n",
       "      <th>temperaturatestu</th>\n",
       "      <th>statusszczelnosc</th>\n",
       "      <th>statusdmc</th>\n",
       "    </tr>\n",
       "  </thead>\n",
       "  <tbody>\n",
       "    <tr>\n",
       "      <th>0</th>\n",
       "      <td>315793</td>\n",
       "      <td>210623155611061147233</td>\n",
       "      <td>10.0</td>\n",
       "      <td>1</td>\n",
       "      <td>2277.0</td>\n",
       "      <td>90.0</td>\n",
       "      <td>45.0</td>\n",
       "      <td>6.30</td>\n",
       "      <td>5.0</td>\n",
       "      <td>282.0</td>\n",
       "      <td>...</td>\n",
       "      <td>40.200001</td>\n",
       "      <td>101.0</td>\n",
       "      <td>104.0</td>\n",
       "      <td>90.0</td>\n",
       "      <td>1.061</td>\n",
       "      <td>0</td>\n",
       "      <td>1.0</td>\n",
       "      <td>31.199999</td>\n",
       "      <td>1.0</td>\n",
       "      <td>1.0</td>\n",
       "    </tr>\n",
       "    <tr>\n",
       "      <th>1</th>\n",
       "      <td>315795</td>\n",
       "      <td>210623155710941036846</td>\n",
       "      <td>9.0</td>\n",
       "      <td>1</td>\n",
       "      <td>2220.0</td>\n",
       "      <td>76.0</td>\n",
       "      <td>16.0</td>\n",
       "      <td>5.00</td>\n",
       "      <td>4.0</td>\n",
       "      <td>281.0</td>\n",
       "      <td>...</td>\n",
       "      <td>39.500000</td>\n",
       "      <td>99.0</td>\n",
       "      <td>99.0</td>\n",
       "      <td>88.0</td>\n",
       "      <td>1.060</td>\n",
       "      <td>0.00600000005215406</td>\n",
       "      <td>1.0</td>\n",
       "      <td>30.799999</td>\n",
       "      <td>1.0</td>\n",
       "      <td>1.0</td>\n",
       "    </tr>\n",
       "    <tr>\n",
       "      <th>2</th>\n",
       "      <td>315816</td>\n",
       "      <td>210623155811061147234</td>\n",
       "      <td>10.0</td>\n",
       "      <td>1</td>\n",
       "      <td>2277.0</td>\n",
       "      <td>91.0</td>\n",
       "      <td>44.5</td>\n",
       "      <td>6.26</td>\n",
       "      <td>5.0</td>\n",
       "      <td>282.0</td>\n",
       "      <td>...</td>\n",
       "      <td>40.200001</td>\n",
       "      <td>101.0</td>\n",
       "      <td>104.0</td>\n",
       "      <td>90.0</td>\n",
       "      <td>1.057</td>\n",
       "      <td>0.00400000018998981</td>\n",
       "      <td>1.0</td>\n",
       "      <td>31.799999</td>\n",
       "      <td>1.0</td>\n",
       "      <td>1.0</td>\n",
       "    </tr>\n",
       "    <tr>\n",
       "      <th>3</th>\n",
       "      <td>315817</td>\n",
       "      <td>210623155911061147235</td>\n",
       "      <td>10.0</td>\n",
       "      <td>1</td>\n",
       "      <td>2275.0</td>\n",
       "      <td>89.0</td>\n",
       "      <td>43.5</td>\n",
       "      <td>6.37</td>\n",
       "      <td>5.0</td>\n",
       "      <td>282.0</td>\n",
       "      <td>...</td>\n",
       "      <td>39.400002</td>\n",
       "      <td>102.0</td>\n",
       "      <td>100.0</td>\n",
       "      <td>91.0</td>\n",
       "      <td>1.057</td>\n",
       "      <td>0</td>\n",
       "      <td>1.0</td>\n",
       "      <td>30.799999</td>\n",
       "      <td>1.0</td>\n",
       "      <td>1.0</td>\n",
       "    </tr>\n",
       "    <tr>\n",
       "      <th>4</th>\n",
       "      <td>315794</td>\n",
       "      <td>210623160111061147236</td>\n",
       "      <td>10.0</td>\n",
       "      <td>1</td>\n",
       "      <td>2276.0</td>\n",
       "      <td>91.0</td>\n",
       "      <td>44.5</td>\n",
       "      <td>6.37</td>\n",
       "      <td>5.0</td>\n",
       "      <td>282.0</td>\n",
       "      <td>...</td>\n",
       "      <td>39.599998</td>\n",
       "      <td>99.0</td>\n",
       "      <td>99.0</td>\n",
       "      <td>88.0</td>\n",
       "      <td>1.058</td>\n",
       "      <td>0</td>\n",
       "      <td>1.0</td>\n",
       "      <td>31.039999</td>\n",
       "      <td>1.0</td>\n",
       "      <td>1.0</td>\n",
       "    </tr>\n",
       "  </tbody>\n",
       "</table>\n",
       "<p>5 rows × 215 columns</p>\n",
       "</div>"
      ],
      "text/plain": [
       "       id                dmc_DGM  nr_dgm status  czas_fazy_1  czas_fazy_2  \\\n",
       "0  315793  210623155611061147233    10.0      1       2277.0         90.0   \n",
       "1  315795  210623155710941036846     9.0      1       2220.0         76.0   \n",
       "2  315816  210623155811061147234    10.0      1       2277.0         91.0   \n",
       "3  315817  210623155911061147235    10.0      1       2275.0         89.0   \n",
       "4  315794  210623160111061147236    10.0      1       2276.0         91.0   \n",
       "\n",
       "   czas_fazy_3  max_predkosc  cisnienie_tloka  cisnienie_koncowe  ...  \\\n",
       "0         45.0          6.30              5.0              282.0  ...   \n",
       "1         16.0          5.00              4.0              281.0  ...   \n",
       "2         44.5          6.26              5.0              282.0  ...   \n",
       "3         43.5          6.37              5.0              282.0  ...   \n",
       "4         44.5          6.37              5.0              282.0  ...   \n",
       "\n",
       "   temp_hydraulics  pressure_pcf_1  pressure_pcf_2  pressure_pcf_3  cisnienie  \\\n",
       "0        40.200001           101.0           104.0            90.0      1.061   \n",
       "1        39.500000            99.0            99.0            88.0      1.060   \n",
       "2        40.200001           101.0           104.0            90.0      1.057   \n",
       "3        39.400002           102.0           100.0            91.0      1.057   \n",
       "4        39.599998            99.0            99.0            88.0      1.058   \n",
       "\n",
       "              przeciek  nrprogramu  temperaturatestu  statusszczelnosc  \\\n",
       "0                    0         1.0         31.199999               1.0   \n",
       "1  0.00600000005215406         1.0         30.799999               1.0   \n",
       "2  0.00400000018998981         1.0         31.799999               1.0   \n",
       "3                    0         1.0         30.799999               1.0   \n",
       "4                    0         1.0         31.039999               1.0   \n",
       "\n",
       "   statusdmc  \n",
       "0        1.0  \n",
       "1        1.0  \n",
       "2        1.0  \n",
       "3        1.0  \n",
       "4        1.0  \n",
       "\n",
       "[5 rows x 215 columns]"
      ]
     },
     "execution_count": 14,
     "metadata": {},
     "output_type": "execute_result"
    }
   ],
   "source": [
    "final_table.head()"
   ]
  },
  {
   "cell_type": "code",
   "execution_count": 9,
   "metadata": {},
   "outputs": [
    {
     "name": "stdout",
     "output_type": "stream",
     "text": [
      "(1474007, 24)\n",
      "(1234382, 3)\n",
      "(1235165, 9)\n",
      "(1212307, 5)\n",
      "(36403, 8)\n",
      "(13, 2)\n",
      "(79, 2)\n",
      "(1228978, 8)\n",
      "(20449940, 8)\n"
     ]
    }
   ],
   "source": [
    "for lol in data.values():\n",
    "    print(lol.shape)"
   ]
  },
  {
   "cell_type": "code",
   "execution_count": null,
   "metadata": {},
   "outputs": [],
   "source": []
  }
 ],
 "metadata": {
  "kernelspec": {
   "display_name": "Python 3",
   "language": "python",
   "name": "python3"
  },
  "language_info": {
   "codemirror_mode": {
    "name": "ipython",
    "version": 3
   },
   "file_extension": ".py",
   "mimetype": "text/x-python",
   "name": "python",
   "nbconvert_exporter": "python",
   "pygments_lexer": "ipython3",
   "version": "3.10.10"
  }
 },
 "nbformat": 4,
 "nbformat_minor": 2
}
