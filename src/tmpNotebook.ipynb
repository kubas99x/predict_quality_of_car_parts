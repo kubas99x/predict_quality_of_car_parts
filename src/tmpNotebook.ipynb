{
 "cells": [
  {
   "cell_type": "code",
   "execution_count": null,
   "metadata": {},
   "outputs": [],
   "source": [
    "import pandas as pd\n",
    "import sqlalchemy\n",
    "import numpy as np\n",
    "import seaborn as sns\n",
    "import os\n",
    "import matplotlib.pyplot as plt\n",
    "from sqlalchemy.exc import SQLAlchemyError\n",
    "from xgboost import XGBClassifier\n",
    "from sklearn.preprocessing import StandardScaler\n",
    "from sklearn.tree import DecisionTreeClassifier\n",
    "from sklearn.ensemble import RandomForestClassifier\n",
    "from sklearn.model_selection import train_test_split, cross_val_score\n",
    "\n",
    "from sklearn.metrics import accuracy_score, confusion_matrix, classification_report\n",
    "\n",
    "\n",
    "from db_queries import username, password, dsn, dbhostname, service_name, dbtables, querys\n",
    "from table_functions import *\n",
    "from analyze_visualisation import *"
   ]
  },
  {
   "cell_type": "code",
   "execution_count": null,
   "metadata": {},
   "outputs": [],
   "source": [
    "data = {}\n",
    "\n",
    "try:\n",
    "    sqlalchemy_engine=\"oracle+cx_oracle://\"+username+\":\"+password+\"@\"+dbhostname+\"/?service_name=\"+service_name\n",
    "    engine = sqlalchemy.create_engine(sqlalchemy_engine, arraysize=1000)\n",
    "    for table, query in zip(dbtables, querys):\n",
    "        data.update({table: pd.read_sql(query, engine)})\n",
    "except SQLAlchemyError as e:\n",
    "    print(e)"
   ]
  },
  {
   "cell_type": "code",
   "execution_count": null,
   "metadata": {},
   "outputs": [],
   "source": [
    "data = drop_unused_columns(data)"
   ]
  },
  {
   "cell_type": "code",
   "execution_count": null,
   "metadata": {},
   "outputs": [],
   "source": [
    "data.keys()"
   ]
  },
  {
   "cell_type": "code",
   "execution_count": null,
   "metadata": {},
   "outputs": [],
   "source": [
    "data['ONI_CIRCUITS'].shape"
   ]
  },
  {
   "cell_type": "code",
   "execution_count": null,
   "metadata": {},
   "outputs": [],
   "source": [
    "final_table = combine_final_table(data)"
   ]
  },
  {
   "cell_type": "code",
   "execution_count": null,
   "metadata": {},
   "outputs": [],
   "source": [
    "final_table.shape"
   ]
  },
  {
   "cell_type": "code",
   "execution_count": null,
   "metadata": {},
   "outputs": [],
   "source": [
    "\n",
    "final_table = create_final_status(final_table)\n",
    "final_table = drop_columns_not_used_in_ml(final_table)"
   ]
  },
  {
   "cell_type": "code",
   "execution_count": null,
   "metadata": {},
   "outputs": [],
   "source": [
    "final_table.shape"
   ]
  },
  {
   "cell_type": "code",
   "execution_count": null,
   "metadata": {},
   "outputs": [],
   "source": [
    "final_table = read_csv('final_table_before_standarization.csv')"
   ]
  },
  {
   "cell_type": "code",
   "execution_count": null,
   "metadata": {},
   "outputs": [],
   "source": [
    "fig = px.box(final_table, y='vds_vac_hose1')\n",
    "fig.update_layout(width=500, height=400, margin=dict(l=10, r=10, b=10, t=10), paper_bgcolor='rgba(0,0,0,0)', plot_bgcolor='rgba(0,0,0,0)')\n",
    "fig.update_traces(marker=dict(color='darkblue'), boxpoints='outliers')\n",
    "fig.show()"
   ]
  },
  {
   "cell_type": "code",
   "execution_count": null,
   "metadata": {},
   "outputs": [],
   "source": [
    "fig.write_html(r\"C:\\Users\\dlxpmx8\\Desktop\\Projekt_AI\\meb_process_data_analysis\\not_in_repo/box_plot_with_outliers.html\")\n",
    "fig.write_image(r\"C:\\Users\\dlxpmx8\\Desktop\\Projekt_AI\\meb_process_data_analysis\\not_in_repo/box_plot_with_outliers.png\", format=\"png\")"
   ]
  },
  {
   "cell_type": "code",
   "execution_count": null,
   "metadata": {},
   "outputs": [],
   "source": [
    "final_table = read_csv('final_table_before_normalization.csv')"
   ]
  },
  {
   "cell_type": "code",
   "execution_count": null,
   "metadata": {},
   "outputs": [],
   "source": [
    "status_1_data = final_table[final_table['our_final_status'] == 0].sample(n=200, random_state= 69)\n",
    "status_2_data = final_table[final_table['our_final_status'] == 1].sample(n=200, random_state= 69)\n",
    "random_to_analyze = pd.concat([status_1_data, status_2_data], ignore_index=True)\n",
    "\n",
    "col_dgm = ['cisnienie_koncowe','nachdruck_hub', \n",
    "                'anguss','vds_air_pressure','vds_vac_hose1', 'vds_vac_valve1', 'vds_vac_valve2']\n",
    "\n",
    "make_and_save_pariplot(random_to_analyze, col_dgm, 'some_dgm_corr3.png')"
   ]
  },
  {
   "cell_type": "code",
   "execution_count": null,
   "metadata": {},
   "outputs": [],
   "source": [
    "final_table['our_final_status'].value_counts()"
   ]
  },
  {
   "cell_type": "code",
   "execution_count": null,
   "metadata": {},
   "outputs": [],
   "source": [
    "final_table = read_csv('final_table_before_normalization.csv')"
   ]
  },
  {
   "cell_type": "code",
   "execution_count": null,
   "metadata": {},
   "outputs": [],
   "source": [
    "final_table.corr()"
   ]
  },
  {
   "cell_type": "code",
   "execution_count": null,
   "metadata": {},
   "outputs": [],
   "source": [
    "correlation_matrix = final_table.corr()\n",
    "threshold = 0.85  \n",
    "high_corr_features = set()\n",
    "for i in range(len(correlation_matrix.columns)):\n",
    "    for j in range(i):\n",
    "        if abs(correlation_matrix.iloc[i, j]) > threshold:\n",
    "            colname = correlation_matrix.columns[i]\n",
    "            high_corr_features.add(colname)"
   ]
  },
  {
   "cell_type": "code",
   "execution_count": null,
   "metadata": {},
   "outputs": [],
   "source": [
    "pocz = [value for value in high_corr_features if value.startswith('flow')]\n",
    "print(pocz)"
   ]
  },
  {
   "cell_type": "code",
   "execution_count": null,
   "metadata": {},
   "outputs": [],
   "source": [
    "'flow_13', 'flow_9', 'flow_2', 'flow_23'"
   ]
  },
  {
   "cell_type": "code",
   "execution_count": null,
   "metadata": {},
   "outputs": [],
   "source": [
    "print(len(high_corr_features))"
   ]
  },
  {
   "cell_type": "code",
   "execution_count": null,
   "metadata": {},
   "outputs": [],
   "source": [
    "final_table.shape"
   ]
  },
  {
   "cell_type": "code",
   "execution_count": null,
   "metadata": {},
   "outputs": [],
   "source": [
    "final_table_droped = final_table.drop(columns = high_corr_features)"
   ]
  },
  {
   "cell_type": "code",
   "execution_count": null,
   "metadata": {},
   "outputs": [],
   "source": [
    "final_table_droped.shape"
   ]
  },
  {
   "cell_type": "code",
   "execution_count": null,
   "metadata": {},
   "outputs": [],
   "source": [
    "save_df_to_csv(final_table_droped, 'final_table_droped_before_normalization.csv')"
   ]
  },
  {
   "cell_type": "code",
   "execution_count": null,
   "metadata": {},
   "outputs": [],
   "source": [
    "ml_data = split_data(final_table_droped)\n",
    "ml_data['x_train'], scaler = normalize_data(ml_data['x_train'])\n",
    "save_df_to_csv(ml_data['x_train'], 'x_train_droped.csv')\n",
    "save_df_to_csv(ml_data['y_train'], 'y_train_droped.csv')\n",
    "ml_data['x_valid'] = normalize_data(ml_data['x_valid'], scaler)\n",
    "save_df_to_csv(ml_data['x_valid'], 'x_valid_droped.csv')\n",
    "save_df_to_csv(ml_data['y_valid'], 'y_valid_droped.csv')\n",
    "ml_data['x_test'] = normalize_data(ml_data['x_test'], scaler)\n",
    "save_df_to_csv(ml_data['x_test'], 'x_test_droped.csv')\n",
    "save_df_to_csv(ml_data['y_test'], 'y_test_droped.csv')"
   ]
  },
  {
   "cell_type": "code",
   "execution_count": 23,
   "metadata": {},
   "outputs": [
    {
     "name": "stdout",
     "output_type": "stream",
     "text": [
      "['assigment_1_16.0', 'assigment_2_16.0', 'assigment_2_17.0', 'assigment_3_16.0', 'assigment_10_16.0', 'assigment_12_2.0', 'assigment_12_17.0', 'assigment_22_1.0', 'assigment_22_16.0', 'assigment_23_16.0', 'assigment_27_16.0', 'working_mode_1_2.0', 'working_mode_4_2.0', 'working_mode_5_1.0', 'working_mode_5_2.0', 'working_mode_12_1.0', 'working_mode_21_3.0', 'working_mode_22_2.0', 'working_mode_25_2.0', 'working_mode_26_1.0', 'working_mode_27_3.0']\n"
     ]
    }
   ],
   "source": [
    "pocz = [value for value in final_table_droped if value.startswith('assigment') or value.startswith('working')]\n",
    "print(pocz)"
   ]
  },
  {
   "cell_type": "code",
   "execution_count": null,
   "metadata": {},
   "outputs": [],
   "source": [
    "for umap_c in [None, 10, 20, 100, 150]:\n",
    "    if umap_c is not None:\n",
    "        for umap_dist in [0.75, 0.5, 0.25, 0.1, 0.01]:\n",
    "            ml_data_c = ml_data.copy()\n",
    "            ml_data_c['x_train'], ml_data_c['x_valid'], ml_data_c['x_test'] = umap_transformation(ml_data_c['x_train'], ml_data_c['x_valid'], ml_data_c['x_test'],\n",
    "                                                                                                   n_components_umap= umap_c, umap_min_dist= umap_dist)\n",
    "            for batch_ in [16, 32, 64, 128, 256, 512]:\n",
    "                for model_num in [1, 3, 4, 5, 6]:\n",
    "                    if model_num == 4:\n",
    "                        for drop_ in [0.5, 0.25]:\n",
    "                            compile_fit_evaluate_model(*ml_data_c.values(), epochs_=100, batch_size_= batch_, model_number=model_num, drop_neurons=drop_,\n",
    "                                                        run_name_=f\"aa_{umap_c}u_{umap_dist}dst_{batch_}b_{model_num}m_{drop_}d\")\n",
    "                    else:\n",
    "                        compile_fit_evaluate_model(*ml_data_c.values(), epochs_=100, batch_size_= batch_, model_number=model_num,\n",
    "                            run_name_=f\"aa_{umap_c}u_{umap_dist}dst_{batch_}b_{model_num}m\")\n",
    "    else:\n",
    "        for batch_ in [16, 32, 64, 128, 256, 512]:\n",
    "            for model_num in [1, 3, 4, 5, 6]:\n",
    "                if model_num == 4:\n",
    "                    for drop_ in [0.5, 0.25]:\n",
    "                        compile_fit_evaluate_model(*ml_data.values(), epochs_=100, batch_size_= batch_, model_number=model_num, drop_neurons=drop_,\n",
    "                            run_name_=f\"aa_{batch_}b_{model_num}m_{drop_}d\")\n",
    "                else:\n",
    "                    compile_fit_evaluate_model(*ml_data.values(), epochs_=100, batch_size_= batch_, model_number=model_num,\n",
    "                            run_name_=f\"aa_{batch_}b_{model_num}m\")"
   ]
  }
 ],
 "metadata": {
  "kernelspec": {
   "display_name": "Python 3",
   "language": "python",
   "name": "python3"
  },
  "language_info": {
   "codemirror_mode": {
    "name": "ipython",
    "version": 3
   },
   "file_extension": ".py",
   "mimetype": "text/x-python",
   "name": "python",
   "nbconvert_exporter": "python",
   "pygments_lexer": "ipython3",
   "version": "3.10.10"
  }
 },
 "nbformat": 4,
 "nbformat_minor": 2
}
