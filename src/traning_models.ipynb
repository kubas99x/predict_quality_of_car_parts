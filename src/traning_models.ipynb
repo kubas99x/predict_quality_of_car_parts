{
 "cells": [
  {
   "cell_type": "code",
   "execution_count": null,
   "metadata": {},
   "outputs": [],
   "source": [
    "import mlflow.keras\n",
    "import mlflow\n",
    "import mlflow.tensorflow\n",
    "import time\n",
    "from sklearn.model_selection import train_test_split, cross_val_score\n",
    "import tensorflow as tf\n",
    "\n",
    "from table_functions import *\n",
    "from analyze_visualisation import *\n",
    "from ml_models.decision_tree import *\n",
    "from ml_models.random_forest import *\n",
    "from ml_models.xg_boost import *\n",
    "from ml_models.neural_network_train import *\n",
    "from ml_models.extra_random_forest import *\n",
    "from ml_functions import *"
   ]
  },
  {
   "cell_type": "code",
   "execution_count": null,
   "metadata": {},
   "outputs": [],
   "source": [
    "# TO MUSI BYC USTAWIONE ZAWSZE TAK SAMO, a potem jak sie chce umieszczac dane modele w innym folderze to zmienia sie nazwe  artifact_directory = \"other_classification\"\n",
    "# jak chce sie wlaczyc potem mlflow w przegladarce, trzeba w terminalu przejsc do lokalizacji 'src' i wpisac komende mlflow ui\n",
    "current_working_directory = os.getcwd()\n",
    "mlflow.set_tracking_uri(f\"file://{os.path.join(current_working_directory, 'mlruns')}\")"
   ]
  },
  {
   "cell_type": "code",
   "execution_count": null,
   "metadata": {},
   "outputs": [],
   "source": [
    "ml_data_dgm9 = read_data_for_traning('dgm9_9_v1_2021')\n",
    "ml_data_dgm10 = read_data_for_traning('dgm10_10_v1_2021')"
   ]
  },
  {
   "cell_type": "markdown",
   "metadata": {},
   "source": [
    "<h4>Drzewo decyzyjne</h4>"
   ]
  },
  {
   "cell_type": "code",
   "execution_count": null,
   "metadata": {},
   "outputs": [],
   "source": [
    "clf = decision_tree_model(*ml_data_dgm9.values(), run_name_=\"normal_run\")"
   ]
  },
  {
   "cell_type": "markdown",
   "metadata": {},
   "source": [
    "<h4>Las losowy<h4>"
   ]
  },
  {
   "cell_type": "code",
   "execution_count": null,
   "metadata": {},
   "outputs": [],
   "source": [
    "clf = random_forest_model(*ml_data_dgm9.values(), run_name_=\"only_4_columns_1\")"
   ]
  },
  {
   "cell_type": "markdown",
   "metadata": {},
   "source": [
    "<h4>XGBoost</h4>"
   ]
  },
  {
   "cell_type": "code",
   "execution_count": null,
   "metadata": {},
   "outputs": [],
   "source": [
    "#training pipeline  dgm{from_dgm}_{to_dgm}_v{version_of_status}_{start_year}\n",
    "file_names = [\"dgm9_9_v1_2021\", \"dgm9_9_v1_2023\", \"dgm9_9_v2_2021\", \"dgm9_9_v2_2023\",\n",
    "                \"dgm9_10_v1_2021\", \"dgm9_10_v1_2023\", \"dgm9_10_v2_2021\", \"dgm9_10_v2_2023\",\n",
    "                \"dgm10_10_v1_2021\", \"dgm10_10_v1_2023\", \"dgm10_10_v2_2021\", \"dgm10_10_v2_2023\"]\n",
    "\n",
    "for file_name_ in file_names:\n",
    "    mld_data_pipe = read_data_for_traning(file_name_)\n",
    "    model_tmp = xgb_model(*mld_data_pipe.values(), model_name = file_name_, run_name_=\"new_status_v4\")\n",
    "    "
   ]
  },
  {
   "cell_type": "markdown",
   "metadata": {},
   "source": [
    "<h4>Sieci neuronowe<h4>"
   ]
  },
  {
   "cell_type": "code",
   "execution_count": null,
   "metadata": {},
   "outputs": [],
   "source": [
    "compile_fit_evaluate_model(*ml_data_dgm9.values(), epochs_=5, batch_size_=64, model_number=0, run_name_=f\"run_ss_test_15\")"
   ]
  },
  {
   "cell_type": "markdown",
   "metadata": {},
   "source": [
    "<h4>Super drzewa losowe</h4>"
   ]
  },
  {
   "cell_type": "code",
   "execution_count": null,
   "metadata": {},
   "outputs": [],
   "source": [
    "clf = extra_random_trees(*ml_data_dgm9.values(), run_name_=\"first_run\")"
   ]
  }
 ],
 "metadata": {
  "kernelspec": {
   "display_name": "Python 3",
   "language": "python",
   "name": "python3"
  },
  "language_info": {
   "codemirror_mode": {
    "name": "ipython",
    "version": 3
   },
   "file_extension": ".py",
   "mimetype": "text/x-python",
   "name": "python",
   "nbconvert_exporter": "python",
   "pygments_lexer": "ipython3",
   "version": "3.10.10"
  }
 },
 "nbformat": 4,
 "nbformat_minor": 2
}
