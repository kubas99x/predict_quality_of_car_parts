{
 "cells": [
  {
   "cell_type": "code",
   "execution_count": null,
   "metadata": {},
   "outputs": [],
   "source": [
    "import mlflow.keras\n",
    "import mlflow\n",
    "import mlflow.tensorflow\n",
    "from sklearn.model_selection import train_test_split, cross_val_score\n",
    "\n",
    "from table_functions import *\n",
    "from analyze_visualisation import *\n",
    "from ml_models.decision_tree import *\n",
    "from ml_models.random_forest import *\n",
    "from ml_models.xg_boost import *\n",
    "from ml_models.neural_network_train import *\n",
    "from ml_models.extra_random_forest import *\n",
    "from ml_functions import *"
   ]
  },
  {
   "cell_type": "code",
   "execution_count": null,
   "metadata": {},
   "outputs": [],
   "source": [
    "# TO MUSI BYC USTAWIONE ZAWSZE TAK SAMO, a potem jak sie chce umieszczac dane modele w innym folderze to zmienia sie nazwe  artifact_directory = \"other_classification\"\n",
    "# jak chce sie wlaczyc potem mlflow w przegladarce, trzeba w terminalu przejsc do lokalizacji 'src' i wpisac komende mlflow ui\n",
    "current_working_directory = os.getcwd()\n",
    "mlflow.set_tracking_uri(f\"file://{os.path.join(current_working_directory, 'mlruns')}\")"
   ]
  },
  {
   "cell_type": "code",
   "execution_count": null,
   "metadata": {},
   "outputs": [],
   "source": [
    "data_keys = ['x_train', 'x_valid', 'x_test', 'y_train', 'y_valid', 'y_test']\n",
    "ml_data = {key: None for key in data_keys}\n",
    "for key in ml_data:\n",
    "    ml_data[key] = read_csv(f'{key}.csv')"
   ]
  },
  {
   "cell_type": "code",
   "execution_count": null,
   "metadata": {},
   "outputs": [],
   "source": [
    "ml_data_no_cat = ml_data.copy()\n",
    "categorical_columns_ = list(ml_data_no_cat['x_train'].iloc[:, 130:].columns)\n",
    "for cold in ['x_train', 'x_valid', 'x_test']:\n",
    "    ml_data_no_cat[cold].drop(columns=categorical_columns_, inplace=True)"
   ]
  },
  {
   "cell_type": "code",
   "execution_count": null,
   "metadata": {},
   "outputs": [],
   "source": [
    "ml_data_dgm = ml_data.copy()\n",
    "for cold in ['x_train', 'x_valid', 'x_test']:\n",
    "    ml_data_dgm[cold] = ml_data_dgm[cold].loc[:, :'czas_taktu']"
   ]
  },
  {
   "cell_type": "code",
   "execution_count": null,
   "metadata": {},
   "outputs": [],
   "source": [
    "final_table = read_csv('final_table_before_normalization.csv')\n",
    "ml_data_small = split_data(final_table, nok_samples=100000, ok_samples=100000)\n",
    "ml_data_small['x_train'], scaler = normalize_data(ml_data_small['x_train'])\n",
    "ml_data_small['x_valid'] = normalize_data(ml_data_small['x_valid'], scaler)\n",
    "ml_data_small['x_test'] = normalize_data(ml_data_small['x_test'], scaler)"
   ]
  },
  {
   "cell_type": "code",
   "execution_count": null,
   "metadata": {},
   "outputs": [],
   "source": [
    "pd.set_option('display.max_rows', None)  # Set to None for unlimited rows\n",
    "pd.set_option('display.max_columns', None)  # Set to None for unlimited columns\n",
    "final_table.head(3)"
   ]
  },
  {
   "cell_type": "code",
   "execution_count": null,
   "metadata": {},
   "outputs": [],
   "source": [
    "final_table = read_csv('final_table_before_normalization.csv')\n",
    "few_columns_df = final_table[['cisnienie_tloka', 'cisnienie_koncowe', 'nachdruck_hub', 'anguss', 'our_final_status']]\n",
    "ml_data_few_col = split_data(few_columns_df, nok_samples=200000, ok_samples=200000)\n",
    "ml_data_few_col_norm = ml_data_few_col.copy()\n",
    "ml_data_few_col_norm['x_train'], scaler = normalize_data(ml_data_few_col_norm['x_train'])\n",
    "ml_data_few_col_norm['x_valid'] = normalize_data(ml_data_few_col_norm['x_valid'], scaler)\n",
    "ml_data_few_col_norm['x_test'] = normalize_data(ml_data_few_col_norm['x_test'], scaler)"
   ]
  },
  {
   "cell_type": "markdown",
   "metadata": {},
   "source": [
    "<h4>Drzewo decyzyjne</h4>"
   ]
  },
  {
   "cell_type": "code",
   "execution_count": null,
   "metadata": {},
   "outputs": [],
   "source": [
    "clf = decision_tree_model(*ml_data.values(), run_name_=\"normal_run\")\n",
    "#print_stats(clf, ml_data['x_test'], ml_data['y_test'])"
   ]
  },
  {
   "cell_type": "markdown",
   "metadata": {},
   "source": [
    "<h4>Las losowy<h4>"
   ]
  },
  {
   "cell_type": "code",
   "execution_count": null,
   "metadata": {},
   "outputs": [],
   "source": [
    "clf = random_forest_model(*ml_data_few_col.values(), run_name_=\"only_4_columns_1\")\n",
    "clf = random_forest_model(*ml_data_few_col_norm.values(), run_name_=\"only_4_columns_1_norm\")"
   ]
  },
  {
   "cell_type": "markdown",
   "metadata": {},
   "source": [
    "<h4>XGBoost</h4>"
   ]
  },
  {
   "cell_type": "code",
   "execution_count": null,
   "metadata": {},
   "outputs": [],
   "source": [
    "clf = xgb_model(*ml_data_small.values(), run_name_=\"ml_data_small\")\n",
    "#clf = xgb_model(*ml_data_few_col_norm.values(), run_name_=\"only_4_columns_1_norm\")"
   ]
  },
  {
   "cell_type": "markdown",
   "metadata": {},
   "source": [
    "<h4>Sieci neuronowe<h4>"
   ]
  },
  {
   "cell_type": "code",
   "execution_count": null,
   "metadata": {},
   "outputs": [],
   "source": [
    "for umap_c in [None, 10, 20, 100, 150]:\n",
    "    if umap_c is not None:\n",
    "        for umap_dist in [0.75, 0.5, 0.25, 0.1, 0.01]:\n",
    "            ml_data_c = ml_data.copy()\n",
    "            ml_data_c['x_train'], ml_data_c['x_valid'], ml_data_c['x_test'] = umap_transformation(ml_data_c['x_train'], ml_data_c['x_valid'], ml_data_c['x_test'],\n",
    "                                                                                                   n_components_umap= umap_c, umap_min_dist= umap_dist)\n",
    "            for batch_ in [16, 32, 64, 128, 256, 512]:\n",
    "                for model_num in [1, 3, 4, 5, 6]:\n",
    "                    if model_num == 4:\n",
    "                        for drop_ in [0.5, 0.25]:\n",
    "                            compile_fit_evaluate_model(*ml_data_c.values(), epochs_=100, batch_size_= batch_, model_number=model_num, drop_neurons=drop_,\n",
    "                                                        run_name_=f\"aa_{umap_c}u_{umap_dist}dst_{batch_}b_{model_num}m_{drop_}d\")\n",
    "                    else:\n",
    "                        compile_fit_evaluate_model(*ml_data_c.values(), epochs_=100, batch_size_= batch_, model_number=model_num,\n",
    "                            run_name_=f\"aa_{umap_c}u_{umap_dist}dst_{batch_}b_{model_num}m\")\n",
    "    else:\n",
    "        for batch_ in [16, 32, 64, 128, 256, 512]:\n",
    "            for model_num in [1, 3, 4, 5, 6]:\n",
    "                if model_num == 4:\n",
    "                    for drop_ in [0.5, 0.25]:\n",
    "                        compile_fit_evaluate_model(*ml_data.values(), epochs_=100, batch_size_= batch_, model_number=model_num, drop_neurons=drop_,\n",
    "                            run_name_=f\"aa_{batch_}b_{model_num}m_{drop_}d\")\n",
    "                else:\n",
    "                    compile_fit_evaluate_model(*ml_data.values(), epochs_=100, batch_size_= batch_, model_number=model_num,\n",
    "                            run_name_=f\"aa_{batch_}b_{model_num}m\")\n"
   ]
  },
  {
   "cell_type": "markdown",
   "metadata": {},
   "source": [
    "<h4>Super drzewa losowe</h4>"
   ]
  },
  {
   "cell_type": "code",
   "execution_count": null,
   "metadata": {},
   "outputs": [],
   "source": [
    "clf = extra_random_trees(*ml_data.values(), run_name_=\"first_run\")"
   ]
  },
  {
   "cell_type": "markdown",
   "metadata": {},
   "source": [
    "<h4>Cross Validacja</h4>"
   ]
  },
  {
   "cell_type": "markdown",
   "metadata": {},
   "source": [
    "Według mnie na razie zostawmy cross validacje w spokoju, na normalnym zbiorze znajdzmy najlepsze parametry dla modeli a potem dopiero zrobmy na takich parametrach cross validacje by zobaczyc 'prawdziwa' jakosc modelu\n",
    "PS. ponizszy kod wykonuje sie jakas 1h\n",
    "PS2. dane sie zapisaly ale jakis syf"
   ]
  },
  {
   "cell_type": "code",
   "execution_count": null,
   "metadata": {},
   "outputs": [],
   "source": [
    "artifact_directory=\"cv_random_forest\"\n",
    "mlflow.set_experiment(artifact_directory)\n",
    "mlflow.sklearn.autolog()\n",
    "\n",
    "with start_run(run_name=\"testowy run\"):\n",
    "    clf = RandomForestClassifier(random_state=0)\n",
    "    scores = cross_val_score(estimator=clf, X=ml_data['x_train'], y=ml_data['y_train'], cv=5)\n",
    "print(scores)\n",
    "# [0.99786842 0.99779825 0.99742105 0.99770175 0.99797368] - wynik"
   ]
  },
  {
   "cell_type": "code",
   "execution_count": null,
   "metadata": {},
   "outputs": [],
   "source": [
    "loaded_model = mlflow.keras.load_model(r'file://C:\\Users\\dlxpmx8\\Desktop\\Projekt_AI\\meb_process_data_analysis\\src\\mlruns/386163800829212723/5e018f9f70514ad889d242edd0430b67/artifacts/model')"
   ]
  },
  {
   "cell_type": "code",
   "execution_count": null,
   "metadata": {},
   "outputs": [],
   "source": [
    "distribution_of_probability(ml_data['x_test'], ml_data['y_test'], model_=loaded_model)"
   ]
  },
  {
   "cell_type": "code",
   "execution_count": null,
   "metadata": {},
   "outputs": [],
   "source": []
  }
 ],
 "metadata": {
  "kernelspec": {
   "display_name": "Python 3",
   "language": "python",
   "name": "python3"
  },
  "language_info": {
   "codemirror_mode": {
    "name": "ipython",
    "version": 3
   },
   "file_extension": ".py",
   "mimetype": "text/x-python",
   "name": "python",
   "nbconvert_exporter": "python",
   "pygments_lexer": "ipython3",
   "version": "3.10.10"
  }
 },
 "nbformat": 4,
 "nbformat_minor": 2
}
