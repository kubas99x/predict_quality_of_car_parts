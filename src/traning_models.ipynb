{
 "cells": [
  {
   "cell_type": "code",
   "execution_count": 1,
   "metadata": {},
   "outputs": [],
   "source": [
    "import mlflow.keras\n",
    "import mlflow\n",
    "import mlflow.tensorflow\n",
    "import time\n",
    "from sklearn.model_selection import train_test_split, cross_val_score\n",
    "import tensorflow as tf\n",
    "\n",
    "from table_functions import *\n",
    "from analyze_visualisation import *\n",
    "from ml_models.decision_tree import *\n",
    "from ml_models.random_forest import *\n",
    "from ml_models.xg_boost import *\n",
    "from ml_models.neural_network_train import *\n",
    "from ml_models.extra_random_forest import *\n",
    "from ml_functions import *"
   ]
  },
  {
   "cell_type": "code",
   "execution_count": null,
   "metadata": {},
   "outputs": [],
   "source": [
    "# TO MUSI BYC USTAWIONE ZAWSZE TAK SAMO, a potem jak sie chce umieszczac dane modele w innym folderze to zmienia sie nazwe  artifact_directory = \"other_classification\"\n",
    "# jak chce sie wlaczyc potem mlflow w przegladarce, trzeba w terminalu przejsc do lokalizacji 'src' i wpisac komende mlflow ui\n",
    "current_working_directory = os.getcwd()\n",
    "mlflow.set_tracking_uri(f\"file://{os.path.join(current_working_directory, 'mlruns')}\")\n",
    "\n",
    "file_names = [\"dgm9_9_v1_2021\", \"dgm9_9_v1_2023\", \"dgm9_9_v2_2021\", \"dgm9_9_v2_2023\",\n",
    "                \"dgm9_10_v1_2021\", \"dgm9_10_v1_2023\", \"dgm9_10_v2_2021\", \"dgm9_10_v2_2023\",\n",
    "                \"dgm10_10_v1_2021\", \"dgm10_10_v1_2023\", \"dgm10_10_v2_2021\", \"dgm10_10_v2_2023\"]\n",
    "\n",
    "datasets_storage = {k:read_data_for_traning(k) for k in file_names}"
   ]
  },
  {
   "cell_type": "markdown",
   "metadata": {},
   "source": [
    "<h4>DecisionTreeClassifier</h4>"
   ]
  },
  {
   "cell_type": "code",
   "execution_count": null,
   "metadata": {},
   "outputs": [],
   "source": [
    "for k, _ in datasets_storage.items():\n",
    "    decision_tree_model(*datasets_storage[k].values(), run_name_=k)"
   ]
  },
  {
   "cell_type": "markdown",
   "metadata": {},
   "source": [
    "<h4>RandomForestClassifier<h4>"
   ]
  },
  {
   "cell_type": "code",
   "execution_count": null,
   "metadata": {},
   "outputs": [],
   "source": [
    "for k, _ in datasets_storage.items():\n",
    "    random_forest_model(*datasets_storage[k].values(), run_name_=k)"
   ]
  },
  {
   "cell_type": "markdown",
   "metadata": {},
   "source": [
    "<h4>XGBoost</h4>"
   ]
  },
  {
   "cell_type": "code",
   "execution_count": null,
   "metadata": {},
   "outputs": [],
   "source": [
    "#training pipeline  dgm{from_dgm}_{to_dgm}_v{version_of_status}_{start_year}\n",
    "\n",
    "for k, _ in datasets_storage.items():\n",
    "    create_xgb_model(*datasets_storage[k].values(), run_name_=k)\n",
    "    "
   ]
  },
  {
   "cell_type": "markdown",
   "metadata": {},
   "source": [
    "<h4>Neural Networks<h4>"
   ]
  },
  {
   "cell_type": "code",
   "execution_count": null,
   "metadata": {},
   "outputs": [],
   "source": [
    "for k, _ in datasets_storage.items():\n",
    "    compile_fit_evaluate_model(*datasets_storage[k].values(), epochs_=5, batch_size_=64, model_number=0, run_name_=f\"run_ss_test_15\")"
   ]
  },
  {
   "cell_type": "markdown",
   "metadata": {},
   "source": [
    "<h4>ExtraRandomForestClassifier</h4>"
   ]
  },
  {
   "cell_type": "code",
   "execution_count": null,
   "metadata": {},
   "outputs": [],
   "source": [
    "for k, _ in datasets_storage.items():       \n",
    "    extra_random_trees(*datasets_storage[k].values(), run_name_=\"first_run\")"
   ]
  }
 ],
 "metadata": {
  "kernelspec": {
   "display_name": "Python 3",
   "language": "python",
   "name": "python3"
  },
  "language_info": {
   "codemirror_mode": {
    "name": "ipython",
    "version": 3
   },
   "file_extension": ".py",
   "mimetype": "text/x-python",
   "name": "python",
   "nbconvert_exporter": "python",
   "pygments_lexer": "ipython3",
   "version": "3.10.10"
  }
 },
 "nbformat": 4,
 "nbformat_minor": 2
}
