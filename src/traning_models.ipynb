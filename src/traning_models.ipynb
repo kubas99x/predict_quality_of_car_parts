{
 "cells": [
  {
   "cell_type": "code",
   "execution_count": 2,
   "metadata": {},
   "outputs": [],
   "source": [
    "import mlflow.keras\n",
    "import mlflow\n",
    "import mlflow.tensorflow\n",
    "from sklearn.model_selection import train_test_split, cross_val_score\n",
    "\n",
    "from table_functions import *\n",
    "from analyze_visualisation import *\n",
    "from ml_models.decision_tree import *\n",
    "from ml_models.random_forest import *\n",
    "from ml_models.xg_boost import *\n",
    "from ml_models.neural_network_train import *\n",
    "from ml_models.extra_random_forest import *\n",
    "from ml_functions import *"
   ]
  },
  {
   "cell_type": "code",
   "execution_count": null,
   "metadata": {},
   "outputs": [],
   "source": [
    "# TO MUSI BYC USTAWIONE ZAWSZE TAK SAMO, a potem jak sie chce umieszczac dane modele w innym folderze to zmienia sie nazwe  artifact_directory = \"other_classification\"\n",
    "# jak chce sie wlaczyc potem mlflow w przegladarce, trzeba w terminalu przejsc do lokalizacji 'src' i wpisac komende mlflow ui\n",
    "current_working_directory = os.getcwd()\n",
    "mlflow.set_tracking_uri(f\"file://{os.path.join(current_working_directory, 'mlruns')}\")"
   ]
  },
  {
   "cell_type": "code",
   "execution_count": null,
   "metadata": {},
   "outputs": [],
   "source": [
    "# not normalized data\n",
    "ml_data_nn = read_data_for_traning('n_n')"
   ]
  },
  {
   "cell_type": "code",
   "execution_count": null,
   "metadata": {},
   "outputs": [],
   "source": [
    "# normalized in range 0-1\n",
    "ml_data_0_1 = read_data_for_traning('0_1')"
   ]
  },
  {
   "cell_type": "code",
   "execution_count": null,
   "metadata": {},
   "outputs": [],
   "source": [
    "# standard normalized\n",
    "ml_data_ss = read_data_for_traning('s_s')"
   ]
  },
  {
   "cell_type": "markdown",
   "metadata": {},
   "source": [
    "<h4>Drzewo decyzyjne</h4>"
   ]
  },
  {
   "cell_type": "code",
   "execution_count": null,
   "metadata": {},
   "outputs": [],
   "source": [
    "clf = decision_tree_model(*ml_data_ss.values(), run_name_=\"normal_run\")"
   ]
  },
  {
   "cell_type": "markdown",
   "metadata": {},
   "source": [
    "<h4>Las losowy<h4>"
   ]
  },
  {
   "cell_type": "code",
   "execution_count": null,
   "metadata": {},
   "outputs": [],
   "source": [
    "clf = random_forest_model(*ml_data_ss.values(), run_name_=\"only_4_columns_1\")"
   ]
  },
  {
   "cell_type": "markdown",
   "metadata": {},
   "source": [
    "<h4>XGBoost</h4>"
   ]
  },
  {
   "cell_type": "code",
   "execution_count": null,
   "metadata": {},
   "outputs": [],
   "source": [
    "clf = xgb_model(*ml_data_ss.values(), run_name_=\"test_droped_0_1\")"
   ]
  },
  {
   "cell_type": "markdown",
   "metadata": {},
   "source": [
    "<h4>Sieci neuronowe<h4>"
   ]
  },
  {
   "cell_type": "code",
   "execution_count": null,
   "metadata": {},
   "outputs": [],
   "source": [
    "compile_fit_evaluate_model(*ml_data_ss.values(), epochs_=2, batch_size_=512, model_number=1, run_name_=f\"data__droped_save_fig\")"
   ]
  },
  {
   "cell_type": "markdown",
   "metadata": {},
   "source": [
    "<h4>Super drzewa losowe</h4>"
   ]
  },
  {
   "cell_type": "code",
   "execution_count": null,
   "metadata": {},
   "outputs": [],
   "source": [
    "clf = extra_random_trees(*ml_data_ss.values(), run_name_=\"first_run\")"
   ]
  },
  {
   "cell_type": "markdown",
   "metadata": {},
   "source": [
    "<h4>Cross Validacja</h4>"
   ]
  },
  {
   "cell_type": "markdown",
   "metadata": {},
   "source": [
    "Według mnie na razie zostawmy cross validacje w spokoju, na normalnym zbiorze znajdzmy najlepsze parametry dla modeli a potem dopiero zrobmy na takich parametrach cross validacje by zobaczyc 'prawdziwa' jakosc modelu\n",
    "PS. ponizszy kod wykonuje sie jakas 1h\n",
    "PS2. dane sie zapisaly ale jakis syf"
   ]
  },
  {
   "cell_type": "code",
   "execution_count": null,
   "metadata": {},
   "outputs": [],
   "source": [
    "artifact_directory=\"cv_random_forest\"\n",
    "mlflow.set_experiment(artifact_directory)\n",
    "mlflow.sklearn.autolog()\n",
    "\n",
    "with start_run(run_name=\"testowy run\"):\n",
    "    clf = RandomForestClassifier(random_state=0)\n",
    "    scores = cross_val_score(estimator=clf, X=ml_data_ss['x_train'], y=ml_data_ss['y_train'], cv=5)\n",
    "print(scores)\n",
    "# [0.99786842 0.99779825 0.99742105 0.99770175 0.99797368] - wynik"
   ]
  },
  {
   "cell_type": "code",
   "execution_count": null,
   "metadata": {},
   "outputs": [],
   "source": [
    "loaded_model = mlflow.keras.load_model(r'file://C:\\Users\\dlxpmx8\\Desktop\\Projekt_AI\\meb_process_data_analysis\\src\\mlruns/386163800829212723/5e018f9f70514ad889d242edd0430b67/artifacts/model')"
   ]
  },
  {
   "cell_type": "code",
   "execution_count": null,
   "metadata": {},
   "outputs": [],
   "source": [
    "distribution_of_probability(ml_data['x_test'], ml_data['y_test'], model_=loaded_model)"
   ]
  }
 ],
 "metadata": {
  "kernelspec": {
   "display_name": "Python 3",
   "language": "python",
   "name": "python3"
  },
  "language_info": {
   "codemirror_mode": {
    "name": "ipython",
    "version": 3
   },
   "file_extension": ".py",
   "mimetype": "text/x-python",
   "name": "python",
   "nbconvert_exporter": "python",
   "pygments_lexer": "ipython3",
   "version": "3.10.10"
  }
 },
 "nbformat": 4,
 "nbformat_minor": 2
}
